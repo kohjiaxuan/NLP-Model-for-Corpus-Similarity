{
 "cells": [
  {
   "cell_type": "code",
   "execution_count": 1,
   "metadata": {},
   "outputs": [],
   "source": [
    "import wikionly #script name is wikionly (no summary), class name is wiki\n",
    "import re as re\n",
    "import nltk\n",
    "# nltk.download('wordnet')\n",
    "from nltk.corpus import wordnet\n",
    "import math\n",
    "\n",
    "#Input two Wikipedia articles to compute similarity percentage\n",
    "class similar:\n",
    "    def __init__(self,text1,text2,verbose=1):\n",
    "        \"\"\"To start, assign var = comparewiki.similar('arg1','arg2', verbose=1). \n",
    "        arg1 and arg2 are names of the wikipedia articles.\n",
    "        verbose=1 prints the probability score and mathematical calculation. \n",
    "        verbose=2 additionally prints array of words for each article\n",
    "        verbose=0 disables any logs.\n",
    "        To get values in a list for storage, use .ans(). To get the 40 common words for comparison, use .words()\"\"\"\n",
    "\n",
    "        self.wn = nltk.corpus.wordnet #the corpus reader\n",
    "        self.verbose = verbose # Verbose/log level of detail\n",
    "\n",
    "        #Error handling: check if both arguments input are string format\n",
    "        checkstr = False\n",
    "        if isinstance(text1, str) == True:\n",
    "            if isinstance(text2, str) == True:\n",
    "                self.text1 = text1\n",
    "                self.text2 = text2\n",
    "                checkstr = True\n",
    "            else:\n",
    "                print('Error! The second argument is not a string format!')        \n",
    "        else:\n",
    "            print('Error! The first argument is not a string format!')\n",
    "        \n",
    "        #Run internal wikipedia python file for processing for both wiki titles\n",
    "        if checkstr == True:\n",
    "            self.wiki1 = wikionly.wiki(text1)\n",
    "            self.wiki2 = wikionly.wiki(text2)\n",
    "            \n",
    "        #Call the function that calculates percentage\n",
    "        self.percent(self.wiki1,self.wiki2,self.verbose)\n",
    "        \n",
    "        #call the function that shows list of words for both Wiki sites\n",
    "        #Only can be used if self.percent has been called and list/arrays for articles are created\n",
    "        if self.verbose == 2:\n",
    "            print(self.words())\n",
    "        \n",
    "\n",
    "    #Retrieve top 40 common words from wiki page, slice up and append .n01 for NLTK usage\n",
    "    def percent(self,input1,input2,verbose):\n",
    "        self.dotn01 = ('.','n','.','0','1')\n",
    "        self.wiki1list = []\n",
    "        for key in self.wiki1.commonwords(40):\n",
    "            self.wiki1slice = list(key)\n",
    "            for letter in self.dotn01:\n",
    "                self.wiki1slice.append(letter)\n",
    "            self.wiki1slice = ''.join(self.wiki1slice)\n",
    "            self.wiki1list.append(self.wiki1slice)\n",
    "\n",
    "        self.wiki2list = []\n",
    "        for key in self.wiki2.commonwords(40):\n",
    "            self.wiki2slice = list(key)\n",
    "            for letter in self.dotn01:\n",
    "                self.wiki2slice.append(letter)\n",
    "            self.wiki2slice = ''.join(self.wiki2slice)\n",
    "            self.wiki2list.append(self.wiki2slice)\n",
    "        \n",
    "        #count and sum for calculating similarity\n",
    "        self.count = 0\n",
    "        self.sum = 0\n",
    "        #A count for the ranking of the word (how often it appears in both wiki passages)\n",
    "        self.topten1 = 0\n",
    "        self.topten2 = 0\n",
    "\n",
    "        #For words that are 1-10th and 11-21st in popularity, if both wiki pages have the word, they get more points\n",
    "        for word1 in self.wiki1list:\n",
    "            #Reset self.topten2\n",
    "            self.topten2 = 0\n",
    "            self.topten1 += 1\n",
    "            for word2 in self.wiki2list:\n",
    "                self.topten2 += 1\n",
    "                #reinitialize to zero to prevent old sums from going into maxsum\n",
    "                self.sum1 = 0\n",
    "                self.sum2 = 0\n",
    "                self.sum3 = 0\n",
    "                self.sum4 = 0\n",
    "                self.maxsum = 0\n",
    "                \n",
    "                if self.topten1 < 11 and self.topten2 < 11:\n",
    "                    self.expvalue = 4.5\n",
    "                elif self.topten1 < 21 and self.topten2 < 21:\n",
    "                    self.expvalue = 2.5\n",
    "                else:\n",
    "                    self.expvalue = 1.5\n",
    "                \n",
    "                #Main algorithm for calculating score of words\n",
    "                try:\n",
    "                    if re.findall(r\"\\d+.n.01\", word1) == [] and re.findall(r\"\\d+.n.01\", word2) == []: #check both words not numbers\n",
    "                        #since words have many meanings, for every pair of words, use top two meanings n.01 and n.02 for comparison\n",
    "                        #two for loops will check every permutation pair of words between wiki pages, two meanings for each word, \n",
    "                        #Take the max similarity value taken for computation of similarity index\n",
    "                        #e.g. money.n.01 may have highest value with value.n.02 because value.n.01 has the obvious meaning of worth/significance and secondary for money\n",
    "                        word11 = word1.replace('n.01','n.02')\n",
    "                        word22 = word2.replace('n.01','n.02')\n",
    "                        #print(word11,word22)\n",
    "                        self.x = self.wn.synset(word1)\n",
    "                        self.y = self.wn.synset(word2)\n",
    "                        #get default similarity value of 1st definitions of word\n",
    "                        self.sum1 = self.x.path_similarity(self.y) * math.exp(self.expvalue * self.x.path_similarity(self.y)) + 10 * math.log(0.885+self.x.path_similarity(self.y))\n",
    "                        try: #get 2nd definitions of words and their similarity values, if it exist\n",
    "                            self.xx = self.wn.synset(word11)\n",
    "                            self.yy = self.wn.synset(word22)\n",
    "                            self.sum2 = self.xx.path_similarity(self.y) * math.exp(self.expvalue * self.xx.path_similarity(self.y)) + 10 * math.log(0.89+self.xx.path_similarity(self.y))\n",
    "                            self.sum3 = self.x.path_similarity(self.yy) * math.exp(self.expvalue * self.x.path_similarity(self.yy)) + 10 * math.log(0.89+self.x.path_similarity(self.yy))\n",
    "                            self.sum4 = self.xx.path_similarity(self.yy) * math.exp(self.expvalue * self.xx.path_similarity(self.yy)) + 10 * math.log(0.89+self.xx.path_similarity(self.yy))\n",
    "                        except:\n",
    "                            continue\n",
    "                        self.maxsum = max(self.sum1,self.sum2,self.sum3,self.sum4) #get the max similarity value between 2 words x 2 meanings = 4 comparisons\n",
    "                        #print(word1, word2, self.maxsum)\n",
    "                        self.sum += self.maxsum\n",
    "                        self.count += 1\n",
    "                except:\n",
    "                    if word1 == word2 and re.findall(r\"\\d+.n.01\", word1) == []: #remove years/numbers being counted as match yyyy.n.01\n",
    "                        self.sum += math.exp(self.expvalue) + 10 * math.log(1.89)\n",
    "                        self.count += 1\n",
    "                    else:\n",
    "                        continue\n",
    "\n",
    "        #Print the results and implement ceiling if the percent exceeds 100% or drops below 0%\n",
    "        if self.count != 0:\n",
    "            self.pct = round(self.sum/self.count*100)\n",
    "            if self.pct > 100:\n",
    "                self.pct = 100\n",
    "            elif self.pct < 0:\n",
    "                self.pct = 0\n",
    "            if self.verbose >= 1:\n",
    "                print('Probability of topics being related is ' + str(self.pct) + '%')\n",
    "                print('Count is ' + str(self.count) + ' and sum is ' + str(self.sum))\n",
    "        else:\n",
    "            if self.verbose >= 1:\n",
    "                print('No relation index can be calculated as words are all foreign')\n",
    "            \n",
    "        return self.pct\n",
    "        \n",
    "    #Print out list of common words for both Wiki articles\n",
    "    def words(self):\n",
    "        print(self.wiki1list)\n",
    "        print('\\n')\n",
    "        print(self.wiki2list)\n",
    "        \n",
    "    #Outputs list of results [Article 1, Article 2, Percentage, Yes/No] that can be put into a dataframe\n",
    "    def ans(self):\n",
    "        self.listans = [self.text1,self.text2,self.pct]\n",
    "        if self.pct > 49:\n",
    "            self.listans.append('Yes')\n",
    "        else:\n",
    "            self.listans.append('No')\n",
    "        \n",
    "        if self.verbose == 2:\n",
    "            self.listans.append(self.wiki1list)\n",
    "            self.listans.append(self.wiki2list)\n",
    "        \n",
    "        return self.listans\n",
    "    \n",
    "    def help(self):\n",
    "        print(\"To start, assign var = comparewiki.similar('arg1','arg2', verbose=1). arg1 and arg2 are names of the wikipedia articles, while verbose=1 prints the probability score and mathematical calculation. verbose=2 additionally prints array of words for each article, and verbose=0 disables any logs. To get values in a list for storage, use .ans(). To get the 40 common words for comparison, use .words()\")"
   ]
  },
  {
   "cell_type": "code",
   "execution_count": 2,
   "metadata": {},
   "outputs": [
    {
     "name": "stdout",
     "output_type": "stream",
     "text": [
      "Probability of topics being related is 95%\n",
      "Count is 511 and sum is 486.3398758941804\n"
     ]
    },
    {
     "data": {
      "text/plain": [
       "['Armin van Buuren', 'Tiesto', 95, 'Yes']"
      ]
     },
     "execution_count": 2,
     "metadata": {},
     "output_type": "execute_result"
    }
   ],
   "source": [
    "aa = similar('Armin van Buuren','Tiesto')\n",
    "aa.ans()"
   ]
  },
  {
   "cell_type": "code",
   "execution_count": 3,
   "metadata": {},
   "outputs": [
    {
     "name": "stdout",
     "output_type": "stream",
     "text": [
      "Probability of topics being related is 100%\n",
      "Count is 466 and sum is 574.5343295379461\n"
     ]
    }
   ],
   "source": [
    "ab = similar('Armin van Buuren','paul van dyk')"
   ]
  },
  {
   "cell_type": "code",
   "execution_count": 4,
   "metadata": {},
   "outputs": [
    {
     "name": "stdout",
     "output_type": "stream",
     "text": [
      "Probability of topics being related is 66%\n",
      "Count is 443 and sum is 294.19174429833765\n"
     ]
    }
   ],
   "source": [
    "ac = similar('Paul van dyk','Tiesto')"
   ]
  },
  {
   "cell_type": "code",
   "execution_count": 5,
   "metadata": {},
   "outputs": [
    {
     "name": "stdout",
     "output_type": "stream",
     "text": [
      "Probability of topics being related is 66%\n",
      "Count is 420 and sum is 278.9390123955344\n"
     ]
    }
   ],
   "source": [
    "ad = similar('Martin Garrix','Tiesto')"
   ]
  },
  {
   "cell_type": "code",
   "execution_count": 6,
   "metadata": {},
   "outputs": [
    {
     "name": "stdout",
     "output_type": "stream",
     "text": [
      "Probability of topics being related is 66%\n",
      "Count is 420 and sum is 278.93901239553435\n"
     ]
    }
   ],
   "source": [
    "ae = similar('Tiesto','Martin Garrix')"
   ]
  },
  {
   "cell_type": "code",
   "execution_count": 7,
   "metadata": {},
   "outputs": [
    {
     "name": "stdout",
     "output_type": "stream",
     "text": [
      "Probability of topics being related is 100%\n",
      "Count is 406 and sum is 442.15721907345363\n"
     ]
    }
   ],
   "source": [
    "af = similar('vulpix','pikachu')"
   ]
  },
  {
   "cell_type": "code",
   "execution_count": 8,
   "metadata": {},
   "outputs": [
    {
     "name": "stdout",
     "output_type": "stream",
     "text": [
      "Probability of topics being related is 97%\n",
      "Count is 303 and sum is 293.2367336913429\n"
     ]
    }
   ],
   "source": [
    "ag = similar('Need For Speed Underground 2','dota 2')"
   ]
  },
  {
   "cell_type": "code",
   "execution_count": 9,
   "metadata": {},
   "outputs": [
    {
     "name": "stdout",
     "output_type": "stream",
     "text": [
      "Probability of topics being related is 51%\n",
      "Count is 332 and sum is 170.9624639542081\n"
     ]
    }
   ],
   "source": [
    "ah = similar('beyonce','dota 2')"
   ]
  },
  {
   "cell_type": "code",
   "execution_count": 10,
   "metadata": {},
   "outputs": [
    {
     "name": "stdout",
     "output_type": "stream",
     "text": [
      "Probability of topics being related is 100%\n",
      "Count is 444 and sum is 601.5158411768153\n"
     ]
    }
   ],
   "source": [
    "ai = similar('Beyonce','Rihanna')"
   ]
  },
  {
   "cell_type": "code",
   "execution_count": 11,
   "metadata": {},
   "outputs": [
    {
     "name": "stdout",
     "output_type": "stream",
     "text": [
      "Probability of topics being related is 9%\n",
      "Count is 361 and sum is 33.01681238158996\n"
     ]
    }
   ],
   "source": [
    "aj = similar('cupcakes','rihanna')"
   ]
  },
  {
   "cell_type": "code",
   "execution_count": 12,
   "metadata": {},
   "outputs": [
    {
     "name": "stdout",
     "output_type": "stream",
     "text": [
      "Probability of topics being related is 12%\n",
      "Count is 382 and sum is 44.33359196834941\n"
     ]
    }
   ],
   "source": [
    "ak = similar('donald trump','rihanna')"
   ]
  },
  {
   "cell_type": "code",
   "execution_count": 13,
   "metadata": {},
   "outputs": [
    {
     "name": "stdout",
     "output_type": "stream",
     "text": [
      "Probability of topics being related is 70%\n",
      "Count is 284 and sum is 200.17005019197885\n"
     ]
    }
   ],
   "source": [
    "al = similar('Banksy','Van Gogh')"
   ]
  },
  {
   "cell_type": "code",
   "execution_count": 14,
   "metadata": {},
   "outputs": [
    {
     "name": "stdout",
     "output_type": "stream",
     "text": [
      "Probability of topics being related is 53%\n",
      "Count is 423 and sum is 222.29305752246182\n"
     ]
    }
   ],
   "source": [
    "am = similar('Banksy','Piet Mondrian')"
   ]
  },
  {
   "cell_type": "code",
   "execution_count": 15,
   "metadata": {},
   "outputs": [
    {
     "name": "stdout",
     "output_type": "stream",
     "text": [
      "Probability of topics being related is 62%\n",
      "Count is 403 and sum is 250.78266744300456\n"
     ]
    }
   ],
   "source": [
    "an = similar('Nadir Afonso','Banksy')"
   ]
  },
  {
   "cell_type": "code",
   "execution_count": 16,
   "metadata": {},
   "outputs": [
    {
     "name": "stdout",
     "output_type": "stream",
     "text": [
      "Probability of topics being related is 57%\n",
      "Count is 290 and sum is 164.2372419713452\n"
     ]
    }
   ],
   "source": [
    "ao = similar('DBS Bank','goldman sachs')"
   ]
  },
  {
   "cell_type": "code",
   "execution_count": 17,
   "metadata": {},
   "outputs": [
    {
     "name": "stdout",
     "output_type": "stream",
     "text": [
      "Probability of topics being related is 45%\n",
      "Count is 291 and sum is 130.9037201603778\n"
     ]
    }
   ],
   "source": [
    "ap = similar('OCBC Bank','goldman sachs')"
   ]
  },
  {
   "cell_type": "code",
   "execution_count": 18,
   "metadata": {},
   "outputs": [
    {
     "name": "stdout",
     "output_type": "stream",
     "text": [
      "Probability of topics being related is 79%\n",
      "Count is 347 and sum is 274.1558126704726\n"
     ]
    }
   ],
   "source": [
    "aq = similar('Citi Bank','goldman sachs')"
   ]
  },
  {
   "cell_type": "code",
   "execution_count": 19,
   "metadata": {},
   "outputs": [
    {
     "name": "stdout",
     "output_type": "stream",
     "text": [
      "Probability of topics being related is 69%\n",
      "Count is 308 and sum is 213.73383084398023\n"
     ]
    }
   ],
   "source": [
    "ar = similar('OCBC Bank','Citi Bank')"
   ]
  },
  {
   "cell_type": "code",
   "execution_count": 20,
   "metadata": {},
   "outputs": [
    {
     "name": "stdout",
     "output_type": "stream",
     "text": [
      "Probability of topics being related is 100%\n",
      "Count is 363 and sum is 468.4736211684941\n"
     ]
    }
   ],
   "source": [
    "as_ = similar('Malaysia','Singapore')"
   ]
  },
  {
   "cell_type": "code",
   "execution_count": 21,
   "metadata": {},
   "outputs": [
    {
     "name": "stdout",
     "output_type": "stream",
     "text": [
      "Probability of topics being related is 100%\n",
      "Count is 577 and sum is 587.4734112926852\n"
     ]
    }
   ],
   "source": [
    "at = similar('Lee Kuan Yew','Lee Hsien Loong')"
   ]
  },
  {
   "cell_type": "code",
   "execution_count": 22,
   "metadata": {},
   "outputs": [
    {
     "name": "stdout",
     "output_type": "stream",
     "text": [
      "Probability of topics being related is 56%\n",
      "Count is 417 and sum is 235.37218048841336\n"
     ]
    }
   ],
   "source": [
    "au = similar('Lee Kuan Yew','Mahathir Mohamad')"
   ]
  },
  {
   "cell_type": "code",
   "execution_count": 23,
   "metadata": {},
   "outputs": [
    {
     "name": "stdout",
     "output_type": "stream",
     "text": [
      "Probability of topics being related is 60%\n",
      "Count is 450 and sum is 268.7364013255993\n"
     ]
    }
   ],
   "source": [
    "av = similar('Mahathir Mohamad','Lee Hsien Loong')"
   ]
  },
  {
   "cell_type": "code",
   "execution_count": 24,
   "metadata": {},
   "outputs": [
    {
     "name": "stdout",
     "output_type": "stream",
     "text": [
      "Probability of topics being related is 45%\n",
      "Count is 414 and sum is 187.77477535562153\n"
     ]
    }
   ],
   "source": [
    "aw = similar('Mahathir Mohamad','Tharman Shanmugaratnam')"
   ]
  },
  {
   "cell_type": "code",
   "execution_count": 25,
   "metadata": {},
   "outputs": [
    {
     "name": "stdout",
     "output_type": "stream",
     "text": [
      "Probability of topics being related is 100%\n",
      "Count is 276 and sum is 400.2913561256497\n"
     ]
    }
   ],
   "source": [
    "ax = similar('Malaysia','Finland')"
   ]
  },
  {
   "cell_type": "code",
   "execution_count": 26,
   "metadata": {},
   "outputs": [
    {
     "name": "stdout",
     "output_type": "stream",
     "text": [
      "Probability of topics being related is 100%\n",
      "Count is 407 and sum is 753.1391764922389\n"
     ]
    }
   ],
   "source": [
    "ay = similar('Japanese language','Chinese language')"
   ]
  },
  {
   "cell_type": "code",
   "execution_count": 27,
   "metadata": {},
   "outputs": [
    {
     "name": "stdout",
     "output_type": "stream",
     "text": [
      "Probability of topics being related is 92%\n",
      "Count is 276 and sum is 254.37678860068877\n"
     ]
    }
   ],
   "source": [
    "az = similar('Indian cuisine','Czech cuisine')"
   ]
  },
  {
   "cell_type": "code",
   "execution_count": 28,
   "metadata": {},
   "outputs": [
    {
     "name": "stdout",
     "output_type": "stream",
     "text": [
      "Probability of topics being related is 100%\n",
      "Count is 341 and sum is 674.2563667646681\n"
     ]
    }
   ],
   "source": [
    "ba = similar('Amsterdam','Utrecht')"
   ]
  },
  {
   "cell_type": "code",
   "execution_count": 29,
   "metadata": {},
   "outputs": [
    {
     "name": "stdout",
     "output_type": "stream",
     "text": [
      "Probability of topics being related is 100%\n",
      "Count is 309 and sum is 417.13302747924024\n"
     ]
    }
   ],
   "source": [
    "bb = similar('Amsterdam','London')"
   ]
  },
  {
   "cell_type": "code",
   "execution_count": 30,
   "metadata": {},
   "outputs": [
    {
     "name": "stdout",
     "output_type": "stream",
     "text": [
      "Probability of topics being related is 100%\n",
      "Count is 404 and sum is 519.7419962886257\n"
     ]
    }
   ],
   "source": [
    "bc = similar('Amsterdam','Sydney')"
   ]
  },
  {
   "cell_type": "code",
   "execution_count": 31,
   "metadata": {},
   "outputs": [
    {
     "name": "stdout",
     "output_type": "stream",
     "text": [
      "Probability of topics being related is 56%\n",
      "Count is 421 and sum is 234.95015383478332\n"
     ]
    }
   ],
   "source": [
    "bd = similar('Angela Merkel','Berlin')"
   ]
  },
  {
   "cell_type": "code",
   "execution_count": 32,
   "metadata": {},
   "outputs": [
    {
     "name": "stdout",
     "output_type": "stream",
     "text": [
      "Probability of topics being related is 26%\n",
      "Count is 382 and sum is 97.95924354468332\n"
     ]
    }
   ],
   "source": [
    "be = similar('Angela Merkel','London')"
   ]
  },
  {
   "cell_type": "code",
   "execution_count": 33,
   "metadata": {},
   "outputs": [
    {
     "name": "stdout",
     "output_type": "stream",
     "text": [
      "Probability of topics being related is 56%\n",
      "Count is 379 and sum is 212.67261588852023\n"
     ]
    }
   ],
   "source": [
    "bf = similar('Adolf Hitler','Berlin')"
   ]
  },
  {
   "cell_type": "code",
   "execution_count": 34,
   "metadata": {},
   "outputs": [
    {
     "name": "stdout",
     "output_type": "stream",
     "text": [
      "Probability of topics being related is 25%\n",
      "Count is 343 and sum is 85.12139632497757\n"
     ]
    }
   ],
   "source": [
    "bg = similar('Adolf Hitler','London')"
   ]
  },
  {
   "cell_type": "code",
   "execution_count": 35,
   "metadata": {},
   "outputs": [
    {
     "name": "stdout",
     "output_type": "stream",
     "text": [
      "Probability of topics being related is 22%\n",
      "Count is 346 and sum is 77.29692631067833\n"
     ]
    }
   ],
   "source": [
    "bh = similar('Adolf Hitler','Donald Trump')"
   ]
  },
  {
   "cell_type": "code",
   "execution_count": 36,
   "metadata": {},
   "outputs": [
    {
     "name": "stdout",
     "output_type": "stream",
     "text": [
      "Probability of topics being related is 20%\n",
      "Count is 381 and sum is 74.51851168072163\n"
     ]
    }
   ],
   "source": [
    "bi = similar('Angela Merkel','Donald Trump')"
   ]
  },
  {
   "cell_type": "code",
   "execution_count": 37,
   "metadata": {},
   "outputs": [
    {
     "name": "stdout",
     "output_type": "stream",
     "text": [
      "Probability of topics being related is 28%\n",
      "Count is 352 and sum is 97.39534634503472\n"
     ]
    }
   ],
   "source": [
    "bj = similar('Amsterdam','Tiesto')"
   ]
  },
  {
   "cell_type": "code",
   "execution_count": 38,
   "metadata": {},
   "outputs": [
    {
     "name": "stdout",
     "output_type": "stream",
     "text": [
      "Probability of topics being related is 13%\n",
      "Count is 305 and sum is 39.79759661778893\n"
     ]
    }
   ],
   "source": [
    "bk = similar('Amsterdam','Pikachu')"
   ]
  },
  {
   "cell_type": "code",
   "execution_count": 39,
   "metadata": {},
   "outputs": [
    {
     "name": "stdout",
     "output_type": "stream",
     "text": [
      "Probability of topics being related is 27%\n",
      "Count is 241 and sum is 65.93178606949283\n"
     ]
    }
   ],
   "source": [
    "bl = similar('Amsterdam','Dota 2')"
   ]
  },
  {
   "cell_type": "code",
   "execution_count": 40,
   "metadata": {},
   "outputs": [
    {
     "name": "stdout",
     "output_type": "stream",
     "text": [
      "Probability of topics being related is 17%\n",
      "Count is 320 and sum is 55.76880844755138\n"
     ]
    }
   ],
   "source": [
    "bm = similar('Amsterdam','Need For Speed Underground 2')"
   ]
  },
  {
   "cell_type": "code",
   "execution_count": 41,
   "metadata": {},
   "outputs": [
    {
     "name": "stdout",
     "output_type": "stream",
     "text": [
      "Probability of topics being related is 26%\n",
      "Count is 352 and sum is 92.54215814160068\n"
     ]
    }
   ],
   "source": [
    "bo = similar('Amsterdam','Beyonce')"
   ]
  },
  {
   "cell_type": "code",
   "execution_count": 42,
   "metadata": {},
   "outputs": [
    {
     "name": "stdout",
     "output_type": "stream",
     "text": [
      "Probability of topics being related is 20%\n",
      "Count is 321 and sum is 63.818221327972324\n"
     ]
    }
   ],
   "source": [
    "bp = similar('Amsterdam','Rihanna')"
   ]
  },
  {
   "cell_type": "code",
   "execution_count": 43,
   "metadata": {},
   "outputs": [
    {
     "name": "stdout",
     "output_type": "stream",
     "text": [
      "Probability of topics being related is 16%\n",
      "Count is 289 and sum is 45.36412234617406\n"
     ]
    }
   ],
   "source": [
    "bq = similar('Amsterdam','Cupcakes')"
   ]
  },
  {
   "cell_type": "code",
   "execution_count": 44,
   "metadata": {},
   "outputs": [
    {
     "name": "stdout",
     "output_type": "stream",
     "text": [
      "Probability of topics being related is 74%\n",
      "Count is 339 and sum is 252.5312192688828\n"
     ]
    }
   ],
   "source": [
    "br = similar('Amsterdam','Singapore')"
   ]
  },
  {
   "cell_type": "code",
   "execution_count": 2,
   "metadata": {},
   "outputs": [
    {
     "name": "stdout",
     "output_type": "stream",
     "text": [
      "Probability of topics being related is 21%\n",
      "Count is 307 and sum is 63.14353331827822\n"
     ]
    }
   ],
   "source": [
    "bs = similar('Amsterdam','Donald Trump')"
   ]
  },
  {
   "cell_type": "code",
   "execution_count": 3,
   "metadata": {},
   "outputs": [
    {
     "name": "stdout",
     "output_type": "stream",
     "text": [
      "Probability of topics being related is 70%\n",
      "Count is 226 and sum is 157.19175849634664\n"
     ]
    }
   ],
   "source": [
    "bt = similar('Amsterdam','Van Gogh')"
   ]
  },
  {
   "cell_type": "code",
   "execution_count": 4,
   "metadata": {},
   "outputs": [
    {
     "name": "stdout",
     "output_type": "stream",
     "text": [
      "Probability of topics being related is 63%\n",
      "Count is 524 and sum is 330.11948572559135\n"
     ]
    }
   ],
   "source": [
    "bu = similar('Obama','Goldman Sachs')"
   ]
  },
  {
   "cell_type": "code",
   "execution_count": 5,
   "metadata": {},
   "outputs": [
    {
     "name": "stdout",
     "output_type": "stream",
     "text": [
      "Probability of topics being related is 0%\n",
      "Count is 638 and sum is -2.642348164905025\n"
     ]
    }
   ],
   "source": [
    "bv = similar('Obama','Nickelback')"
   ]
  },
  {
   "cell_type": "code",
   "execution_count": 6,
   "metadata": {},
   "outputs": [
    {
     "name": "stdout",
     "output_type": "stream",
     "text": [
      "Probability of topics being related is 64%\n",
      "Count is 374 and sum is 238.5787280544532\n"
     ]
    }
   ],
   "source": [
    "bw = similar('21 Guns (band)','Nickelback')"
   ]
  },
  {
   "cell_type": "code",
   "execution_count": 7,
   "metadata": {},
   "outputs": [
    {
     "name": "stdout",
     "output_type": "stream",
     "text": [
      "Probability of topics being related is 98%\n",
      "Count is 511 and sum is 499.01141769108483\n"
     ]
    }
   ],
   "source": [
    "bx = similar('21 Pilots','Nickelback')"
   ]
  },
  {
   "cell_type": "code",
   "execution_count": 8,
   "metadata": {},
   "outputs": [
    {
     "name": "stdout",
     "output_type": "stream",
     "text": [
      "Probability of topics being related is 100%\n",
      "Count is 393 and sum is 459.3512917641034\n"
     ]
    }
   ],
   "source": [
    "by = similar('21 Pilots','Cobra Starship')"
   ]
  },
  {
   "cell_type": "code",
   "execution_count": 9,
   "metadata": {},
   "outputs": [
    {
     "name": "stdout",
     "output_type": "stream",
     "text": [
      "Probability of topics being related is 100%\n",
      "Count is 325 and sum is 471.88573151408707\n"
     ]
    }
   ],
   "source": [
    "bz = similar('My Chemical Romance','Linkin Park')"
   ]
  },
  {
   "cell_type": "code",
   "execution_count": 10,
   "metadata": {},
   "outputs": [
    {
     "name": "stdout",
     "output_type": "stream",
     "text": [
      "Probability of topics being related is 100%\n",
      "Count is 342 and sum is 479.0128555982487\n"
     ]
    }
   ],
   "source": [
    "ca = similar('My Chemical Romance','Imagine Dragons')"
   ]
  },
  {
   "cell_type": "code",
   "execution_count": 11,
   "metadata": {},
   "outputs": [
    {
     "name": "stdout",
     "output_type": "stream",
     "text": [
      "Probability of topics being related is 48%\n",
      "Count is 409 and sum is 194.73976793210213\n"
     ]
    }
   ],
   "source": [
    "cb = similar('My Chemical Romance','Jolin Tsai')"
   ]
  },
  {
   "cell_type": "code",
   "execution_count": 12,
   "metadata": {},
   "outputs": [
    {
     "name": "stdout",
     "output_type": "stream",
     "text": [
      "Probability of topics being related is 93%\n",
      "Count is 555 and sum is 514.783025771669\n"
     ]
    }
   ],
   "source": [
    "cc = similar('Jay Chou','Jolin Tsai')"
   ]
  },
  {
   "cell_type": "code",
   "execution_count": 13,
   "metadata": {},
   "outputs": [
    {
     "name": "stdout",
     "output_type": "stream",
     "text": [
      "Probability of topics being related is 100%\n",
      "Count is 420 and sum is 494.5227264262206\n"
     ]
    }
   ],
   "source": [
    "cd = similar('Paramore','Nickelback')"
   ]
  },
  {
   "cell_type": "code",
   "execution_count": 14,
   "metadata": {},
   "outputs": [
    {
     "name": "stdout",
     "output_type": "stream",
     "text": [
      "Probability of topics being related is 95%\n",
      "Count is 439 and sum is 417.3814388364541\n"
     ]
    }
   ],
   "source": [
    "ce = similar('Paramore','Kelly Clarkson')"
   ]
  },
  {
   "cell_type": "code",
   "execution_count": 15,
   "metadata": {},
   "outputs": [
    {
     "name": "stdout",
     "output_type": "stream",
     "text": [
      "Probability of topics being related is 72%\n",
      "Count is 599 and sum is 429.0715403159629\n"
     ]
    }
   ],
   "source": [
    "cf = similar('Python (programming language)','Java (programming language)')"
   ]
  },
  {
   "cell_type": "code",
   "execution_count": 16,
   "metadata": {},
   "outputs": [
    {
     "name": "stdout",
     "output_type": "stream",
     "text": [
      "Probability of topics being related is 100%\n",
      "Count is 293 and sum is 536.7343627269529\n"
     ]
    }
   ],
   "source": [
    "cg = similar('HTML','CSS')"
   ]
  },
  {
   "cell_type": "code",
   "execution_count": 17,
   "metadata": {},
   "outputs": [
    {
     "name": "stdout",
     "output_type": "stream",
     "text": [
      "Probability of topics being related is 83%\n",
      "Count is 276 and sum is 227.76846922189756\n"
     ]
    }
   ],
   "source": [
    "ch = similar('Microsoft','Apple (company)')"
   ]
  },
  {
   "cell_type": "code",
   "execution_count": 18,
   "metadata": {},
   "outputs": [
    {
     "name": "stdout",
     "output_type": "stream",
     "text": [
      "Probability of topics being related is 48%\n",
      "Count is 362 and sum is 174.3002489012302\n"
     ]
    }
   ],
   "source": [
    "ci = similar('Johnny Depp','Michael Bay')"
   ]
  },
  {
   "cell_type": "code",
   "execution_count": 19,
   "metadata": {},
   "outputs": [
    {
     "name": "stdout",
     "output_type": "stream",
     "text": [
      "Probability of topics being related is 75%\n",
      "Count is 380 and sum is 285.6707896102245\n"
     ]
    }
   ],
   "source": [
    "cj = similar('Johnny Depp','Jennifer Lawrence')"
   ]
  },
  {
   "cell_type": "code",
   "execution_count": 20,
   "metadata": {},
   "outputs": [
    {
     "name": "stdout",
     "output_type": "stream",
     "text": [
      "Probability of topics being related is 86%\n",
      "Count is 383 and sum is 327.5233825374809\n"
     ]
    }
   ],
   "source": [
    "ck = similar('SAS (software)','SPSS')"
   ]
  },
  {
   "cell_type": "code",
   "execution_count": 21,
   "metadata": {},
   "outputs": [
    {
     "name": "stdout",
     "output_type": "stream",
     "text": [
      "Probability of topics being related is 97%\n",
      "Count is 440 and sum is 428.0399802437399\n"
     ]
    }
   ],
   "source": [
    "cl = similar('saudi arabia','israel')"
   ]
  },
  {
   "cell_type": "code",
   "execution_count": 22,
   "metadata": {},
   "outputs": [
    {
     "name": "stdout",
     "output_type": "stream",
     "text": [
      "Probability of topics being related is 36%\n",
      "Count is 343 and sum is 123.97747053161865\n"
     ]
    }
   ],
   "source": [
    "cm = similar('European migrant crisis','World War II')"
   ]
  },
  {
   "cell_type": "code",
   "execution_count": 23,
   "metadata": {},
   "outputs": [
    {
     "name": "stdout",
     "output_type": "stream",
     "text": [
      "Probability of topics being related is 57%\n",
      "Count is 462 and sum is 264.85063698299575\n"
     ]
    }
   ],
   "source": [
    "cn = similar('Great Britain','World War II')"
   ]
  },
  {
   "cell_type": "code",
   "execution_count": 24,
   "metadata": {},
   "outputs": [
    {
     "name": "stdout",
     "output_type": "stream",
     "text": [
      "Probability of topics being related is 41%\n",
      "Count is 422 and sum is 173.45757342485018\n"
     ]
    }
   ],
   "source": [
    "co = similar('Singapore','World War II')"
   ]
  },
  {
   "cell_type": "code",
   "execution_count": 25,
   "metadata": {},
   "outputs": [
    {
     "name": "stdout",
     "output_type": "stream",
     "text": [
      "Probability of topics being related is 36%\n",
      "Count is 322 and sum is 115.16066836106272\n"
     ]
    }
   ],
   "source": [
    "cp = similar('Iceland','World War II')"
   ]
  },
  {
   "cell_type": "code",
   "execution_count": 26,
   "metadata": {},
   "outputs": [
    {
     "name": "stdout",
     "output_type": "stream",
     "text": [
      "Probability of topics being related is 76%\n",
      "Count is 402 and sum is 306.39916566339974\n"
     ]
    }
   ],
   "source": [
    "cq = similar('Egypt','World War II')"
   ]
  },
  {
   "cell_type": "code",
   "execution_count": 27,
   "metadata": {},
   "outputs": [
    {
     "name": "stdout",
     "output_type": "stream",
     "text": [
      "Probability of topics being related is 17%\n",
      "Count is 481 and sum is 81.89119722331667\n"
     ]
    }
   ],
   "source": [
    "cr = similar('Mueller Report','Russia')"
   ]
  },
  {
   "cell_type": "code",
   "execution_count": 28,
   "metadata": {},
   "outputs": [
    {
     "name": "stdout",
     "output_type": "stream",
     "text": [
      "Probability of topics being related is 20%\n",
      "Count is 505 and sum is 99.82816582343789\n"
     ]
    }
   ],
   "source": [
    "cs = similar('Mueller Report','China')"
   ]
  },
  {
   "cell_type": "code",
   "execution_count": 29,
   "metadata": {},
   "outputs": [
    {
     "name": "stdout",
     "output_type": "stream",
     "text": [
      "Probability of topics being related is 100%\n",
      "Count is 214 and sum is 389.62525227484116\n"
     ]
    }
   ],
   "source": [
    "ct = similar('Facebook','Linkedin')"
   ]
  },
  {
   "cell_type": "code",
   "execution_count": 30,
   "metadata": {},
   "outputs": [
    {
     "name": "stdout",
     "output_type": "stream",
     "text": [
      "Probability of topics being related is 100%\n",
      "Count is 334 and sum is 372.42853758792154\n"
     ]
    }
   ],
   "source": [
    "cu = similar('Facebook','Google')"
   ]
  },
  {
   "cell_type": "code",
   "execution_count": 31,
   "metadata": {},
   "outputs": [
    {
     "name": "stdout",
     "output_type": "stream",
     "text": [
      "Probability of topics being related is 51%\n",
      "Count is 552 and sum is 281.9426915939084\n"
     ]
    }
   ],
   "source": [
    "cv = similar('Chemistry','Physics')"
   ]
  },
  {
   "cell_type": "code",
   "execution_count": 32,
   "metadata": {},
   "outputs": [
    {
     "name": "stdout",
     "output_type": "stream",
     "text": [
      "Probability of topics being related is 55%\n",
      "Count is 551 and sum is 300.70321249895807\n"
     ]
    }
   ],
   "source": [
    "cw = similar('Biology','Physics')"
   ]
  },
  {
   "cell_type": "code",
   "execution_count": 33,
   "metadata": {},
   "outputs": [
    {
     "name": "stdout",
     "output_type": "stream",
     "text": [
      "Probability of topics being related is 53%\n",
      "Count is 485 and sum is 256.84843314172775\n"
     ]
    }
   ],
   "source": [
    "cx = similar('Chemistry','Biology')"
   ]
  },
  {
   "cell_type": "code",
   "execution_count": 34,
   "metadata": {},
   "outputs": [
    {
     "name": "stdout",
     "output_type": "stream",
     "text": [
      "Probability of topics being related is 65%\n",
      "Count is 420 and sum is 273.6041684846002\n"
     ]
    }
   ],
   "source": [
    "cy = similar('Chemistry','Periodic Table')"
   ]
  },
  {
   "cell_type": "code",
   "execution_count": 35,
   "metadata": {},
   "outputs": [
    {
     "name": "stdout",
     "output_type": "stream",
     "text": [
      "Probability of topics being related is 17%\n",
      "Count is 477 and sum is 80.38187655856315\n"
     ]
    }
   ],
   "source": [
    "cz = similar('Physics','Periodic Table')"
   ]
  },
  {
   "cell_type": "code",
   "execution_count": 36,
   "metadata": {},
   "outputs": [
    {
     "name": "stdout",
     "output_type": "stream",
     "text": [
      "Probability of topics being related is 13%\n",
      "Count is 418 and sum is 55.28261150003667\n"
     ]
    }
   ],
   "source": [
    "da = similar('Biology','Periodic Table')"
   ]
  },
  {
   "cell_type": "code",
   "execution_count": 37,
   "metadata": {},
   "outputs": [
    {
     "name": "stdout",
     "output_type": "stream",
     "text": [
      "Probability of topics being related is 43%\n",
      "Count is 398 and sum is 171.20913151410127\n"
     ]
    }
   ],
   "source": [
    "db = similar('DNA','Biology')"
   ]
  },
  {
   "cell_type": "code",
   "execution_count": 38,
   "metadata": {},
   "outputs": [
    {
     "name": "stdout",
     "output_type": "stream",
     "text": [
      "Probability of topics being related is 40%\n",
      "Count is 398 and sum is 159.63128569324357\n"
     ]
    }
   ],
   "source": [
    "dc = similar('DNA','Chemistry')"
   ]
  },
  {
   "cell_type": "code",
   "execution_count": 39,
   "metadata": {},
   "outputs": [
    {
     "name": "stdout",
     "output_type": "stream",
     "text": [
      "Probability of topics being related is 18%\n",
      "Count is 450 and sum is 82.1725744516854\n"
     ]
    }
   ],
   "source": [
    "dd = similar('DNA','Physics')"
   ]
  },
  {
   "cell_type": "code",
   "execution_count": 40,
   "metadata": {},
   "outputs": [
    {
     "name": "stdout",
     "output_type": "stream",
     "text": [
      "Probability of topics being related is 40%\n",
      "Count is 364 and sum is 144.78125137184156\n"
     ]
    }
   ],
   "source": [
    "de = similar('coffee','tea')"
   ]
  },
  {
   "cell_type": "code",
   "execution_count": 41,
   "metadata": {},
   "outputs": [
    {
     "name": "stdout",
     "output_type": "stream",
     "text": [
      "Probability of topics being related is 77%\n",
      "Count is 324 and sum is 248.281231851635\n"
     ]
    }
   ],
   "source": [
    "df = similar('coffee','milk')"
   ]
  },
  {
   "cell_type": "code",
   "execution_count": 42,
   "metadata": {},
   "outputs": [
    {
     "name": "stdout",
     "output_type": "stream",
     "text": [
      "Probability of topics being related is 85%\n",
      "Count is 377 and sum is 320.41958022931817\n"
     ]
    }
   ],
   "source": [
    "dg = similar('apple','orange (fruit)')"
   ]
  },
  {
   "cell_type": "code",
   "execution_count": 43,
   "metadata": {},
   "outputs": [
    {
     "name": "stdout",
     "output_type": "stream",
     "text": [
      "Probability of topics being related is 35%\n",
      "Count is 358 and sum is 124.16508274153114\n"
     ]
    }
   ],
   "source": [
    "dh = similar('apple','orange (colour)')"
   ]
  },
  {
   "cell_type": "code",
   "execution_count": 44,
   "metadata": {},
   "outputs": [
    {
     "name": "stdout",
     "output_type": "stream",
     "text": [
      "Probability of topics being related is 59%\n",
      "Count is 553 and sum is 325.7764438535962\n"
     ]
    }
   ],
   "source": [
    "di = similar('love','hate')"
   ]
  },
  {
   "cell_type": "code",
   "execution_count": 45,
   "metadata": {},
   "outputs": [
    {
     "name": "stdout",
     "output_type": "stream",
     "text": [
      "Probability of topics being related is 100%\n",
      "Count is 484 and sum is 726.8472301748425\n"
     ]
    }
   ],
   "source": [
    "dj = similar('Housing and Development Board','Government Technology Agency')"
   ]
  },
  {
   "cell_type": "code",
   "execution_count": 46,
   "metadata": {},
   "outputs": [
    {
     "name": "stdout",
     "output_type": "stream",
     "text": [
      "Probability of topics being related is 51%\n",
      "Count is 461 and sum is 236.56240815081927\n"
     ]
    }
   ],
   "source": [
    "dk = similar('Information technology','Government Technology Agency')"
   ]
  },
  {
   "cell_type": "code",
   "execution_count": 47,
   "metadata": {},
   "outputs": [
    {
     "name": "stdout",
     "output_type": "stream",
     "text": [
      "Probability of topics being related is 100%\n",
      "Count is 230 and sum is 463.9831426179662\n"
     ]
    }
   ],
   "source": [
    "dl = similar('Simcity 4','The Sims')"
   ]
  },
  {
   "cell_type": "code",
   "execution_count": 48,
   "metadata": {},
   "outputs": [
    {
     "name": "stdout",
     "output_type": "stream",
     "text": [
      "Probability of topics being related is 100%\n",
      "Count is 279 and sum is 651.0968467958069\n"
     ]
    }
   ],
   "source": [
    "dm = similar('Simcity 4','Cities Skylines')"
   ]
  },
  {
   "cell_type": "code",
   "execution_count": 49,
   "metadata": {},
   "outputs": [
    {
     "name": "stdout",
     "output_type": "stream",
     "text": [
      "Probability of topics being related is 96%\n",
      "Count is 308 and sum is 294.9798926984053\n"
     ]
    }
   ],
   "source": [
    "dn = similar('Pokemon','Cities Skylines')"
   ]
  },
  {
   "cell_type": "code",
   "execution_count": 50,
   "metadata": {},
   "outputs": [
    {
     "name": "stdout",
     "output_type": "stream",
     "text": [
      "Probability of topics being related is 100%\n",
      "Count is 292 and sum is 308.35308941266754\n"
     ]
    }
   ],
   "source": [
    "do = similar('Counter-Strike','Cities Skylines')"
   ]
  },
  {
   "cell_type": "code",
   "execution_count": 51,
   "metadata": {},
   "outputs": [
    {
     "name": "stdout",
     "output_type": "stream",
     "text": [
      "Probability of topics being related is 100%\n",
      "Count is 290 and sum is 293.5552671021677\n"
     ]
    }
   ],
   "source": [
    "dp = similar('Counter-Strike','Fortnite')"
   ]
  },
  {
   "cell_type": "code",
   "execution_count": 52,
   "metadata": {},
   "outputs": [
    {
     "name": "stdout",
     "output_type": "stream",
     "text": [
      "Probability of topics being related is 100%\n",
      "Count is 313 and sum is 366.24059488709463\n"
     ]
    }
   ],
   "source": [
    "dq = similar('Counter-Strike','Overwatch (video game)')"
   ]
  },
  {
   "cell_type": "code",
   "execution_count": 53,
   "metadata": {},
   "outputs": [
    {
     "name": "stdout",
     "output_type": "stream",
     "text": [
      "Probability of topics being related is 100%\n",
      "Count is 311 and sum is 502.01156316544757\n"
     ]
    }
   ],
   "source": [
    "dr = similar('Overcooked','Overwatch (video game)')"
   ]
  },
  {
   "cell_type": "code",
   "execution_count": 54,
   "metadata": {},
   "outputs": [
    {
     "name": "stdout",
     "output_type": "stream",
     "text": [
      "Probability of topics being related is 100%\n",
      "Count is 363 and sum is 433.0443079690143\n"
     ]
    }
   ],
   "source": [
    "ds = similar('Overcooked','League of Legends')"
   ]
  },
  {
   "cell_type": "code",
   "execution_count": 55,
   "metadata": {},
   "outputs": [
    {
     "name": "stdout",
     "output_type": "stream",
     "text": [
      "Probability of topics being related is 16%\n",
      "Count is 325 and sum is 51.588672977084926\n"
     ]
    }
   ],
   "source": [
    "dt = similar('Simcity 4','Periodic Table')"
   ]
  },
  {
   "cell_type": "code",
   "execution_count": 56,
   "metadata": {},
   "outputs": [
    {
     "name": "stdout",
     "output_type": "stream",
     "text": [
      "Probability of topics being related is 100%\n",
      "Count is 374 and sum is 624.9633662053797\n"
     ]
    }
   ],
   "source": [
    "du = similar('Only Girl (In the World)',\"Crazy in Love\")"
   ]
  },
  {
   "cell_type": "code",
   "execution_count": 57,
   "metadata": {},
   "outputs": [
    {
     "name": "stdout",
     "output_type": "stream",
     "text": [
      "Probability of topics being related is 100%\n",
      "Count is 388 and sum is 684.0309687945253\n"
     ]
    }
   ],
   "source": [
    "dv = similar('A Girl like Me (Rihanna album)',\"Dangerously in Love\")"
   ]
  },
  {
   "cell_type": "code",
   "execution_count": 2,
   "metadata": {},
   "outputs": [
    {
     "name": "stdout",
     "output_type": "stream",
     "text": [
      "Probability of topics being related is 45%\n",
      "Count is 533 and sum is 239.97524432231438\n"
     ]
    }
   ],
   "source": [
    "dw = similar('Christianity',\"Buddhism\")"
   ]
  },
  {
   "cell_type": "code",
   "execution_count": 3,
   "metadata": {},
   "outputs": [
    {
     "name": "stdout",
     "output_type": "stream",
     "text": [
      "Probability of topics being related is 75%\n",
      "Count is 560 and sum is 420.39791529711846\n"
     ]
    }
   ],
   "source": [
    "dx = similar('Christianity',\"Islam\")"
   ]
  },
  {
   "cell_type": "code",
   "execution_count": 4,
   "metadata": {},
   "outputs": [
    {
     "name": "stdout",
     "output_type": "stream",
     "text": [
      "Probability of topics being related is 79%\n",
      "Count is 381 and sum is 300.2454279457024\n"
     ]
    }
   ],
   "source": [
    "dy = similar('Buddhism',\"Islam\")"
   ]
  },
  {
   "cell_type": "code",
   "execution_count": 5,
   "metadata": {},
   "outputs": [
    {
     "name": "stdout",
     "output_type": "stream",
     "text": [
      "Probability of topics being related is 46%\n",
      "Count is 354 and sum is 163.00086527859443\n"
     ]
    }
   ],
   "source": [
    "dz = similar('Neural Network',\"Logistic regression\")"
   ]
  },
  {
   "cell_type": "code",
   "execution_count": 6,
   "metadata": {},
   "outputs": [
    {
     "name": "stdout",
     "output_type": "stream",
     "text": [
      "Probability of topics being related is 3%\n",
      "Count is 224 and sum is 7.145414660396291\n"
     ]
    }
   ],
   "source": [
    "ea = similar('Reddit',\"Logistic regression\")"
   ]
  },
  {
   "cell_type": "code",
   "execution_count": 7,
   "metadata": {},
   "outputs": [
    {
     "name": "stdout",
     "output_type": "stream",
     "text": [
      "Probability of topics being related is 100%\n",
      "Count is 214 and sum is 348.8019630013946\n"
     ]
    }
   ],
   "source": [
    "eb = similar('Reddit',\"Facebook\")"
   ]
  },
  {
   "cell_type": "code",
   "execution_count": 8,
   "metadata": {},
   "outputs": [
    {
     "name": "stdout",
     "output_type": "stream",
     "text": [
      "Probability of topics being related is 100%\n",
      "Count is 228 and sum is 239.12350112048333\n"
     ]
    }
   ],
   "source": [
    "ec = similar('Reddit',\"Twitter\")"
   ]
  },
  {
   "cell_type": "code",
   "execution_count": 9,
   "metadata": {},
   "outputs": [
    {
     "name": "stdout",
     "output_type": "stream",
     "text": [
      "Probability of topics being related is 100%\n",
      "Count is 213 and sum is 311.9104888637269\n"
     ]
    }
   ],
   "source": [
    "ed = similar('Reddit',\"Quora\")"
   ]
  },
  {
   "cell_type": "code",
   "execution_count": 10,
   "metadata": {},
   "outputs": [
    {
     "name": "stdout",
     "output_type": "stream",
     "text": [
      "Probability of topics being related is 63%\n",
      "Count is 332 and sum is 208.45242575081596\n"
     ]
    }
   ],
   "source": [
    "ee = similar('Google',\"Quora\")"
   ]
  },
  {
   "cell_type": "code",
   "execution_count": null,
   "metadata": {},
   "outputs": [],
   "source": []
  }
 ],
 "metadata": {
  "kernelspec": {
   "display_name": "Python 3",
   "language": "python",
   "name": "python3"
  },
  "language_info": {
   "codemirror_mode": {
    "name": "ipython",
    "version": 3
   },
   "file_extension": ".py",
   "mimetype": "text/x-python",
   "name": "python",
   "nbconvert_exporter": "python",
   "pygments_lexer": "ipython3",
   "version": "3.7.6"
  }
 },
 "nbformat": 4,
 "nbformat_minor": 2
}
