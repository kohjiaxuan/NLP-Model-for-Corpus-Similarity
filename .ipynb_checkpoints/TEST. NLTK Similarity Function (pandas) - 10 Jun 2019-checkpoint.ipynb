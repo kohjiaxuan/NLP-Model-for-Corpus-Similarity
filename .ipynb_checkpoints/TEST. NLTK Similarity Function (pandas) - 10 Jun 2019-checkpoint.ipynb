{
 "cells": [
  {
   "cell_type": "code",
   "execution_count": 1,
   "metadata": {},
   "outputs": [
    {
     "name": "stdout",
     "output_type": "stream",
     "text": [
      "[nltk_data] Downloading package wordnet to\n",
      "[nltk_data]     C:\\Users\\jx\\AppData\\Roaming\\nltk_data...\n",
      "[nltk_data]   Package wordnet is already up-to-date!\n"
     ]
    }
   ],
   "source": [
    "import wikionly #script name is wikionly (no summary), class name is wiki\n",
    "import re as re\n",
    "import nltk\n",
    "nltk.download('wordnet')\n",
    "from nltk.corpus import wordnet\n",
    "import math\n",
    "\n",
    "class similar:\n",
    "    def __init__(self,text1,text2):\n",
    "\n",
    "        self.wn = nltk.corpus.wordnet #the corpus reader\n",
    "\n",
    "        checkstr = False\n",
    "        if isinstance(text1, str) == True:\n",
    "            if isinstance(text2, str) == True:\n",
    "                self.text1 = text1\n",
    "                self.text2 = text2\n",
    "                checkstr = True\n",
    "            else:\n",
    "                print('Error! The second argument is not a string format!')        \n",
    "        else:\n",
    "            print('Error! The first argument is not a string format!')\n",
    "        \n",
    "        if checkstr == True:\n",
    "            self.wiki1 = wikionly.wiki(text1)\n",
    "            self.wiki2 = wikionly.wiki(text2)\n",
    "        \n",
    "        #call the function that calculates percentage\n",
    "        self.percent(self.wiki1,self.wiki2)\n",
    "        \n",
    "        #call the function that shows list of words for both Wiki sites\n",
    "        self.words()\n",
    "        \n",
    "    def percent(self,input1,input2):\n",
    "        self.dotn01 = ('.','n','.','0','1')\n",
    "        self.wiki1list = []\n",
    "        for key in self.wiki1.commonwords(40):\n",
    "            self.wiki1slice = list(key)\n",
    "            for letter in self.dotn01:\n",
    "                self.wiki1slice.append(letter)\n",
    "            self.wiki1slice = ''.join(self.wiki1slice)\n",
    "            self.wiki1list.append(self.wiki1slice)\n",
    "\n",
    "        self.wiki2list = []\n",
    "        for key in self.wiki2.commonwords(40):\n",
    "            self.wiki2slice = list(key)\n",
    "            for letter in self.dotn01:\n",
    "                self.wiki2slice.append(letter)\n",
    "            self.wiki2slice = ''.join(self.wiki2slice)\n",
    "            self.wiki2list.append(self.wiki2slice)\n",
    "\n",
    "        self.count = 0\n",
    "        self.sum = 0\n",
    "        #A count for the ranking of the word (how often it appears in both wiki passages)\n",
    "        self.topten1 = 0\n",
    "        self.topten2 = 0\n",
    "\n",
    "        for word1 in self.wiki1list:\n",
    "            #Reset self.topten2\n",
    "            self.topten2 = 0\n",
    "            self.topten1 += 1\n",
    "            for word2 in self.wiki2list:\n",
    "                self.topten2 += 1\n",
    "                #reinitialize to zero to prevent old sums from going into maxsum\n",
    "                self.sum1 = 0\n",
    "                self.sum2 = 0\n",
    "                self.sum3 = 0\n",
    "                self.sum4 = 0\n",
    "                self.maxsum = 0\n",
    "                \n",
    "                if self.topten1 < 11 and self.topten2 < 11:\n",
    "                    self.expvalue = 4.5 #3.5\n",
    "                elif self.topten1 < 21 and self.topten2 < 21:\n",
    "                    self.expvalue = 2\n",
    "                else:\n",
    "                    self.expvalue = 1.5\n",
    "                \n",
    "                try:\n",
    "                    if re.findall(r\"\\d+.n.01\", word1) == [] and re.findall(r\"\\d+.n.01\", word2) == []: #check both words not numbers\n",
    "                        word11 = word1.replace('n.01','n.02')\n",
    "                        word22 = word2.replace('n.01','n.02')\n",
    "                        #print(word11,word22)\n",
    "                        self.x = self.wn.synset(word1)\n",
    "                        self.y = self.wn.synset(word2)\n",
    "                        #get default similarity value of 1st definitions of word\n",
    "                        self.sum1 = self.x.path_similarity(self.y) * math.exp(self.expvalue * self.x.path_similarity(self.y)) + 10 * math.log(0.89+self.x.path_similarity(self.y))\n",
    "                        try: #get 2nd definitions of words and their similarity values, if it exist\n",
    "                            self.xx = self.wn.synset(word11)\n",
    "                            self.yy = self.wn.synset(word22)\n",
    "                            self.sum2 = self.xx.path_similarity(self.y) * math.exp(self.expvalue * self.xx.path_similarity(self.y)) + 10 * math.log(0.89+self.xx.path_similarity(self.y))\n",
    "                            self.sum3 = self.x.path_similarity(self.yy) * math.exp(self.expvalue * self.x.path_similarity(self.yy)) + 10 * math.log(0.89+self.x.path_similarity(self.yy))\n",
    "                            self.sum4 = self.xx.path_similarity(self.yy) * math.exp(self.expvalue * self.xx.path_similarity(self.yy)) + 10 * math.log(0.89+self.xx.path_similarity(self.yy))\n",
    "                        except:\n",
    "                            continue\n",
    "                        self.maxsum = max(self.sum1,self.sum2,self.sum3,self.sum4) #get the max similarity value to sum inside\n",
    "                        #print(word1, word2, self.maxsum)\n",
    "                        self.sum += self.maxsum\n",
    "                        self.count += 1\n",
    "                except:\n",
    "                    if word1 == word2 and re.findall(r\"\\d+.n.01\", word1) == []: #remove years/numbers being counted as match yyyy.n.01\n",
    "                        self.sum += math.exp(self.expvalue) + 10 * math.log(1.89)\n",
    "                        self.count += 1\n",
    "                    else:\n",
    "                        continue\n",
    "\n",
    "        if self.count != 0:\n",
    "            self.percent = round(self.sum/self.count*100)\n",
    "            if self.percent > 100:\n",
    "                self.percent = 100\n",
    "            elif self.percent < 0:\n",
    "                self.percent = 0\n",
    "            print('Probability of topics being related is ' + str(self.percent) + '%')\n",
    "            print('Count is ' + str(self.count) + ' and sum is ' + str(self.sum))\n",
    "            print('\\n')\n",
    "        else:\n",
    "            print('No relation index can be calculated as words are all foreign')\n",
    "            \n",
    "        return self.percent\n",
    "        \n",
    "    def words(self):\n",
    "        print(self.wiki1list)\n",
    "        print('\\n')\n",
    "        print(self.wiki2list)\n",
    "        \n",
    "    def ans(self):\n",
    "        self.listans = [self.text1,self.text2,self.percent]\n",
    "        if self.percent > 49:\n",
    "            self.listans.append('Yes')\n",
    "        else:\n",
    "            self.listans.append('No')\n",
    "        return self.listans\n",
    "            \n",
    "\n",
    "            "
   ]
  },
  {
   "cell_type": "code",
   "execution_count": 2,
   "metadata": {},
   "outputs": [
    {
     "name": "stdout",
     "output_type": "stream",
     "text": [
      "Probability of topics being related is 73%\n",
      "Count is 557 and sum is 405.25553034686055\n",
      "\n",
      "\n",
      "['van.n.01', 'buuren.n.01', 'armin.n.01', 'trance.n.01', 'music.n.01', 'dj.n.01', 'state.n.01', 'album.n.01', 'radio.n.01', 'dutch.n.01', 'released.n.01', 'single.n.01', 'armada.n.01', 'show.n.01', 'mag.n.01', 'netherlands.n.01', 'studio.n.01', 'number.n.01', 'episode.n.01', 'artists.n.01', 'djs.n.01', 'award.n.01', 'announced.n.01', 'track.n.01', 'house.n.01', 'identifiers.n.01', 'world.n.01', 'dance.n.01', 'release.n.01', 'paul.n.01', 'tour.n.01', 'various.n.01', 'performed.n.01', 'live.n.01', 'ultra.n.01', 'festival.n.01', 'record.n.01', 'fourth.n.01', 'top.n.01', 'artist.n.01']\n",
      "\n",
      "\n",
      "['tiësto.n.01', 'album.n.01', 'released.n.01', 'dj.n.01', 'life.n.01', 'tour.n.01', 'music.n.01', 'search.n.01', 'sunrise.n.01', 'live.n.01', 'dutch.n.01', 'trance.n.01', 'world.n.01', 'van.n.01', 'tiesto.n.01', 'club.n.01', 'billboard.n.01', 'concert.n.01', 'elements.n.01', 'magazine.n.01', 'remixed.n.01', 'armin.n.01', 'buuren.n.01', 'gouryella.n.01', 'called.n.01', 'house.n.01', 'dance.n.01', 'compilation.n.01', 'series.n.01', 'top.n.01', 'djs.n.01', 'three.n.01', 'radio.n.01', 'amsterdam.n.01', 'years.n.01', 'black.n.01', 'hole.n.01', 'recordings.n.01', 'performed.n.01', 'chart.n.01']\n"
     ]
    },
    {
     "data": {
      "text/plain": [
       "['Armin van Buuren', 'Tiesto', 73, 'Yes']"
      ]
     },
     "execution_count": 2,
     "metadata": {},
     "output_type": "execute_result"
    }
   ],
   "source": [
    "aa = similar('Armin van Buuren','Tiesto')\n",
    "aa.ans()"
   ]
  },
  {
   "cell_type": "code",
   "execution_count": 3,
   "metadata": {},
   "outputs": [
    {
     "name": "stdout",
     "output_type": "stream",
     "text": [
      "Probability of topics being related is 100%\n",
      "Count is 462 and sum is 555.6567872551008\n",
      "\n",
      "\n",
      "['van.n.01', 'buuren.n.01', 'armin.n.01', 'trance.n.01', 'music.n.01', 'dj.n.01', 'state.n.01', 'album.n.01', 'radio.n.01', 'dutch.n.01', 'released.n.01', 'single.n.01', 'armada.n.01', 'show.n.01', 'mag.n.01', 'netherlands.n.01', 'studio.n.01', 'number.n.01', 'episode.n.01', 'artists.n.01', 'djs.n.01', 'award.n.01', 'announced.n.01', 'track.n.01', 'house.n.01', 'identifiers.n.01', 'world.n.01', 'dance.n.01', 'release.n.01', 'paul.n.01', 'tour.n.01', 'various.n.01', 'performed.n.01', 'live.n.01', 'ultra.n.01', 'festival.n.01', 'record.n.01', 'fourth.n.01', 'top.n.01', 'artist.n.01']\n",
      "\n",
      "\n",
      "['van.n.01', 'dyk.n.01', 'paul.n.01', 'album.n.01', 'music.n.01', 'armin.n.01', 'buuren.n.01', 'dj.n.01', 'german.n.01', 'berlin.n.01', 'politics.n.01', 'released.n.01', 'dancing.n.01', 'single.n.01', 'identifiers.n.01', 'dance.n.01', 'between.n.01', '/.n.01', 'djs.n.01', 'trance.n.01', 'radio.n.01', 'records.n.01', 'ultra.n.01', 'mfs.n.01', 'ways.n.01', 'artists.n.01', 'dyks.n.01', 'song.n.01', 'record.n.01', 'award.n.01', 'reflections.n.01', 'label.n.01', 'electronic.n.01', 'began.n.01', 'fall.n.01', 'seven.n.01', 'vandit.n.01', 'billboard.n.01', 'producer.n.01', 'world.n.01']\n"
     ]
    }
   ],
   "source": [
    "ab = similar('Armin van Buuren','paul van dyk')"
   ]
  },
  {
   "cell_type": "code",
   "execution_count": 4,
   "metadata": {},
   "outputs": [
    {
     "name": "stdout",
     "output_type": "stream",
     "text": [
      "Probability of topics being related is 66%\n",
      "Count is 440 and sum is 290.5720613221784\n",
      "\n",
      "\n",
      "['van.n.01', 'dyk.n.01', 'paul.n.01', 'album.n.01', 'music.n.01', 'armin.n.01', 'buuren.n.01', 'dj.n.01', 'german.n.01', 'berlin.n.01', 'politics.n.01', 'released.n.01', 'dancing.n.01', 'single.n.01', 'identifiers.n.01', 'dance.n.01', 'between.n.01', '/.n.01', 'djs.n.01', 'trance.n.01', 'radio.n.01', 'records.n.01', 'ultra.n.01', 'mfs.n.01', 'ways.n.01', 'artists.n.01', 'dyks.n.01', 'song.n.01', 'record.n.01', 'award.n.01', 'reflections.n.01', 'label.n.01', 'electronic.n.01', 'began.n.01', 'fall.n.01', 'seven.n.01', 'vandit.n.01', 'billboard.n.01', 'producer.n.01', 'world.n.01']\n",
      "\n",
      "\n",
      "['tiësto.n.01', 'album.n.01', 'released.n.01', 'dj.n.01', 'life.n.01', 'tour.n.01', 'music.n.01', 'search.n.01', 'sunrise.n.01', 'live.n.01', 'dutch.n.01', 'trance.n.01', 'world.n.01', 'van.n.01', 'tiesto.n.01', 'club.n.01', 'billboard.n.01', 'concert.n.01', 'elements.n.01', 'magazine.n.01', 'remixed.n.01', 'armin.n.01', 'buuren.n.01', 'gouryella.n.01', 'called.n.01', 'house.n.01', 'dance.n.01', 'compilation.n.01', 'series.n.01', 'top.n.01', 'djs.n.01', 'three.n.01', 'radio.n.01', 'amsterdam.n.01', 'years.n.01', 'black.n.01', 'hole.n.01', 'recordings.n.01', 'performed.n.01', 'chart.n.01']\n"
     ]
    }
   ],
   "source": [
    "ac = similar('Paul van dyk','Tiesto')"
   ]
  },
  {
   "cell_type": "code",
   "execution_count": 5,
   "metadata": {},
   "outputs": [
    {
     "name": "stdout",
     "output_type": "stream",
     "text": [
      "Probability of topics being related is 65%\n",
      "Count is 439 and sum is 287.4956461699605\n",
      "\n",
      "\n",
      "['garrix.n.01', 'martin.n.01', 'dj.n.01', 'released.n.01', 'music.n.01', 'billboard.n.01', 'single.n.01', 'records.n.01', 'edm.n.01', 'dutch.n.01', 'track.n.01', 'collaboration.n.01', 'festival.n.01', 'song.n.01', 'top.n.01', 'djs.n.01', 'announced.n.01', 'ultra.n.01', 'video.n.01', 'mag.n.01', 'spinnin.n.01', 'release.n.01', 'van.n.01', 'artists.n.01', 'watch.n.01', 'featuring.n.01', '100.n.01', 'tomorrowland.n.01', 'songs.n.01', 'armani.n.01', 'number.n.01', 'ibiza.n.01', 'label.n.01', 'singer.n.01', 'set.n.01', 'show.n.01', 'scared.n.01', 'lonely.n.01', 'house.n.01', 'bein.n.01']\n",
      "\n",
      "\n",
      "['tiësto.n.01', 'album.n.01', 'released.n.01', 'dj.n.01', 'life.n.01', 'tour.n.01', 'music.n.01', 'search.n.01', 'sunrise.n.01', 'live.n.01', 'dutch.n.01', 'trance.n.01', 'world.n.01', 'van.n.01', 'tiesto.n.01', 'club.n.01', 'billboard.n.01', 'concert.n.01', 'elements.n.01', 'magazine.n.01', 'remixed.n.01', 'armin.n.01', 'buuren.n.01', 'gouryella.n.01', 'called.n.01', 'house.n.01', 'dance.n.01', 'compilation.n.01', 'series.n.01', 'top.n.01', 'djs.n.01', 'three.n.01', 'radio.n.01', 'amsterdam.n.01', 'years.n.01', 'black.n.01', 'hole.n.01', 'recordings.n.01', 'performed.n.01', 'chart.n.01']\n"
     ]
    }
   ],
   "source": [
    "ad = similar('Martin Garrix','Tiesto')"
   ]
  },
  {
   "cell_type": "code",
   "execution_count": 6,
   "metadata": {},
   "outputs": [
    {
     "name": "stdout",
     "output_type": "stream",
     "text": [
      "Probability of topics being related is 65%\n",
      "Count is 439 and sum is 287.4956461699606\n",
      "\n",
      "\n",
      "['tiësto.n.01', 'album.n.01', 'released.n.01', 'dj.n.01', 'life.n.01', 'tour.n.01', 'music.n.01', 'search.n.01', 'sunrise.n.01', 'live.n.01', 'dutch.n.01', 'trance.n.01', 'world.n.01', 'van.n.01', 'tiesto.n.01', 'club.n.01', 'billboard.n.01', 'concert.n.01', 'elements.n.01', 'magazine.n.01', 'remixed.n.01', 'armin.n.01', 'buuren.n.01', 'gouryella.n.01', 'called.n.01', 'house.n.01', 'dance.n.01', 'compilation.n.01', 'series.n.01', 'top.n.01', 'djs.n.01', 'three.n.01', 'radio.n.01', 'amsterdam.n.01', 'years.n.01', 'black.n.01', 'hole.n.01', 'recordings.n.01', 'performed.n.01', 'chart.n.01']\n",
      "\n",
      "\n",
      "['garrix.n.01', 'martin.n.01', 'dj.n.01', 'released.n.01', 'music.n.01', 'billboard.n.01', 'single.n.01', 'records.n.01', 'edm.n.01', 'dutch.n.01', 'track.n.01', 'collaboration.n.01', 'festival.n.01', 'song.n.01', 'top.n.01', 'djs.n.01', 'announced.n.01', 'ultra.n.01', 'video.n.01', 'mag.n.01', 'spinnin.n.01', 'release.n.01', 'van.n.01', 'artists.n.01', 'watch.n.01', 'featuring.n.01', '100.n.01', 'tomorrowland.n.01', 'songs.n.01', 'armani.n.01', 'number.n.01', 'ibiza.n.01', 'label.n.01', 'singer.n.01', 'set.n.01', 'show.n.01', 'scared.n.01', 'lonely.n.01', 'house.n.01', 'bein.n.01']\n"
     ]
    }
   ],
   "source": [
    "ae = similar('Tiesto','Martin Garrix')"
   ]
  },
  {
   "cell_type": "code",
   "execution_count": 7,
   "metadata": {},
   "outputs": [
    {
     "name": "stdout",
     "output_type": "stream",
     "text": [
      "Probability of topics being related is 100%\n",
      "Count is 368 and sum is 427.6213566598403\n",
      "\n",
      "\n",
      "['pokémon.n.01', 'ninetales.n.01', 'vulpix.n.01', 'game.n.01', 'nintendo.n.01', 'ign.n.01', 'tails.n.01', 'red.n.01', 'freak.n.01', 'boy.n.01', 'blue.n.01', 'pokemon.n.01', 'fire.n.01', 'main.n.01', 'nine.n.01', 'called.n.01', 'known.n.01', 'fox.n.01', 'color.n.01', 'many.n.01', 'team.n.01', 'top.n.01', 'later.n.01', 'titles.n.01', 'characters.n.01', 'tail.n.01', 'years.n.01', 'mystery.n.01', 'dungeon.n.01', 'rescue.n.01', 'used.n.01', '1999.n.01', 'citation.n.01', 'advance.n.01', 'page.n.01', 'appeared.n.01', 'video.n.01', 'games.n.01', 'both.n.01', 'more.n.01']\n",
      "\n",
      "\n",
      "['pikachu.n.01', 'pokémon.n.01', 'game.n.01', 'nintendo.n.01', 'episode.n.01', 'anime.n.01', 'series.n.01', 'characters.n.01', 'character.n.01', 'video.n.01', 'games.n.01', 'ash.n.01', 'season.n.01', 'ign.n.01', 'pokemon.n.01', 'japanese.n.01', 'yellow.n.01', 'called.n.01', 'pikachus.n.01', 'top.n.01', '1999.n.01', 'main.n.01', 'detective.n.01', 'freak.n.01', 'mascot.n.01', 'various.n.01', 'players.n.01', 'were.n.01', 'inc.n.01', 'news.n.01', 'fictional.n.01', 'appeared.n.01', 'red.n.01', 'released.n.01', 'electric.n.01', 'ketchum.n.01', 'super.n.01', 'smash.n.01', 'power.n.01', 'parade.n.01']\n"
     ]
    }
   ],
   "source": [
    "af = similar('vulpix','pikachu')"
   ]
  },
  {
   "cell_type": "code",
   "execution_count": 8,
   "metadata": {},
   "outputs": [
    {
     "name": "stdout",
     "output_type": "stream",
     "text": [
      "Probability of topics being related is 100%\n",
      "Count is 307 and sum is 305.78811149226635\n",
      "\n",
      "\n",
      "['underground.n.01', 'speed.n.01', 'need.n.01', 'game.n.01', 'player.n.01', 'races.n.01', 'games.n.01', 'race.n.01', 'rivals.n.01', 'stage.n.01', 'version.n.01', 'cars.n.01', 'car.n.01', 'xbox.n.01', 'mode.n.01', 'racing.n.01', 'pc.n.01', 'review.n.01', 'players.n.01', 'video.n.01', 'playstation.n.01', 'each.n.01', 'series.n.01', 'mobile.n.01', 'using.n.01', 'events.n.01', 'gamespy.n.01', 'street.n.01', 'city.n.01', 'circuit.n.01', '100.n.01', 'ps2.n.01', 'reviews.n.01', 'gamerankings.n.01', 'gamecube.n.01', 'ds.n.01', 'while.n.01', 'map.n.01', 'nitrous.n.01', 'outrun.n.01']\n",
      "\n",
      "\n",
      "['dota.n.01', 'game.n.01', 'games.n.01', 'valve.n.01', 'pc.n.01', 'players.n.01', 'gamer.n.01', 'heroes.n.01', 'video.n.01', 'international.n.01', 'hero.n.01', 'major.n.01', 'ign.n.01', 'best.n.01', 'team.n.01', 'steam.n.01', 'polygon.n.01', 'defense.n.01', 'million.n.01', 'known.n.01', 'ancients.n.01', 'being.n.01', 'awards.n.01', 'mode.n.01', 'announced.n.01', 'source.n.01', 'system.n.01', 'esports.n.01', 'had.n.01', 'chris.n.01', 'each.n.01', 'released.n.01', 'were.n.01', 'valves.n.01', 'update.n.01', 'teams.n.01', 'player.n.01', 'more.n.01', 'battle.n.01', 'world.n.01']\n"
     ]
    }
   ],
   "source": [
    "ag = similar('Need For Speed Underground 2','dota 2')"
   ]
  },
  {
   "cell_type": "code",
   "execution_count": 9,
   "metadata": {},
   "outputs": [
    {
     "name": "stdout",
     "output_type": "stream",
     "text": [
      "Probability of topics being related is 51%\n",
      "Count is 370 and sum is 186.9747197435306\n",
      "\n",
      "\n",
      "['beyoncé.n.01', 'music.n.01', 'album.n.01', 'billboard.n.01', 'beyoncés.n.01', 'love.n.01', 'awards.n.01', 'jay-z.n.01', 'news.n.01', 'mtv.n.01', 'tour.n.01', 'single.n.01', 'best.n.01', 'video.n.01', 'million.n.01', 'american.n.01', 'song.n.01', 'destinys.n.01', 'child.n.01', 'world.n.01', 'artist.n.01', 'knowles.n.01', '100.n.01', 'award.n.01', 'chart.n.01', 'top.n.01', 'women.n.01', 'songwriters.n.01', 'released.n.01', 'york.n.01', 'songs.n.01', 'grammy.n.01', 'list.n.01', 'film.n.01', 'black.n.01', 'female.n.01', 'lemonade.n.01', 'performance.n.01', 'number.n.01', 'fashion.n.01']\n",
      "\n",
      "\n",
      "['dota.n.01', 'game.n.01', 'games.n.01', 'valve.n.01', 'pc.n.01', 'players.n.01', 'gamer.n.01', 'heroes.n.01', 'video.n.01', 'international.n.01', 'hero.n.01', 'major.n.01', 'ign.n.01', 'best.n.01', 'team.n.01', 'steam.n.01', 'polygon.n.01', 'defense.n.01', 'million.n.01', 'known.n.01', 'ancients.n.01', 'being.n.01', 'awards.n.01', 'mode.n.01', 'announced.n.01', 'source.n.01', 'system.n.01', 'esports.n.01', 'had.n.01', 'chris.n.01', 'each.n.01', 'released.n.01', 'were.n.01', 'valves.n.01', 'update.n.01', 'teams.n.01', 'player.n.01', 'more.n.01', 'battle.n.01', 'world.n.01']\n"
     ]
    }
   ],
   "source": [
    "ah = similar('beyonce','dota 2')"
   ]
  },
  {
   "cell_type": "code",
   "execution_count": 10,
   "metadata": {},
   "outputs": [
    {
     "name": "stdout",
     "output_type": "stream",
     "text": [
      "Probability of topics being related is 100%\n",
      "Count is 464 and sum is 517.7399090040565\n",
      "\n",
      "\n",
      "['beyoncé.n.01', 'music.n.01', 'album.n.01', 'billboard.n.01', 'beyoncés.n.01', 'love.n.01', 'awards.n.01', 'jay-z.n.01', 'news.n.01', 'mtv.n.01', 'tour.n.01', 'single.n.01', 'best.n.01', 'video.n.01', 'million.n.01', 'american.n.01', 'song.n.01', 'destinys.n.01', 'child.n.01', 'world.n.01', 'artist.n.01', 'knowles.n.01', '100.n.01', 'award.n.01', 'chart.n.01', 'top.n.01', 'women.n.01', 'songwriters.n.01', 'released.n.01', 'york.n.01', 'songs.n.01', 'grammy.n.01', 'list.n.01', 'film.n.01', 'black.n.01', 'female.n.01', 'lemonade.n.01', 'performance.n.01', 'number.n.01', 'fashion.n.01']\n",
      "\n",
      "\n",
      "['rihanna.n.01', 'music.n.01', 'rihannas.n.01', 'album.n.01', 'billboard.n.01', 'girl.n.01', 'mtv.n.01', 'single.n.01', 'released.n.01', 'fashion.n.01', 'love.n.01', '100.n.01', 'tour.n.01', 'bad.n.01', 'million.n.01', 'news.n.01', 'hot.n.01', 'brown.n.01', 'charts.n.01', 'top.n.01', 'gone.n.01', 'chris.n.01', 'video.n.01', 'singles.n.01', 'song.n.01', 'chart.n.01', 'awards.n.01', 'pop.n.01', 'uk.n.01', 'had.n.01', 'studio.n.01', 'world.n.01', 'artist.n.01', 'fenty.n.01', 'artists.n.01', 'york.n.01', 'songs.n.01', 'barbados.n.01', 'release.n.01', 'albums.n.01']\n"
     ]
    }
   ],
   "source": [
    "ai = similar('Beyonce','Rihanna')"
   ]
  },
  {
   "cell_type": "code",
   "execution_count": 11,
   "metadata": {},
   "outputs": [
    {
     "name": "stdout",
     "output_type": "stream",
     "text": [
      "Probability of topics being related is 7%\n",
      "Count is 360 and sum is 25.003661025355257\n",
      "\n",
      "\n",
      "['cake.n.01', 'cupcakes.n.01', 'cupcake.n.01', 'cakes.n.01', 'cup.n.01', 'chocolate.n.01', 'small.n.01', 'paper.n.01', 'made.n.01', 'liners.n.01', 'food.n.01', 'cups.n.01', 'were.n.01', 'baking.n.01', 'baked.n.01', 'bake.n.01', 'more.n.01', 'using.n.01', 'icing.n.01', 'often.n.01', 'pastry.n.01', 'uses.n.01', 'ingredients.n.01', 'butter.n.01', 'used.n.01', 'cream.n.01', 'bakers.n.01', 'page.n.01', 'de.n.01', 'fairy.n.01', 'american.n.01', 'muffin.n.01', 'individual.n.01', 'size.n.01', 'pans.n.01', 'cases.n.01', 'shop.n.01', 'sprinkles.n.01', 'periodic.n.01', 'table.n.01']\n",
      "\n",
      "\n",
      "['rihanna.n.01', 'music.n.01', 'rihannas.n.01', 'album.n.01', 'billboard.n.01', 'girl.n.01', 'mtv.n.01', 'single.n.01', 'released.n.01', 'fashion.n.01', 'love.n.01', '100.n.01', 'tour.n.01', 'bad.n.01', 'million.n.01', 'news.n.01', 'hot.n.01', 'brown.n.01', 'charts.n.01', 'top.n.01', 'gone.n.01', 'chris.n.01', 'video.n.01', 'singles.n.01', 'song.n.01', 'chart.n.01', 'awards.n.01', 'pop.n.01', 'uk.n.01', 'had.n.01', 'studio.n.01', 'world.n.01', 'artist.n.01', 'fenty.n.01', 'artists.n.01', 'york.n.01', 'songs.n.01', 'barbados.n.01', 'release.n.01', 'albums.n.01']\n"
     ]
    }
   ],
   "source": [
    "aj = similar('cupcakes','rihanna')"
   ]
  },
  {
   "cell_type": "code",
   "execution_count": 12,
   "metadata": {},
   "outputs": [
    {
     "name": "stdout",
     "output_type": "stream",
     "text": [
      "Probability of topics being related is 8%\n",
      "Count is 381 and sum is 29.797904258527435\n",
      "\n",
      "\n",
      "['trump.n.01', 'trumps.n.01', 'donald.n.01', 'york.n.01', 'times.n.01', 'president.n.01', 'news.n.01', 'post.n.01', 'washington.n.01', 'had.n.01', 'presidential.n.01', 'campaign.n.01', 'cnn.n.01', 'tax.n.01', 'said.n.01', 'michael.n.01', 'states.n.01', 'were.n.01', 'been.n.01', 'during.n.01', 'house.n.01', 'united.n.01', 'white.n.01', 'david.n.01', 'business.n.01', 'election.n.01', 'says.n.01', 'against.n.01', 'mueller.n.01', 'million.n.01', 'press.n.01', 'american.n.01', 'tariffs.n.01', 'political.n.01', 'office.n.01', 'report.n.01', 'court.n.01', 'nbc.n.01', 'media.n.01', 'federal.n.01']\n",
      "\n",
      "\n",
      "['rihanna.n.01', 'music.n.01', 'rihannas.n.01', 'album.n.01', 'billboard.n.01', 'girl.n.01', 'mtv.n.01', 'single.n.01', 'released.n.01', 'fashion.n.01', 'love.n.01', '100.n.01', 'tour.n.01', 'bad.n.01', 'million.n.01', 'news.n.01', 'hot.n.01', 'brown.n.01', 'charts.n.01', 'top.n.01', 'gone.n.01', 'chris.n.01', 'video.n.01', 'singles.n.01', 'song.n.01', 'chart.n.01', 'awards.n.01', 'pop.n.01', 'uk.n.01', 'had.n.01', 'studio.n.01', 'world.n.01', 'artist.n.01', 'fenty.n.01', 'artists.n.01', 'york.n.01', 'songs.n.01', 'barbados.n.01', 'release.n.01', 'albums.n.01']\n"
     ]
    }
   ],
   "source": [
    "ak = similar('donald trump','rihanna')"
   ]
  },
  {
   "cell_type": "code",
   "execution_count": 13,
   "metadata": {},
   "outputs": [
    {
     "name": "stdout",
     "output_type": "stream",
     "text": [
      "Probability of topics being related is 76%\n",
      "Count is 255 and sum is 193.14277944863537\n",
      "\n",
      "\n",
      "['banksy.n.01', 'art.n.01', 'banksys.n.01', 'bristol.n.01', 'london.n.01', 'news.n.01', 'bbc.n.01', 'graffiti.n.01', 'artist.n.01', 'street.n.01', 'wall.n.01', 'auction.n.01', 'works.n.01', 'artists.n.01', 'york.n.01', 'church.n.01', 'st.n.01', 'been.n.01', 'painted.n.01', 'were.n.01', 'house.n.01', 'piece.n.01', 'had.n.01', 'mural.n.01', 'sold.n.01', 'city.n.01', 'through.n.01', 'guardian.n.01', 'painting.n.01', 'exhibition.n.01', 'times.n.01', 'world.n.01', 'show.n.01', 'artwork.n.01', 'image.n.01', 'uk.n.01', 'museum.n.01', 'machine.n.01', 'wayback.n.01', 'identifiers.n.01']\n",
      "\n",
      "\n",
      "['van.n.01', 'gogh.n.01', 'vincent.n.01', 'museum.n.01', 'theo.n.01', 'art.n.01', 'goghs.n.01', '1888.n.01', '1990.n.01', 'arles.n.01', 'paintings.n.01', 'had.n.01', '1890.n.01', '1889.n.01', 'paris.n.01', 'life.n.01', 'letter.n.01', 'painted.n.01', 'gauguin.n.01', 'were.n.01', 'amsterdam.n.01', 'painting.n.01', 'de.n.01', 'works.n.01', 'wheat.n.01', 'naifeh.n.01', 'smith.n.01', 'pickvance.n.01', '1981.n.01', 'hulsker.n.01', 'still.n.01', 'dutch.n.01', 'portrait.n.01', 'paul.n.01', 'during.n.01', 'wrote.n.01', 'night.n.01', 'tralbaut.n.01', 'cypresses.n.01', '1986.n.01']\n"
     ]
    }
   ],
   "source": [
    "al = similar('Banksy','Van Gogh')"
   ]
  },
  {
   "cell_type": "code",
   "execution_count": 14,
   "metadata": {},
   "outputs": [
    {
     "name": "stdout",
     "output_type": "stream",
     "text": [
      "Probability of topics being related is 58%\n",
      "Count is 398 and sum is 229.1464405304878\n",
      "\n",
      "\n",
      "['banksy.n.01', 'art.n.01', 'banksys.n.01', 'bristol.n.01', 'london.n.01', 'news.n.01', 'bbc.n.01', 'graffiti.n.01', 'artist.n.01', 'street.n.01', 'wall.n.01', 'auction.n.01', 'works.n.01', 'artists.n.01', 'york.n.01', 'church.n.01', 'st.n.01', 'been.n.01', 'painted.n.01', 'were.n.01', 'house.n.01', 'piece.n.01', 'had.n.01', 'mural.n.01', 'sold.n.01', 'city.n.01', 'through.n.01', 'guardian.n.01', 'painting.n.01', 'exhibition.n.01', 'times.n.01', 'world.n.01', 'show.n.01', 'artwork.n.01', 'image.n.01', 'uk.n.01', 'museum.n.01', 'machine.n.01', 'wayback.n.01', 'identifiers.n.01']\n",
      "\n",
      "\n",
      "['mondrian.n.01', 'art.n.01', 'composition.n.01', 'painting.n.01', 'lines.n.01', 'mondrians.n.01', 'piet.n.01', 'black.n.01', 'red.n.01', 'paintings.n.01', 'blue.n.01', 'yellow.n.01', 'collection.n.01', 'york.n.01', 'paris.n.01', 'identifiers.n.01', 'dutch.n.01', 'works.n.01', 'forms.n.01', 'modern.n.01', 'museum.n.01', 'abstract.n.01', 'life.n.01', 'guggenheim.n.01', 'white.n.01', 'color.n.01', 'began.n.01', 'gray.n.01', 'external.n.01', 'colored.n.01', 'primary.n.01', 'still.n.01', 'london.n.01', 'artists.n.01', 'de.n.01', 'period.n.01', 'more.n.01', 'mondriaan.n.01', 'artistic.n.01', 'van.n.01']\n"
     ]
    }
   ],
   "source": [
    "am = similar('Banksy','Piet Mondrian')"
   ]
  },
  {
   "cell_type": "code",
   "execution_count": 15,
   "metadata": {},
   "outputs": [
    {
     "name": "stdout",
     "output_type": "stream",
     "text": [
      "Probability of topics being related is 68%\n",
      "Count is 363 and sum is 248.19171464314763\n",
      "\n",
      "\n",
      "['nadir.n.01', 'afonso.n.01', 'art.n.01', 'lisbon.n.01', 'de.n.01', 'paris.n.01', 'portuguese.n.01', 'porto.n.01', 'identifiers.n.01', 'painting.n.01', 'o.n.01', 'works.n.01', 'da.n.01', 'chaves.n.01', 'portugal.n.01', 'exhibitions.n.01', 'e.n.01', 'architecture.n.01', 'des.n.01', 'artists.n.01', 'la.n.01', 'exhibition.n.01', 'idem.n.01', 'painter.n.01', 'laws.n.01', 'form.n.01', 'years.n.01', 'were.n.01', 'while.n.01', 'book.n.01', 'print.n.01', 'run.n.01', 'numbered.n.01', 'signed.n.01', 'ferreira.n.01', 'geometric.n.01', 'early.n.01', 'victor.n.01', 'vasarely.n.01', 'world.n.01']\n",
      "\n",
      "\n",
      "['banksy.n.01', 'art.n.01', 'banksys.n.01', 'bristol.n.01', 'london.n.01', 'news.n.01', 'bbc.n.01', 'graffiti.n.01', 'artist.n.01', 'street.n.01', 'wall.n.01', 'auction.n.01', 'works.n.01', 'artists.n.01', 'york.n.01', 'church.n.01', 'st.n.01', 'been.n.01', 'painted.n.01', 'were.n.01', 'house.n.01', 'piece.n.01', 'had.n.01', 'mural.n.01', 'sold.n.01', 'city.n.01', 'through.n.01', 'guardian.n.01', 'painting.n.01', 'exhibition.n.01', 'times.n.01', 'world.n.01', 'show.n.01', 'artwork.n.01', 'image.n.01', 'uk.n.01', 'museum.n.01', 'machine.n.01', 'wayback.n.01', 'identifiers.n.01']\n"
     ]
    }
   ],
   "source": [
    "an = similar('Nadir Afonso','Banksy')"
   ]
  },
  {
   "cell_type": "code",
   "execution_count": 16,
   "metadata": {},
   "outputs": [
    {
     "name": "stdout",
     "output_type": "stream",
     "text": [
      "Probability of topics being related is 54%\n",
      "Count is 401 and sum is 218.1873849100785\n",
      "\n",
      "\n",
      "['bank.n.01', 'dbs.n.01', 'singapore.n.01', 'banking.n.01', 'banks.n.01', 'holdings.n.01', 'china.n.01', 'commercial.n.01', 'development.n.01', 'temasek.n.01', 'trust.n.01', 'branches.n.01', 'asia.n.01', 'posb.n.01', 'financial.n.01', 'customers.n.01', 'limited.n.01', '1968.n.01', 'industrial.n.01', 'shares.n.01', 'best.n.01', 'united.n.01', 'india.n.01', 'indonesia.n.01', 'taiwan.n.01', 'mbanking.n.01', 'corporation.n.01', 'government.n.01', 'billion.n.01', 'hong.n.01', 'device.n.01', 'startups.n.01', 'annual.n.01', 'report.n.01', 'citation.n.01', 'group.n.01', 'national.n.01', 'page.n.01', 'company.n.01', 'name.n.01']\n",
      "\n",
      "\n",
      "['goldman.n.01', 'sachs.n.01', 'york.n.01', 'securities.n.01', 'bank.n.01', 'investment.n.01', 'billion.n.01', 'firm.n.01', 'times.n.01', 'street.n.01', 'million.n.01', 'financial.n.01', 'had.n.01', 'company.n.01', 'were.n.01', 'banks.n.01', 'wall.n.01', 'business.n.01', 'crisis.n.01', 'goldmans.n.01', 'former.n.01', 'trading.n.01', 'employees.n.01', 'fund.n.01', 'bloomberg.n.01', 'market.n.01', 'group.n.01', 'deal.n.01', 'sec.n.01', 'mortgage.n.01', 'against.n.01', 'paulson.n.01', 'management.n.01', 'funds.n.01', 'investors.n.01', 'according.n.01', 'abacus.n.01', 'public.n.01', 'c.n.01', 'exchange.n.01']\n"
     ]
    }
   ],
   "source": [
    "ao = similar('DBS Bank','goldman sachs')"
   ]
  },
  {
   "cell_type": "code",
   "execution_count": 17,
   "metadata": {},
   "outputs": [
    {
     "name": "stdout",
     "output_type": "stream",
     "text": [
      "Probability of topics being related is 65%\n",
      "Count is 323 and sum is 210.5672563893479\n",
      "\n",
      "\n",
      "['bank.n.01', 'ocbc.n.01', 'singapore.n.01', 'banks.n.01', 'banking.n.01', 'china.n.01', 'hong.n.01', 'nisp.n.01', 'asia.n.01', 'kong.n.01', 'limited.n.01', 'branches.n.01', 'indonesia.n.01', 'had.n.01', 'commercial.n.01', 'holdings.n.01', 'wing.n.01', 'hang.n.01', 'acquired.n.01', 'securities.n.01', 'oversea-chinese.n.01', 'corporation.n.01', 'global.n.01', 'under.n.01', 'subsidiary.n.01', 'private.n.01', 'trust.n.01', 'assets.n.01', 'billion.n.01', 'finance.n.01', 'exchange.n.01', 'services.n.01', 'offices.n.01', 'ocbcs.n.01', 'branch.n.01', 'keppel.n.01', 'company.n.01', 'chinese.n.01', 'financial.n.01', '1932.n.01']\n",
      "\n",
      "\n",
      "['goldman.n.01', 'sachs.n.01', 'york.n.01', 'securities.n.01', 'bank.n.01', 'investment.n.01', 'billion.n.01', 'firm.n.01', 'times.n.01', 'street.n.01', 'million.n.01', 'financial.n.01', 'had.n.01', 'company.n.01', 'were.n.01', 'banks.n.01', 'wall.n.01', 'business.n.01', 'crisis.n.01', 'goldmans.n.01', 'former.n.01', 'trading.n.01', 'employees.n.01', 'fund.n.01', 'bloomberg.n.01', 'market.n.01', 'group.n.01', 'deal.n.01', 'sec.n.01', 'mortgage.n.01', 'against.n.01', 'paulson.n.01', 'management.n.01', 'funds.n.01', 'investors.n.01', 'according.n.01', 'abacus.n.01', 'public.n.01', 'c.n.01', 'exchange.n.01']\n"
     ]
    }
   ],
   "source": [
    "ap = similar('OCBC Bank','goldman sachs')"
   ]
  },
  {
   "cell_type": "code",
   "execution_count": 18,
   "metadata": {},
   "outputs": [
    {
     "name": "stdout",
     "output_type": "stream",
     "text": [
      "Probability of topics being related is 75%\n",
      "Count is 363 and sum is 270.54701912994204\n",
      "\n",
      "\n",
      "['bank.n.01', 'citibank.n.01', 'york.n.01', 'citigroup.n.01', 'national.n.01', 'city.n.01', 'citi.n.01', 'credit.n.01', 'branches.n.01', 'card.n.01', 'billion.n.01', 'business.n.01', 'million.n.01', 'banks.n.01', 'united.n.01', 'states.n.01', 'banking.n.01', 'pay.n.01', 'dakota.n.01', 'financial.n.01', 'had.n.01', 'times.n.01', 'became.n.01', 'state.n.01', 'access.n.01', 'press.n.01', 'cards.n.01', 'american.n.01', 'under.n.01', 'banca.n.01', 'were.n.01', 'south.n.01', 'customers.n.01', 'deal.n.01', 'banco.n.01', 'assets.n.01', 'company.n.01', 'interest.n.01', 'di.n.01', 'rockefeller.n.01']\n",
      "\n",
      "\n",
      "['goldman.n.01', 'sachs.n.01', 'york.n.01', 'securities.n.01', 'bank.n.01', 'investment.n.01', 'billion.n.01', 'firm.n.01', 'times.n.01', 'street.n.01', 'million.n.01', 'financial.n.01', 'had.n.01', 'company.n.01', 'were.n.01', 'banks.n.01', 'wall.n.01', 'business.n.01', 'crisis.n.01', 'goldmans.n.01', 'former.n.01', 'trading.n.01', 'employees.n.01', 'fund.n.01', 'bloomberg.n.01', 'market.n.01', 'group.n.01', 'deal.n.01', 'sec.n.01', 'mortgage.n.01', 'against.n.01', 'paulson.n.01', 'management.n.01', 'funds.n.01', 'investors.n.01', 'according.n.01', 'abacus.n.01', 'public.n.01', 'c.n.01', 'exchange.n.01']\n"
     ]
    }
   ],
   "source": [
    "aq = similar('Citi Bank','goldman sachs')"
   ]
  },
  {
   "cell_type": "code",
   "execution_count": 19,
   "metadata": {},
   "outputs": [
    {
     "name": "stdout",
     "output_type": "stream",
     "text": [
      "Probability of topics being related is 69%\n",
      "Count is 292 and sum is 202.60364894896185\n",
      "\n",
      "\n",
      "['bank.n.01', 'ocbc.n.01', 'singapore.n.01', 'banks.n.01', 'banking.n.01', 'china.n.01', 'hong.n.01', 'nisp.n.01', 'asia.n.01', 'kong.n.01', 'limited.n.01', 'branches.n.01', 'indonesia.n.01', 'had.n.01', 'commercial.n.01', 'holdings.n.01', 'wing.n.01', 'hang.n.01', 'acquired.n.01', 'securities.n.01', 'oversea-chinese.n.01', 'corporation.n.01', 'global.n.01', 'under.n.01', 'subsidiary.n.01', 'private.n.01', 'trust.n.01', 'assets.n.01', 'billion.n.01', 'finance.n.01', 'exchange.n.01', 'services.n.01', 'offices.n.01', 'ocbcs.n.01', 'branch.n.01', 'keppel.n.01', 'company.n.01', 'chinese.n.01', 'financial.n.01', '1932.n.01']\n",
      "\n",
      "\n",
      "['bank.n.01', 'citibank.n.01', 'york.n.01', 'citigroup.n.01', 'national.n.01', 'city.n.01', 'citi.n.01', 'credit.n.01', 'branches.n.01', 'card.n.01', 'billion.n.01', 'business.n.01', 'million.n.01', 'banks.n.01', 'united.n.01', 'states.n.01', 'banking.n.01', 'pay.n.01', 'dakota.n.01', 'financial.n.01', 'had.n.01', 'times.n.01', 'became.n.01', 'state.n.01', 'access.n.01', 'press.n.01', 'cards.n.01', 'american.n.01', 'under.n.01', 'banca.n.01', 'were.n.01', 'south.n.01', 'customers.n.01', 'deal.n.01', 'banco.n.01', 'assets.n.01', 'company.n.01', 'interest.n.01', 'di.n.01', 'rockefeller.n.01']\n"
     ]
    }
   ],
   "source": [
    "ar = similar('OCBC Bank','Citi Bank')"
   ]
  },
  {
   "cell_type": "code",
   "execution_count": 20,
   "metadata": {},
   "outputs": [
    {
     "name": "stdout",
     "output_type": "stream",
     "text": [
      "Probability of topics being related is 100%\n",
      "Count is 380 and sum is 450.75599438376275\n",
      "\n",
      "\n",
      "['malaysia.n.01', 'malaysian.n.01', 'malay.n.01', 'asia.n.01', 'states.n.01', 'government.n.01', 'state.n.01', 'east.n.01', 'world.n.01', 'country.n.01', 'national.n.01', 'federal.n.01', 'population.n.01', 'been.n.01', 'pdf.n.01', 'chinese.n.01', 'southeast.n.01', 'language.n.01', 'brunei.n.01', 'singapore.n.01', 'federation.n.01', 'indonesia.n.01', 'kuala.n.01', 'sarawak.n.01', 'united.n.01', 'per.n.01', 'british.n.01', 'islands.n.01', 'lumpur.n.01', 'pp.n.01', 'borneo.n.01', 'asian.n.01', 'malaysias.n.01', 'malaya.n.01', 'international.n.01', 'c.n.01', 'peninsular.n.01', 'nations.n.01', 'economic.n.01', 'china.n.01']\n",
      "\n",
      "\n",
      "['singapore.n.01', 'world.n.01', 'singapores.n.01', 'times.n.01', 'national.n.01', 'education.n.01', 'international.n.01', 'government.n.01', 'pdf.n.01', 'were.n.01', 'straits.n.01', 'country.n.01', 'english.n.01', 'asia.n.01', 'malaysia.n.01', 'british.n.01', 'language.n.01', 'ministry.n.01', 'island.n.01', 'press.n.01', 'countries.n.01', 'islands.n.01', 'worlds.n.01', 'chinese.n.01', 'public.n.01', 'water.n.01', 'malay.n.01', 'lee.n.01', 'been.n.01', 'foreign.n.01', 'population.n.01', 'development.n.01', 'economic.n.01', 'singaporean.n.01', 'statistics.n.01', 'city.n.01', 'nations.n.01', 'united.n.01', 'global.n.01', 'index.n.01']\n"
     ]
    }
   ],
   "source": [
    "as_ = similar('Malaysia','Singapore')"
   ]
  },
  {
   "cell_type": "code",
   "execution_count": 21,
   "metadata": {},
   "outputs": [
    {
     "name": "stdout",
     "output_type": "stream",
     "text": [
      "Probability of topics being related is 100%\n",
      "Count is 574 and sum is 572.0360522908917\n",
      "\n",
      "\n",
      "['lee.n.01', 'singapore.n.01', 'kuan.n.01', 'yew.n.01', 'times.n.01', 'singapores.n.01', 'minister.n.01', 'straits.n.01', 'lees.n.01', 'world.n.01', 'had.n.01', 'prime.n.01', 'were.n.01', 'artist.n.01', 'mr.n.01', 'press.n.01', 'national.n.01', 'government.n.01', 'chinese.n.01', 'art.n.01', 'singaporean.n.01', 'book.n.01', 'international.n.01', 'years.n.01', 'former.n.01', 'wayback.n.01', 'malaysia.n.01', 'machine.n.01', 'third.n.01', 'british.n.01', 'york.n.01', 'tan.n.01', 'london.n.01', 'law.n.01', 'party.n.01', 'political.n.01', 'story.n.01', 'news.n.01', 'under.n.01', 'yews.n.01']\n",
      "\n",
      "\n",
      "['lee.n.01', 'singapore.n.01', 'minister.n.01', 'prime.n.01', 'times.n.01', 'hsien.n.01', 'pm.n.01', 's.n.01', 'loong.n.01', 'kuan.n.01', 'ministers.n.01', 'k.n.01', 'yew.n.01', 'government.n.01', 'h.n.01', 'straits.n.01', 'l.n.01', 'c.n.01', 'goh.n.01', 'singapores.n.01', 'national.n.01', 'y.n.01', 't.n.01', 'singaporean.n.01', 'pap.n.01', 'trade.n.01', 'heng.n.01', 'water.n.01', 'general.n.01', 'parliament.n.01', 'york.n.01', 'party.n.01', 'tong.n.01', 'son.n.01', 'lim.n.01', 'house.n.01', 'chok.n.01', 'public.n.01', '1984.n.01', 'election.n.01']\n"
     ]
    }
   ],
   "source": [
    "at = similar('Lee Kuan Yew','Lee Hsien Loong')"
   ]
  },
  {
   "cell_type": "code",
   "execution_count": 22,
   "metadata": {},
   "outputs": [
    {
     "name": "stdout",
     "output_type": "stream",
     "text": [
      "Probability of topics being related is 48%\n",
      "Count is 420 and sum is 202.6074925529148\n",
      "\n",
      "\n",
      "['lee.n.01', 'singapore.n.01', 'kuan.n.01', 'yew.n.01', 'times.n.01', 'singapores.n.01', 'minister.n.01', 'straits.n.01', 'lees.n.01', 'world.n.01', 'had.n.01', 'prime.n.01', 'were.n.01', 'artist.n.01', 'mr.n.01', 'press.n.01', 'national.n.01', 'government.n.01', 'chinese.n.01', 'art.n.01', 'singaporean.n.01', 'book.n.01', 'international.n.01', 'years.n.01', 'former.n.01', 'wayback.n.01', 'malaysia.n.01', 'machine.n.01', 'third.n.01', 'british.n.01', 'york.n.01', 'tan.n.01', 'london.n.01', 'law.n.01', 'party.n.01', 'political.n.01', 'story.n.01', 'news.n.01', 'under.n.01', 'yews.n.01']\n",
      "\n",
      "\n",
      "['mahathir.n.01', 'order.n.01', 'malaysia.n.01', 'abdul.n.01', 'minister.n.01', 'prime.n.01', 'grand.n.01', 'ahmad.n.01', 'had.n.01', 'umno.n.01', 'university.n.01', 'mohamad.n.01', 'malaysian.n.01', 'doctor.n.01', 'wain.n.01', 'honorary.n.01', 'mahathirs.n.01', 'anwar.n.01', 'government.n.01', 'pp.n.01', 'deputy.n.01', 'party.n.01', 'abdullah.n.01', 'election.n.01', 'were.n.01', 'tengku.n.01', 'philosophy.n.01', 'mohd.n.01', 'ismail.n.01', 'mohamed.n.01', 'state.n.01', 'malaysias.n.01', 'v.n.01', 'commander.n.01', 'dr.n.01', 'national.n.01', 'hussein.n.01', 'lee.n.01', 'najib.n.01', 'malay.n.01']\n"
     ]
    }
   ],
   "source": [
    "au = similar('Lee Kuan Yew','Mahathir Mohamad')"
   ]
  },
  {
   "cell_type": "code",
   "execution_count": 23,
   "metadata": {},
   "outputs": [
    {
     "name": "stdout",
     "output_type": "stream",
     "text": [
      "Probability of topics being related is 54%\n",
      "Count is 494 and sum is 266.5551549972183\n",
      "\n",
      "\n",
      "['mahathir.n.01', 'order.n.01', 'malaysia.n.01', 'abdul.n.01', 'minister.n.01', 'prime.n.01', 'grand.n.01', 'ahmad.n.01', 'had.n.01', 'umno.n.01', 'university.n.01', 'mohamad.n.01', 'malaysian.n.01', 'doctor.n.01', 'wain.n.01', 'honorary.n.01', 'mahathirs.n.01', 'anwar.n.01', 'government.n.01', 'pp.n.01', 'deputy.n.01', 'party.n.01', 'abdullah.n.01', 'election.n.01', 'were.n.01', 'tengku.n.01', 'philosophy.n.01', 'mohd.n.01', 'ismail.n.01', 'mohamed.n.01', 'state.n.01', 'malaysias.n.01', 'v.n.01', 'commander.n.01', 'dr.n.01', 'national.n.01', 'hussein.n.01', 'lee.n.01', 'najib.n.01', 'malay.n.01']\n",
      "\n",
      "\n",
      "['lee.n.01', 'singapore.n.01', 'minister.n.01', 'prime.n.01', 'times.n.01', 'hsien.n.01', 'pm.n.01', 's.n.01', 'loong.n.01', 'kuan.n.01', 'ministers.n.01', 'k.n.01', 'yew.n.01', 'government.n.01', 'h.n.01', 'straits.n.01', 'l.n.01', 'c.n.01', 'goh.n.01', 'singapores.n.01', 'national.n.01', 'y.n.01', 't.n.01', 'singaporean.n.01', 'pap.n.01', 'trade.n.01', 'heng.n.01', 'water.n.01', 'general.n.01', 'parliament.n.01', 'york.n.01', 'party.n.01', 'tong.n.01', 'son.n.01', 'lim.n.01', 'house.n.01', 'chok.n.01', 'public.n.01', '1984.n.01', 'election.n.01']\n"
     ]
    }
   ],
   "source": [
    "av = similar('Mahathir Mohamad','Lee Hsien Loong')"
   ]
  },
  {
   "cell_type": "code",
   "execution_count": 24,
   "metadata": {},
   "outputs": [
    {
     "name": "stdout",
     "output_type": "stream",
     "text": [
      "Probability of topics being related is 59%\n",
      "Count is 456 and sum is 267.51813700002384\n",
      "\n",
      "\n",
      "['mahathir.n.01', 'order.n.01', 'malaysia.n.01', 'abdul.n.01', 'minister.n.01', 'prime.n.01', 'grand.n.01', 'ahmad.n.01', 'had.n.01', 'umno.n.01', 'university.n.01', 'mohamad.n.01', 'malaysian.n.01', 'doctor.n.01', 'wain.n.01', 'honorary.n.01', 'mahathirs.n.01', 'anwar.n.01', 'government.n.01', 'pp.n.01', 'deputy.n.01', 'party.n.01', 'abdullah.n.01', 'election.n.01', 'were.n.01', 'tengku.n.01', 'philosophy.n.01', 'mohd.n.01', 'ismail.n.01', 'mohamed.n.01', 'state.n.01', 'malaysias.n.01', 'v.n.01', 'commander.n.01', 'dr.n.01', 'national.n.01', 'hussein.n.01', 'lee.n.01', 'najib.n.01', 'malay.n.01']\n",
      "\n",
      "\n",
      "['tharman.n.01', 'singapore.n.01', 'minister.n.01', 's.n.01', 'k.n.01', 'times.n.01', 'h.n.01', 'l.n.01', 'c.n.01', 'prime.n.01', 'y.n.01', 'financial.n.01', 'straits.n.01', 'factiva.n.01', 'shanmugaratnam.n.01', 't.n.01', 'appointed.n.01', 'social.n.01', 'lee.n.01', 'policies.n.01', 'economic.n.01', 'finance.n.01', 'mas.n.01', 'deputy.n.01', 'education.n.01', 'chairman.n.01', 'monetary.n.01', 'committee.n.01', 'group.n.01', 'global.n.01', 'development.n.01', 'international.n.01', 'years.n.01', 'economics.n.01', 'teo.n.01', 'm.n.01', 'w.n.01', 'singaporean.n.01', 'senior.n.01', 'government.n.01']\n"
     ]
    }
   ],
   "source": [
    "aw = similar('Mahathir Mohamad','Tharman Shanmugaratnam')"
   ]
  },
  {
   "cell_type": "code",
   "execution_count": 25,
   "metadata": {},
   "outputs": [
    {
     "name": "stdout",
     "output_type": "stream",
     "text": [
      "Probability of topics being related is 100%\n",
      "Count is 293 and sum is 380.05218214243945\n",
      "\n",
      "\n",
      "['malaysia.n.01', 'malaysian.n.01', 'malay.n.01', 'asia.n.01', 'states.n.01', 'government.n.01', 'state.n.01', 'east.n.01', 'world.n.01', 'country.n.01', 'national.n.01', 'federal.n.01', 'population.n.01', 'been.n.01', 'pdf.n.01', 'chinese.n.01', 'southeast.n.01', 'language.n.01', 'brunei.n.01', 'singapore.n.01', 'federation.n.01', 'indonesia.n.01', 'kuala.n.01', 'sarawak.n.01', 'united.n.01', 'per.n.01', 'british.n.01', 'islands.n.01', 'lumpur.n.01', 'pp.n.01', 'borneo.n.01', 'asian.n.01', 'malaysias.n.01', 'malaya.n.01', 'international.n.01', 'c.n.01', 'peninsular.n.01', 'nations.n.01', 'economic.n.01', 'china.n.01']\n",
      "\n",
      "\n",
      "['finland.n.01', 'finnish.n.01', 'world.n.01', 'population.n.01', 'country.n.01', 'were.n.01', 'finlands.n.01', 'war.n.01', 'helsinki.n.01', 'church.n.01', 'language.n.01', 'sami.n.01', 'national.n.01', 'union.n.01', 'more.n.01', 'swedish.n.01', 'between.n.01', 'been.n.01', 'countries.n.01', 'per.n.01', 'around.n.01', 'european.n.01', 'nordic.n.01', 'state.n.01', 'years.n.01', 'sweden.n.01', 'largest.n.01', 'statistics.n.01', 'pdf.n.01', 'parliament.n.01', 'region.n.01', 'government.n.01', 'during.n.01', 'northern.n.01', 'education.n.01', 'soviet.n.01', 'economic.n.01', 'europe.n.01', 'age.n.01', 'report.n.01']\n"
     ]
    }
   ],
   "source": [
    "ax = similar('Malaysia','Finland')"
   ]
  },
  {
   "cell_type": "code",
   "execution_count": 26,
   "metadata": {},
   "outputs": [
    {
     "name": "stdout",
     "output_type": "stream",
     "text": [
      "Probability of topics being related is 100%\n",
      "Count is 388 and sum is 769.0075671284673\n",
      "\n",
      "\n",
      "['japanese.n.01', 'language.n.01', 'words.n.01', 'chinese.n.01', 'languages.n.01', 'used.n.01', 'kanji.n.01', 'modern.n.01', 'english.n.01', 'japan.n.01', 'hiragana.n.01', 'form.n.01', 'century.n.01', 'more.n.01', 'system.n.01', 'example.n.01', 'period.n.01', 'early.n.01', 'characters.n.01', 'press.n.01', 'were.n.01', 'sentence.n.01', 'verbs.n.01', 'katakana.n.01', 'verb.n.01', 'old.n.01', 'word.n.01', 'writing.n.01', 'both.n.01', 'many.n.01', 'been.n.01', 'middle.n.01', 'number.n.01', 'dialects.n.01', 'between.n.01', 'however.n.01', 'university.n.01', 'person.n.01', 'written.n.01', 'spoken.n.01']\n",
      "\n",
      "\n",
      "['chinese.n.01', 'language.n.01', 'mandarin.n.01', 'words.n.01', 'languages.n.01', 'characters.n.01', 'china.n.01', 'varieties.n.01', 'dialect.n.01', 'english.n.01', 'pp.n.01', 'cantonese.n.01', 'standard.n.01', 'more.n.01', 'hokkien.n.01', 'written.n.01', 'spoken.n.01', 'japanese.n.01', 'norman.n.01', '1988.n.01', 'many.n.01', 'used.n.01', 'modern.n.01', 'lit.n.01', 'taiwanese.n.01', 'malay.n.01', 'were.n.01', 'malaysian.n.01', 'dialects.n.01', 'example.n.01', 'southern.n.01', 'korean.n.01', 'pinyin.n.01', 'been.n.01', 'min.n.01', 'old.n.01', 'university.n.01', 'between.n.01', 'century.n.01', 'including.n.01']\n"
     ]
    }
   ],
   "source": [
    "ay = similar('Japanese language','Chinese language')"
   ]
  },
  {
   "cell_type": "code",
   "execution_count": 27,
   "metadata": {},
   "outputs": [
    {
     "name": "stdout",
     "output_type": "stream",
     "text": [
      "Probability of topics being related is 86%\n",
      "Count is 275 and sum is 235.81377571759154\n",
      "\n",
      "\n",
      "['cuisine.n.01', 'indian.n.01', 'food.n.01', 'india.n.01', 'dishes.n.01', 'popular.n.01', 'rice.n.01', 'vegetables.n.01', 'include.n.01', 'fish.n.01', 'pp.n.01', 'kerala.n.01', 'cuisines.n.01', 'north.n.01', 'region.n.01', 'known.n.01', 'meal.n.01', 'used.n.01', 'many.n.01', 'made.n.01', 'milk.n.01', 'cooking.n.01', 'dish.n.01', 'spices.n.01', 'local.n.01', 'foods.n.01', 'served.n.01', 'south.n.01', 'different.n.01', 'chinese.n.01', 'eaten.n.01', 'coconut.n.01', 'tamil.n.01', 'chicken.n.01', 'pradesh.n.01', 'very.n.01', 'roti.n.01', 'traditional.n.01', 'meat.n.01', 'consists.n.01']\n",
      "\n",
      "\n",
      "['czech.n.01', 'served.n.01', 'made.n.01', 'meat.n.01', 'cuisine.n.01', 'often.n.01', 'soup.n.01', 'fried.n.01', 'pork.n.01', 'bread.n.01', 'dish.n.01', 'onion.n.01', 'cheese.n.01', 'mushrooms.n.01', 'popular.n.01', 'baked.n.01', 'usually.n.01', 'potatoes.n.01', 'dumplings.n.01', 'beef.n.01', 'chinese.n.01', 'cooked.n.01', 'cream.n.01', 'sliced.n.01', 'eggs.n.01', 'potato.n.01', 'boiled.n.01', 'food.n.01', 'list.n.01', 'american.n.01', 'cabbage.n.01', 'garlic.n.01', 'seeds.n.01', 'called.n.01', 'pieces.n.01', 'sauce.n.01', 'both.n.01', 'sometimes.n.01', 'mixed.n.01', 'commonly.n.01']\n"
     ]
    }
   ],
   "source": [
    "az = similar('Indian cuisine','Czech cuisine')"
   ]
  },
  {
   "cell_type": "code",
   "execution_count": 28,
   "metadata": {},
   "outputs": [
    {
     "name": "stdout",
     "output_type": "stream",
     "text": [
      "Probability of topics being related is 100%\n",
      "Count is 378 and sum is 687.724434605952\n",
      "\n",
      "\n",
      "['amsterdam.n.01', 'dutch.n.01', 'city.n.01', 'van.n.01', 'netherlands.n.01', 'de.n.01', 'were.n.01', 'century.n.01', 'museum.n.01', 'amsterdams.n.01', 'world.n.01', 'many.n.01', 'centre.n.01', 'population.n.01', 'area.n.01', 'large.n.01', 'buildings.n.01', 'largest.n.01', 'square.n.01', 'pdf.n.01', 'north.n.01', 'international.n.01', 'been.n.01', 'located.n.01', 'cities.n.01', 'europe.n.01', 'during.n.01', 'built.n.01', 'het.n.01', 'citys.n.01', 'jewish.n.01', 'en.n.01', 'holland.n.01', 'part.n.01', 'canals.n.01', 'history.n.01', 'university.n.01', 'municipality.n.01', 'million.n.01', 'second.n.01']\n",
      "\n",
      "\n",
      "['utrecht.n.01', 'city.n.01', 'dutch.n.01', 'de.n.01', 'netherlands.n.01', 'centre.n.01', 'museum.n.01', 'century.n.01', 'were.n.01', 'van.n.01', 'several.n.01', 'university.n.01', 'station.n.01', 'main.n.01', 'centraal.n.01', 'many.n.01', 'art.n.01', 'built.n.01', 'church.n.01', 'large.n.01', 'railway.n.01', 'music.n.01', 'population.n.01', 'construction.n.01', 'roman.n.01', 'located.n.01', 'had.n.01', 'amsterdam.n.01', 'old.n.01', 'part.n.01', 'early.n.01', 'festival.n.01', 'province.n.01', 'around.n.01', 'rijn.n.01', 'saint.n.01', 'churches.n.01', 'town.n.01', 'v.n.01', 'area.n.01']\n"
     ]
    }
   ],
   "source": [
    "ba = similar('Amsterdam','Utrecht')"
   ]
  },
  {
   "cell_type": "code",
   "execution_count": 29,
   "metadata": {},
   "outputs": [
    {
     "name": "stdout",
     "output_type": "stream",
     "text": [
      "Probability of topics being related is 89%\n",
      "Count is 344 and sum is 304.71498753213166\n",
      "\n",
      "\n",
      "['amsterdam.n.01', 'dutch.n.01', 'city.n.01', 'van.n.01', 'netherlands.n.01', 'de.n.01', 'were.n.01', 'century.n.01', 'museum.n.01', 'amsterdams.n.01', 'world.n.01', 'many.n.01', 'centre.n.01', 'population.n.01', 'area.n.01', 'large.n.01', 'buildings.n.01', 'largest.n.01', 'square.n.01', 'pdf.n.01', 'north.n.01', 'international.n.01', 'been.n.01', 'located.n.01', 'cities.n.01', 'europe.n.01', 'during.n.01', 'built.n.01', 'het.n.01', 'citys.n.01', 'jewish.n.01', 'en.n.01', 'holland.n.01', 'part.n.01', 'canals.n.01', 'history.n.01', 'university.n.01', 'municipality.n.01', 'million.n.01', 'second.n.01']\n",
      "\n",
      "\n",
      "['london.n.01', 'city.n.01', 'world.n.01', 'londons.n.01', 'royal.n.01', 'greater.n.01', 'park.n.01', 'per.n.01', 'battle.n.01', 'population.n.01', 'area.n.01', 'england.n.01', 'national.n.01', 'centre.n.01', 'cent.n.01', 'british.n.01', 'thames.n.01', 'university.n.01', 'westminster.n.01', 'transport.n.01', 'largest.n.01', 'uk.n.01', 'east.n.01', 'bbc.n.01', 'pdf.n.01', 'school.n.01', 'street.n.01', 'st.n.01', 'west.n.01', 'international.n.01', 'around.n.01', 'were.n.01', 'south.n.01', 'more.n.01', 'urban.n.01', 'including.n.01', 'college.n.01', 'capital.n.01', 'been.n.01', 'metropolitan.n.01']\n"
     ]
    }
   ],
   "source": [
    "bb = similar('Amsterdam','London')"
   ]
  },
  {
   "cell_type": "code",
   "execution_count": 30,
   "metadata": {},
   "outputs": [
    {
     "name": "stdout",
     "output_type": "stream",
     "text": [
      "Probability of topics being related is 100%\n",
      "Count is 429 and sum is 439.02280572783275\n",
      "\n",
      "\n",
      "['amsterdam.n.01', 'dutch.n.01', 'city.n.01', 'van.n.01', 'netherlands.n.01', 'de.n.01', 'were.n.01', 'century.n.01', 'museum.n.01', 'amsterdams.n.01', 'world.n.01', 'many.n.01', 'centre.n.01', 'population.n.01', 'area.n.01', 'large.n.01', 'buildings.n.01', 'largest.n.01', 'square.n.01', 'pdf.n.01', 'north.n.01', 'international.n.01', 'been.n.01', 'located.n.01', 'cities.n.01', 'europe.n.01', 'during.n.01', 'built.n.01', 'het.n.01', 'citys.n.01', 'jewish.n.01', 'en.n.01', 'holland.n.01', 'part.n.01', 'canals.n.01', 'history.n.01', 'university.n.01', 'municipality.n.01', 'million.n.01', 'second.n.01']\n",
      "\n",
      "\n",
      "['sydney.n.01', 'city.n.01', 'south.n.01', 'australian.n.01', 'australia.n.01', 'wales.n.01', 'park.n.01', 'were.n.01', 'sydneys.n.01', 'world.n.01', 'national.n.01', 'suburbs.n.01', 'area.n.01', 'government.n.01', 'house.n.01', 'population.n.01', 'western.n.01', 'theatre.n.01', 'royal.n.01', 'harbour.n.01', 'heritage.n.01', 'north.n.01', 'dictionary.n.01', 'university.n.01', 'history.n.01', 'been.n.01', 'parramatta.n.01', 'centre.n.01', 'local.n.01', 'bureau.n.01', 'herald.n.01', 'australias.n.01', 'macquarie.n.01', 'morning.n.01', 'pdf.n.01', 'state.n.01', 'street.n.01', 'greater.n.01', 'more.n.01', 'largest.n.01']\n"
     ]
    }
   ],
   "source": [
    "bc = similar('Amsterdam','Sydney')"
   ]
  },
  {
   "cell_type": "code",
   "execution_count": 31,
   "metadata": {},
   "outputs": [
    {
     "name": "stdout",
     "output_type": "stream",
     "text": [
      "Probability of topics being related is 53%\n",
      "Count is 441 and sum is 232.33772026291194\n",
      "\n",
      "\n",
      "['merkel.n.01', 'angela.n.01', 'german.n.01', 'germany.n.01', 'chancellor.n.01', '/.n.01', 'cdu.n.01', 'merkels.n.01', 'spd.n.01', 'party.n.01', 'der.n.01', 'election.n.01', 'leader.n.01', 'coalition.n.01', 'world.n.01', 'european.n.01', 'news.n.01', 'von.n.01', 'award.n.01', 'die.n.01', 'university.n.01', 'been.n.01', 'government.n.01', 'grand.n.01', 'berlin.n.01', 'de.n.01', 'women.n.01', 'germanys.n.01', 'e.n.01', 'union.n.01', 'federal.n.01', 'csu.n.01', 'crisis.n.01', 'christian.n.01', 'east.n.01', 'social.n.01', 'awarded.n.01', 'democratic.n.01', 'powerful.n.01', 'term.n.01']\n",
      "\n",
      "\n",
      "['berlin.n.01', 'city.n.01', 'german.n.01', 'germany.n.01', 'world.n.01', 'berlins.n.01', 'capital.n.01', 'largest.n.01', 'berliner.n.01', 'west.n.01', 'east.n.01', 'were.n.01', 'der.n.01', 'area.n.01', 'european.n.01', 'cities.n.01', 'more.n.01', 'many.n.01', 'brandenburg.n.01', 'museum.n.01', 'international.n.01', 'history.n.01', 'around.n.01', 'state.n.01', 'became.n.01', 'europe.n.01', 'western.n.01', 'several.n.01', 'population.n.01', 'million.n.01', 'church.n.01', 'für.n.01', 'part.n.01', 'urban.n.01', 'union.n.01', 'war.n.01', 'culture.n.01', 'home.n.01', 'art.n.01', 'die.n.01']\n"
     ]
    }
   ],
   "source": [
    "bd = similar('Angela Merkel','Berlin')"
   ]
  },
  {
   "cell_type": "code",
   "execution_count": 32,
   "metadata": {},
   "outputs": [
    {
     "name": "stdout",
     "output_type": "stream",
     "text": [
      "Probability of topics being related is 19%\n",
      "Count is 401 and sum is 77.62585470791191\n",
      "\n",
      "\n",
      "['merkel.n.01', 'angela.n.01', 'german.n.01', 'germany.n.01', 'chancellor.n.01', '/.n.01', 'cdu.n.01', 'merkels.n.01', 'spd.n.01', 'party.n.01', 'der.n.01', 'election.n.01', 'leader.n.01', 'coalition.n.01', 'world.n.01', 'european.n.01', 'news.n.01', 'von.n.01', 'award.n.01', 'die.n.01', 'university.n.01', 'been.n.01', 'government.n.01', 'grand.n.01', 'berlin.n.01', 'de.n.01', 'women.n.01', 'germanys.n.01', 'e.n.01', 'union.n.01', 'federal.n.01', 'csu.n.01', 'crisis.n.01', 'christian.n.01', 'east.n.01', 'social.n.01', 'awarded.n.01', 'democratic.n.01', 'powerful.n.01', 'term.n.01']\n",
      "\n",
      "\n",
      "['london.n.01', 'city.n.01', 'world.n.01', 'londons.n.01', 'royal.n.01', 'greater.n.01', 'park.n.01', 'per.n.01', 'battle.n.01', 'population.n.01', 'area.n.01', 'england.n.01', 'national.n.01', 'centre.n.01', 'cent.n.01', 'british.n.01', 'thames.n.01', 'university.n.01', 'westminster.n.01', 'transport.n.01', 'largest.n.01', 'uk.n.01', 'east.n.01', 'bbc.n.01', 'pdf.n.01', 'school.n.01', 'street.n.01', 'st.n.01', 'west.n.01', 'international.n.01', 'around.n.01', 'were.n.01', 'south.n.01', 'more.n.01', 'urban.n.01', 'including.n.01', 'college.n.01', 'capital.n.01', 'been.n.01', 'metropolitan.n.01']\n"
     ]
    }
   ],
   "source": [
    "be = similar('Angela Merkel','London')"
   ]
  },
  {
   "cell_type": "code",
   "execution_count": 33,
   "metadata": {},
   "outputs": [
    {
     "name": "stdout",
     "output_type": "stream",
     "text": [
      "Probability of topics being related is 53%\n",
      "Count is 375 and sum is 200.23098179899048\n",
      "\n",
      "\n",
      "['hitler.n.01', 'pp.n.01', 'german.n.01', 'war.n.01', 'kershaw.n.01', 'hitlers.n.01', 'party.n.01', 'national.n.01', 'germany.n.01', 'nazi.n.01', 'were.n.01', 'world.n.01', 'von.n.01', '1999.n.01', '/.n.01', 'adolf.n.01', 'had.n.01', '1960.n.01', 'shirer.n.01', 'york.n.01', 'military.n.01', 'socialist.n.01', 'london.n.01', 'political.n.01', 'press.n.01', 'bullock.n.01', 'union.n.01', 'reich.n.01', 'army.n.01', 'against.n.01', 'university.n.01', 'portal.n.01', 'holocaust.n.01', 'ii.n.01', 'movement.n.01', 'history.n.01', 'jews.n.01', 'government.n.01', 'nsdap.n.01', 'munich.n.01']\n",
      "\n",
      "\n",
      "['berlin.n.01', 'city.n.01', 'german.n.01', 'germany.n.01', 'world.n.01', 'berlins.n.01', 'capital.n.01', 'largest.n.01', 'berliner.n.01', 'west.n.01', 'east.n.01', 'were.n.01', 'der.n.01', 'area.n.01', 'european.n.01', 'cities.n.01', 'more.n.01', 'many.n.01', 'brandenburg.n.01', 'museum.n.01', 'international.n.01', 'history.n.01', 'around.n.01', 'state.n.01', 'became.n.01', 'europe.n.01', 'western.n.01', 'several.n.01', 'population.n.01', 'million.n.01', 'church.n.01', 'für.n.01', 'part.n.01', 'urban.n.01', 'union.n.01', 'war.n.01', 'culture.n.01', 'home.n.01', 'art.n.01', 'die.n.01']\n"
     ]
    }
   ],
   "source": [
    "bf = similar('Adolf Hitler','Berlin')"
   ]
  },
  {
   "cell_type": "code",
   "execution_count": 34,
   "metadata": {},
   "outputs": [
    {
     "name": "stdout",
     "output_type": "stream",
     "text": [
      "Probability of topics being related is 20%\n",
      "Count is 341 and sum is 67.02676345313922\n",
      "\n",
      "\n",
      "['hitler.n.01', 'pp.n.01', 'german.n.01', 'war.n.01', 'kershaw.n.01', 'hitlers.n.01', 'party.n.01', 'national.n.01', 'germany.n.01', 'nazi.n.01', 'were.n.01', 'world.n.01', 'von.n.01', '1999.n.01', '/.n.01', 'adolf.n.01', 'had.n.01', '1960.n.01', 'shirer.n.01', 'york.n.01', 'military.n.01', 'socialist.n.01', 'london.n.01', 'political.n.01', 'press.n.01', 'bullock.n.01', 'union.n.01', 'reich.n.01', 'army.n.01', 'against.n.01', 'university.n.01', 'portal.n.01', 'holocaust.n.01', 'ii.n.01', 'movement.n.01', 'history.n.01', 'jews.n.01', 'government.n.01', 'nsdap.n.01', 'munich.n.01']\n",
      "\n",
      "\n",
      "['london.n.01', 'city.n.01', 'world.n.01', 'londons.n.01', 'royal.n.01', 'greater.n.01', 'park.n.01', 'per.n.01', 'battle.n.01', 'population.n.01', 'area.n.01', 'england.n.01', 'national.n.01', 'centre.n.01', 'cent.n.01', 'british.n.01', 'thames.n.01', 'university.n.01', 'westminster.n.01', 'transport.n.01', 'largest.n.01', 'uk.n.01', 'east.n.01', 'bbc.n.01', 'pdf.n.01', 'school.n.01', 'street.n.01', 'st.n.01', 'west.n.01', 'international.n.01', 'around.n.01', 'were.n.01', 'south.n.01', 'more.n.01', 'urban.n.01', 'including.n.01', 'college.n.01', 'capital.n.01', 'been.n.01', 'metropolitan.n.01']\n"
     ]
    }
   ],
   "source": [
    "bg = similar('Adolf Hitler','London')"
   ]
  },
  {
   "cell_type": "code",
   "execution_count": 35,
   "metadata": {},
   "outputs": [
    {
     "name": "stdout",
     "output_type": "stream",
     "text": [
      "Probability of topics being related is 21%\n",
      "Count is 327 and sum is 68.77719197424555\n",
      "\n",
      "\n",
      "['hitler.n.01', 'pp.n.01', 'german.n.01', 'war.n.01', 'kershaw.n.01', 'hitlers.n.01', 'party.n.01', 'national.n.01', 'germany.n.01', 'nazi.n.01', 'were.n.01', 'world.n.01', 'von.n.01', '1999.n.01', '/.n.01', 'adolf.n.01', 'had.n.01', '1960.n.01', 'shirer.n.01', 'york.n.01', 'military.n.01', 'socialist.n.01', 'london.n.01', 'political.n.01', 'press.n.01', 'bullock.n.01', 'union.n.01', 'reich.n.01', 'army.n.01', 'against.n.01', 'university.n.01', 'portal.n.01', 'holocaust.n.01', 'ii.n.01', 'movement.n.01', 'history.n.01', 'jews.n.01', 'government.n.01', 'nsdap.n.01', 'munich.n.01']\n",
      "\n",
      "\n",
      "['trump.n.01', 'trumps.n.01', 'donald.n.01', 'york.n.01', 'times.n.01', 'president.n.01', 'news.n.01', 'post.n.01', 'washington.n.01', 'had.n.01', 'presidential.n.01', 'campaign.n.01', 'cnn.n.01', 'tax.n.01', 'said.n.01', 'michael.n.01', 'states.n.01', 'were.n.01', 'been.n.01', 'during.n.01', 'house.n.01', 'united.n.01', 'white.n.01', 'david.n.01', 'business.n.01', 'election.n.01', 'says.n.01', 'against.n.01', 'mueller.n.01', 'million.n.01', 'press.n.01', 'american.n.01', 'tariffs.n.01', 'political.n.01', 'office.n.01', 'report.n.01', 'court.n.01', 'nbc.n.01', 'media.n.01', 'federal.n.01']\n"
     ]
    }
   ],
   "source": [
    "bh = similar('Adolf Hitler','Donald Trump')"
   ]
  },
  {
   "cell_type": "code",
   "execution_count": 36,
   "metadata": {},
   "outputs": [
    {
     "name": "stdout",
     "output_type": "stream",
     "text": [
      "Probability of topics being related is 18%\n",
      "Count is 381 and sum is 67.32852748618448\n",
      "\n",
      "\n",
      "['merkel.n.01', 'angela.n.01', 'german.n.01', 'germany.n.01', 'chancellor.n.01', '/.n.01', 'cdu.n.01', 'merkels.n.01', 'spd.n.01', 'party.n.01', 'der.n.01', 'election.n.01', 'leader.n.01', 'coalition.n.01', 'world.n.01', 'european.n.01', 'news.n.01', 'von.n.01', 'award.n.01', 'die.n.01', 'university.n.01', 'been.n.01', 'government.n.01', 'grand.n.01', 'berlin.n.01', 'de.n.01', 'women.n.01', 'germanys.n.01', 'e.n.01', 'union.n.01', 'federal.n.01', 'csu.n.01', 'crisis.n.01', 'christian.n.01', 'east.n.01', 'social.n.01', 'awarded.n.01', 'democratic.n.01', 'powerful.n.01', 'term.n.01']\n",
      "\n",
      "\n",
      "['trump.n.01', 'trumps.n.01', 'donald.n.01', 'york.n.01', 'times.n.01', 'president.n.01', 'news.n.01', 'post.n.01', 'washington.n.01', 'had.n.01', 'presidential.n.01', 'campaign.n.01', 'cnn.n.01', 'tax.n.01', 'said.n.01', 'michael.n.01', 'states.n.01', 'were.n.01', 'been.n.01', 'during.n.01', 'house.n.01', 'united.n.01', 'white.n.01', 'david.n.01', 'business.n.01', 'election.n.01', 'says.n.01', 'against.n.01', 'mueller.n.01', 'million.n.01', 'press.n.01', 'american.n.01', 'tariffs.n.01', 'political.n.01', 'office.n.01', 'report.n.01', 'court.n.01', 'nbc.n.01', 'media.n.01', 'federal.n.01']\n"
     ]
    }
   ],
   "source": [
    "bi = similar('Angela Merkel','Donald Trump')"
   ]
  },
  {
   "cell_type": "code",
   "execution_count": 37,
   "metadata": {},
   "outputs": [
    {
     "name": "stdout",
     "output_type": "stream",
     "text": [
      "Probability of topics being related is 24%\n",
      "Count is 391 and sum is 93.49093755656122\n",
      "\n",
      "\n",
      "['amsterdam.n.01', 'dutch.n.01', 'city.n.01', 'van.n.01', 'netherlands.n.01', 'de.n.01', 'were.n.01', 'century.n.01', 'museum.n.01', 'amsterdams.n.01', 'world.n.01', 'many.n.01', 'centre.n.01', 'population.n.01', 'area.n.01', 'large.n.01', 'buildings.n.01', 'largest.n.01', 'square.n.01', 'pdf.n.01', 'north.n.01', 'international.n.01', 'been.n.01', 'located.n.01', 'cities.n.01', 'europe.n.01', 'during.n.01', 'built.n.01', 'het.n.01', 'citys.n.01', 'jewish.n.01', 'en.n.01', 'holland.n.01', 'part.n.01', 'canals.n.01', 'history.n.01', 'university.n.01', 'municipality.n.01', 'million.n.01', 'second.n.01']\n",
      "\n",
      "\n",
      "['tiësto.n.01', 'album.n.01', 'released.n.01', 'dj.n.01', 'life.n.01', 'tour.n.01', 'music.n.01', 'search.n.01', 'sunrise.n.01', 'live.n.01', 'dutch.n.01', 'trance.n.01', 'world.n.01', 'van.n.01', 'tiesto.n.01', 'club.n.01', 'billboard.n.01', 'concert.n.01', 'elements.n.01', 'magazine.n.01', 'remixed.n.01', 'armin.n.01', 'buuren.n.01', 'gouryella.n.01', 'called.n.01', 'house.n.01', 'dance.n.01', 'compilation.n.01', 'series.n.01', 'top.n.01', 'djs.n.01', 'three.n.01', 'radio.n.01', 'amsterdam.n.01', 'years.n.01', 'black.n.01', 'hole.n.01', 'recordings.n.01', 'performed.n.01', 'chart.n.01']\n"
     ]
    }
   ],
   "source": [
    "bj = similar('Amsterdam','Tiesto')"
   ]
  },
  {
   "cell_type": "code",
   "execution_count": 38,
   "metadata": {},
   "outputs": [
    {
     "name": "stdout",
     "output_type": "stream",
     "text": [
      "Probability of topics being related is 13%\n",
      "Count is 307 and sum is 38.717283876072436\n",
      "\n",
      "\n",
      "['amsterdam.n.01', 'dutch.n.01', 'city.n.01', 'van.n.01', 'netherlands.n.01', 'de.n.01', 'were.n.01', 'century.n.01', 'museum.n.01', 'amsterdams.n.01', 'world.n.01', 'many.n.01', 'centre.n.01', 'population.n.01', 'area.n.01', 'large.n.01', 'buildings.n.01', 'largest.n.01', 'square.n.01', 'pdf.n.01', 'north.n.01', 'international.n.01', 'been.n.01', 'located.n.01', 'cities.n.01', 'europe.n.01', 'during.n.01', 'built.n.01', 'het.n.01', 'citys.n.01', 'jewish.n.01', 'en.n.01', 'holland.n.01', 'part.n.01', 'canals.n.01', 'history.n.01', 'university.n.01', 'municipality.n.01', 'million.n.01', 'second.n.01']\n",
      "\n",
      "\n",
      "['pikachu.n.01', 'pokémon.n.01', 'game.n.01', 'nintendo.n.01', 'episode.n.01', 'anime.n.01', 'series.n.01', 'characters.n.01', 'character.n.01', 'video.n.01', 'games.n.01', 'ash.n.01', 'season.n.01', 'ign.n.01', 'pokemon.n.01', 'japanese.n.01', 'yellow.n.01', 'called.n.01', 'pikachus.n.01', 'top.n.01', '1999.n.01', 'main.n.01', 'detective.n.01', 'freak.n.01', 'mascot.n.01', 'various.n.01', 'players.n.01', 'were.n.01', 'inc.n.01', 'news.n.01', 'fictional.n.01', 'appeared.n.01', 'red.n.01', 'released.n.01', 'electric.n.01', 'ketchum.n.01', 'super.n.01', 'smash.n.01', 'power.n.01', 'parade.n.01']\n"
     ]
    }
   ],
   "source": [
    "bk = similar('Amsterdam','Pikachu')"
   ]
  },
  {
   "cell_type": "code",
   "execution_count": 39,
   "metadata": {},
   "outputs": [
    {
     "name": "stdout",
     "output_type": "stream",
     "text": [
      "Probability of topics being related is 16%\n",
      "Count is 257 and sum is 42.05821465798451\n",
      "\n",
      "\n",
      "['bank.n.01', 'ocbc.n.01', 'singapore.n.01', 'banks.n.01', 'banking.n.01', 'china.n.01', 'hong.n.01', 'nisp.n.01', 'asia.n.01', 'kong.n.01', 'limited.n.01', 'branches.n.01', 'indonesia.n.01', 'had.n.01', 'commercial.n.01', 'holdings.n.01', 'wing.n.01', 'hang.n.01', 'acquired.n.01', 'securities.n.01', 'oversea-chinese.n.01', 'corporation.n.01', 'global.n.01', 'under.n.01', 'subsidiary.n.01', 'private.n.01', 'trust.n.01', 'assets.n.01', 'billion.n.01', 'finance.n.01', 'exchange.n.01', 'services.n.01', 'offices.n.01', 'ocbcs.n.01', 'branch.n.01', 'keppel.n.01', 'company.n.01', 'chinese.n.01', 'financial.n.01', '1932.n.01']\n",
      "\n",
      "\n",
      "['dota.n.01', 'game.n.01', 'games.n.01', 'valve.n.01', 'pc.n.01', 'players.n.01', 'gamer.n.01', 'heroes.n.01', 'video.n.01', 'international.n.01', 'hero.n.01', 'major.n.01', 'ign.n.01', 'best.n.01', 'team.n.01', 'steam.n.01', 'polygon.n.01', 'defense.n.01', 'million.n.01', 'known.n.01', 'ancients.n.01', 'being.n.01', 'awards.n.01', 'mode.n.01', 'announced.n.01', 'source.n.01', 'system.n.01', 'esports.n.01', 'had.n.01', 'chris.n.01', 'each.n.01', 'released.n.01', 'were.n.01', 'valves.n.01', 'update.n.01', 'teams.n.01', 'player.n.01', 'more.n.01', 'battle.n.01', 'world.n.01']\n"
     ]
    }
   ],
   "source": [
    "bl = similar('OCBC Bank','Dota 2')"
   ]
  },
  {
   "cell_type": "code",
   "execution_count": 40,
   "metadata": {},
   "outputs": [
    {
     "name": "stdout",
     "output_type": "stream",
     "text": [
      "Probability of topics being related is 0%\n",
      "Count is 304 and sum is -3.8800552539344015\n",
      "\n",
      "\n",
      "['bank.n.01', 'ocbc.n.01', 'singapore.n.01', 'banks.n.01', 'banking.n.01', 'china.n.01', 'hong.n.01', 'nisp.n.01', 'asia.n.01', 'kong.n.01', 'limited.n.01', 'branches.n.01', 'indonesia.n.01', 'had.n.01', 'commercial.n.01', 'holdings.n.01', 'wing.n.01', 'hang.n.01', 'acquired.n.01', 'securities.n.01', 'oversea-chinese.n.01', 'corporation.n.01', 'global.n.01', 'under.n.01', 'subsidiary.n.01', 'private.n.01', 'trust.n.01', 'assets.n.01', 'billion.n.01', 'finance.n.01', 'exchange.n.01', 'services.n.01', 'offices.n.01', 'ocbcs.n.01', 'branch.n.01', 'keppel.n.01', 'company.n.01', 'chinese.n.01', 'financial.n.01', '1932.n.01']\n",
      "\n",
      "\n",
      "['underground.n.01', 'speed.n.01', 'need.n.01', 'game.n.01', 'player.n.01', 'races.n.01', 'games.n.01', 'race.n.01', 'rivals.n.01', 'stage.n.01', 'version.n.01', 'cars.n.01', 'car.n.01', 'xbox.n.01', 'mode.n.01', 'racing.n.01', 'pc.n.01', 'review.n.01', 'players.n.01', 'video.n.01', 'playstation.n.01', 'each.n.01', 'series.n.01', 'mobile.n.01', 'using.n.01', 'events.n.01', 'gamespy.n.01', 'street.n.01', 'city.n.01', 'circuit.n.01', '100.n.01', 'ps2.n.01', 'reviews.n.01', 'gamerankings.n.01', 'gamecube.n.01', 'ds.n.01', 'while.n.01', 'map.n.01', 'nitrous.n.01', 'outrun.n.01']\n"
     ]
    }
   ],
   "source": [
    "bm = similar('OCBC Bank','Need For Speed Underground 2')"
   ]
  },
  {
   "cell_type": "code",
   "execution_count": 41,
   "metadata": {},
   "outputs": [
    {
     "name": "stdout",
     "output_type": "stream",
     "text": [
      "Probability of topics being related is 22%\n",
      "Count is 483 and sum is 105.27157009646918\n",
      "\n",
      "\n",
      "['depp.n.01', 'johnny.n.01', 'film.n.01', 'heard.n.01', 'depps.n.01', 'actor.n.01', 'role.n.01', 'had.n.01', 'hollywood.n.01', 'american.n.01', 'amber.n.01', 'played.n.01', 'burton.n.01', 'jack.n.01', '1999.n.01', 'tom.n.01', 'john.n.01', 'pirates.n.01', 'e.n.01', '1997.n.01', 'box.n.01', 'office.n.01', '1993.n.01', 'news.n.01', 'alice.n.01', 'variety.n.01', '1998.n.01', '1994.n.01', 'man.n.01', 'series.n.01', 'films.n.01', 'fantastic.n.01', 'beasts.n.01', 'character.n.01', 'disney.n.01', 'rock.n.01', 'vampires.n.01', 'starred.n.01', 'times.n.01', 'native.n.01']\n",
      "\n",
      "\n",
      "['beyoncé.n.01', 'music.n.01', 'album.n.01', 'billboard.n.01', 'beyoncés.n.01', 'love.n.01', 'awards.n.01', 'jay-z.n.01', 'news.n.01', 'mtv.n.01', 'tour.n.01', 'single.n.01', 'best.n.01', 'video.n.01', 'million.n.01', 'american.n.01', 'song.n.01', 'destinys.n.01', 'child.n.01', 'world.n.01', 'artist.n.01', 'knowles.n.01', '100.n.01', 'award.n.01', 'chart.n.01', 'top.n.01', 'women.n.01', 'songwriters.n.01', 'released.n.01', 'york.n.01', 'songs.n.01', 'grammy.n.01', 'list.n.01', 'film.n.01', 'black.n.01', 'female.n.01', 'lemonade.n.01', 'performance.n.01', 'number.n.01', 'fashion.n.01']\n"
     ]
    }
   ],
   "source": [
    "bo = similar('Johnny Depp','Beyonce')"
   ]
  },
  {
   "cell_type": "code",
   "execution_count": 42,
   "metadata": {},
   "outputs": [
    {
     "name": "stdout",
     "output_type": "stream",
     "text": [
      "Probability of topics being related is 10%\n",
      "Count is 421 and sum is 41.27916674515476\n",
      "\n",
      "\n",
      "['depp.n.01', 'johnny.n.01', 'film.n.01', 'heard.n.01', 'depps.n.01', 'actor.n.01', 'role.n.01', 'had.n.01', 'hollywood.n.01', 'american.n.01', 'amber.n.01', 'played.n.01', 'burton.n.01', 'jack.n.01', '1999.n.01', 'tom.n.01', 'john.n.01', 'pirates.n.01', 'e.n.01', '1997.n.01', 'box.n.01', 'office.n.01', '1993.n.01', 'news.n.01', 'alice.n.01', 'variety.n.01', '1998.n.01', '1994.n.01', 'man.n.01', 'series.n.01', 'films.n.01', 'fantastic.n.01', 'beasts.n.01', 'character.n.01', 'disney.n.01', 'rock.n.01', 'vampires.n.01', 'starred.n.01', 'times.n.01', 'native.n.01']\n",
      "\n",
      "\n",
      "['rihanna.n.01', 'music.n.01', 'rihannas.n.01', 'album.n.01', 'billboard.n.01', 'girl.n.01', 'mtv.n.01', 'single.n.01', 'released.n.01', 'fashion.n.01', 'love.n.01', '100.n.01', 'tour.n.01', 'bad.n.01', 'million.n.01', 'news.n.01', 'hot.n.01', 'brown.n.01', 'charts.n.01', 'top.n.01', 'gone.n.01', 'chris.n.01', 'video.n.01', 'singles.n.01', 'song.n.01', 'chart.n.01', 'awards.n.01', 'pop.n.01', 'uk.n.01', 'had.n.01', 'studio.n.01', 'world.n.01', 'artist.n.01', 'fenty.n.01', 'artists.n.01', 'york.n.01', 'songs.n.01', 'barbados.n.01', 'release.n.01', 'albums.n.01']\n"
     ]
    }
   ],
   "source": [
    "bp = similar('Johnny Depp','Rihanna')"
   ]
  },
  {
   "cell_type": "code",
   "execution_count": 43,
   "metadata": {},
   "outputs": [
    {
     "name": "stdout",
     "output_type": "stream",
     "text": [
      "Probability of topics being related is 16%\n",
      "Count is 414 and sum is 64.53938396422232\n",
      "\n",
      "\n",
      "['beyoncé.n.01', 'music.n.01', 'album.n.01', 'billboard.n.01', 'beyoncés.n.01', 'love.n.01', 'awards.n.01', 'jay-z.n.01', 'news.n.01', 'mtv.n.01', 'tour.n.01', 'single.n.01', 'best.n.01', 'video.n.01', 'million.n.01', 'american.n.01', 'song.n.01', 'destinys.n.01', 'child.n.01', 'world.n.01', 'artist.n.01', 'knowles.n.01', '100.n.01', 'award.n.01', 'chart.n.01', 'top.n.01', 'women.n.01', 'songwriters.n.01', 'released.n.01', 'york.n.01', 'songs.n.01', 'grammy.n.01', 'list.n.01', 'film.n.01', 'black.n.01', 'female.n.01', 'lemonade.n.01', 'performance.n.01', 'number.n.01', 'fashion.n.01']\n",
      "\n",
      "\n",
      "['cake.n.01', 'cupcakes.n.01', 'cupcake.n.01', 'cakes.n.01', 'cup.n.01', 'chocolate.n.01', 'small.n.01', 'paper.n.01', 'made.n.01', 'liners.n.01', 'food.n.01', 'cups.n.01', 'were.n.01', 'baking.n.01', 'baked.n.01', 'bake.n.01', 'more.n.01', 'using.n.01', 'icing.n.01', 'often.n.01', 'pastry.n.01', 'uses.n.01', 'ingredients.n.01', 'butter.n.01', 'used.n.01', 'cream.n.01', 'bakers.n.01', 'page.n.01', 'de.n.01', 'fairy.n.01', 'american.n.01', 'muffin.n.01', 'individual.n.01', 'size.n.01', 'pans.n.01', 'cases.n.01', 'shop.n.01', 'sprinkles.n.01', 'periodic.n.01', 'table.n.01']\n"
     ]
    }
   ],
   "source": [
    "bq = similar('beyonce','Cupcakes')"
   ]
  },
  {
   "cell_type": "code",
   "execution_count": 44,
   "metadata": {},
   "outputs": [
    {
     "name": "stdout",
     "output_type": "stream",
     "text": [
      "Probability of topics being related is 71%\n",
      "Count is 377 and sum is 269.05203466781376\n",
      "\n",
      "\n",
      "['amsterdam.n.01', 'dutch.n.01', 'city.n.01', 'van.n.01', 'netherlands.n.01', 'de.n.01', 'were.n.01', 'century.n.01', 'museum.n.01', 'amsterdams.n.01', 'world.n.01', 'many.n.01', 'centre.n.01', 'population.n.01', 'area.n.01', 'large.n.01', 'buildings.n.01', 'largest.n.01', 'square.n.01', 'pdf.n.01', 'north.n.01', 'international.n.01', 'been.n.01', 'located.n.01', 'cities.n.01', 'europe.n.01', 'during.n.01', 'built.n.01', 'het.n.01', 'citys.n.01', 'jewish.n.01', 'en.n.01', 'holland.n.01', 'part.n.01', 'canals.n.01', 'history.n.01', 'university.n.01', 'municipality.n.01', 'million.n.01', 'second.n.01']\n",
      "\n",
      "\n",
      "['singapore.n.01', 'world.n.01', 'singapores.n.01', 'times.n.01', 'national.n.01', 'education.n.01', 'international.n.01', 'government.n.01', 'pdf.n.01', 'were.n.01', 'straits.n.01', 'country.n.01', 'english.n.01', 'asia.n.01', 'malaysia.n.01', 'british.n.01', 'language.n.01', 'ministry.n.01', 'island.n.01', 'press.n.01', 'countries.n.01', 'islands.n.01', 'worlds.n.01', 'chinese.n.01', 'public.n.01', 'water.n.01', 'malay.n.01', 'lee.n.01', 'been.n.01', 'foreign.n.01', 'population.n.01', 'development.n.01', 'economic.n.01', 'singaporean.n.01', 'statistics.n.01', 'city.n.01', 'nations.n.01', 'united.n.01', 'global.n.01', 'index.n.01']\n"
     ]
    }
   ],
   "source": [
    "br = similar('Amsterdam','Singapore')"
   ]
  },
  {
   "cell_type": "code",
   "execution_count": 45,
   "metadata": {},
   "outputs": [
    {
     "name": "stdout",
     "output_type": "stream",
     "text": [
      "Probability of topics being related is 33%\n",
      "Count is 437 and sum is 145.53192655114788\n",
      "\n",
      "\n",
      "['beyoncé.n.01', 'music.n.01', 'album.n.01', 'billboard.n.01', 'beyoncés.n.01', 'love.n.01', 'awards.n.01', 'jay-z.n.01', 'news.n.01', 'mtv.n.01', 'tour.n.01', 'single.n.01', 'best.n.01', 'video.n.01', 'million.n.01', 'american.n.01', 'song.n.01', 'destinys.n.01', 'child.n.01', 'world.n.01', 'artist.n.01', 'knowles.n.01', '100.n.01', 'award.n.01', 'chart.n.01', 'top.n.01', 'women.n.01', 'songwriters.n.01', 'released.n.01', 'york.n.01', 'songs.n.01', 'grammy.n.01', 'list.n.01', 'film.n.01', 'black.n.01', 'female.n.01', 'lemonade.n.01', 'performance.n.01', 'number.n.01', 'fashion.n.01']\n",
      "\n",
      "\n",
      "['trump.n.01', 'trumps.n.01', 'donald.n.01', 'york.n.01', 'times.n.01', 'president.n.01', 'news.n.01', 'post.n.01', 'washington.n.01', 'had.n.01', 'presidential.n.01', 'campaign.n.01', 'cnn.n.01', 'tax.n.01', 'said.n.01', 'michael.n.01', 'states.n.01', 'were.n.01', 'been.n.01', 'during.n.01', 'house.n.01', 'united.n.01', 'white.n.01', 'david.n.01', 'business.n.01', 'election.n.01', 'says.n.01', 'against.n.01', 'mueller.n.01', 'million.n.01', 'press.n.01', 'american.n.01', 'tariffs.n.01', 'political.n.01', 'office.n.01', 'report.n.01', 'court.n.01', 'nbc.n.01', 'media.n.01', 'federal.n.01']\n"
     ]
    }
   ],
   "source": [
    "bs = similar('beyonce','Donald Trump')"
   ]
  },
  {
   "cell_type": "code",
   "execution_count": 46,
   "metadata": {},
   "outputs": [
    {
     "name": "stdout",
     "output_type": "stream",
     "text": [
      "Probability of topics being related is 64%\n",
      "Count is 240 and sum is 154.14745789253226\n",
      "\n",
      "\n",
      "['amsterdam.n.01', 'dutch.n.01', 'city.n.01', 'van.n.01', 'netherlands.n.01', 'de.n.01', 'were.n.01', 'century.n.01', 'museum.n.01', 'amsterdams.n.01', 'world.n.01', 'many.n.01', 'centre.n.01', 'population.n.01', 'area.n.01', 'large.n.01', 'buildings.n.01', 'largest.n.01', 'square.n.01', 'pdf.n.01', 'north.n.01', 'international.n.01', 'been.n.01', 'located.n.01', 'cities.n.01', 'europe.n.01', 'during.n.01', 'built.n.01', 'het.n.01', 'citys.n.01', 'jewish.n.01', 'en.n.01', 'holland.n.01', 'part.n.01', 'canals.n.01', 'history.n.01', 'university.n.01', 'municipality.n.01', 'million.n.01', 'second.n.01']\n",
      "\n",
      "\n",
      "['van.n.01', 'gogh.n.01', 'vincent.n.01', 'museum.n.01', 'theo.n.01', 'art.n.01', 'goghs.n.01', '1888.n.01', '1990.n.01', 'arles.n.01', 'paintings.n.01', 'had.n.01', '1890.n.01', '1889.n.01', 'paris.n.01', 'life.n.01', 'letter.n.01', 'painted.n.01', 'gauguin.n.01', 'were.n.01', 'amsterdam.n.01', 'painting.n.01', 'de.n.01', 'works.n.01', 'wheat.n.01', 'naifeh.n.01', 'smith.n.01', 'pickvance.n.01', '1981.n.01', 'hulsker.n.01', 'still.n.01', 'dutch.n.01', 'portrait.n.01', 'paul.n.01', 'during.n.01', 'wrote.n.01', 'night.n.01', 'tralbaut.n.01', 'cypresses.n.01', '1986.n.01']\n"
     ]
    }
   ],
   "source": [
    "bt = similar('Amsterdam','Van Gogh')"
   ]
  },
  {
   "cell_type": "code",
   "execution_count": 47,
   "metadata": {},
   "outputs": [
    {
     "name": "stdout",
     "output_type": "stream",
     "text": [
      "Probability of topics being related is 22%\n",
      "Count is 540 and sum is 119.41166417873936\n",
      "\n",
      "\n",
      "['obama.n.01', 'barack.n.01', 'obamas.n.01', 'chicago.n.01', 'york.n.01', 'president.n.01', 'times.n.01', 'pp.n.01', 'campaign.n.01', 'united.n.01', '/.n.01', 'act.n.01', 'senate.n.01', 'law.n.01', 'states.n.01', 'washington.n.01', 'house.n.01', 'illinois.n.01', 'american.n.01', 'nominee.n.01', 'john.n.01', 'white.n.01', 'democratic.n.01', 'election.n.01', 'presidential.n.01', 'press.n.01', 'post.n.01', 'news.n.01', 'years.n.01', 'david.n.01', 'federal.n.01', 'policy.n.01', 'state.n.01', 'health.n.01', 'care.n.01', 'iraq.n.01', 'cnn.n.01', 'bill.n.01', 'office.n.01', 'tribune.n.01']\n",
      "\n",
      "\n",
      "['goldman.n.01', 'sachs.n.01', 'york.n.01', 'securities.n.01', 'bank.n.01', 'investment.n.01', 'billion.n.01', 'firm.n.01', 'times.n.01', 'street.n.01', 'million.n.01', 'financial.n.01', 'had.n.01', 'company.n.01', 'were.n.01', 'banks.n.01', 'wall.n.01', 'business.n.01', 'crisis.n.01', 'goldmans.n.01', 'former.n.01', 'trading.n.01', 'employees.n.01', 'fund.n.01', 'bloomberg.n.01', 'market.n.01', 'group.n.01', 'deal.n.01', 'sec.n.01', 'mortgage.n.01', 'against.n.01', 'paulson.n.01', 'management.n.01', 'funds.n.01', 'investors.n.01', 'according.n.01', 'abacus.n.01', 'public.n.01', 'c.n.01', 'exchange.n.01']\n"
     ]
    }
   ],
   "source": [
    "bu = similar('Obama','Goldman Sachs')"
   ]
  },
  {
   "cell_type": "code",
   "execution_count": 48,
   "metadata": {},
   "outputs": [
    {
     "name": "stdout",
     "output_type": "stream",
     "text": [
      "Probability of topics being related is 1%\n",
      "Count is 567 and sum is 3.7750824230838584\n",
      "\n",
      "\n",
      "['obama.n.01', 'barack.n.01', 'obamas.n.01', 'chicago.n.01', 'york.n.01', 'president.n.01', 'times.n.01', 'pp.n.01', 'campaign.n.01', 'united.n.01', '/.n.01', 'act.n.01', 'senate.n.01', 'law.n.01', 'states.n.01', 'washington.n.01', 'house.n.01', 'illinois.n.01', 'american.n.01', 'nominee.n.01', 'john.n.01', 'white.n.01', 'democratic.n.01', 'election.n.01', 'presidential.n.01', 'press.n.01', 'post.n.01', 'news.n.01', 'years.n.01', 'david.n.01', 'federal.n.01', 'policy.n.01', 'state.n.01', 'health.n.01', 'care.n.01', 'iraq.n.01', 'cnn.n.01', 'bill.n.01', 'office.n.01', 'tribune.n.01']\n",
      "\n",
      "\n",
      "['nickelback.n.01', 'album.n.01', 'band.n.01', 'tour.n.01', 'rock.n.01', 'released.n.01', 'kroeger.n.01', 'billboard.n.01', 'single.n.01', 'chad.n.01', 'number.n.01', 'music.n.01', 'dark.n.01', 'top.n.01', 'horse.n.01', 'song.n.01', 'release.n.01', 'canadian.n.01', 'albums.n.01', 'singles.n.01', 'here.n.01', 'award.n.01', 'socan.n.01', 'roadrunner.n.01', 'announced.n.01', 'bands.n.01', 'records.n.01', 'peaked.n.01', 'chart.n.01', 'ryan.n.01', 'fixed.n.01', 'address.n.01', 'north.n.01', 'sold.n.01', 'million.n.01', 'live.n.01', 'juno.n.01', 'awards.n.01', 'charts.n.01', 'hot.n.01']\n"
     ]
    }
   ],
   "source": [
    "bv = similar('Obama','Nickelback')"
   ]
  },
  {
   "cell_type": "code",
   "execution_count": 49,
   "metadata": {},
   "outputs": [
    {
     "name": "stdout",
     "output_type": "stream",
     "text": [
      "Probability of topics being related is 70%\n",
      "Count is 315 and sum is 219.36547285836116\n",
      "\n",
      "\n",
      "['citation.n.01', 'page.n.01', 'band.n.01', '1em.n.01', 'center}mw-parser-output.n.01', 'rock.n.01', 'gorham.n.01', 'musical.n.01', 'hard.n.01', 'thin.n.01', 'lizzy.n.01', 'guitarist.n.01', 'johanson.n.01', 'la.n.01', 'verdi.n.01', 'a440.n.01', 'album.n.01', 'cs1-subscriptionmw-parser-output.n.01', 'musicbrainz.n.01', 'groups.n.01', 'talk.n.01', 'create.n.01', 'article.n.01', 'view.n.01', 'changes.n.01', 'contact.n.01', 'terms.n.01', 'privacy.n.01', 'policy.n.01', 'guns.n.01', 'melodic.n.01', 'formed.n.01', 'early.n.01', '1990s.n.01', 'scott.n.01', 'bass.n.01', 'leif.n.01', 'drummer.n.01', 'mike.n.01', 'sturgis.n.01']\n",
      "\n",
      "\n",
      "['nickelback.n.01', 'album.n.01', 'band.n.01', 'tour.n.01', 'rock.n.01', 'released.n.01', 'kroeger.n.01', 'billboard.n.01', 'single.n.01', 'chad.n.01', 'number.n.01', 'music.n.01', 'dark.n.01', 'top.n.01', 'horse.n.01', 'song.n.01', 'release.n.01', 'canadian.n.01', 'albums.n.01', 'singles.n.01', 'here.n.01', 'award.n.01', 'socan.n.01', 'roadrunner.n.01', 'announced.n.01', 'bands.n.01', 'records.n.01', 'peaked.n.01', 'chart.n.01', 'ryan.n.01', 'fixed.n.01', 'address.n.01', 'north.n.01', 'sold.n.01', 'million.n.01', 'live.n.01', 'juno.n.01', 'awards.n.01', 'charts.n.01', 'hot.n.01']\n"
     ]
    }
   ],
   "source": [
    "bw = similar('21 Guns (band)','Nickelback')"
   ]
  },
  {
   "cell_type": "code",
   "execution_count": 50,
   "metadata": {},
   "outputs": [
    {
     "name": "stdout",
     "output_type": "stream",
     "text": [
      "Probability of topics being related is 99%\n",
      "Count is 509 and sum is 503.44136300647233\n",
      "\n",
      "\n",
      "['twenty.n.01', 'pilots.n.01', 'tour.n.01', 'album.n.01', 'band.n.01', 'music.n.01', 'joseph.n.01', 'rock.n.01', 'billboard.n.01', 'alternative.n.01', 'released.n.01', 'blurryface.n.01', 'video.n.01', 'youtube.n.01', 'best.n.01', 'bands.n.01', 'songs.n.01', 'columbus.n.01', 'salih.n.01', 'regional.n.01', 'via.n.01', 'single.n.01', 'thomas.n.01', 'song.n.01', 'press.n.01', 'tyler.n.01', 'chris.n.01', 'live.n.01', 'interview.n.01', 'ohio.n.01', 'dun.n.01', 'awards.n.01', 'stressed.n.01', 'albums.n.01', 'radio.n.01', 'pop.n.01', 'release.n.01', 'show.n.01', 'world.n.01', 'vessel.n.01']\n",
      "\n",
      "\n",
      "['nickelback.n.01', 'album.n.01', 'band.n.01', 'tour.n.01', 'rock.n.01', 'released.n.01', 'kroeger.n.01', 'billboard.n.01', 'single.n.01', 'chad.n.01', 'number.n.01', 'music.n.01', 'dark.n.01', 'top.n.01', 'horse.n.01', 'song.n.01', 'release.n.01', 'canadian.n.01', 'albums.n.01', 'singles.n.01', 'here.n.01', 'award.n.01', 'socan.n.01', 'roadrunner.n.01', 'announced.n.01', 'bands.n.01', 'records.n.01', 'peaked.n.01', 'chart.n.01', 'ryan.n.01', 'fixed.n.01', 'address.n.01', 'north.n.01', 'sold.n.01', 'million.n.01', 'live.n.01', 'juno.n.01', 'awards.n.01', 'charts.n.01', 'hot.n.01']\n"
     ]
    }
   ],
   "source": [
    "bx = similar('21 Pilots','Nickelback')"
   ]
  },
  {
   "cell_type": "code",
   "execution_count": 51,
   "metadata": {},
   "outputs": [
    {
     "name": "stdout",
     "output_type": "stream",
     "text": [
      "Probability of topics being related is 91%\n",
      "Count is 410 and sum is 372.3915609881726\n",
      "\n",
      "\n",
      "['twenty.n.01', 'pilots.n.01', 'tour.n.01', 'album.n.01', 'band.n.01', 'music.n.01', 'joseph.n.01', 'rock.n.01', 'billboard.n.01', 'alternative.n.01', 'released.n.01', 'blurryface.n.01', 'video.n.01', 'youtube.n.01', 'best.n.01', 'bands.n.01', 'songs.n.01', 'columbus.n.01', 'salih.n.01', 'regional.n.01', 'via.n.01', 'single.n.01', 'thomas.n.01', 'song.n.01', 'press.n.01', 'tyler.n.01', 'chris.n.01', 'live.n.01', 'interview.n.01', 'ohio.n.01', 'dun.n.01', 'awards.n.01', 'stressed.n.01', 'albums.n.01', 'radio.n.01', 'pop.n.01', 'release.n.01', 'show.n.01', 'world.n.01', 'vessel.n.01']\n",
      "\n",
      "\n",
      "['cobra.n.01', 'starship.n.01', 'album.n.01', 'saporta.n.01', 'tour.n.01', 'released.n.01', 'mtv.n.01', 'band.n.01', 'while.n.01', 'hot.n.01', 'music.n.01', 'single.n.01', 'song.n.01', 'identifiers.n.01', 'gabe.n.01', 'city.n.01', 'ryland.n.01', 'vocals.n.01', 'mess.n.01', 'night.n.01', 'video.n.01', 'bands.n.01', 'la.n.01', 'announced.n.01', 'been.n.01', 'sleeps.n.01', 'rule.n.01', 'streets.n.01', 'alex.n.01', 'backing.n.01', 'group.n.01', 'snakes.n.01', '¡viva.n.01', 'began.n.01', 'page.n.01', 'blackinton.n.01', 'suarez.n.01', 'novarro.n.01', 'plane.n.01', 'fall.n.01']\n"
     ]
    }
   ],
   "source": [
    "by = similar('21 Pilots','Cobra Starship')"
   ]
  },
  {
   "cell_type": "code",
   "execution_count": 52,
   "metadata": {},
   "outputs": [
    {
     "name": "stdout",
     "output_type": "stream",
     "text": [
      "Probability of topics being related is 100%\n",
      "Count is 345 and sum is 475.5826741773438\n",
      "\n",
      "\n",
      "['chemical.n.01', 'romance.n.01', 'band.n.01', 'album.n.01', 'black.n.01', 'parade.n.01', 'rock.n.01', 'tour.n.01', 'na.n.01', 'gerard.n.01', 'bands.n.01', 'released.n.01', 'alternative.n.01', 'brought.n.01', 'music.n.01', 'emo.n.01', 'iero.n.01', 'days.n.01', 'announced.n.01', 'press.n.01', 'punk.n.01', 'three.n.01', 'nme.n.01', 'danger.n.01', 'true.n.01', 'lives.n.01', 'song.n.01', 'were.n.01', 'website.n.01', 'frank.n.01', 'love.n.01', 'fabulous.n.01', 'killjoys.n.01', 'romances.n.01', 'cheers.n.01', 'release.n.01', 'bryar.n.01', 'albums.n.01', 'death.n.01', 'interview.n.01']\n",
      "\n",
      "\n",
      "['linkin.n.01', 'park.n.01', 'album.n.01', 'band.n.01', 'rock.n.01', 'shinoda.n.01', 'music.n.01', 'billboard.n.01', 'tour.n.01', 'bennington.n.01', 'mike.n.01', 'parks.n.01', 'chester.n.01', 'albums.n.01', 'released.n.01', 'more.n.01', 'best.n.01', 'song.n.01', 'top.n.01', 'hybrid.n.01', 'artists.n.01', 'theory.n.01', 'thousand.n.01', 'suns.n.01', 'songs.n.01', 'bands.n.01', 'awards.n.01', 'live.n.01', 'alternative.n.01', 'chart.n.01', 'metal.n.01', 'single.n.01', 'light.n.01', 'video.n.01', 'world.n.01', 'party.n.01', 'meteora.n.01', 'midnight.n.01', 'hunting.n.01', 'minutes.n.01']\n"
     ]
    }
   ],
   "source": [
    "bz = similar('My Chemical Romance','Linkin Park')"
   ]
  },
  {
   "cell_type": "code",
   "execution_count": 53,
   "metadata": {},
   "outputs": [
    {
     "name": "stdout",
     "output_type": "stream",
     "text": [
      "Probability of topics being related is 100%\n",
      "Count is 344 and sum is 456.81004504062275\n",
      "\n",
      "\n",
      "['chemical.n.01', 'romance.n.01', 'band.n.01', 'album.n.01', 'black.n.01', 'parade.n.01', 'rock.n.01', 'tour.n.01', 'na.n.01', 'gerard.n.01', 'bands.n.01', 'released.n.01', 'alternative.n.01', 'brought.n.01', 'music.n.01', 'emo.n.01', 'iero.n.01', 'days.n.01', 'announced.n.01', 'press.n.01', 'punk.n.01', 'three.n.01', 'nme.n.01', 'danger.n.01', 'true.n.01', 'lives.n.01', 'song.n.01', 'were.n.01', 'website.n.01', 'frank.n.01', 'love.n.01', 'fabulous.n.01', 'killjoys.n.01', 'romances.n.01', 'cheers.n.01', 'release.n.01', 'bryar.n.01', 'albums.n.01', 'death.n.01', 'interview.n.01']\n",
      "\n",
      "\n",
      "['imagine.n.01', 'dragons.n.01', 'band.n.01', 'billboard.n.01', 'album.n.01', 'rock.n.01', 'released.n.01', 'music.n.01', 'tour.n.01', 'song.n.01', 'vegas.n.01', 'top.n.01', 'single.n.01', 'night.n.01', 'performed.n.01', 'las.n.01', 'twitter.n.01', 'awards.n.01', 'live.n.01', 'evolve.n.01', 'show.n.01', 'reynolds.n.01', 'studio.n.01', 'visions.n.01', 'record.n.01', 'award.n.01', 'lead.n.01', 'radioactive.n.01', 'mtv.n.01', 'chart.n.01', 'concert.n.01', 'dan.n.01', 'singles.n.01', 'smoke.n.01', 'mirrors.n.01', 'world.n.01', 'believer.n.01', 'titled.n.01', 'announced.n.01', 'vocals.n.01']\n"
     ]
    }
   ],
   "source": [
    "ca = similar('My Chemical Romance','Imagine Dragons')"
   ]
  },
  {
   "cell_type": "code",
   "execution_count": 54,
   "metadata": {},
   "outputs": [
    {
     "name": "stdout",
     "output_type": "stream",
     "text": [
      "Probability of topics being related is 42%\n",
      "Count is 451 and sum is 188.96483144802252\n",
      "\n",
      "\n",
      "['chemical.n.01', 'romance.n.01', 'band.n.01', 'album.n.01', 'black.n.01', 'parade.n.01', 'rock.n.01', 'tour.n.01', 'na.n.01', 'gerard.n.01', 'bands.n.01', 'released.n.01', 'alternative.n.01', 'brought.n.01', 'music.n.01', 'emo.n.01', 'iero.n.01', 'days.n.01', 'announced.n.01', 'press.n.01', 'punk.n.01', 'three.n.01', 'nme.n.01', 'danger.n.01', 'true.n.01', 'lives.n.01', 'song.n.01', 'were.n.01', 'website.n.01', 'frank.n.01', 'love.n.01', 'fabulous.n.01', 'killjoys.n.01', 'romances.n.01', 'cheers.n.01', 'release.n.01', 'bryar.n.01', 'albums.n.01', 'death.n.01', 'interview.n.01']\n",
      "\n",
      "\n",
      "['tsai.n.01', 'jolin.n.01', 'album.n.01', 'music.n.01', 'taiwan.n.01', 'chinese.n.01', 'fm.n.01', 'hit.n.01', 'more.n.01', 'love.n.01', 'number.n.01', 'taiwanese.n.01', 'top.n.01', 'released.n.01', '100.n.01', 'world.n.01', 'singer.n.01', 'asia.n.01', 'female.n.01', 'reached.n.01', 'china.n.01', 'mtv.n.01', 'million.n.01', 'chou.n.01', 'best.n.01', 'entsinacomcn.n.01', 'award.n.01', 'song.n.01', 'awards.n.01', 'tour.n.01', 'tsais.n.01', 'copies.n.01', 'play.n.01', 'jay.n.01', 'sold.n.01', 'dancing.n.01', 'years.n.01', 'artist.n.01', 'golden.n.01', 'melody.n.01']\n"
     ]
    }
   ],
   "source": [
    "cb = similar('My Chemical Romance','Jolin Tsai')"
   ]
  },
  {
   "cell_type": "code",
   "execution_count": 55,
   "metadata": {},
   "outputs": [
    {
     "name": "stdout",
     "output_type": "stream",
     "text": [
      "Probability of topics being related is 88%\n",
      "Count is 578 and sum is 508.8060610650564\n",
      "\n",
      "\n",
      "['chou.n.01', 'jay.n.01', 'chinese.n.01', 'music.n.01', 'chous.n.01', 'album.n.01', 'awards.n.01', 'film.n.01', 'china.n.01', 'songs.n.01', 'best.n.01', 'pop.n.01', 'world.n.01', 'd.n.01', 'golden.n.01', 'style.n.01', 'more.n.01', 'concert.n.01', 'taiwan.n.01', 'released.n.01', 'taipei.n.01', 'song.n.01', 'taiwanese.n.01', 'been.n.01', 'tour.n.01', 'singer.n.01', 'fantasy.n.01', 'asia.n.01', 'hong.n.01', 'kong.n.01', 'zhang.n.01', 'li.n.01', 'chan.n.01', 'international.n.01', 'million.n.01', 'musical.n.01', 'fang.n.01', 'lyrics.n.01', 'news.n.01', 'movie.n.01']\n",
      "\n",
      "\n",
      "['tsai.n.01', 'jolin.n.01', 'album.n.01', 'music.n.01', 'taiwan.n.01', 'chinese.n.01', 'fm.n.01', 'hit.n.01', 'more.n.01', 'love.n.01', 'number.n.01', 'taiwanese.n.01', 'top.n.01', 'released.n.01', '100.n.01', 'world.n.01', 'singer.n.01', 'asia.n.01', 'female.n.01', 'reached.n.01', 'china.n.01', 'mtv.n.01', 'million.n.01', 'chou.n.01', 'best.n.01', 'entsinacomcn.n.01', 'award.n.01', 'song.n.01', 'awards.n.01', 'tour.n.01', 'tsais.n.01', 'copies.n.01', 'play.n.01', 'jay.n.01', 'sold.n.01', 'dancing.n.01', 'years.n.01', 'artist.n.01', 'golden.n.01', 'melody.n.01']\n"
     ]
    }
   ],
   "source": [
    "cc = similar('Jay Chou','Jolin Tsai')"
   ]
  },
  {
   "cell_type": "code",
   "execution_count": 56,
   "metadata": {},
   "outputs": [
    {
     "name": "stdout",
     "output_type": "stream",
     "text": [
      "Probability of topics being related is 100%\n",
      "Count is 401 and sum is 483.7264886993636\n",
      "\n",
      "\n",
      "['paramore.n.01', 'band.n.01', 'williams.n.01', 'tour.n.01', 'album.n.01', 'hayley.n.01', 'farro.n.01', 'music.n.01', 'released.n.01', 'video.n.01', 'josh.n.01', 'song.n.01', 'were.n.01', 'rock.n.01', 'paramores.n.01', 'riot.n.01', 'bands.n.01', 'mtv.n.01', 'had.n.01', 'single.n.01', 'alternative.n.01', 'davis.n.01', 'interview.n.01', 'press.n.01', 'featured.n.01', 'news.n.01', 'guitar.n.01', 'summer.n.01', 'york.n.01', 'american.n.01', 'zac.n.01', 'songs.n.01', 'pop.n.01', 'jeremy.n.01', 'later.n.01', 'united.n.01', 'vocals.n.01', 'release.n.01', 'self-titled.n.01', 'laughter.n.01']\n",
      "\n",
      "\n",
      "['nickelback.n.01', 'album.n.01', 'band.n.01', 'tour.n.01', 'rock.n.01', 'released.n.01', 'kroeger.n.01', 'billboard.n.01', 'single.n.01', 'chad.n.01', 'number.n.01', 'music.n.01', 'dark.n.01', 'top.n.01', 'horse.n.01', 'song.n.01', 'release.n.01', 'canadian.n.01', 'albums.n.01', 'singles.n.01', 'here.n.01', 'award.n.01', 'socan.n.01', 'roadrunner.n.01', 'announced.n.01', 'bands.n.01', 'records.n.01', 'peaked.n.01', 'chart.n.01', 'ryan.n.01', 'fixed.n.01', 'address.n.01', 'north.n.01', 'sold.n.01', 'million.n.01', 'live.n.01', 'juno.n.01', 'awards.n.01', 'charts.n.01', 'hot.n.01']\n"
     ]
    }
   ],
   "source": [
    "cd = similar('Paramore','Nickelback')"
   ]
  },
  {
   "cell_type": "code",
   "execution_count": 57,
   "metadata": {},
   "outputs": [
    {
     "name": "stdout",
     "output_type": "stream",
     "text": [
      "Probability of topics being related is 97%\n",
      "Count is 420 and sum is 409.0645280341822\n",
      "\n",
      "\n",
      "['paramore.n.01', 'band.n.01', 'williams.n.01', 'tour.n.01', 'album.n.01', 'hayley.n.01', 'farro.n.01', 'music.n.01', 'released.n.01', 'video.n.01', 'josh.n.01', 'song.n.01', 'were.n.01', 'rock.n.01', 'paramores.n.01', 'riot.n.01', 'bands.n.01', 'mtv.n.01', 'had.n.01', 'single.n.01', 'alternative.n.01', 'davis.n.01', 'interview.n.01', 'press.n.01', 'featured.n.01', 'news.n.01', 'guitar.n.01', 'summer.n.01', 'york.n.01', 'american.n.01', 'zac.n.01', 'songs.n.01', 'pop.n.01', 'jeremy.n.01', 'later.n.01', 'united.n.01', 'vocals.n.01', 'release.n.01', 'self-titled.n.01', 'laughter.n.01']\n",
      "\n",
      "\n",
      "['clarkson.n.01', 'kelly.n.01', 'american.n.01', 'album.n.01', 'idol.n.01', 'music.n.01', 'billboard.n.01', 'pop.n.01', 'tour.n.01', 'clarksons.n.01', 'single.n.01', 'number.n.01', 'country.n.01', 'media.n.01', 'released.n.01', 'piece.n.01', 'chart.n.01', 'awards.n.01', 'season.n.01', 'became.n.01', 'voice.n.01', 'grammy.n.01', 'hot.n.01', 'songs.n.01', 'song.n.01', '100.n.01', 'performed.n.01', 'christmas.n.01', 'more.n.01', 'stronger.n.01', 'television.n.01', 'record.n.01', 'best.n.01', 'life.n.01', 'breakaway.n.01', 'vocal.n.01', 'inc.n.01', 'records.n.01', 'singles.n.01', 'been.n.01']\n"
     ]
    }
   ],
   "source": [
    "ce = similar('Paramore','Kelly Clarkson')"
   ]
  },
  {
   "cell_type": "code",
   "execution_count": 58,
   "metadata": {},
   "outputs": [
    {
     "name": "stdout",
     "output_type": "stream",
     "text": [
      "Probability of topics being related is 74%\n",
      "Count is 576 and sum is 425.45750737381593\n",
      "\n",
      "\n",
      "['python.n.01', 'software.n.01', 'language.n.01', 'programming.n.01', 'foundation.n.01', 'languages.n.01', 'code.n.01', 'c.n.01', 'pep.n.01', 'used.n.01', 'van.n.01', 'rossum.n.01', 'guido.n.01', 'pythons.n.01', 'many.n.01', 'expressions.n.01', 'java.n.01', 'statement.n.01', 'division.n.01', 'standard.n.01', 'type.n.01', 'operator.n.01', '==.n.01', 'pythonorg.n.01', 'version.n.01', 'documentation.n.01', 'enhancement.n.01', 'list.n.01', 'reference.n.01', 'cpython.n.01', '=.n.01', 'object.n.01', 'string.n.01', 'web.n.01', 'proposals.n.01', 'including.n.01', 'library.n.01', 'release.n.01', 'functions.n.01', 'design.n.01']\n",
      "\n",
      "\n",
      "['java.n.01', 'sun.n.01', 'oracle.n.01', 'class.n.01', 'language.n.01', 'programming.n.01', 'software.n.01', 'machine.n.01', 'se.n.01', 'implementation.n.01', 'code.n.01', 'public.n.01', 'android.n.01', 'platform.n.01', 'applications.n.01', 'web.n.01', 'system.n.01', 'classes.n.01', 'run.n.01', 'free.n.01', 'support.n.01', 'virtual.n.01', 'libraries.n.01', 'memory.n.01', 'languages.n.01', 'method.n.01', 'standard.n.01', 'google.n.01', 'object.n.01', 'bytecode.n.01', 'c++.n.01', 'license.n.01', 'edition.n.01', 'pdf.n.01', 'microsystems.n.01', 'process.n.01', 'versions.n.01', 'name.n.01', 'apis.n.01', 'enterprise.n.01']\n"
     ]
    }
   ],
   "source": [
    "cf = similar('Python (programming language)','Java (programming language)')"
   ]
  },
  {
   "cell_type": "code",
   "execution_count": 59,
   "metadata": {},
   "outputs": [
    {
     "name": "stdout",
     "output_type": "stream",
     "text": [
      "Probability of topics being related is 100%\n",
      "Count is 260 and sum is 502.7744201934321\n",
      "\n",
      "\n",
      "['html.n.01', 'web.n.01', 'iso/iec.n.01', 'xhtml.n.01', 'iec.n.01', 'elements.n.01', 'css.n.01', 'element.n.01', 'document.n.01', 'deprecated.n.01', 'markup.n.01', 'instead.n.01', 'world.n.01', 'wide.n.01', 'w3c.n.01', 'attribute.n.01', 'language.n.01', 'tags.n.01', 'consortium.n.01', 'documents.n.01', 'specification.n.01', 'tag.n.01', 'text.n.01', 'type.n.01', 'html5.n.01', 'xml.n.01', 'hypertext.n.01', 'browsers.n.01', 'attributes.n.01', 'used.n.01', 'page.n.01', 'content.n.01', 'character.n.01', 'browser.n.01', 'berners-lee.n.01', 'version.n.01', 'internet.n.01', 'example.n.01', '-2.n.01', 'whatwg.n.01']\n",
      "\n",
      "\n",
      "['css.n.01', 'web.n.01', 'style.n.01', 'sheets.n.01', 'html.n.01', 'w3c.n.01', 'level.n.01', 'cascading.n.01', 'elements.n.01', 'element.n.01', 'world.n.01', 'browser.n.01', 'support.n.01', 'wide.n.01', 'more.n.01', 'properties.n.01', 'selectors.n.01', 'recommendation.n.01', 'browsers.n.01', 'document.n.01', 'specification.n.01', 'consortium.n.01', 'were.n.01', 'sheet.n.01', 'values.n.01', 'bos.n.01', 'working.n.01', 'bert.n.01', 'markup.n.01', 'lie.n.01', 'used.n.01', 'javascript.n.01', 'content.n.01', 'different.n.01', 'internet.n.01', 'each.n.01', 'class.n.01', 'many.n.01', 'using.n.01', 'multiple.n.01']\n"
     ]
    }
   ],
   "source": [
    "cg = similar('HTML','CSS')"
   ]
  },
  {
   "cell_type": "code",
   "execution_count": 60,
   "metadata": {},
   "outputs": [
    {
     "name": "stdout",
     "output_type": "stream",
     "text": [
      "Probability of topics being related is 83%\n",
      "Count is 276 and sum is 230.31134206785683\n",
      "\n",
      "\n",
      "['microsoft.n.01', 'windows.n.01', 'company.n.01', 'companies.n.01', 'software.n.01', 'data.n.01', 'gates.n.01', 'microsofts.n.01', 'billion.n.01', 'operating.n.01', 'logo.n.01', 'computer.n.01', 'system.n.01', 'ibm.n.01', 'apple.n.01', 'released.n.01', 'google.n.01', 'market.n.01', 'inc.n.01', 'business.n.01', 'united.n.01', 'bill.n.01', 'mobile.n.01', 'v.n.01', 'media.n.01', 'services.n.01', 'office.n.01', 'internet.n.01', 'states.n.01', 'allen.n.01', 'pc.n.01', 'stock.n.01', 'announced.n.01', 'linux.n.01', 'technology.n.01', 'products.n.01', 'public.n.01', 'news.n.01', 'systems.n.01', 'xbox.n.01']\n",
      "\n",
      "\n",
      "['apple.n.01', 'apples.n.01', 'iphone.n.01', 'inc.n.01', 'jobs.n.01', 'company.n.01', 'store.n.01', 'tv.n.01', 'mac.n.01', 'ipad.n.01', 'billion.n.01', 'steve.n.01', 'computer.n.01', 'had.n.01', 'products.n.01', 'itunes.n.01', 'companies.n.01', 'app.n.01', 'technology.n.01', 'million.n.01', 'software.n.01', 'introduced.n.01', 'announced.n.01', 'verge.n.01', 'were.n.01', 'media.n.01', 'product.n.01', 'times.n.01', 'report.n.01', 'energy.n.01', 'data.n.01', 'ipod.n.01', 'pro.n.01', 'sales.n.01', 'release.n.01', 'pay.n.01', 'market.n.01', 'ceo.n.01', 'music.n.01', 'more.n.01']\n"
     ]
    }
   ],
   "source": [
    "ch = similar('Microsoft','Apple (company)')"
   ]
  },
  {
   "cell_type": "code",
   "execution_count": 61,
   "metadata": {},
   "outputs": [
    {
     "name": "stdout",
     "output_type": "stream",
     "text": [
      "Probability of topics being related is 53%\n",
      "Count is 358 and sum is 189.15862603792917\n",
      "\n",
      "\n",
      "['depp.n.01', 'johnny.n.01', 'film.n.01', 'heard.n.01', 'depps.n.01', 'actor.n.01', 'role.n.01', 'had.n.01', 'hollywood.n.01', 'american.n.01', 'amber.n.01', 'played.n.01', 'burton.n.01', 'jack.n.01', '1999.n.01', 'tom.n.01', 'john.n.01', 'pirates.n.01', 'e.n.01', '1997.n.01', 'box.n.01', 'office.n.01', '1993.n.01', 'news.n.01', 'alice.n.01', 'variety.n.01', '1998.n.01', '1994.n.01', 'man.n.01', 'series.n.01', 'films.n.01', 'fantastic.n.01', 'beasts.n.01', 'character.n.01', 'disney.n.01', 'rock.n.01', 'vampires.n.01', 'starred.n.01', 'times.n.01', 'native.n.01']\n",
      "\n",
      "\n",
      "['bay.n.01', 'michael.n.01', 'film.n.01', 'transformers.n.01', 'million.n.01', 'films.n.01', 'box.n.01', 'office.n.01', 'best.n.01', 'james.n.01', 'bays.n.01', 'bad.n.01', 'rotten.n.01', 'tomatoes.n.01', 'identifiers.n.01', 'directed.n.01', 'critics.n.01', 'boys.n.01', 'movie.n.01', 'john.n.01', 'peter.n.01', 't-meter.n.01', 'rating.n.01', 'rottentomatoescom.n.01', '2013-02-20.n.01', 'purge.n.01', '1998.n.01', 'production.n.01', 'jerry.n.01', 'bruckheimer.n.01', 'academy.n.01', '2010-07-03.n.01', '2010-07-04.n.01', 'action.n.01', 'armageddon.n.01', 'making.n.01', '1996.n.01', 'revenge.n.01', 'fallen.n.01', 'american.n.01']\n"
     ]
    }
   ],
   "source": [
    "ci = similar('Johnny Depp','Michael Bay')"
   ]
  },
  {
   "cell_type": "code",
   "execution_count": 62,
   "metadata": {},
   "outputs": [
    {
     "name": "stdout",
     "output_type": "stream",
     "text": [
      "Probability of topics being related is 51%\n",
      "Count is 399 and sum is 202.0169927624489\n",
      "\n",
      "\n",
      "['depp.n.01', 'johnny.n.01', 'film.n.01', 'heard.n.01', 'depps.n.01', 'actor.n.01', 'role.n.01', 'had.n.01', 'hollywood.n.01', 'american.n.01', 'amber.n.01', 'played.n.01', 'burton.n.01', 'jack.n.01', '1999.n.01', 'tom.n.01', 'john.n.01', 'pirates.n.01', 'e.n.01', '1997.n.01', 'box.n.01', 'office.n.01', '1993.n.01', 'news.n.01', 'alice.n.01', 'variety.n.01', '1998.n.01', '1994.n.01', 'man.n.01', 'series.n.01', 'films.n.01', 'fantastic.n.01', 'beasts.n.01', 'character.n.01', 'disney.n.01', 'rock.n.01', 'vampires.n.01', 'starred.n.01', 'times.n.01', 'native.n.01']\n",
      "\n",
      "\n",
      "['lawrence.n.01', 'jennifer.n.01', 'film.n.01', 'actress.n.01', '/.n.01', 'games.n.01', 'best.n.01', 'hunger.n.01', 'list.n.01', 'award.n.01', 'role.n.01', 'winners.n.01', 'x-men.n.01', 'awards.n.01', 'hollywood.n.01', 'mtv.n.01', 'e.n.01', 'lawrences.n.01', 'movie.n.01', 'vs.n.01', 'v.n.01', 't.n.01', 'acting.n.01', '1996.n.01', '1997.n.01', '1998.n.01', '1999.n.01', 'york.n.01', 'million.n.01', 'meryl.n.01', 'streep.n.01', 'american.n.01', '100.n.01', 'series.n.01', 'performance.n.01', 'world.n.01', 'academy.n.01', 'part.n.01', 'review.n.01', 'cate.n.01']\n"
     ]
    }
   ],
   "source": [
    "cj = similar('Johnny Depp','Jennifer Lawrence')"
   ]
  },
  {
   "cell_type": "code",
   "execution_count": 63,
   "metadata": {},
   "outputs": [
    {
     "name": "stdout",
     "output_type": "stream",
     "text": [
      "Probability of topics being related is 79%\n",
      "Count is 404 and sum is 319.23669904962935\n",
      "\n",
      "\n",
      "['sas.n.01', 'data.n.01', 'software.n.01', 'analysis.n.01', 'jmp.n.01', 'programming.n.01', 'management.n.01', 'university.n.01', 'statistical.n.01', 'pdf.n.01', 'business.n.01', 'version.n.01', 'institute.n.01', 'analytics.n.01', 'introduced.n.01', 'research.n.01', 'system.n.01', 'language.n.01', 'were.n.01', 'c.n.01', 'intelligence.n.01', 'goodnight.n.01', 'added.n.01', 'enterprise.n.01', 'barr.n.01', 'project.n.01', 'james.n.01', 'john.n.01', 'released.n.01', 'd.n.01', 'interface.n.01', 'statements.n.01', 'using.n.01', 'ibm.n.01', 'text.n.01', 'north.n.01', 'carolina.n.01', 'step.n.01', 'used.n.01', 'products.n.01']\n",
      "\n",
      "\n",
      "['spss.n.01', 'ibm.n.01', 'data.n.01', 'software.n.01', 'statistics.n.01', 'statistical.n.01', 'analysis.n.01', 'command.n.01', 'syntax.n.01', 'using.n.01', 'version.n.01', 'file.n.01', 'laboratory.n.01', 'inc.n.01', 'r.n.01', 'center.n.01', 'text.n.01', 'analytics.n.01', 'used.n.01', 'python.n.01', 'package.n.01', 'programming.n.01', 'processing.n.01', 'chicago.n.01', 'watson.n.01', 'versions.n.01', 'social.n.01', 'including.n.01', 'output.n.01', 'structure.n.01', 'run.n.01', 'facility.n.01', 'available.n.01', 'files.n.01', 'view.n.01', 'read.n.01', 'tables.n.01', 'under.n.01', 'mac.n.01', 'system.n.01']\n"
     ]
    }
   ],
   "source": [
    "ck = similar('SAS (software)','SPSS')"
   ]
  },
  {
   "cell_type": "code",
   "execution_count": 64,
   "metadata": {},
   "outputs": [
    {
     "name": "stdout",
     "output_type": "stream",
     "text": [
      "Probability of topics being related is 99%\n",
      "Count is 441 and sum is 435.4979140323155\n",
      "\n",
      "\n",
      "['saudi.n.01', 'arabia.n.01', 'world.n.01', 'king.n.01', 'prince.n.01', 'religious.n.01', 'arab.n.01', 'women.n.01', 'kingdom.n.01', 'human.n.01', 'were.n.01', 'rights.n.01', 'al.n.01', 'government.n.01', 'islamic.n.01', 'arabian.n.01', 'oil.n.01', 'state.n.01', 'country.n.01', 'been.n.01', 'islam.n.01', 'news.n.01', 'crown.n.01', 'royal.n.01', 'bin.n.01', 'population.n.01', 'region.n.01', 'foreign.n.01', 'saud.n.01', 'education.n.01', 'arabias.n.01', 'pp.n.01', 'east.n.01', 'years.n.01', 'times.n.01', 'pdf.n.01', 'family.n.01', 'arabic.n.01', 'middle.n.01', 'national.n.01']\n",
      "\n",
      "\n",
      "['israel.n.01', 'israeli.n.01', 'jewish.n.01', 'jerusalem.n.01', 'israels.n.01', 'world.n.01', 'gaza.n.01', 'state.n.01', 'arab.n.01', 'jews.n.01', 'palestine.n.01', 'population.n.01', 'international.n.01', 'east.n.01', 'relations.n.01', 'law.n.01', 'university.n.01', 'were.n.01', 'press.n.01', 'west.n.01', 'war.n.01', 'palestinian.n.01', 'history.n.01', 'pp.n.01', 'united.n.01', 'bank.n.01', 'country.n.01', 'between.n.01', 'pdf.n.01', 'states.n.01', 'foreign.n.01', 'military.n.01', 'hebrew.n.01', 'land.n.01', 'nations.n.01', 'territory.n.01', 'national.n.01', 'countries.n.01', 'un.n.01', 'peace.n.01']\n"
     ]
    }
   ],
   "source": [
    "cl = similar('saudi arabia','israel')"
   ]
  },
  {
   "cell_type": "code",
   "execution_count": 65,
   "metadata": {},
   "outputs": [
    {
     "name": "stdout",
     "output_type": "stream",
     "text": [
      "Probability of topics being related is 27%\n",
      "Count is 309 and sum is 83.49015601462271\n",
      "\n",
      "\n",
      "['migrants.n.01', 'asylum.n.01', 'eu.n.01', 'refugees.n.01', 'border.n.01', 'per.n.01', 'migrant.n.01', 'cent.n.01', 'european.n.01', 'crisis.n.01', 'were.n.01', 'europe.n.01', 'refugee.n.01', 'germany.n.01', 'countries.n.01', 'seekers.n.01', 'italy.n.01', 'hungary.n.01', 'greece.n.01', 'offensive.n.01', 'migration.n.01', 'more.n.01', 'number.n.01', 'mediterranean.n.01', 'times.n.01', 'sea.n.01', 'news.n.01', 'turkey.n.01', 'had.n.01', 'battle.n.01', 'minister.n.01', 'syrian.n.01', 'austria.n.01', 'syria.n.01', 'york.n.01', 'states.n.01', 'bbc.n.01', 'million.n.01', 'international.n.01', 'german.n.01']\n",
      "\n",
      "\n",
      "['war.n.01', 'soviet.n.01', 'germany.n.01', 'pp.n.01', 'united.n.01', 'japan.n.01', 'german.n.01', 'forces.n.01', 'were.n.01', 'japanese.n.01', 'wars.n.01', 'world.n.01', 'union.n.01', 'involving.n.01', 'against.n.01', 'had.n.01', 'states.n.01', 'allies.n.01', 'ii.n.01', 'western.n.01', 'british.n.01', 'italy.n.01', 'military.n.01', 'china.n.01', 'army.n.01', 'allied.n.01', 'france.n.01', 'poland.n.01', 'axis.n.01', 'asia.n.01', 'kingdom.n.01', 'east.n.01', 'during.n.01', 'chinese.n.01', '1941.n.01', 'troops.n.01', 'american.n.01', 'offensive.n.01', 'million.n.01', 'european.n.01']\n"
     ]
    }
   ],
   "source": [
    "cm = similar('European migrant crisis','World War II')"
   ]
  },
  {
   "cell_type": "code",
   "execution_count": 66,
   "metadata": {},
   "outputs": [
    {
     "name": "stdout",
     "output_type": "stream",
     "text": [
      "Probability of topics being related is 63%\n",
      "Count is 398 and sum is 252.52667870620422\n",
      "\n",
      "\n",
      "['britain.n.01', 'great.n.01', 'kingdom.n.01', 'island.n.01', 'england.n.01', 'ireland.n.01', 'british.n.01', 'scotland.n.01', 'united.n.01', 'wales.n.01', 'islands.n.01', 'species.n.01', 'english.n.01', 'northern.n.01', 'used.n.01', 'history.n.01', 'pdf.n.01', 'name.n.01', 'language.n.01', 'been.n.01', 'north.n.01', 'isles.n.01', 'uk.n.01', 'celtic.n.01', 'union.n.01', 'irish.n.01', 'known.n.01', 'sea.n.01', 'london.n.01', 'europe.n.01', 'area.n.01', 'years.n.01', 'welsh.n.01', 'university.n.01', 'world.n.01', 'million.n.01', 'term.n.01', 'were.n.01', 'century.n.01', 'introduced.n.01']\n",
      "\n",
      "\n",
      "['war.n.01', 'soviet.n.01', 'germany.n.01', 'pp.n.01', 'united.n.01', 'japan.n.01', 'german.n.01', 'forces.n.01', 'were.n.01', 'japanese.n.01', 'wars.n.01', 'world.n.01', 'union.n.01', 'involving.n.01', 'against.n.01', 'had.n.01', 'states.n.01', 'allies.n.01', 'ii.n.01', 'western.n.01', 'british.n.01', 'italy.n.01', 'military.n.01', 'china.n.01', 'army.n.01', 'allied.n.01', 'france.n.01', 'poland.n.01', 'axis.n.01', 'asia.n.01', 'kingdom.n.01', 'east.n.01', 'during.n.01', 'chinese.n.01', '1941.n.01', 'troops.n.01', 'american.n.01', 'offensive.n.01', 'million.n.01', 'european.n.01']\n"
     ]
    }
   ],
   "source": [
    "cn = similar('Great Britain','World War II')"
   ]
  },
  {
   "cell_type": "code",
   "execution_count": 67,
   "metadata": {},
   "outputs": [
    {
     "name": "stdout",
     "output_type": "stream",
     "text": [
      "Probability of topics being related is 61%\n",
      "Count is 398 and sum is 240.99223870208206\n",
      "\n",
      "\n",
      "['singapore.n.01', 'world.n.01', 'singapores.n.01', 'times.n.01', 'national.n.01', 'education.n.01', 'international.n.01', 'government.n.01', 'pdf.n.01', 'were.n.01', 'straits.n.01', 'country.n.01', 'english.n.01', 'asia.n.01', 'malaysia.n.01', 'british.n.01', 'language.n.01', 'ministry.n.01', 'island.n.01', 'press.n.01', 'countries.n.01', 'islands.n.01', 'worlds.n.01', 'chinese.n.01', 'public.n.01', 'water.n.01', 'malay.n.01', 'lee.n.01', 'been.n.01', 'foreign.n.01', 'population.n.01', 'development.n.01', 'economic.n.01', 'singaporean.n.01', 'statistics.n.01', 'city.n.01', 'nations.n.01', 'united.n.01', 'global.n.01', 'index.n.01']\n",
      "\n",
      "\n",
      "['war.n.01', 'soviet.n.01', 'germany.n.01', 'pp.n.01', 'united.n.01', 'japan.n.01', 'german.n.01', 'forces.n.01', 'were.n.01', 'japanese.n.01', 'wars.n.01', 'world.n.01', 'union.n.01', 'involving.n.01', 'against.n.01', 'had.n.01', 'states.n.01', 'allies.n.01', 'ii.n.01', 'western.n.01', 'british.n.01', 'italy.n.01', 'military.n.01', 'china.n.01', 'army.n.01', 'allied.n.01', 'france.n.01', 'poland.n.01', 'axis.n.01', 'asia.n.01', 'kingdom.n.01', 'east.n.01', 'during.n.01', 'chinese.n.01', '1941.n.01', 'troops.n.01', 'american.n.01', 'offensive.n.01', 'million.n.01', 'european.n.01']\n"
     ]
    }
   ],
   "source": [
    "co = similar('Singapore','World War II')"
   ]
  },
  {
   "cell_type": "code",
   "execution_count": 68,
   "metadata": {},
   "outputs": [
    {
     "name": "stdout",
     "output_type": "stream",
     "text": [
      "Probability of topics being related is 34%\n",
      "Count is 290 and sum is 97.2808842369191\n",
      "\n",
      "\n",
      "['iceland.n.01', 'icelandic.n.01', 'world.n.01', 'country.n.01', 'icelands.n.01', 'countries.n.01', 'population.n.01', 'icelanders.n.01', 'nordic.n.01', 'island.n.01', 'government.n.01', 'expedition.n.01', 'energy.n.01', 'were.n.01', 'hms.n.01', 'many.n.01', 'reykjavík.n.01', 'united.n.01', 'oecd.n.01', 'century.n.01', 'index.n.01', 'economic.n.01', 'national.n.01', 'international.n.01', 'e.n.01', 'european.n.01', 'j.n.01', 'north.n.01', 'mi.n.01', 'c.n.01', 'pdf.n.01', 'education.n.01', 'around.n.01', 'more.n.01', 'nations.n.01', 'per.n.01', 'largest.n.01', 'denmark.n.01', 'km.n.01', 'islands.n.01']\n",
      "\n",
      "\n",
      "['war.n.01', 'soviet.n.01', 'germany.n.01', 'pp.n.01', 'united.n.01', 'japan.n.01', 'german.n.01', 'forces.n.01', 'were.n.01', 'japanese.n.01', 'wars.n.01', 'world.n.01', 'union.n.01', 'involving.n.01', 'against.n.01', 'had.n.01', 'states.n.01', 'allies.n.01', 'ii.n.01', 'western.n.01', 'british.n.01', 'italy.n.01', 'military.n.01', 'china.n.01', 'army.n.01', 'allied.n.01', 'france.n.01', 'poland.n.01', 'axis.n.01', 'asia.n.01', 'kingdom.n.01', 'east.n.01', 'during.n.01', 'chinese.n.01', '1941.n.01', 'troops.n.01', 'american.n.01', 'offensive.n.01', 'million.n.01', 'european.n.01']\n"
     ]
    }
   ],
   "source": [
    "cp = similar('Iceland','World War II')"
   ]
  },
  {
   "cell_type": "code",
   "execution_count": 69,
   "metadata": {},
   "outputs": [
    {
     "name": "stdout",
     "output_type": "stream",
     "text": [
      "Probability of topics being related is 66%\n",
      "Count is 363 and sum is 238.51981873532662\n",
      "\n",
      "\n",
      "['egypt.n.01', 'egyptian.n.01', 'egypts.n.01', 'world.n.01', 'arab.n.01', 'country.n.01', 'government.n.01', 'cairo.n.01', 'were.n.01', 'egyptians.n.01', 'president.n.01', 'military.n.01', 'war.n.01', 'university.n.01', 'muslim.n.01', 'united.n.01', 'been.n.01', 'state.n.01', 'national.n.01', 'middle.n.01', 'years.n.01', 'east.n.01', 'african.n.01', 'population.n.01', 'international.n.01', 'law.n.01', 'nile.n.01', 'rights.n.01', 'press.n.01', 'republic.n.01', 'africa.n.01', 'countries.n.01', 'human.n.01', 'news.n.01', 'pdf.n.01', 'foreign.n.01', 'british.n.01', 'suez.n.01', 'power.n.01', 'states.n.01']\n",
      "\n",
      "\n",
      "['war.n.01', 'soviet.n.01', 'germany.n.01', 'pp.n.01', 'united.n.01', 'japan.n.01', 'german.n.01', 'forces.n.01', 'were.n.01', 'japanese.n.01', 'wars.n.01', 'world.n.01', 'union.n.01', 'involving.n.01', 'against.n.01', 'had.n.01', 'states.n.01', 'allies.n.01', 'ii.n.01', 'western.n.01', 'british.n.01', 'italy.n.01', 'military.n.01', 'china.n.01', 'army.n.01', 'allied.n.01', 'france.n.01', 'poland.n.01', 'axis.n.01', 'asia.n.01', 'kingdom.n.01', 'east.n.01', 'during.n.01', 'chinese.n.01', '1941.n.01', 'troops.n.01', 'american.n.01', 'offensive.n.01', 'million.n.01', 'european.n.01']\n"
     ]
    }
   ],
   "source": [
    "cq = similar('Egypt','World War II')"
   ]
  },
  {
   "cell_type": "code",
   "execution_count": 70,
   "metadata": {},
   "outputs": [
    {
     "name": "stdout",
     "output_type": "stream",
     "text": [
      "Probability of topics being related is 15%\n",
      "Count is 481 and sum is 73.71042549613928\n",
      "\n",
      "\n",
      "['report.n.01', 'trump.n.01', 'mueller.n.01', 'president.n.01', 'barr.n.01', 'investigation.n.01', 'special.n.01', 'had.n.01', 'counsel.n.01', 'obstruction.n.01', 'justice.n.01', 'did.n.01', 'said.n.01', 'campaign.n.01', 'news.n.01', 'russia.n.01', 'attorney.n.01', 'house.n.01', 'comey.n.01', 'general.n.01', 'russian.n.01', 'vol.n.01', 'congress.n.01', 'ii.n.01', 'office.n.01', 'sessions.n.01', 'were.n.01', 'presidents.n.01', 'mcgahn.n.01', 'election.n.01', 'washington.n.01', 'evidence.n.01', 'letter.n.01', 'trumps.n.01', 'times.n.01', 'committee.n.01', 'press.n.01', 'york.n.01', 'post.n.01', 'rosenstein.n.01']\n",
      "\n",
      "\n",
      "['russian.n.01', 'russia.n.01', 'soviet.n.01', 'world.n.01', 'were.n.01', 'country.n.01', 'state.n.01', 'union.n.01', 'russias.n.01', 'states.n.01', 'largest.n.01', 'united.n.01', 'federal.n.01', 'international.n.01', 'europe.n.01', 'federation.n.01', 'war.n.01', 'moscow.n.01', 'sea.n.01', 'including.n.01', 'population.n.01', 'century.n.01', 'many.n.01', 'pdf.n.01', 'history.n.01', 'республики.n.01', 'ukraine.n.01', 'republic.n.01', 'economic.n.01', 'government.n.01', 'china.n.01', 'military.n.01', 'more.n.01', 'rus.n.01', 'e.n.01', 'countries.n.01', 'orthodox.n.01', 'east.n.01', 'while.n.01', 'v.n.01']\n"
     ]
    }
   ],
   "source": [
    "cr = similar('Mueller Report','Russia')"
   ]
  },
  {
   "cell_type": "code",
   "execution_count": 71,
   "metadata": {},
   "outputs": [
    {
     "name": "stdout",
     "output_type": "stream",
     "text": [
      "Probability of topics being related is 19%\n",
      "Count is 505 and sum is 93.67181086559712\n",
      "\n",
      "\n",
      "['report.n.01', 'trump.n.01', 'mueller.n.01', 'president.n.01', 'barr.n.01', 'investigation.n.01', 'special.n.01', 'had.n.01', 'counsel.n.01', 'obstruction.n.01', 'justice.n.01', 'did.n.01', 'said.n.01', 'campaign.n.01', 'news.n.01', 'russia.n.01', 'attorney.n.01', 'house.n.01', 'comey.n.01', 'general.n.01', 'russian.n.01', 'vol.n.01', 'congress.n.01', 'ii.n.01', 'office.n.01', 'sessions.n.01', 'were.n.01', 'presidents.n.01', 'mcgahn.n.01', 'election.n.01', 'washington.n.01', 'evidence.n.01', 'letter.n.01', 'trumps.n.01', 'times.n.01', 'committee.n.01', 'press.n.01', 'york.n.01', 'post.n.01', 'rosenstein.n.01']\n",
      "\n",
      "\n",
      "['china.n.01', 'chinese.n.01', 'chinas.n.01', 'world.n.01', 'peoples.n.01', 'republic.n.01', 'worlds.n.01', 'population.n.01', 'united.n.01', 'million.n.01', 'were.n.01', 'economic.n.01', 'country.n.01', 'bbc.n.01', 'states.n.01', 'east.n.01', 'more.n.01', 'global.n.01', 'national.n.01', 'dynasty.n.01', 'times.n.01', 'government.n.01', 'relations.n.01', 'pdf.n.01', 'been.n.01', 'largest.n.01', 'history.n.01', 'international.n.01', 'total.n.01', 'state.n.01', 'south.n.01', 'asia.n.01', 'economy.n.01', 'press.n.01', 'military.n.01', 'countries.n.01', 'billion.n.01', 'system.n.01', 'market.n.01', 'war.n.01']\n"
     ]
    }
   ],
   "source": [
    "cs = similar('Mueller Report','China')"
   ]
  },
  {
   "cell_type": "code",
   "execution_count": 72,
   "metadata": {},
   "outputs": [
    {
     "name": "stdout",
     "output_type": "stream",
     "text": [
      "Probability of topics being related is 100%\n",
      "Count is 291 and sum is 446.7960243981524\n",
      "\n",
      "\n",
      "['facebook.n.01', 'users.n.01', 'social.n.01', 'news.n.01', 'media.n.01', 'data.n.01', 'facebooks.n.01', 'zuckerberg.n.01', 'company.n.01', 'billion.n.01', 'privacy.n.01', 'million.n.01', 'had.n.01', 'guardian.n.01', 'app.n.01', 'group.n.01', 'techcrunch.n.01', 'user.n.01', 'content.n.01', 'pages.n.01', 'accounts.n.01', 'times.n.01', 'information.n.01', 'more.n.01', 'political.n.01', 'used.n.01', 'york.n.01', 'messenger.n.01', 'announced.n.01', 'mark.n.01', 'internet.n.01', 'were.n.01', 'network.n.01', 'been.n.01', 'friends.n.01', 'aol.n.01', 'verge.n.01', 'including.n.01', 'fake.n.01', 'russian.n.01']\n",
      "\n",
      "\n",
      "['linkedin.n.01', 'users.n.01', 'members.n.01', 'social.n.01', 'network.n.01', 'microsoft.n.01', 'company.n.01', 'business.n.01', 'million.n.01', 'mobile.n.01', 'job.n.01', 'data.n.01', 'linkedins.n.01', 'had.n.01', 'connections.n.01', 'professional.n.01', 'site.n.01', 'been.n.01', 'email.n.01', 'services.n.01', 'were.n.01', 'online.n.01', 'china.n.01', 'user.n.01', 'companies.n.01', 'groups.n.01', 'networking.n.01', 'pages.n.01', 'service.n.01', 'allows.n.01', 'announced.n.01', 'contact.n.01', 'profile.n.01', 'platform.n.01', 'feature.n.01', 'ceo.n.01', 'times.n.01', 'chinese.n.01', 'version.n.01', 'billion.n.01']\n"
     ]
    }
   ],
   "source": [
    "ct = similar('Facebook','Linkedin')"
   ]
  },
  {
   "cell_type": "code",
   "execution_count": 73,
   "metadata": {},
   "outputs": [
    {
     "name": "stdout",
     "output_type": "stream",
     "text": [
      "Probability of topics being related is 98%\n",
      "Count is 363 and sum is 357.54574079390176\n",
      "\n",
      "\n",
      "['facebook.n.01', 'users.n.01', 'social.n.01', 'news.n.01', 'media.n.01', 'data.n.01', 'facebooks.n.01', 'zuckerberg.n.01', 'company.n.01', 'billion.n.01', 'privacy.n.01', 'million.n.01', 'had.n.01', 'guardian.n.01', 'app.n.01', 'group.n.01', 'techcrunch.n.01', 'user.n.01', 'content.n.01', 'pages.n.01', 'accounts.n.01', 'times.n.01', 'information.n.01', 'more.n.01', 'political.n.01', 'used.n.01', 'york.n.01', 'messenger.n.01', 'announced.n.01', 'mark.n.01', 'internet.n.01', 'were.n.01', 'network.n.01', 'been.n.01', 'friends.n.01', 'aol.n.01', 'verge.n.01', 'including.n.01', 'fake.n.01', 'russian.n.01']\n",
      "\n",
      "\n",
      "['google.n.01', 'googles.n.01', 'search.n.01', 'billion.n.01', 'company.n.01', 'inc.n.01', 'york.n.01', 'page.n.01', 'alphabet.n.01', 'android.n.01', 'announced.n.01', 'mobile.n.01', 'million.n.01', 'media.n.01', 'engine.n.01', 'data.n.01', 'internet.n.01', 'companies.n.01', 'project.n.01', 'verge.n.01', 'web.n.01', 'times.n.01', 'market.n.01', 'employees.n.01', 'energy.n.01', '1998.n.01', 'larry.n.01', 'service.n.01', 'news.n.01', 'stanford.n.01', 'business.n.01', 'advertising.n.01', 'public.n.01', 'view.n.01', 'world.n.01', 'had.n.01', 'vox.n.01', 'technology.n.01', 'cloud.n.01', 'brin.n.01']\n"
     ]
    }
   ],
   "source": [
    "cu = similar('Facebook','Google')"
   ]
  },
  {
   "cell_type": "code",
   "execution_count": 74,
   "metadata": {},
   "outputs": [
    {
     "name": "stdout",
     "output_type": "stream",
     "text": [
      "Probability of topics being related is 49%\n",
      "Count is 574 and sum is 283.75464108485454\n",
      "\n",
      "\n",
      "['chemistry.n.01', 'chemical.n.01', 'substances.n.01', 'energy.n.01', 'atoms.n.01', 'reaction.n.01', 'substance.n.01', 'more.n.01', 'electrons.n.01', 'molecules.n.01', 'study.n.01', 'elements.n.01', 'science.n.01', 'matter.n.01', 'reactions.n.01', 'alchemy.n.01', 'number.n.01', 'structure.n.01', 'theory.n.01', 'between.n.01', 'greek.n.01', 'history.n.01', 'mass.n.01', 'molecular.n.01', 'compounds.n.01', 'bonds.n.01', 'another.n.01', 'century.n.01', 'organic.n.01', 'physical.n.01', 'university.n.01', 'different.n.01', 'atom.n.01', 'table.n.01', 'state.n.01', 'bond.n.01', 'composition.n.01', 'properties.n.01', 'form.n.01', 'many.n.01']\n",
      "\n",
      "\n",
      "['physics.n.01', 'mechanics.n.01', 'theory.n.01', 'science.n.01', 'matter.n.01', 'research.n.01', 'quantum.n.01', 'physical.n.01', 'mathematics.n.01', 'classical.n.01', 'study.n.01', 'university.n.01', 'nature.n.01', 'astronomy.n.01', 'philosophy.n.01', 'theories.n.01', 'particle.n.01', 'particles.n.01', 'century.n.01', 'world.n.01', 'energy.n.01', 'universe.n.01', 'mathematical.n.01', 'many.n.01', 'modern.n.01', 'model.n.01', 'relativity.n.01', 'engineering.n.01', 'press.n.01', 'fundamental.n.01', 'scientific.n.01', 'nuclear.n.01', 'phenomena.n.01', 'light.n.01', 'condensed.n.01', 'motion.n.01', 'book.n.01', 'atomic.n.01', 'were.n.01', 'society.n.01']\n"
     ]
    }
   ],
   "source": [
    "cv = similar('Chemistry','Physics')"
   ]
  },
  {
   "cell_type": "code",
   "execution_count": 75,
   "metadata": {},
   "outputs": [
    {
     "name": "stdout",
     "output_type": "stream",
     "text": [
      "Probability of topics being related is 36%\n",
      "Count is 598 and sum is 217.35683870323606\n",
      "\n",
      "\n",
      "['biology.n.01', 'study.n.01', 'organisms.n.01', 'life.n.01', 'evolution.n.01', 'cell.n.01', 'biological.n.01', 'molecular.n.01', 'species.n.01', 'evolutionary.n.01', 'science.n.01', 'living.n.01', 'history.n.01', 'physiology.n.01', 'genetics.n.01', 'dna.n.01', 'ed.n.01', 'natural.n.01', 'cells.n.01', 'energy.n.01', 'systems.n.01', 'animals.n.01', 'organism.n.01', 'pmid.n.01', 'press.n.01', 'more.n.01', 'bacteria.n.01', 'origin.n.01', 'plants.n.01', 'ecology.n.01', 'university.n.01', 'processes.n.01', 'system.n.01', 'anatomy.n.01', 'theory.n.01', 'e.n.01', 'structure.n.01', 'research.n.01', 'human.n.01', 'sciences.n.01']\n",
      "\n",
      "\n",
      "['physics.n.01', 'mechanics.n.01', 'theory.n.01', 'science.n.01', 'matter.n.01', 'research.n.01', 'quantum.n.01', 'physical.n.01', 'mathematics.n.01', 'classical.n.01', 'study.n.01', 'university.n.01', 'nature.n.01', 'astronomy.n.01', 'philosophy.n.01', 'theories.n.01', 'particle.n.01', 'particles.n.01', 'century.n.01', 'world.n.01', 'energy.n.01', 'universe.n.01', 'mathematical.n.01', 'many.n.01', 'modern.n.01', 'model.n.01', 'relativity.n.01', 'engineering.n.01', 'press.n.01', 'fundamental.n.01', 'scientific.n.01', 'nuclear.n.01', 'phenomena.n.01', 'light.n.01', 'condensed.n.01', 'motion.n.01', 'book.n.01', 'atomic.n.01', 'were.n.01', 'society.n.01']\n"
     ]
    }
   ],
   "source": [
    "cw = similar('Biology','Physics')"
   ]
  },
  {
   "cell_type": "code",
   "execution_count": 76,
   "metadata": {},
   "outputs": [
    {
     "name": "stdout",
     "output_type": "stream",
     "text": [
      "Probability of topics being related is 49%\n",
      "Count is 507 and sum is 247.84154523273915\n",
      "\n",
      "\n",
      "['chemistry.n.01', 'chemical.n.01', 'substances.n.01', 'energy.n.01', 'atoms.n.01', 'reaction.n.01', 'substance.n.01', 'more.n.01', 'electrons.n.01', 'molecules.n.01', 'study.n.01', 'elements.n.01', 'science.n.01', 'matter.n.01', 'reactions.n.01', 'alchemy.n.01', 'number.n.01', 'structure.n.01', 'theory.n.01', 'between.n.01', 'greek.n.01', 'history.n.01', 'mass.n.01', 'molecular.n.01', 'compounds.n.01', 'bonds.n.01', 'another.n.01', 'century.n.01', 'organic.n.01', 'physical.n.01', 'university.n.01', 'different.n.01', 'atom.n.01', 'table.n.01', 'state.n.01', 'bond.n.01', 'composition.n.01', 'properties.n.01', 'form.n.01', 'many.n.01']\n",
      "\n",
      "\n",
      "['biology.n.01', 'study.n.01', 'organisms.n.01', 'life.n.01', 'evolution.n.01', 'cell.n.01', 'biological.n.01', 'molecular.n.01', 'species.n.01', 'evolutionary.n.01', 'science.n.01', 'living.n.01', 'history.n.01', 'physiology.n.01', 'genetics.n.01', 'dna.n.01', 'ed.n.01', 'natural.n.01', 'cells.n.01', 'energy.n.01', 'systems.n.01', 'animals.n.01', 'organism.n.01', 'pmid.n.01', 'press.n.01', 'more.n.01', 'bacteria.n.01', 'origin.n.01', 'plants.n.01', 'ecology.n.01', 'university.n.01', 'processes.n.01', 'system.n.01', 'anatomy.n.01', 'theory.n.01', 'e.n.01', 'structure.n.01', 'research.n.01', 'human.n.01', 'sciences.n.01']\n"
     ]
    }
   ],
   "source": [
    "cx = similar('Chemistry','Biology')"
   ]
  },
  {
   "cell_type": "code",
   "execution_count": 77,
   "metadata": {},
   "outputs": [
    {
     "name": "stdout",
     "output_type": "stream",
     "text": [
      "Probability of topics being related is 65%\n",
      "Count is 442 and sum is 287.2229904995284\n",
      "\n",
      "\n",
      "['chemistry.n.01', 'chemical.n.01', 'substances.n.01', 'energy.n.01', 'atoms.n.01', 'reaction.n.01', 'substance.n.01', 'more.n.01', 'electrons.n.01', 'molecules.n.01', 'study.n.01', 'elements.n.01', 'science.n.01', 'matter.n.01', 'reactions.n.01', 'alchemy.n.01', 'number.n.01', 'structure.n.01', 'theory.n.01', 'between.n.01', 'greek.n.01', 'history.n.01', 'mass.n.01', 'molecular.n.01', 'compounds.n.01', 'bonds.n.01', 'another.n.01', 'century.n.01', 'organic.n.01', 'physical.n.01', 'university.n.01', 'different.n.01', 'atom.n.01', 'table.n.01', 'state.n.01', 'bond.n.01', 'composition.n.01', 'properties.n.01', 'form.n.01', 'many.n.01']\n",
      "\n",
      "\n",
      "['elements.n.01', 'periodic.n.01', 'table.n.01', 'chemistry.n.01', 'group.n.01', 'chemical.n.01', 'atomic.n.01', 'electron.n.01', 'metals.n.01', 'element.n.01', 'properties.n.01', 'j.n.01', 'ed.n.01', 'd.n.01', 'groups.n.01', 'pp.n.01', 'r.n.01', 'g.n.01', 'e.n.01', 'number.n.01', 'transition.n.01', 'iupac.n.01', 'oxford.n.01', 'been.n.01', 'trends.n.01', 'period.n.01', 'form.n.01', 'york.n.01', 'electrons.n.01', 'more.n.01', 'energy.n.01', 'scerri.n.01', 't.n.01', 'w.n.01', 'noble.n.01', 'were.n.01', 'f.n.01', 'inorganic.n.01', 'c.n.01', 'm.n.01']\n"
     ]
    }
   ],
   "source": [
    "cy = similar('Chemistry','Periodic Table')"
   ]
  },
  {
   "cell_type": "code",
   "execution_count": 78,
   "metadata": {},
   "outputs": [
    {
     "name": "stdout",
     "output_type": "stream",
     "text": [
      "Probability of topics being related is 18%\n",
      "Count is 522 and sum is 92.61027346648297\n",
      "\n",
      "\n",
      "['physics.n.01', 'mechanics.n.01', 'theory.n.01', 'science.n.01', 'matter.n.01', 'research.n.01', 'quantum.n.01', 'physical.n.01', 'mathematics.n.01', 'classical.n.01', 'study.n.01', 'university.n.01', 'nature.n.01', 'astronomy.n.01', 'philosophy.n.01', 'theories.n.01', 'particle.n.01', 'particles.n.01', 'century.n.01', 'world.n.01', 'energy.n.01', 'universe.n.01', 'mathematical.n.01', 'many.n.01', 'modern.n.01', 'model.n.01', 'relativity.n.01', 'engineering.n.01', 'press.n.01', 'fundamental.n.01', 'scientific.n.01', 'nuclear.n.01', 'phenomena.n.01', 'light.n.01', 'condensed.n.01', 'motion.n.01', 'book.n.01', 'atomic.n.01', 'were.n.01', 'society.n.01']\n",
      "\n",
      "\n",
      "['elements.n.01', 'periodic.n.01', 'table.n.01', 'chemistry.n.01', 'group.n.01', 'chemical.n.01', 'atomic.n.01', 'electron.n.01', 'metals.n.01', 'element.n.01', 'properties.n.01', 'j.n.01', 'ed.n.01', 'd.n.01', 'groups.n.01', 'pp.n.01', 'r.n.01', 'g.n.01', 'e.n.01', 'number.n.01', 'transition.n.01', 'iupac.n.01', 'oxford.n.01', 'been.n.01', 'trends.n.01', 'period.n.01', 'form.n.01', 'york.n.01', 'electrons.n.01', 'more.n.01', 'energy.n.01', 'scerri.n.01', 't.n.01', 'w.n.01', 'noble.n.01', 'were.n.01', 'f.n.01', 'inorganic.n.01', 'c.n.01', 'm.n.01']\n"
     ]
    }
   ],
   "source": [
    "cz = similar('Physics','Periodic Table')"
   ]
  },
  {
   "cell_type": "code",
   "execution_count": 113,
   "metadata": {},
   "outputs": [
    {
     "name": "stdout",
     "output_type": "stream",
     "text": [
      "Probability of topics being related is 8%\n",
      "Count is 380 and sum is 30.1788670990173\n",
      "\n",
      "\n",
      "['sas.n.01', 'data.n.01', 'software.n.01', 'analysis.n.01', 'jmp.n.01', 'programming.n.01', 'management.n.01', 'university.n.01', 'statistical.n.01', 'pdf.n.01', 'business.n.01', 'version.n.01', 'institute.n.01', 'analytics.n.01', 'introduced.n.01', 'research.n.01', 'system.n.01', 'language.n.01', 'were.n.01', 'c.n.01', 'intelligence.n.01', 'goodnight.n.01', 'added.n.01', 'enterprise.n.01', 'barr.n.01', 'project.n.01', 'james.n.01', 'john.n.01', 'released.n.01', 'd.n.01', 'interface.n.01', 'statements.n.01', 'using.n.01', 'ibm.n.01', 'text.n.01', 'north.n.01', 'carolina.n.01', 'step.n.01', 'used.n.01', 'products.n.01']\n",
      "\n",
      "\n",
      "['lawrence.n.01', 'jennifer.n.01', 'film.n.01', 'actress.n.01', '/.n.01', 'games.n.01', 'best.n.01', 'hunger.n.01', 'list.n.01', 'award.n.01', 'role.n.01', 'winners.n.01', 'x-men.n.01', 'awards.n.01', 'hollywood.n.01', 'mtv.n.01', 'e.n.01', 'lawrences.n.01', 'movie.n.01', 'vs.n.01', 'v.n.01', 't.n.01', 'acting.n.01', '1996.n.01', '1997.n.01', '1998.n.01', '1999.n.01', 'york.n.01', 'million.n.01', 'meryl.n.01', 'streep.n.01', 'american.n.01', '100.n.01', 'series.n.01', 'performance.n.01', 'world.n.01', 'academy.n.01', 'part.n.01', 'review.n.01', 'cate.n.01']\n"
     ]
    }
   ],
   "source": [
    "da = similar('SAS (software)','Jennifer Lawrence')"
   ]
  },
  {
   "cell_type": "code",
   "execution_count": 114,
   "metadata": {},
   "outputs": [
    {
     "name": "stdout",
     "output_type": "stream",
     "text": [
      "Probability of topics being related is 13%\n",
      "Count is 494 and sum is 66.36733474492569\n",
      "\n",
      "\n",
      "['physics.n.01', 'mechanics.n.01', 'theory.n.01', 'science.n.01', 'matter.n.01', 'research.n.01', 'quantum.n.01', 'physical.n.01', 'mathematics.n.01', 'classical.n.01', 'study.n.01', 'university.n.01', 'nature.n.01', 'astronomy.n.01', 'philosophy.n.01', 'theories.n.01', 'particle.n.01', 'particles.n.01', 'century.n.01', 'world.n.01', 'energy.n.01', 'universe.n.01', 'mathematical.n.01', 'many.n.01', 'modern.n.01', 'model.n.01', 'relativity.n.01', 'engineering.n.01', 'press.n.01', 'fundamental.n.01', 'scientific.n.01', 'nuclear.n.01', 'phenomena.n.01', 'light.n.01', 'condensed.n.01', 'motion.n.01', 'book.n.01', 'atomic.n.01', 'were.n.01', 'society.n.01']\n",
      "\n",
      "\n",
      "['lawrence.n.01', 'jennifer.n.01', 'film.n.01', 'actress.n.01', '/.n.01', 'games.n.01', 'best.n.01', 'hunger.n.01', 'list.n.01', 'award.n.01', 'role.n.01', 'winners.n.01', 'x-men.n.01', 'awards.n.01', 'hollywood.n.01', 'mtv.n.01', 'e.n.01', 'lawrences.n.01', 'movie.n.01', 'vs.n.01', 'v.n.01', 't.n.01', 'acting.n.01', '1996.n.01', '1997.n.01', '1998.n.01', '1999.n.01', 'york.n.01', 'million.n.01', 'meryl.n.01', 'streep.n.01', 'american.n.01', '100.n.01', 'series.n.01', 'performance.n.01', 'world.n.01', 'academy.n.01', 'part.n.01', 'review.n.01', 'cate.n.01']\n"
     ]
    }
   ],
   "source": [
    "db = similar('Physics','Jennifer Lawrence')"
   ]
  },
  {
   "cell_type": "code",
   "execution_count": 116,
   "metadata": {},
   "outputs": [
    {
     "name": "stdout",
     "output_type": "stream",
     "text": [
      "Probability of topics being related is 14%\n",
      "Count is 362 and sum is 48.937359565558\n",
      "\n",
      "\n",
      "['paramore.n.01', 'band.n.01', 'williams.n.01', 'tour.n.01', 'album.n.01', 'hayley.n.01', 'farro.n.01', 'music.n.01', 'released.n.01', 'video.n.01', 'josh.n.01', 'song.n.01', 'were.n.01', 'rock.n.01', 'paramores.n.01', 'riot.n.01', 'bands.n.01', 'mtv.n.01', 'had.n.01', 'single.n.01', 'alternative.n.01', 'davis.n.01', 'interview.n.01', 'press.n.01', 'featured.n.01', 'news.n.01', 'guitar.n.01', 'summer.n.01', 'york.n.01', 'american.n.01', 'zac.n.01', 'songs.n.01', 'pop.n.01', 'jeremy.n.01', 'later.n.01', 'united.n.01', 'vocals.n.01', 'release.n.01', 'self-titled.n.01', 'laughter.n.01']\n",
      "\n",
      "\n",
      "['lawrence.n.01', 'jennifer.n.01', 'film.n.01', 'actress.n.01', '/.n.01', 'games.n.01', 'best.n.01', 'hunger.n.01', 'list.n.01', 'award.n.01', 'role.n.01', 'winners.n.01', 'x-men.n.01', 'awards.n.01', 'hollywood.n.01', 'mtv.n.01', 'e.n.01', 'lawrences.n.01', 'movie.n.01', 'vs.n.01', 'v.n.01', 't.n.01', 'acting.n.01', '1996.n.01', '1997.n.01', '1998.n.01', '1999.n.01', 'york.n.01', 'million.n.01', 'meryl.n.01', 'streep.n.01', 'american.n.01', '100.n.01', 'series.n.01', 'performance.n.01', 'world.n.01', 'academy.n.01', 'part.n.01', 'review.n.01', 'cate.n.01']\n"
     ]
    }
   ],
   "source": [
    "dc = similar('Paramore','Jennifer Lawrence')"
   ]
  },
  {
   "cell_type": "code",
   "execution_count": 117,
   "metadata": {},
   "outputs": [
    {
     "data": {
      "text/html": [
       "<div>\n",
       "<style scoped>\n",
       "    .dataframe tbody tr th:only-of-type {\n",
       "        vertical-align: middle;\n",
       "    }\n",
       "\n",
       "    .dataframe tbody tr th {\n",
       "        vertical-align: top;\n",
       "    }\n",
       "\n",
       "    .dataframe thead th {\n",
       "        text-align: right;\n",
       "    }\n",
       "</style>\n",
       "<table border=\"1\" class=\"dataframe\">\n",
       "  <thead>\n",
       "    <tr style=\"text-align: right;\">\n",
       "      <th></th>\n",
       "      <th>Topic 1</th>\n",
       "      <th>Topic 2</th>\n",
       "      <th>Percent</th>\n",
       "      <th>Related?</th>\n",
       "    </tr>\n",
       "  </thead>\n",
       "  <tbody>\n",
       "    <tr>\n",
       "      <th>0</th>\n",
       "      <td>Armin van Buuren</td>\n",
       "      <td>Tiesto</td>\n",
       "      <td>73</td>\n",
       "      <td>Yes</td>\n",
       "    </tr>\n",
       "    <tr>\n",
       "      <th>1</th>\n",
       "      <td>Martin Garrix</td>\n",
       "      <td>Tiesto</td>\n",
       "      <td>65</td>\n",
       "      <td>Yes</td>\n",
       "    </tr>\n",
       "    <tr>\n",
       "      <th>2</th>\n",
       "      <td>Tiesto</td>\n",
       "      <td>Martin Garrix</td>\n",
       "      <td>65</td>\n",
       "      <td>Yes</td>\n",
       "    </tr>\n",
       "    <tr>\n",
       "      <th>3</th>\n",
       "      <td>vulpix</td>\n",
       "      <td>pikachu</td>\n",
       "      <td>100</td>\n",
       "      <td>Yes</td>\n",
       "    </tr>\n",
       "    <tr>\n",
       "      <th>4</th>\n",
       "      <td>Need For Speed Underground 2</td>\n",
       "      <td>dota 2</td>\n",
       "      <td>100</td>\n",
       "      <td>Yes</td>\n",
       "    </tr>\n",
       "    <tr>\n",
       "      <th>5</th>\n",
       "      <td>beyonce</td>\n",
       "      <td>dota 2</td>\n",
       "      <td>51</td>\n",
       "      <td>Yes</td>\n",
       "    </tr>\n",
       "    <tr>\n",
       "      <th>6</th>\n",
       "      <td>Beyonce</td>\n",
       "      <td>Rihanna</td>\n",
       "      <td>100</td>\n",
       "      <td>Yes</td>\n",
       "    </tr>\n",
       "    <tr>\n",
       "      <th>7</th>\n",
       "      <td>cupcakes</td>\n",
       "      <td>rihanna</td>\n",
       "      <td>7</td>\n",
       "      <td>No</td>\n",
       "    </tr>\n",
       "    <tr>\n",
       "      <th>8</th>\n",
       "      <td>donald trump</td>\n",
       "      <td>rihanna</td>\n",
       "      <td>8</td>\n",
       "      <td>No</td>\n",
       "    </tr>\n",
       "    <tr>\n",
       "      <th>9</th>\n",
       "      <td>Citi Bank</td>\n",
       "      <td>goldman sachs</td>\n",
       "      <td>75</td>\n",
       "      <td>Yes</td>\n",
       "    </tr>\n",
       "    <tr>\n",
       "      <th>10</th>\n",
       "      <td>OCBC Bank</td>\n",
       "      <td>Citi Bank</td>\n",
       "      <td>69</td>\n",
       "      <td>Yes</td>\n",
       "    </tr>\n",
       "    <tr>\n",
       "      <th>11</th>\n",
       "      <td>Malaysia</td>\n",
       "      <td>Singapore</td>\n",
       "      <td>100</td>\n",
       "      <td>Yes</td>\n",
       "    </tr>\n",
       "    <tr>\n",
       "      <th>12</th>\n",
       "      <td>Lee Kuan Yew</td>\n",
       "      <td>Lee Hsien Loong</td>\n",
       "      <td>100</td>\n",
       "      <td>Yes</td>\n",
       "    </tr>\n",
       "    <tr>\n",
       "      <th>13</th>\n",
       "      <td>Lee Kuan Yew</td>\n",
       "      <td>Mahathir Mohamad</td>\n",
       "      <td>48</td>\n",
       "      <td>No</td>\n",
       "    </tr>\n",
       "    <tr>\n",
       "      <th>14</th>\n",
       "      <td>Malaysia</td>\n",
       "      <td>Finland</td>\n",
       "      <td>100</td>\n",
       "      <td>Yes</td>\n",
       "    </tr>\n",
       "    <tr>\n",
       "      <th>15</th>\n",
       "      <td>Japanese language</td>\n",
       "      <td>Chinese language</td>\n",
       "      <td>100</td>\n",
       "      <td>Yes</td>\n",
       "    </tr>\n",
       "    <tr>\n",
       "      <th>16</th>\n",
       "      <td>Amsterdam</td>\n",
       "      <td>London</td>\n",
       "      <td>89</td>\n",
       "      <td>Yes</td>\n",
       "    </tr>\n",
       "    <tr>\n",
       "      <th>17</th>\n",
       "      <td>Angela Merkel</td>\n",
       "      <td>Berlin</td>\n",
       "      <td>53</td>\n",
       "      <td>Yes</td>\n",
       "    </tr>\n",
       "    <tr>\n",
       "      <th>18</th>\n",
       "      <td>Angela Merkel</td>\n",
       "      <td>London</td>\n",
       "      <td>19</td>\n",
       "      <td>No</td>\n",
       "    </tr>\n",
       "    <tr>\n",
       "      <th>19</th>\n",
       "      <td>Adolf Hitler</td>\n",
       "      <td>Berlin</td>\n",
       "      <td>53</td>\n",
       "      <td>Yes</td>\n",
       "    </tr>\n",
       "    <tr>\n",
       "      <th>20</th>\n",
       "      <td>Adolf Hitler</td>\n",
       "      <td>London</td>\n",
       "      <td>20</td>\n",
       "      <td>No</td>\n",
       "    </tr>\n",
       "    <tr>\n",
       "      <th>21</th>\n",
       "      <td>Johnny Depp</td>\n",
       "      <td>Beyonce</td>\n",
       "      <td>22</td>\n",
       "      <td>No</td>\n",
       "    </tr>\n",
       "    <tr>\n",
       "      <th>22</th>\n",
       "      <td>Johnny Depp</td>\n",
       "      <td>Rihanna</td>\n",
       "      <td>10</td>\n",
       "      <td>No</td>\n",
       "    </tr>\n",
       "    <tr>\n",
       "      <th>23</th>\n",
       "      <td>beyonce</td>\n",
       "      <td>Donald Trump</td>\n",
       "      <td>33</td>\n",
       "      <td>No</td>\n",
       "    </tr>\n",
       "    <tr>\n",
       "      <th>24</th>\n",
       "      <td>Amsterdam</td>\n",
       "      <td>Van Gogh</td>\n",
       "      <td>64</td>\n",
       "      <td>Yes</td>\n",
       "    </tr>\n",
       "    <tr>\n",
       "      <th>25</th>\n",
       "      <td>Obama</td>\n",
       "      <td>Goldman Sachs</td>\n",
       "      <td>22</td>\n",
       "      <td>No</td>\n",
       "    </tr>\n",
       "    <tr>\n",
       "      <th>26</th>\n",
       "      <td>Obama</td>\n",
       "      <td>Nickelback</td>\n",
       "      <td>1</td>\n",
       "      <td>No</td>\n",
       "    </tr>\n",
       "    <tr>\n",
       "      <th>27</th>\n",
       "      <td>21 Pilots</td>\n",
       "      <td>Nickelback</td>\n",
       "      <td>99</td>\n",
       "      <td>Yes</td>\n",
       "    </tr>\n",
       "    <tr>\n",
       "      <th>28</th>\n",
       "      <td>21 Pilots</td>\n",
       "      <td>Cobra Starship</td>\n",
       "      <td>91</td>\n",
       "      <td>Yes</td>\n",
       "    </tr>\n",
       "    <tr>\n",
       "      <th>29</th>\n",
       "      <td>My Chemical Romance</td>\n",
       "      <td>Linkin Park</td>\n",
       "      <td>100</td>\n",
       "      <td>Yes</td>\n",
       "    </tr>\n",
       "    <tr>\n",
       "      <th>30</th>\n",
       "      <td>My Chemical Romance</td>\n",
       "      <td>Imagine Dragons</td>\n",
       "      <td>100</td>\n",
       "      <td>Yes</td>\n",
       "    </tr>\n",
       "    <tr>\n",
       "      <th>31</th>\n",
       "      <td>Jay Chou</td>\n",
       "      <td>Jolin Tsai</td>\n",
       "      <td>88</td>\n",
       "      <td>Yes</td>\n",
       "    </tr>\n",
       "    <tr>\n",
       "      <th>32</th>\n",
       "      <td>Paramore</td>\n",
       "      <td>Nickelback</td>\n",
       "      <td>100</td>\n",
       "      <td>Yes</td>\n",
       "    </tr>\n",
       "    <tr>\n",
       "      <th>33</th>\n",
       "      <td>Python (programming language)</td>\n",
       "      <td>Java (programming language)</td>\n",
       "      <td>74</td>\n",
       "      <td>Yes</td>\n",
       "    </tr>\n",
       "    <tr>\n",
       "      <th>34</th>\n",
       "      <td>Johnny Depp</td>\n",
       "      <td>Michael Bay</td>\n",
       "      <td>53</td>\n",
       "      <td>Yes</td>\n",
       "    </tr>\n",
       "    <tr>\n",
       "      <th>35</th>\n",
       "      <td>Johnny Depp</td>\n",
       "      <td>Jennifer Lawrence</td>\n",
       "      <td>51</td>\n",
       "      <td>Yes</td>\n",
       "    </tr>\n",
       "    <tr>\n",
       "      <th>36</th>\n",
       "      <td>SAS (software)</td>\n",
       "      <td>SPSS</td>\n",
       "      <td>79</td>\n",
       "      <td>Yes</td>\n",
       "    </tr>\n",
       "    <tr>\n",
       "      <th>37</th>\n",
       "      <td>Chemistry</td>\n",
       "      <td>Physics</td>\n",
       "      <td>49</td>\n",
       "      <td>No</td>\n",
       "    </tr>\n",
       "    <tr>\n",
       "      <th>38</th>\n",
       "      <td>Biology</td>\n",
       "      <td>Physics</td>\n",
       "      <td>36</td>\n",
       "      <td>No</td>\n",
       "    </tr>\n",
       "    <tr>\n",
       "      <th>39</th>\n",
       "      <td>Chemistry</td>\n",
       "      <td>Biology</td>\n",
       "      <td>49</td>\n",
       "      <td>No</td>\n",
       "    </tr>\n",
       "    <tr>\n",
       "      <th>40</th>\n",
       "      <td>SAS (software)</td>\n",
       "      <td>Jennifer Lawrence</td>\n",
       "      <td>8</td>\n",
       "      <td>No</td>\n",
       "    </tr>\n",
       "    <tr>\n",
       "      <th>41</th>\n",
       "      <td>Physics</td>\n",
       "      <td>Jennifer Lawrence</td>\n",
       "      <td>13</td>\n",
       "      <td>No</td>\n",
       "    </tr>\n",
       "    <tr>\n",
       "      <th>42</th>\n",
       "      <td>Paramore</td>\n",
       "      <td>Jennifer Lawrence</td>\n",
       "      <td>14</td>\n",
       "      <td>No</td>\n",
       "    </tr>\n",
       "  </tbody>\n",
       "</table>\n",
       "</div>"
      ],
      "text/plain": [
       "                          Topic 1                      Topic 2  Percent  \\\n",
       "0                Armin van Buuren                       Tiesto       73   \n",
       "1                   Martin Garrix                       Tiesto       65   \n",
       "2                          Tiesto                Martin Garrix       65   \n",
       "3                          vulpix                      pikachu      100   \n",
       "4    Need For Speed Underground 2                       dota 2      100   \n",
       "5                         beyonce                       dota 2       51   \n",
       "6                         Beyonce                      Rihanna      100   \n",
       "7                        cupcakes                      rihanna        7   \n",
       "8                    donald trump                      rihanna        8   \n",
       "9                       Citi Bank                goldman sachs       75   \n",
       "10                      OCBC Bank                    Citi Bank       69   \n",
       "11                       Malaysia                    Singapore      100   \n",
       "12                   Lee Kuan Yew              Lee Hsien Loong      100   \n",
       "13                   Lee Kuan Yew             Mahathir Mohamad       48   \n",
       "14                       Malaysia                      Finland      100   \n",
       "15              Japanese language             Chinese language      100   \n",
       "16                      Amsterdam                       London       89   \n",
       "17                  Angela Merkel                       Berlin       53   \n",
       "18                  Angela Merkel                       London       19   \n",
       "19                   Adolf Hitler                       Berlin       53   \n",
       "20                   Adolf Hitler                       London       20   \n",
       "21                    Johnny Depp                      Beyonce       22   \n",
       "22                    Johnny Depp                      Rihanna       10   \n",
       "23                        beyonce                 Donald Trump       33   \n",
       "24                      Amsterdam                     Van Gogh       64   \n",
       "25                          Obama                Goldman Sachs       22   \n",
       "26                          Obama                   Nickelback        1   \n",
       "27                      21 Pilots                   Nickelback       99   \n",
       "28                      21 Pilots               Cobra Starship       91   \n",
       "29            My Chemical Romance                  Linkin Park      100   \n",
       "30            My Chemical Romance              Imagine Dragons      100   \n",
       "31                       Jay Chou                   Jolin Tsai       88   \n",
       "32                       Paramore                   Nickelback      100   \n",
       "33  Python (programming language)  Java (programming language)       74   \n",
       "34                    Johnny Depp                  Michael Bay       53   \n",
       "35                    Johnny Depp            Jennifer Lawrence       51   \n",
       "36                 SAS (software)                         SPSS       79   \n",
       "37                      Chemistry                      Physics       49   \n",
       "38                        Biology                      Physics       36   \n",
       "39                      Chemistry                      Biology       49   \n",
       "40                 SAS (software)            Jennifer Lawrence        8   \n",
       "41                        Physics            Jennifer Lawrence       13   \n",
       "42                       Paramore            Jennifer Lawrence       14   \n",
       "\n",
       "   Related?  \n",
       "0       Yes  \n",
       "1       Yes  \n",
       "2       Yes  \n",
       "3       Yes  \n",
       "4       Yes  \n",
       "5       Yes  \n",
       "6       Yes  \n",
       "7        No  \n",
       "8        No  \n",
       "9       Yes  \n",
       "10      Yes  \n",
       "11      Yes  \n",
       "12      Yes  \n",
       "13       No  \n",
       "14      Yes  \n",
       "15      Yes  \n",
       "16      Yes  \n",
       "17      Yes  \n",
       "18       No  \n",
       "19      Yes  \n",
       "20       No  \n",
       "21       No  \n",
       "22       No  \n",
       "23       No  \n",
       "24      Yes  \n",
       "25       No  \n",
       "26       No  \n",
       "27      Yes  \n",
       "28      Yes  \n",
       "29      Yes  \n",
       "30      Yes  \n",
       "31      Yes  \n",
       "32      Yes  \n",
       "33      Yes  \n",
       "34      Yes  \n",
       "35      Yes  \n",
       "36      Yes  \n",
       "37       No  \n",
       "38       No  \n",
       "39       No  \n",
       "40       No  \n",
       "41       No  \n",
       "42       No  "
      ]
     },
     "execution_count": 117,
     "metadata": {},
     "output_type": "execute_result"
    }
   ],
   "source": [
    "import numpy as np\n",
    "import pandas as pd\n",
    "\n",
    "allrows = {0:aa.ans(),3:ad.ans(),4:ae.ans(),5:af.ans(),6:ag.ans(),7:ah.ans(),8:ai.ans(),9:aj.ans(),\n",
    "           10:ak.ans(),16:aq.ans(),17:ar.ans(),18:as_.ans(),\n",
    "           19:at.ans(),20:au.ans(),23:ax.ans(),24:ay.ans(),\n",
    "           29:bb.ans(),31:bd.ans(),32:be.ans(),33:bf.ans(),34:bg.ans(),\n",
    "           42:bo.ans(),43:bp.ans(),\n",
    "           46:bs.ans(),47:bt.ans(),48:bu.ans(),49:bv.ans(),51:bx.ans(),52:by.ans(),53:bz.ans(),54:ca.ans(),\n",
    "           55:cc.ans(),56:cd.ans(),57:cf.ans(),58:ci.ans(),59:cj.ans(),60:ck.ans(),61:cv.ans(),62:cw.ans(),63:cx.ans(),\n",
    "           64:da.ans(),65:db.ans(),66:dc.ans()}\n",
    "\n",
    "finaltable = []\n",
    "for key in allrows:\n",
    "    finaltable.append(allrows[key])\n",
    "\n",
    "#finaltable\n",
    "finalDFtable = pd.DataFrame(finaltable,columns=['Topic 1','Topic 2','Percent','Related?'])\n",
    "\n",
    "finalDFtable"
   ]
  },
  {
   "cell_type": "code",
   "execution_count": null,
   "metadata": {},
   "outputs": [],
   "source": []
  }
 ],
 "metadata": {
  "kernelspec": {
   "display_name": "Python 3",
   "language": "python",
   "name": "python3"
  },
  "language_info": {
   "codemirror_mode": {
    "name": "ipython",
    "version": 3
   },
   "file_extension": ".py",
   "mimetype": "text/x-python",
   "name": "python",
   "nbconvert_exporter": "python",
   "pygments_lexer": "ipython3",
   "version": "3.6.5"
  }
 },
 "nbformat": 4,
 "nbformat_minor": 2
}
