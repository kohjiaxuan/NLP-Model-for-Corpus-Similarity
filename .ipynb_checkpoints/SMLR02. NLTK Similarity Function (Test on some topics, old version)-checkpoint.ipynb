{
 "cells": [
  {
   "cell_type": "code",
   "execution_count": 1,
   "metadata": {},
   "outputs": [
    {
     "name": "stdout",
     "output_type": "stream",
     "text": [
      "[nltk_data] Downloading package wordnet to\n",
      "[nltk_data]     C:\\Users\\jx\\AppData\\Roaming\\nltk_data...\n",
      "[nltk_data]   Package wordnet is already up-to-date!\n"
     ]
    }
   ],
   "source": [
    "import wikionly #script name is wikionly (no summary), class name is wiki\n",
    "import re as re\n",
    "import nltk\n",
    "nltk.download('wordnet')\n",
    "from nltk.corpus import wordnet\n",
    "import math\n",
    "\n",
    "class similar:\n",
    "    def __init__(self,text1,text2):\n",
    "\n",
    "        self.wn = nltk.corpus.wordnet #the corpus reader\n",
    "\n",
    "        checkstr = False\n",
    "        if isinstance(text1, str) == True:\n",
    "            if isinstance(text2, str) == True:\n",
    "                self.text1 = text1\n",
    "                self.text2 = text2\n",
    "                checkstr = True\n",
    "            else:\n",
    "                print('Error! The second argument is not a string format!')        \n",
    "        else:\n",
    "            print('Error! The first argument is not a string format!')\n",
    "        \n",
    "        if checkstr == True:\n",
    "            self.wiki1 = wikionly.wiki(text1)\n",
    "            self.wiki2 = wikionly.wiki(text2)\n",
    "        \n",
    "        #call the function that calculates percentage\n",
    "        self.percent(self.wiki1,self.wiki2)\n",
    "        \n",
    "        #call the function that shows list of words for both Wiki sites\n",
    "        self.words()\n",
    "        \n",
    "    def percent(self,input1,input2):\n",
    "        self.dotn01 = ('.','n','.','0','1')\n",
    "        self.wiki1list = []\n",
    "        for key in self.wiki1.commonwords(40):\n",
    "            self.wiki1slice = list(key)\n",
    "            for letter in self.dotn01:\n",
    "                self.wiki1slice.append(letter)\n",
    "            self.wiki1slice = ''.join(self.wiki1slice)\n",
    "            self.wiki1list.append(self.wiki1slice)\n",
    "\n",
    "        self.wiki2list = []\n",
    "        for key in self.wiki2.commonwords(40):\n",
    "            self.wiki2slice = list(key)\n",
    "            for letter in self.dotn01:\n",
    "                self.wiki2slice.append(letter)\n",
    "            self.wiki2slice = ''.join(self.wiki2slice)\n",
    "            self.wiki2list.append(self.wiki2slice)\n",
    "\n",
    "        self.count = 0\n",
    "        self.sum = 0\n",
    "        #A count for the ranking of the word (how often it appears in both wiki passages)\n",
    "        self.topten1 = 0\n",
    "        self.topten2 = 0\n",
    "\n",
    "        for word1 in self.wiki1list:\n",
    "            #Reset self.topten2\n",
    "            self.topten2 = 0\n",
    "            self.topten1 += 1\n",
    "            for word2 in self.wiki2list:\n",
    "                self.topten2 += 1\n",
    "                #reinitialize to zero to prevent old sums from going into maxsum\n",
    "                self.sum1 = 0\n",
    "                self.sum2 = 0\n",
    "                self.sum3 = 0\n",
    "                self.sum4 = 0\n",
    "                self.maxsum = 0\n",
    "                \n",
    "                if self.topten1 < 11 and self.topten2 < 11:\n",
    "                    self.expvalue = 4.5 #3.5\n",
    "                elif self.topten1 < 21 and self.topten2 < 21:\n",
    "                    self.expvalue = 2\n",
    "                else:\n",
    "                    self.expvalue = 1.5\n",
    "                \n",
    "                try:\n",
    "                    if re.findall(r\"\\d+.n.01\", word1) == [] and re.findall(r\"\\d+.n.01\", word2) == []: #check both words not numbers\n",
    "                        word11 = word1.replace('n.01','n.02')\n",
    "                        word22 = word2.replace('n.01','n.02')\n",
    "                        #print(word11,word22)\n",
    "                        self.x = self.wn.synset(word1)\n",
    "                        self.y = self.wn.synset(word2)\n",
    "                        #get default similarity value of 1st definitions of word\n",
    "                        self.sum1 = self.x.path_similarity(self.y) * math.exp(self.expvalue * self.x.path_similarity(self.y)) + 10 * math.log(0.89+self.x.path_similarity(self.y))\n",
    "                        try: #get 2nd definitions of words and their similarity values, if it exist\n",
    "                            self.xx = self.wn.synset(word11)\n",
    "                            self.yy = self.wn.synset(word22)\n",
    "                            self.sum2 = self.xx.path_similarity(self.y) * math.exp(self.expvalue * self.xx.path_similarity(self.y)) + 10 * math.log(0.89+self.xx.path_similarity(self.y))\n",
    "                            self.sum3 = self.x.path_similarity(self.yy) * math.exp(self.expvalue * self.x.path_similarity(self.yy)) + 10 * math.log(0.89+self.x.path_similarity(self.yy))\n",
    "                            self.sum4 = self.xx.path_similarity(self.yy) * math.exp(self.expvalue * self.xx.path_similarity(self.yy)) + 10 * math.log(0.89+self.xx.path_similarity(self.yy))\n",
    "                        except:\n",
    "                            continue\n",
    "                        self.maxsum = max(self.sum1,self.sum2,self.sum3,self.sum4) #get the max similarity value to sum inside\n",
    "                        #print(word1, word2, self.maxsum)\n",
    "                        self.sum += self.maxsum\n",
    "                        self.count += 1\n",
    "                except:\n",
    "                    if word1 == word2 and re.findall(r\"\\d+.n.01\", word1) == []: #remove years/numbers being counted as match yyyy.n.01\n",
    "                        self.sum += math.exp(self.expvalue) + 10 * math.log(1.89)\n",
    "                        self.count += 1\n",
    "                    else:\n",
    "                        continue\n",
    "\n",
    "        if self.count != 0:\n",
    "            self.percent = round(self.sum/self.count*100)\n",
    "            if self.percent > 100:\n",
    "                self.percent = 100\n",
    "            elif self.percent < 0:\n",
    "                self.percent = 0\n",
    "            print('Probability of topics being related is ' + str(self.percent) + '%')\n",
    "            print('Count is ' + str(self.count) + ' and sum is ' + str(self.sum))\n",
    "            print('\\n')\n",
    "        else:\n",
    "            print('No relation index can be calculated as words are all foreign')\n",
    "            \n",
    "        return self.percent\n",
    "        \n",
    "    def words(self):\n",
    "        print(self.wiki1list)\n",
    "        print('\\n')\n",
    "        print(self.wiki2list)\n",
    "        \n",
    "    def ans(self):\n",
    "        self.listans = [self.text1,self.text2,self.percent]\n",
    "        if self.percent > 49:\n",
    "            self.listans.append('Yes')\n",
    "        else:\n",
    "            self.listans.append('No')\n",
    "        return self.listans\n",
    "            \n",
    "\n",
    "            "
   ]
  },
  {
   "cell_type": "code",
   "execution_count": 4,
   "metadata": {},
   "outputs": [
    {
     "name": "stdout",
     "output_type": "stream",
     "text": [
      "Probability of topics being related is 74%\n",
      "Count is 534 and sum is 394.6179933811743\n",
      "\n",
      "\n",
      "['van.n.01', 'buuren.n.01', 'armin.n.01', 'trance.n.01', 'music.n.01', 'state.n.01', 'dj.n.01', 'album.n.01', 'radio.n.01', 'dutch.n.01', 'released.n.01', 'single.n.01', '2016-06-21.n.01', 'armada.n.01', 'show.n.01', 'mag.n.01', 'netherlands.n.01', 'studio.n.01', 'number.n.01', 'episode.n.01', 'artists.n.01', 'djs.n.01', 'award.n.01', 'announced.n.01', 'track.n.01', 'house.n.01', 'identifiers.n.01', 'world.n.01', 'dance.n.01', 'release.n.01', 'buurens.n.01', 'paul.n.01', 'tour.n.01', 'various.n.01', 'performed.n.01', 'live.n.01', 'ultra.n.01', 'festival.n.01', 'record.n.01', 'fourth.n.01']\n",
      "\n",
      "\n",
      "['tiësto.n.01', 'album.n.01', 'released.n.01', 'dj.n.01', 'life.n.01', 'tour.n.01', 'music.n.01', 'search.n.01', 'sunrise.n.01', 'live.n.01', 'dutch.n.01', 'trance.n.01', 'world.n.01', 'van.n.01', 'tiesto.n.01', 'club.n.01', 'billboard.n.01', 'concert.n.01', 'elements.n.01', 'magazine.n.01', 'remixed.n.01', 'armin.n.01', 'buuren.n.01', 'gouryella.n.01', 'called.n.01', 'house.n.01', 'dance.n.01', 'compilation.n.01', 'series.n.01', 'top.n.01', 'djs.n.01', 'three.n.01', 'radio.n.01', 'amsterdam.n.01', 'years.n.01', 'black.n.01', 'hole.n.01', 'recordings.n.01', 'performed.n.01', 'chart.n.01']\n"
     ]
    },
    {
     "data": {
      "text/plain": [
       "['Armin van Buuren', 'Tiesto', 74, 'Yes']"
      ]
     },
     "execution_count": 4,
     "metadata": {},
     "output_type": "execute_result"
    }
   ],
   "source": [
    "aa = similar('Armin van Buuren','Tiesto')\n",
    "aa.ans()"
   ]
  },
  {
   "cell_type": "code",
   "execution_count": 5,
   "metadata": {},
   "outputs": [
    {
     "name": "stdout",
     "output_type": "stream",
     "text": [
      "Probability of topics being related is 100%\n",
      "Count is 420 and sum is 536.2194438472601\n",
      "\n",
      "\n",
      "['van.n.01', 'buuren.n.01', 'armin.n.01', 'trance.n.01', 'music.n.01', 'state.n.01', 'dj.n.01', 'album.n.01', 'radio.n.01', 'dutch.n.01', 'released.n.01', 'single.n.01', '2016-06-21.n.01', 'armada.n.01', 'show.n.01', 'mag.n.01', 'netherlands.n.01', 'studio.n.01', 'number.n.01', 'episode.n.01', 'artists.n.01', 'djs.n.01', 'award.n.01', 'announced.n.01', 'track.n.01', 'house.n.01', 'identifiers.n.01', 'world.n.01', 'dance.n.01', 'release.n.01', 'buurens.n.01', 'paul.n.01', 'tour.n.01', 'various.n.01', 'performed.n.01', 'live.n.01', 'ultra.n.01', 'festival.n.01', 'record.n.01', 'fourth.n.01']\n",
      "\n",
      "\n",
      "['van.n.01', 'dyk.n.01', 'paul.n.01', 'album.n.01', 'music.n.01', 'armin.n.01', 'buuren.n.01', '2016-06-07.n.01', 'dj.n.01', 'german.n.01', 'berlin.n.01', 'politics.n.01', 'released.n.01', 'dancing.n.01', 'single.n.01', 'identifiers.n.01', 'dance.n.01', 'between.n.01', '/.n.01', 'djs.n.01', 'trance.n.01', 'radio.n.01', 'records.n.01', 'ultra.n.01', 'mfs.n.01', 'ways.n.01', 'artists.n.01', 'dyks.n.01', 'song.n.01', 'record.n.01', 'award.n.01', 'reflections.n.01', 'label.n.01', 'electronic.n.01', 'began.n.01', 'fall.n.01', 'seven.n.01', 'vandit.n.01', 'billboard.n.01', 'producer.n.01']\n"
     ]
    }
   ],
   "source": [
    "ab = similar('Armin van Buuren','paul van dyk')"
   ]
  },
  {
   "cell_type": "code",
   "execution_count": 6,
   "metadata": {},
   "outputs": [
    {
     "name": "stdout",
     "output_type": "stream",
     "text": [
      "Probability of topics being related is 65%\n",
      "Count is 417 and sum is 270.4374019137571\n",
      "\n",
      "\n",
      "['van.n.01', 'dyk.n.01', 'paul.n.01', 'album.n.01', 'music.n.01', 'armin.n.01', 'buuren.n.01', '2016-06-07.n.01', 'dj.n.01', 'german.n.01', 'berlin.n.01', 'politics.n.01', 'released.n.01', 'dancing.n.01', 'single.n.01', 'identifiers.n.01', 'dance.n.01', 'between.n.01', '/.n.01', 'djs.n.01', 'trance.n.01', 'radio.n.01', 'records.n.01', 'ultra.n.01', 'mfs.n.01', 'ways.n.01', 'artists.n.01', 'dyks.n.01', 'song.n.01', 'record.n.01', 'award.n.01', 'reflections.n.01', 'label.n.01', 'electronic.n.01', 'began.n.01', 'fall.n.01', 'seven.n.01', 'vandit.n.01', 'billboard.n.01', 'producer.n.01']\n",
      "\n",
      "\n",
      "['tiësto.n.01', 'album.n.01', 'released.n.01', 'dj.n.01', 'life.n.01', 'tour.n.01', 'music.n.01', 'search.n.01', 'sunrise.n.01', 'live.n.01', 'dutch.n.01', 'trance.n.01', 'world.n.01', 'van.n.01', 'tiesto.n.01', 'club.n.01', 'billboard.n.01', 'concert.n.01', 'elements.n.01', 'magazine.n.01', 'remixed.n.01', 'armin.n.01', 'buuren.n.01', 'gouryella.n.01', 'called.n.01', 'house.n.01', 'dance.n.01', 'compilation.n.01', 'series.n.01', 'top.n.01', 'djs.n.01', 'three.n.01', 'radio.n.01', 'amsterdam.n.01', 'years.n.01', 'black.n.01', 'hole.n.01', 'recordings.n.01', 'performed.n.01', 'chart.n.01']\n"
     ]
    }
   ],
   "source": [
    "ac = similar('Paul van dyk','Tiesto')"
   ]
  },
  {
   "cell_type": "code",
   "execution_count": 7,
   "metadata": {},
   "outputs": [
    {
     "name": "stdout",
     "output_type": "stream",
     "text": [
      "Probability of topics being related is 65%\n",
      "Count is 439 and sum is 287.4956461699605\n",
      "\n",
      "\n",
      "['garrix.n.01', 'martin.n.01', 'dj.n.01', 'released.n.01', 'music.n.01', 'billboard.n.01', 'single.n.01', 'records.n.01', 'edm.n.01', 'dutch.n.01', 'track.n.01', 'collaboration.n.01', 'song.n.01', 'top.n.01', 'djs.n.01', 'festival.n.01', 'announced.n.01', 'video.n.01', 'mag.n.01', 'spinnin.n.01', 'release.n.01', 'ultra.n.01', 'van.n.01', 'artists.n.01', 'watch.n.01', 'featuring.n.01', '100.n.01', 'tomorrowland.n.01', 'songs.n.01', 'armani.n.01', 'number.n.01', 'ibiza.n.01', 'label.n.01', 'singer.n.01', 'show.n.01', 'scared.n.01', 'lonely.n.01', 'house.n.01', 'set.n.01', 'bein.n.01']\n",
      "\n",
      "\n",
      "['tiësto.n.01', 'album.n.01', 'released.n.01', 'dj.n.01', 'life.n.01', 'tour.n.01', 'music.n.01', 'search.n.01', 'sunrise.n.01', 'live.n.01', 'dutch.n.01', 'trance.n.01', 'world.n.01', 'van.n.01', 'tiesto.n.01', 'club.n.01', 'billboard.n.01', 'concert.n.01', 'elements.n.01', 'magazine.n.01', 'remixed.n.01', 'armin.n.01', 'buuren.n.01', 'gouryella.n.01', 'called.n.01', 'house.n.01', 'dance.n.01', 'compilation.n.01', 'series.n.01', 'top.n.01', 'djs.n.01', 'three.n.01', 'radio.n.01', 'amsterdam.n.01', 'years.n.01', 'black.n.01', 'hole.n.01', 'recordings.n.01', 'performed.n.01', 'chart.n.01']\n"
     ]
    }
   ],
   "source": [
    "ad = similar('Martin Garrix','Tiesto')"
   ]
  },
  {
   "cell_type": "code",
   "execution_count": 8,
   "metadata": {},
   "outputs": [
    {
     "name": "stdout",
     "output_type": "stream",
     "text": [
      "Probability of topics being related is 65%\n",
      "Count is 439 and sum is 287.49564616996054\n",
      "\n",
      "\n",
      "['tiësto.n.01', 'album.n.01', 'released.n.01', 'dj.n.01', 'life.n.01', 'tour.n.01', 'music.n.01', 'search.n.01', 'sunrise.n.01', 'live.n.01', 'dutch.n.01', 'trance.n.01', 'world.n.01', 'van.n.01', 'tiesto.n.01', 'club.n.01', 'billboard.n.01', 'concert.n.01', 'elements.n.01', 'magazine.n.01', 'remixed.n.01', 'armin.n.01', 'buuren.n.01', 'gouryella.n.01', 'called.n.01', 'house.n.01', 'dance.n.01', 'compilation.n.01', 'series.n.01', 'top.n.01', 'djs.n.01', 'three.n.01', 'radio.n.01', 'amsterdam.n.01', 'years.n.01', 'black.n.01', 'hole.n.01', 'recordings.n.01', 'performed.n.01', 'chart.n.01']\n",
      "\n",
      "\n",
      "['garrix.n.01', 'martin.n.01', 'dj.n.01', 'released.n.01', 'music.n.01', 'billboard.n.01', 'single.n.01', 'records.n.01', 'edm.n.01', 'dutch.n.01', 'track.n.01', 'collaboration.n.01', 'song.n.01', 'top.n.01', 'djs.n.01', 'festival.n.01', 'announced.n.01', 'video.n.01', 'mag.n.01', 'spinnin.n.01', 'release.n.01', 'ultra.n.01', 'van.n.01', 'artists.n.01', 'watch.n.01', 'featuring.n.01', '100.n.01', 'tomorrowland.n.01', 'songs.n.01', 'armani.n.01', 'number.n.01', 'ibiza.n.01', 'label.n.01', 'singer.n.01', 'show.n.01', 'scared.n.01', 'lonely.n.01', 'house.n.01', 'set.n.01', 'bein.n.01']\n"
     ]
    }
   ],
   "source": [
    "ae = similar('Tiesto','Martin Garrix')"
   ]
  },
  {
   "cell_type": "code",
   "execution_count": 9,
   "metadata": {},
   "outputs": [
    {
     "name": "stdout",
     "output_type": "stream",
     "text": [
      "Probability of topics being related is 100%\n",
      "Count is 388 and sum is 434.0913204920737\n",
      "\n",
      "\n",
      "['pokémon.n.01', 'ninetales.n.01', 'vulpix.n.01', 'game.n.01', 'nintendo.n.01', 'ign.n.01', 'tails.n.01', 'red.n.01', 'freak.n.01', 'boy.n.01', 'blue.n.01', 'pokemon.n.01', 'fire.n.01', 'main.n.01', 'nine.n.01', 'called.n.01', 'known.n.01', 'fox.n.01', 'color.n.01', 'many.n.01', 'team.n.01', 'top.n.01', 'later.n.01', 'titles.n.01', 'characters.n.01', 'tail.n.01', 'years.n.01', 'mystery.n.01', 'dungeon.n.01', 'rescue.n.01', 'used.n.01', '1999.n.01', 'citation.n.01', 'advance.n.01', 'page.n.01', 'appeared.n.01', 'video.n.01', 'games.n.01', 'both.n.01', 'more.n.01']\n",
      "\n",
      "\n",
      "['pikachu.n.01', 'pokémon.n.01', 'game.n.01', 'nintendo.n.01', 'episode.n.01', 'series.n.01', 'characters.n.01', 'anime.n.01', 'character.n.01', 'video.n.01', 'games.n.01', 'ash.n.01', 'season.n.01', 'ign.n.01', 'pokemon.n.01', 'called.n.01', 'pikachus.n.01', 'yellow.n.01', 'top.n.01', '1999.n.01', 'japanese.n.01', 'main.n.01', 'freak.n.01', 'detective.n.01', 'mascot.n.01', 'various.n.01', 'players.n.01', 'electric.n.01', 'were.n.01', 'inc.n.01', 'news.n.01', 'best.n.01', 'species.n.01', 'appeared.n.01', 'red.n.01', 'released.n.01', 'ketchum.n.01', 'super.n.01', 'smash.n.01', 'power.n.01']\n"
     ]
    }
   ],
   "source": [
    "af = similar('vulpix','pikachu')"
   ]
  },
  {
   "cell_type": "code",
   "execution_count": 10,
   "metadata": {},
   "outputs": [
    {
     "name": "stdout",
     "output_type": "stream",
     "text": [
      "Probability of topics being related is 100%\n",
      "Count is 307 and sum is 327.0780627037124\n",
      "\n",
      "\n",
      "['underground.n.01', 'speed.n.01', 'need.n.01', 'player.n.01', 'game.n.01', 'races.n.01', 'race.n.01', 'games.n.01', 'car.n.01', 'cars.n.01', 'rivals.n.01', 'stage.n.01', 'version.n.01', 'racing.n.01', 'xbox.n.01', 'mode.n.01', 'city.n.01', 'players.n.01', 'pc.n.01', 'review.n.01', 'series.n.01', 'each.n.01', 'video.n.01', 'caleb.n.01', 'playstation.n.01', 'mobile.n.01', 'while.n.01', 'using.n.01', 'events.n.01', 'gamespy.n.01', 'run.n.01', '100.n.01', 'ps2.n.01', 'reviews.n.01', 'gamerankings.n.01', 'gamecube.n.01', 'ds.n.01', 'street.n.01', 'bayview.n.01', 'best.n.01']\n",
      "\n",
      "\n",
      "['dota.n.01', 'game.n.01', 'games.n.01', 'valve.n.01', 'players.n.01', 'pc.n.01', 'gamer.n.01', 'heroes.n.01', 'video.n.01', 'international.n.01', 'hero.n.01', 'major.n.01', 'ign.n.01', 'best.n.01', 'team.n.01', 'steam.n.01', 'million.n.01', 'polygon.n.01', 'defense.n.01', 'known.n.01', 'ancients.n.01', 'being.n.01', 'announced.n.01', 'awards.n.01', 'esports.n.01', 'mode.n.01', 'source.n.01', 'system.n.01', 'had.n.01', 'chris.n.01', 'released.n.01', 'were.n.01', 'valves.n.01', 'update.n.01', 'teams.n.01', 'each.n.01', 'more.n.01', 'battle.n.01', 'player.n.01', 'world.n.01']\n"
     ]
    }
   ],
   "source": [
    "ag = similar('Need For Speed Underground 2','dota 2')"
   ]
  },
  {
   "cell_type": "code",
   "execution_count": 11,
   "metadata": {},
   "outputs": [
    {
     "name": "stdout",
     "output_type": "stream",
     "text": [
      "Probability of topics being related is 47%\n",
      "Count is 370 and sum is 174.30484830178247\n",
      "\n",
      "\n",
      "['beyoncé.n.01', 'music.n.01', 'album.n.01', 'billboard.n.01', 'beyoncés.n.01', 'love.n.01', 'awards.n.01', 'jay-z.n.01', 'news.n.01', 'mtv.n.01', 'i.n.01', 'tour.n.01', 'single.n.01', 'video.n.01', 'million.n.01', 'american.n.01', 'best.n.01', 'destinys.n.01', 'song.n.01', 'child.n.01', 'world.n.01', 'artist.n.01', 'knowles.n.01', '100.n.01', 'chart.n.01', 'award.n.01', 'songwriters.n.01', 'released.n.01', 'top.n.01', 'women.n.01', 'list.n.01', 'york.n.01', 'songs.n.01', 'female.n.01', 'black.n.01', 'film.n.01', 'number.n.01', 'grammy.n.01', 'performance.n.01', 'lemonade.n.01']\n",
      "\n",
      "\n",
      "['dota.n.01', 'game.n.01', 'games.n.01', 'valve.n.01', 'players.n.01', 'pc.n.01', 'gamer.n.01', 'heroes.n.01', 'video.n.01', 'international.n.01', 'hero.n.01', 'major.n.01', 'ign.n.01', 'best.n.01', 'team.n.01', 'steam.n.01', 'million.n.01', 'polygon.n.01', 'defense.n.01', 'known.n.01', 'ancients.n.01', 'being.n.01', 'announced.n.01', 'awards.n.01', 'esports.n.01', 'mode.n.01', 'source.n.01', 'system.n.01', 'had.n.01', 'chris.n.01', 'released.n.01', 'were.n.01', 'valves.n.01', 'update.n.01', 'teams.n.01', 'each.n.01', 'more.n.01', 'battle.n.01', 'player.n.01', 'world.n.01']\n"
     ]
    }
   ],
   "source": [
    "ah = similar('beyonce','dota 2')"
   ]
  },
  {
   "cell_type": "code",
   "execution_count": 12,
   "metadata": {},
   "outputs": [
    {
     "name": "stdout",
     "output_type": "stream",
     "text": [
      "Probability of topics being related is 100%\n",
      "Count is 487 and sum is 646.4908737255066\n",
      "\n",
      "\n",
      "['beyoncé.n.01', 'music.n.01', 'album.n.01', 'billboard.n.01', 'beyoncés.n.01', 'love.n.01', 'awards.n.01', 'jay-z.n.01', 'news.n.01', 'mtv.n.01', 'i.n.01', 'tour.n.01', 'single.n.01', 'video.n.01', 'million.n.01', 'american.n.01', 'best.n.01', 'destinys.n.01', 'song.n.01', 'child.n.01', 'world.n.01', 'artist.n.01', 'knowles.n.01', '100.n.01', 'chart.n.01', 'award.n.01', 'songwriters.n.01', 'released.n.01', 'top.n.01', 'women.n.01', 'list.n.01', 'york.n.01', 'songs.n.01', 'female.n.01', 'black.n.01', 'film.n.01', 'number.n.01', 'grammy.n.01', 'performance.n.01', 'lemonade.n.01']\n",
      "\n",
      "\n",
      "['rihanna.n.01', 'music.n.01', 'rihannas.n.01', 'billboard.n.01', 'album.n.01', 'girl.n.01', 'mtv.n.01', 'single.n.01', 'released.n.01', 'love.n.01', '100.n.01', 'i.n.01', 'hot.n.01', 'fashion.n.01', 'tour.n.01', 'bad.n.01', 'top.n.01', 'brown.n.01', 'news.n.01', 'gone.n.01', 'million.n.01', 'charts.n.01', 'video.n.01', 'singles.n.01', 'chris.n.01', 'artist.n.01', 'song.n.01', 'studio.n.01', 'awards.n.01', 'chart.n.01', 'pop.n.01', 'songs.n.01', 'award.n.01', 'world.n.01', 'artists.n.01', 'uk.n.01', 'barbados.n.01', 'fenty.n.01', 'had.n.01', 'albums.n.01']\n"
     ]
    }
   ],
   "source": [
    "ai = similar('Beyonce','Rihanna')"
   ]
  },
  {
   "cell_type": "code",
   "execution_count": 13,
   "metadata": {},
   "outputs": [
    {
     "name": "stdout",
     "output_type": "stream",
     "text": [
      "Probability of topics being related is 9%\n",
      "Count is 399 and sum is 35.509394043443\n",
      "\n",
      "\n",
      "['cake.n.01', 'cupcakes.n.01', 'cupcake.n.01', 'cakes.n.01', 'cup.n.01', 'chocolate.n.01', 'small.n.01', 'paper.n.01', 'made.n.01', 'liners.n.01', 'food.n.01', 'cups.n.01', 'were.n.01', 'baking.n.01', 'baked.n.01', 'bake.n.01', 'more.n.01', 'using.n.01', 'icing.n.01', 'often.n.01', 'pastry.n.01', 'uses.n.01', 'ingredients.n.01', 'butter.n.01', 'used.n.01', 'cream.n.01', 'bakers.n.01', 'page.n.01', 'fairy.n.01', 'american.n.01', 'muffin.n.01', 'individual.n.01', 'size.n.01', 'pans.n.01', 'cases.n.01', 'shop.n.01', 'sprinkles.n.01', 'periodic.n.01', 'table.n.01', 'citation.n.01']\n",
      "\n",
      "\n",
      "['rihanna.n.01', 'music.n.01', 'rihannas.n.01', 'billboard.n.01', 'album.n.01', 'girl.n.01', 'mtv.n.01', 'single.n.01', 'released.n.01', 'love.n.01', '100.n.01', 'i.n.01', 'hot.n.01', 'fashion.n.01', 'tour.n.01', 'bad.n.01', 'top.n.01', 'brown.n.01', 'news.n.01', 'gone.n.01', 'million.n.01', 'charts.n.01', 'video.n.01', 'singles.n.01', 'chris.n.01', 'artist.n.01', 'song.n.01', 'studio.n.01', 'awards.n.01', 'chart.n.01', 'pop.n.01', 'songs.n.01', 'award.n.01', 'world.n.01', 'artists.n.01', 'uk.n.01', 'barbados.n.01', 'fenty.n.01', 'had.n.01', 'albums.n.01']\n"
     ]
    }
   ],
   "source": [
    "aj = similar('cupcakes','rihanna')"
   ]
  },
  {
   "cell_type": "code",
   "execution_count": 14,
   "metadata": {},
   "outputs": [
    {
     "name": "stdout",
     "output_type": "stream",
     "text": [
      "Probability of topics being related is 11%\n",
      "Count is 463 and sum is 51.36369923290272\n",
      "\n",
      "\n",
      "['trump.n.01', 'donald.n.01', 'trumps.n.01', 'york.n.01', 'times.n.01', 'president.n.01', 'news.n.01', 'washington.n.01', 'post.n.01', 'had.n.01', 'campaign.n.01', 'presidential.n.01', 'states.n.01', 'cnn.n.01', 'michael.n.01', 'united.n.01', 'election.n.01', 'said.n.01', 'house.n.01', 'been.n.01', 'during.n.01', 'white.n.01', 'were.n.01', 'tax.n.01', 'against.n.01', 'david.n.01', 'investigation.n.01', 'business.n.01', 'american.n.01', 'republican.n.01', 'million.n.01', 'i.n.01', 'political.n.01', 'media.n.01', 'press.n.01', 'russia.n.01', 'general.n.01', 'federal.n.01', 'office.n.01', 'nbc.n.01']\n",
      "\n",
      "\n",
      "['rihanna.n.01', 'music.n.01', 'rihannas.n.01', 'billboard.n.01', 'album.n.01', 'girl.n.01', 'mtv.n.01', 'single.n.01', 'released.n.01', 'love.n.01', '100.n.01', 'i.n.01', 'hot.n.01', 'fashion.n.01', 'tour.n.01', 'bad.n.01', 'top.n.01', 'brown.n.01', 'news.n.01', 'gone.n.01', 'million.n.01', 'charts.n.01', 'video.n.01', 'singles.n.01', 'chris.n.01', 'artist.n.01', 'song.n.01', 'studio.n.01', 'awards.n.01', 'chart.n.01', 'pop.n.01', 'songs.n.01', 'award.n.01', 'world.n.01', 'artists.n.01', 'uk.n.01', 'barbados.n.01', 'fenty.n.01', 'had.n.01', 'albums.n.01']\n"
     ]
    }
   ],
   "source": [
    "ak = similar('donald trump','rihanna')"
   ]
  },
  {
   "cell_type": "code",
   "execution_count": 15,
   "metadata": {},
   "outputs": [
    {
     "name": "stdout",
     "output_type": "stream",
     "text": [
      "Probability of topics being related is 73%\n",
      "Count is 269 and sum is 195.49326336341952\n",
      "\n",
      "\n",
      "['banksy.n.01', 'art.n.01', 'banksys.n.01', 'bristol.n.01', 'london.n.01', 'news.n.01', 'bbc.n.01', 'graffiti.n.01', 'artist.n.01', 'street.n.01', 'wall.n.01', 'auction.n.01', 'artists.n.01', 'york.n.01', 'works.n.01', 'church.n.01', 'st.n.01', 'painted.n.01', 'been.n.01', 'were.n.01', 'house.n.01', 'piece.n.01', 'had.n.01', 'mural.n.01', 'i.n.01', 'sold.n.01', 'city.n.01', 'through.n.01', 'guardian.n.01', 'painting.n.01', 'exhibition.n.01', 'times.n.01', 'world.n.01', 'show.n.01', 'artwork.n.01', 'image.n.01', 'uk.n.01', 'museum.n.01', 'machine.n.01', 'wayback.n.01']\n",
      "\n",
      "\n",
      "['van.n.01', 'gogh.n.01', 'vincent.n.01', 'museum.n.01', 'theo.n.01', 'art.n.01', 'goghs.n.01', '1888.n.01', '1990.n.01', 'arles.n.01', 'paintings.n.01', 'had.n.01', '1890.n.01', '1889.n.01', 'life.n.01', 'paris.n.01', 'letter.n.01', 'painted.n.01', 'gauguin.n.01', 'were.n.01', 'amsterdam.n.01', 'painting.n.01', 'de.n.01', 'works.n.01', 'wheat.n.01', 'naifeh.n.01', 'smith.n.01', 'pickvance.n.01', '1981.n.01', 'hulsker.n.01', 'still.n.01', 'dutch.n.01', 'portrait.n.01', 'paul.n.01', 'during.n.01', 'wrote.n.01', 'night.n.01', 'tralbaut.n.01', 'cypresses.n.01', '1986.n.01']\n"
     ]
    }
   ],
   "source": [
    "al = similar('Banksy','Van Gogh')"
   ]
  },
  {
   "cell_type": "code",
   "execution_count": 16,
   "metadata": {},
   "outputs": [
    {
     "name": "stdout",
     "output_type": "stream",
     "text": [
      "Probability of topics being related is 57%\n",
      "Count is 419 and sum is 239.50197496766881\n",
      "\n",
      "\n",
      "['banksy.n.01', 'art.n.01', 'banksys.n.01', 'bristol.n.01', 'london.n.01', 'news.n.01', 'bbc.n.01', 'graffiti.n.01', 'artist.n.01', 'street.n.01', 'wall.n.01', 'auction.n.01', 'artists.n.01', 'york.n.01', 'works.n.01', 'church.n.01', 'st.n.01', 'painted.n.01', 'been.n.01', 'were.n.01', 'house.n.01', 'piece.n.01', 'had.n.01', 'mural.n.01', 'i.n.01', 'sold.n.01', 'city.n.01', 'through.n.01', 'guardian.n.01', 'painting.n.01', 'exhibition.n.01', 'times.n.01', 'world.n.01', 'show.n.01', 'artwork.n.01', 'image.n.01', 'uk.n.01', 'museum.n.01', 'machine.n.01', 'wayback.n.01']\n",
      "\n",
      "\n",
      "['mondrian.n.01', 'art.n.01', 'composition.n.01', 'painting.n.01', 'lines.n.01', 'mondrians.n.01', 'piet.n.01', 'black.n.01', 'red.n.01', 'paintings.n.01', 'blue.n.01', 'yellow.n.01', 'collection.n.01', 'york.n.01', 'paris.n.01', 'identifiers.n.01', 'dutch.n.01', 'works.n.01', 'forms.n.01', 'modern.n.01', 'museum.n.01', 'abstract.n.01', 'i.n.01', 'life.n.01', 'guggenheim.n.01', 'white.n.01', 'color.n.01', 'began.n.01', 'gray.n.01', 'external.n.01', 'colored.n.01', 'primary.n.01', 'still.n.01', 'london.n.01', 'artists.n.01', 'de.n.01', 'period.n.01', 'more.n.01', 'mondriaan.n.01', 'artistic.n.01']\n"
     ]
    }
   ],
   "source": [
    "am = similar('Banksy','Piet Mondrian')"
   ]
  },
  {
   "cell_type": "code",
   "execution_count": 17,
   "metadata": {},
   "outputs": [
    {
     "name": "stdout",
     "output_type": "stream",
     "text": [
      "Probability of topics being related is 64%\n",
      "Count is 382 and sum is 243.72153485744468\n",
      "\n",
      "\n",
      "['nadir.n.01', 'afonso.n.01', 'art.n.01', 'lisbon.n.01', 'de.n.01', 'paris.n.01', 'portuguese.n.01', 'porto.n.01', 'identifiers.n.01', 'painting.n.01', 'o.n.01', 'works.n.01', 'da.n.01', 'chaves.n.01', 'portugal.n.01', 'exhibitions.n.01', 'e.n.01', 'architecture.n.01', 'des.n.01', 'artists.n.01', 'la.n.01', 'exhibition.n.01', 'idem.n.01', 'painter.n.01', 'laws.n.01', 'form.n.01', 'years.n.01', 'were.n.01', 'while.n.01', 'book.n.01', 'i.n.01', 'print.n.01', 'run.n.01', 'numbered.n.01', 'signed.n.01', 'ferreira.n.01', 'geometric.n.01', 'early.n.01', 'victor.n.01', 'vasarely.n.01']\n",
      "\n",
      "\n",
      "['banksy.n.01', 'art.n.01', 'banksys.n.01', 'bristol.n.01', 'london.n.01', 'news.n.01', 'bbc.n.01', 'graffiti.n.01', 'artist.n.01', 'street.n.01', 'wall.n.01', 'auction.n.01', 'artists.n.01', 'york.n.01', 'works.n.01', 'church.n.01', 'st.n.01', 'painted.n.01', 'been.n.01', 'were.n.01', 'house.n.01', 'piece.n.01', 'had.n.01', 'mural.n.01', 'i.n.01', 'sold.n.01', 'city.n.01', 'through.n.01', 'guardian.n.01', 'painting.n.01', 'exhibition.n.01', 'times.n.01', 'world.n.01', 'show.n.01', 'artwork.n.01', 'image.n.01', 'uk.n.01', 'museum.n.01', 'machine.n.01', 'wayback.n.01']\n"
     ]
    }
   ],
   "source": [
    "an = similar('Nadir Afonso','Banksy')"
   ]
  },
  {
   "cell_type": "code",
   "execution_count": 18,
   "metadata": {},
   "outputs": [
    {
     "name": "stdout",
     "output_type": "stream",
     "text": [
      "Probability of topics being related is 54%\n",
      "Count is 401 and sum is 216.82877272241703\n",
      "\n",
      "\n",
      "['bank.n.01', 'dbs.n.01', 'singapore.n.01', 'banking.n.01', 'banks.n.01', 'holdings.n.01', 'china.n.01', 'commercial.n.01', 'development.n.01', 'temasek.n.01', 'trust.n.01', 'branches.n.01', 'asia.n.01', 'posb.n.01', 'financial.n.01', 'best.n.01', 'customers.n.01', 'limited.n.01', '1968.n.01', 'industrial.n.01', 'shares.n.01', 'united.n.01', 'india.n.01', 'indonesia.n.01', 'taiwan.n.01', 'mbanking.n.01', 'corporation.n.01', 'government.n.01', 'billion.n.01', 'hong.n.01', 'global.n.01', 'finance.n.01', 'programme.n.01', 'device.n.01', 'hotspot.n.01', 'startups.n.01', 'annual.n.01', 'report.n.01', 'citation.n.01', 'group.n.01']\n",
      "\n",
      "\n",
      "['goldman.n.01', 'sachs.n.01', 'york.n.01', 'securities.n.01', 'investment.n.01', 'bank.n.01', 'billion.n.01', 'firm.n.01', 'times.n.01', 'million.n.01', 'street.n.01', 'were.n.01', 'financial.n.01', 'had.n.01', 'company.n.01', 'banks.n.01', 'wall.n.01', 'help.n.01', 'subscription.n.01', 'required.n.01', 'business.n.01', 'goldmans.n.01', 'crisis.n.01', 'fund.n.01', 'trading.n.01', 'former.n.01', 'employees.n.01', 'deal.n.01', 'investors.n.01', 'market.n.01', 'bloomberg.n.01', 'abacus.n.01', 'sec.n.01', 'against.n.01', 'mortgage.n.01', 'public.n.01', 'group.n.01', 'paulson.n.01', 'money.n.01', 'funds.n.01']\n"
     ]
    }
   ],
   "source": [
    "ao = similar('DBS Bank','goldman sachs')"
   ]
  },
  {
   "cell_type": "code",
   "execution_count": 19,
   "metadata": {},
   "outputs": [
    {
     "name": "stdout",
     "output_type": "stream",
     "text": [
      "Probability of topics being related is 64%\n",
      "Count is 303 and sum is 193.2635129351962\n",
      "\n",
      "\n",
      "['bank.n.01', 'ocbc.n.01', 'singapore.n.01', 'banks.n.01', 'banking.n.01', 'china.n.01', 'hong.n.01', 'nisp.n.01', 'asia.n.01', 'kong.n.01', 'limited.n.01', 'branches.n.01', 'indonesia.n.01', 'had.n.01', 'commercial.n.01', 'holdings.n.01', 'wing.n.01', 'hang.n.01', 'acquired.n.01', 'securities.n.01', 'oversea-chinese.n.01', 'corporation.n.01', 'under.n.01', 'subsidiary.n.01', 'private.n.01', '2019-01-27.n.01', 'trust.n.01', 'assets.n.01', 'billion.n.01', 'exchange.n.01', 'services.n.01', 'offices.n.01', 'ocbcs.n.01', 'branch.n.01', 'keppel.n.01', 'company.n.01', 'chinese.n.01', 'financial.n.01', '1932.n.01', 'largest.n.01']\n",
      "\n",
      "\n",
      "['goldman.n.01', 'sachs.n.01', 'york.n.01', 'securities.n.01', 'investment.n.01', 'bank.n.01', 'billion.n.01', 'firm.n.01', 'times.n.01', 'million.n.01', 'street.n.01', 'were.n.01', 'financial.n.01', 'had.n.01', 'company.n.01', 'banks.n.01', 'wall.n.01', 'help.n.01', 'subscription.n.01', 'required.n.01', 'business.n.01', 'goldmans.n.01', 'crisis.n.01', 'fund.n.01', 'trading.n.01', 'former.n.01', 'employees.n.01', 'deal.n.01', 'investors.n.01', 'market.n.01', 'bloomberg.n.01', 'abacus.n.01', 'sec.n.01', 'against.n.01', 'mortgage.n.01', 'public.n.01', 'group.n.01', 'paulson.n.01', 'money.n.01', 'funds.n.01']\n"
     ]
    }
   ],
   "source": [
    "ap = similar('OCBC Bank','goldman sachs')"
   ]
  },
  {
   "cell_type": "code",
   "execution_count": 20,
   "metadata": {},
   "outputs": [
    {
     "name": "stdout",
     "output_type": "stream",
     "text": [
      "Probability of topics being related is 77%\n",
      "Count is 343 and sum is 263.29177048440226\n",
      "\n",
      "\n",
      "['bank.n.01', 'citibank.n.01', 'york.n.01', 'citigroup.n.01', 'national.n.01', 'citi.n.01', 'city.n.01', 'credit.n.01', 'branches.n.01', 'sa.n.01', 'card.n.01', 'billion.n.01', 'business.n.01', 'million.n.01', 'banks.n.01', 'ag.n.01', 'united.n.01', 'states.n.01', 'banking.n.01', 'pay.n.01', 'dakota.n.01', 'financial.n.01', 'had.n.01', 'times.n.01', 'became.n.01', 'cards.n.01', 'state.n.01', 'access.n.01', 'press.n.01', 'american.n.01', 'under.n.01', 'a/s.n.01', 'banca.n.01', 'were.n.01', 'south.n.01', 'customers.n.01', 'deal.n.01', 'banco.n.01', 'assets.n.01', 'company.n.01']\n",
      "\n",
      "\n",
      "['goldman.n.01', 'sachs.n.01', 'york.n.01', 'securities.n.01', 'investment.n.01', 'bank.n.01', 'billion.n.01', 'firm.n.01', 'times.n.01', 'million.n.01', 'street.n.01', 'were.n.01', 'financial.n.01', 'had.n.01', 'company.n.01', 'banks.n.01', 'wall.n.01', 'help.n.01', 'subscription.n.01', 'required.n.01', 'business.n.01', 'goldmans.n.01', 'crisis.n.01', 'fund.n.01', 'trading.n.01', 'former.n.01', 'employees.n.01', 'deal.n.01', 'investors.n.01', 'market.n.01', 'bloomberg.n.01', 'abacus.n.01', 'sec.n.01', 'against.n.01', 'mortgage.n.01', 'public.n.01', 'group.n.01', 'paulson.n.01', 'money.n.01', 'funds.n.01']\n"
     ]
    }
   ],
   "source": [
    "aq = similar('Citi Bank','goldman sachs')"
   ]
  },
  {
   "cell_type": "code",
   "execution_count": 21,
   "metadata": {},
   "outputs": [
    {
     "name": "stdout",
     "output_type": "stream",
     "text": [
      "Probability of topics being related is 76%\n",
      "Count is 259 and sum is 197.54020508423793\n",
      "\n",
      "\n",
      "['bank.n.01', 'ocbc.n.01', 'singapore.n.01', 'banks.n.01', 'banking.n.01', 'china.n.01', 'hong.n.01', 'nisp.n.01', 'asia.n.01', 'kong.n.01', 'limited.n.01', 'branches.n.01', 'indonesia.n.01', 'had.n.01', 'commercial.n.01', 'holdings.n.01', 'wing.n.01', 'hang.n.01', 'acquired.n.01', 'securities.n.01', 'oversea-chinese.n.01', 'corporation.n.01', 'under.n.01', 'subsidiary.n.01', 'private.n.01', '2019-01-27.n.01', 'trust.n.01', 'assets.n.01', 'billion.n.01', 'exchange.n.01', 'services.n.01', 'offices.n.01', 'ocbcs.n.01', 'branch.n.01', 'keppel.n.01', 'company.n.01', 'chinese.n.01', 'financial.n.01', '1932.n.01', 'largest.n.01']\n",
      "\n",
      "\n",
      "['bank.n.01', 'citibank.n.01', 'york.n.01', 'citigroup.n.01', 'national.n.01', 'citi.n.01', 'city.n.01', 'credit.n.01', 'branches.n.01', 'sa.n.01', 'card.n.01', 'billion.n.01', 'business.n.01', 'million.n.01', 'banks.n.01', 'ag.n.01', 'united.n.01', 'states.n.01', 'banking.n.01', 'pay.n.01', 'dakota.n.01', 'financial.n.01', 'had.n.01', 'times.n.01', 'became.n.01', 'cards.n.01', 'state.n.01', 'access.n.01', 'press.n.01', 'american.n.01', 'under.n.01', 'a/s.n.01', 'banca.n.01', 'were.n.01', 'south.n.01', 'customers.n.01', 'deal.n.01', 'banco.n.01', 'assets.n.01', 'company.n.01']\n"
     ]
    }
   ],
   "source": [
    "ar = similar('OCBC Bank','Citi Bank')"
   ]
  },
  {
   "cell_type": "code",
   "execution_count": 22,
   "metadata": {},
   "outputs": [
    {
     "name": "stdout",
     "output_type": "stream",
     "text": [
      "Probability of topics being related is 100%\n",
      "Count is 363 and sum is 448.4434274032173\n",
      "\n",
      "\n",
      "['malaysia.n.01', 'malaysian.n.01', 'malay.n.01', 'asia.n.01', 'states.n.01', 'world.n.01', 'government.n.01', 'state.n.01', 'east.n.01', 'country.n.01', 'national.n.01', 'federal.n.01', 'population.n.01', 'pdf.n.01', 'been.n.01', 'chinese.n.01', 'singapore.n.01', 'southeast.n.01', 'sarawak.n.01', 'brunei.n.01', 'language.n.01', 'borneo.n.01', 'indonesia.n.01', 'kuala.n.01', 'federation.n.01', 'united.n.01', 'per.n.01', 'international.n.01', 'british.n.01', 'malaysias.n.01', 'lumpur.n.01', 'islands.n.01', 'pp.n.01', 'malaya.n.01', 'asian.n.01', 'nations.n.01', 'economic.n.01', 'c.n.01', 'china.n.01', 'peninsular.n.01']\n",
      "\n",
      "\n",
      "['singapore.n.01', 'world.n.01', 'singapores.n.01', 'national.n.01', 'times.n.01', 'education.n.01', 'pdf.n.01', 'were.n.01', 'international.n.01', 'country.n.01', 'english.n.01', 'straits.n.01', 'asia.n.01', 'malaysia.n.01', 'british.n.01', 'language.n.01', 'ministry.n.01', 'government.n.01', 'island.n.01', 'countries.n.01', 'press.n.01', 'islands.n.01', 'chinese.n.01', 'water.n.01', 'worlds.n.01', 'malay.n.01', 'foreign.n.01', 'lee.n.01', 'been.n.01', 'public.n.01', 'population.n.01', 'development.n.01', 'economic.n.01', 'singaporean.n.01', 'statistics.n.01', 'city.n.01', 'united.n.01', 'global.n.01', 'singaporeans.n.01', 'nations.n.01']\n"
     ]
    }
   ],
   "source": [
    "as_ = similar('Malaysia','Singapore')"
   ]
  },
  {
   "cell_type": "code",
   "execution_count": 23,
   "metadata": {},
   "outputs": [
    {
     "name": "stdout",
     "output_type": "stream",
     "text": [
      "Probability of topics being related is 83%\n",
      "Count is 600 and sum is 500.1729909544913\n",
      "\n",
      "\n",
      "['lee.n.01', 'singapore.n.01', 'kuan.n.01', 'yew.n.01', 'times.n.01', 'singapores.n.01', 'minister.n.01', 'straits.n.01', 'lees.n.01', 'world.n.01', 'i.n.01', 'had.n.01', 'prime.n.01', 'were.n.01', 'artist.n.01', 'mr.n.01', 'press.n.01', 'national.n.01', 'government.n.01', 'chinese.n.01', 'art.n.01', 'singaporean.n.01', 'book.n.01', 'wayback.n.01', 'international.n.01', 'machine.n.01', 'former.n.01', 'years.n.01', 'malaysia.n.01', 'third.n.01', 'british.n.01', 'york.n.01', 'tan.n.01', 'london.n.01', 'law.n.01', 'party.n.01', 'political.n.01', 'story.n.01', 'news.n.01', 'under.n.01']\n",
      "\n",
      "\n",
      "['lee.n.01', 'singapore.n.01', 'minister.n.01', 'times.n.01', 'prime.n.01', 'hsien.n.01', 'pm.n.01', 'loong.n.01', 's.n.01', 'ministers.n.01', 'straits.n.01', 'kuan.n.01', 'k.n.01', 'goh.n.01', 'yew.n.01', 'government.n.01', 'h.n.01', 'l.n.01', 'c.n.01', 'pap.n.01', 'singapores.n.01', 'national.n.01', 'y.n.01', 't.n.01', 'parliament.n.01', 'trade.n.01', 'chok.n.01', 'tong.n.01', 'public.n.01', 'water.n.01', 'singaporean.n.01', 'leaders.n.01', 'heng.n.01', 'york.n.01', 'party.n.01', 'general.n.01', 'son.n.01', 'election.n.01', 'cabinet.n.01', 'lim.n.01']\n"
     ]
    }
   ],
   "source": [
    "at = similar('Lee Kuan Yew','Lee Hsien Loong')"
   ]
  },
  {
   "cell_type": "code",
   "execution_count": 24,
   "metadata": {},
   "outputs": [
    {
     "name": "stdout",
     "output_type": "stream",
     "text": [
      "Probability of topics being related is 49%\n",
      "Count is 416 and sum is 203.6551921322524\n",
      "\n",
      "\n",
      "['lee.n.01', 'singapore.n.01', 'kuan.n.01', 'yew.n.01', 'times.n.01', 'singapores.n.01', 'minister.n.01', 'straits.n.01', 'lees.n.01', 'world.n.01', 'i.n.01', 'had.n.01', 'prime.n.01', 'were.n.01', 'artist.n.01', 'mr.n.01', 'press.n.01', 'national.n.01', 'government.n.01', 'chinese.n.01', 'art.n.01', 'singaporean.n.01', 'book.n.01', 'wayback.n.01', 'international.n.01', 'machine.n.01', 'former.n.01', 'years.n.01', 'malaysia.n.01', 'third.n.01', 'british.n.01', 'york.n.01', 'tan.n.01', 'london.n.01', 'law.n.01', 'party.n.01', 'political.n.01', 'story.n.01', 'news.n.01', 'under.n.01']\n",
      "\n",
      "\n",
      "['mahathir.n.01', 'order.n.01', 'malaysia.n.01', 'abdul.n.01', 'prime.n.01', 'minister.n.01', 'grand.n.01', 'ahmad.n.01', 'had.n.01', 'university.n.01', 'wain.n.01', 'mohamad.n.01', 'malaysian.n.01', 'doctor.n.01', 'umno.n.01', 'mahathirs.n.01', 'honorary.n.01', 'anwar.n.01', 'pp.n.01', 'government.n.01', 'party.n.01', 'abdullah.n.01', 'mohd.n.01', 'were.n.01', 'philosophy.n.01', 'mohamed.n.01', 'tengku.n.01', 'v.n.01', 'malaysias.n.01', 'election.n.01', 'commander.n.01', 'dr.n.01', 'state.n.01', 'deputy.n.01', 'lee.n.01', 'ismail.n.01', 'e.n.01', '1999.n.01', 'national.n.01', 'ibrahim.n.01']\n"
     ]
    }
   ],
   "source": [
    "au = similar('Lee Kuan Yew','Mahathir Mohamad')"
   ]
  },
  {
   "cell_type": "code",
   "execution_count": 25,
   "metadata": {},
   "outputs": [
    {
     "name": "stdout",
     "output_type": "stream",
     "text": [
      "Probability of topics being related is 58%\n",
      "Count is 468 and sum is 271.3802613300671\n",
      "\n",
      "\n",
      "['mahathir.n.01', 'order.n.01', 'malaysia.n.01', 'abdul.n.01', 'prime.n.01', 'minister.n.01', 'grand.n.01', 'ahmad.n.01', 'had.n.01', 'university.n.01', 'wain.n.01', 'mohamad.n.01', 'malaysian.n.01', 'doctor.n.01', 'umno.n.01', 'mahathirs.n.01', 'honorary.n.01', 'anwar.n.01', 'pp.n.01', 'government.n.01', 'party.n.01', 'abdullah.n.01', 'mohd.n.01', 'were.n.01', 'philosophy.n.01', 'mohamed.n.01', 'tengku.n.01', 'v.n.01', 'malaysias.n.01', 'election.n.01', 'commander.n.01', 'dr.n.01', 'state.n.01', 'deputy.n.01', 'lee.n.01', 'ismail.n.01', 'e.n.01', '1999.n.01', 'national.n.01', 'ibrahim.n.01']\n",
      "\n",
      "\n",
      "['lee.n.01', 'singapore.n.01', 'minister.n.01', 'times.n.01', 'prime.n.01', 'hsien.n.01', 'pm.n.01', 'loong.n.01', 's.n.01', 'ministers.n.01', 'straits.n.01', 'kuan.n.01', 'k.n.01', 'goh.n.01', 'yew.n.01', 'government.n.01', 'h.n.01', 'l.n.01', 'c.n.01', 'pap.n.01', 'singapores.n.01', 'national.n.01', 'y.n.01', 't.n.01', 'parliament.n.01', 'trade.n.01', 'chok.n.01', 'tong.n.01', 'public.n.01', 'water.n.01', 'singaporean.n.01', 'leaders.n.01', 'heng.n.01', 'york.n.01', 'party.n.01', 'general.n.01', 'son.n.01', 'election.n.01', 'cabinet.n.01', 'lim.n.01']\n"
     ]
    }
   ],
   "source": [
    "av = similar('Mahathir Mohamad','Lee Hsien Loong')"
   ]
  },
  {
   "cell_type": "code",
   "execution_count": 26,
   "metadata": {},
   "outputs": [
    {
     "name": "stdout",
     "output_type": "stream",
     "text": [
      "Probability of topics being related is 37%\n",
      "Count is 432 and sum is 158.57441561276434\n",
      "\n",
      "\n",
      "['mahathir.n.01', 'order.n.01', 'malaysia.n.01', 'abdul.n.01', 'prime.n.01', 'minister.n.01', 'grand.n.01', 'ahmad.n.01', 'had.n.01', 'university.n.01', 'wain.n.01', 'mohamad.n.01', 'malaysian.n.01', 'doctor.n.01', 'umno.n.01', 'mahathirs.n.01', 'honorary.n.01', 'anwar.n.01', 'pp.n.01', 'government.n.01', 'party.n.01', 'abdullah.n.01', 'mohd.n.01', 'were.n.01', 'philosophy.n.01', 'mohamed.n.01', 'tengku.n.01', 'v.n.01', 'malaysias.n.01', 'election.n.01', 'commander.n.01', 'dr.n.01', 'state.n.01', 'deputy.n.01', 'lee.n.01', 'ismail.n.01', 'e.n.01', '1999.n.01', 'national.n.01', 'ibrahim.n.01']\n",
      "\n",
      "\n",
      "['tharman.n.01', 'singapore.n.01', 's.n.01', 'k.n.01', 'minister.n.01', 'times.n.01', 'h.n.01', 'l.n.01', 'c.n.01', 'y.n.01', 'financial.n.01', 'straits.n.01', 'factiva.n.01', 'shanmugaratnam.n.01', 't.n.01', 'lee.n.01', 'prime.n.01', 'economic.n.01', 'appointed.n.01', 'education.n.01', 'international.n.01', 'finance.n.01', 'social.n.01', 'monetary.n.01', 'mas.n.01', 'group.n.01', 'policy.n.01', 'economics.n.01', 'm.n.01', 'w.n.01', 'singaporean.n.01', 'chairman.n.01', 'chair.n.01', 'global.n.01', 'council.n.01', 'committee.n.01', 'school.n.01', 'national.n.01', 'development.n.01', 'ong.n.01']\n"
     ]
    }
   ],
   "source": [
    "aw = similar('Mahathir Mohamad','Tharman Shanmugaratnam')"
   ]
  },
  {
   "cell_type": "code",
   "execution_count": 27,
   "metadata": {},
   "outputs": [
    {
     "name": "stdout",
     "output_type": "stream",
     "text": [
      "Probability of topics being related is 100%\n",
      "Count is 276 and sum is 374.8418285649711\n",
      "\n",
      "\n",
      "['malaysia.n.01', 'malaysian.n.01', 'malay.n.01', 'asia.n.01', 'states.n.01', 'world.n.01', 'government.n.01', 'state.n.01', 'east.n.01', 'country.n.01', 'national.n.01', 'federal.n.01', 'population.n.01', 'pdf.n.01', 'been.n.01', 'chinese.n.01', 'singapore.n.01', 'southeast.n.01', 'sarawak.n.01', 'brunei.n.01', 'language.n.01', 'borneo.n.01', 'indonesia.n.01', 'kuala.n.01', 'federation.n.01', 'united.n.01', 'per.n.01', 'international.n.01', 'british.n.01', 'malaysias.n.01', 'lumpur.n.01', 'islands.n.01', 'pp.n.01', 'malaya.n.01', 'asian.n.01', 'nations.n.01', 'economic.n.01', 'c.n.01', 'china.n.01', 'peninsular.n.01']\n",
      "\n",
      "\n",
      "['finland.n.01', 'finnish.n.01', 'world.n.01', 'country.n.01', 'population.n.01', 'were.n.01', 'finlands.n.01', 'war.n.01', 'church.n.01', 'helsinki.n.01', 'sami.n.01', 'union.n.01', 'national.n.01', 'more.n.01', 'swedish.n.01', 'been.n.01', 'countries.n.01', 'language.n.01', 'nordic.n.01', 'state.n.01', 'around.n.01', 'years.n.01', 'european.n.01', 'between.n.01', 'per.n.01', 'sweden.n.01', 'parliament.n.01', 'statistics.n.01', 'largest.n.01', 'pdf.n.01', 'during.n.01', 'northern.n.01', 'region.n.01', 'government.n.01', 'soviet.n.01', 'economic.n.01', 'education.n.01', 'finns.n.01', 'age.n.01', 'report.n.01']\n"
     ]
    }
   ],
   "source": [
    "ax = similar('Malaysia','Finland')"
   ]
  },
  {
   "cell_type": "code",
   "execution_count": 28,
   "metadata": {},
   "outputs": [
    {
     "name": "stdout",
     "output_type": "stream",
     "text": [
      "Probability of topics being related is 100%\n",
      "Count is 388 and sum is 769.0075671284673\n",
      "\n",
      "\n",
      "['japanese.n.01', 'language.n.01', 'words.n.01', 'chinese.n.01', 'languages.n.01', 'used.n.01', 'kanji.n.01', 'modern.n.01', 'english.n.01', 'japan.n.01', 'hiragana.n.01', 'form.n.01', 'century.n.01', 'more.n.01', 'system.n.01', 'example.n.01', 'period.n.01', 'early.n.01', 'characters.n.01', 'press.n.01', 'were.n.01', 'sentence.n.01', 'verbs.n.01', 'katakana.n.01', 'verb.n.01', 'old.n.01', 'word.n.01', 'writing.n.01', 'between.n.01', 'both.n.01', 'many.n.01', 'been.n.01', 'middle.n.01', 'number.n.01', 'dialects.n.01', 'however.n.01', 'university.n.01', 'person.n.01', 'written.n.01', 'spoken.n.01']\n",
      "\n",
      "\n",
      "['chinese.n.01', 'language.n.01', 'mandarin.n.01', 'words.n.01', 'languages.n.01', 'characters.n.01', 'varieties.n.01', 'china.n.01', 'dialect.n.01', 'english.n.01', 'pp.n.01', 'cantonese.n.01', 'more.n.01', 'standard.n.01', 'hokkien.n.01', 'spoken.n.01', 'written.n.01', 'japanese.n.01', 'norman.n.01', '1988.n.01', 'many.n.01', 'lit.n.01', 'modern.n.01', 'malay.n.01', 'used.n.01', 'were.n.01', 'malaysian.n.01', 'dialects.n.01', 'example.n.01', 'taiwanese.n.01', 'southern.n.01', 'korean.n.01', 'been.n.01', 'min.n.01', 'old.n.01', 'university.n.01', 'pinyin.n.01', 'between.n.01', 'century.n.01', 'including.n.01']\n"
     ]
    }
   ],
   "source": [
    "ay = similar('Japanese language','Chinese language')"
   ]
  },
  {
   "cell_type": "code",
   "execution_count": 29,
   "metadata": {},
   "outputs": [
    {
     "name": "stdout",
     "output_type": "stream",
     "text": [
      "Probability of topics being related is 86%\n",
      "Count is 275 and sum is 235.81377571759154\n",
      "\n",
      "\n",
      "['cuisine.n.01', 'indian.n.01', 'food.n.01', 'india.n.01', 'dishes.n.01', 'popular.n.01', 'rice.n.01', 'vegetables.n.01', 'pp.n.01', 'fish.n.01', 'include.n.01', 'cuisines.n.01', 'kerala.n.01', 'north.n.01', 'meal.n.01', 'region.n.01', 'used.n.01', 'known.n.01', 'many.n.01', 'made.n.01', 'cooking.n.01', 'dish.n.01', 'spices.n.01', 'local.n.01', 'served.n.01', 'south.n.01', 'milk.n.01', 'coconut.n.01', 'chinese.n.01', 'foods.n.01', 'eaten.n.01', 'tamil.n.01', 'chicken.n.01', 'pradesh.n.01', 'different.n.01', 'very.n.01', 'roti.n.01', 'meat.n.01', 'consists.n.01', 'traditional.n.01']\n",
      "\n",
      "\n",
      "['czech.n.01', 'served.n.01', 'made.n.01', 'meat.n.01', 'cuisine.n.01', 'often.n.01', 'soup.n.01', 'fried.n.01', 'pork.n.01', 'bread.n.01', 'dish.n.01', 'onion.n.01', 'cheese.n.01', 'mushrooms.n.01', 'popular.n.01', 'baked.n.01', 'usually.n.01', 'potatoes.n.01', 'dumplings.n.01', 'beef.n.01', 'chinese.n.01', 'cooked.n.01', 'cream.n.01', 'sliced.n.01', 'eggs.n.01', 'potato.n.01', 'boiled.n.01', 'food.n.01', 'list.n.01', 'american.n.01', 'cabbage.n.01', 'garlic.n.01', 'seeds.n.01', 'called.n.01', 'pieces.n.01', 'sauce.n.01', 'both.n.01', 'sometimes.n.01', 'mixed.n.01', 'commonly.n.01']\n"
     ]
    }
   ],
   "source": [
    "az = similar('Indian cuisine','Czech cuisine')"
   ]
  },
  {
   "cell_type": "code",
   "execution_count": 30,
   "metadata": {},
   "outputs": [
    {
     "name": "stdout",
     "output_type": "stream",
     "text": [
      "Probability of topics being related is 100%\n",
      "Count is 378 and sum is 687.3120150734239\n",
      "\n",
      "\n",
      "['amsterdam.n.01', 'dutch.n.01', 'city.n.01', 'van.n.01', 'de.n.01', 'netherlands.n.01', 'were.n.01', 'century.n.01', 'museum.n.01', 'amsterdams.n.01', 'world.n.01', 'many.n.01', 'centre.n.01', 'population.n.01', 'area.n.01', 'large.n.01', 'buildings.n.01', 'largest.n.01', 'square.n.01', 'pdf.n.01', 'north.n.01', 'international.n.01', 'been.n.01', 'located.n.01', 'cities.n.01', 'europe.n.01', 'during.n.01', 'built.n.01', 'het.n.01', 'en.n.01', 'citys.n.01', 'jewish.n.01', 'holland.n.01', 'part.n.01', 'canals.n.01', 'history.n.01', 'university.n.01', 'municipality.n.01', 'second.n.01', 'war.n.01']\n",
      "\n",
      "\n",
      "['utrecht.n.01', 'city.n.01', 'dutch.n.01', 'de.n.01', 'netherlands.n.01', 'centre.n.01', 'museum.n.01', 'century.n.01', 'were.n.01', 'van.n.01', 'several.n.01', 'university.n.01', 'station.n.01', 'main.n.01', 'centraal.n.01', 'many.n.01', 'art.n.01', 'built.n.01', 'church.n.01', 'large.n.01', 'railway.n.01', 'music.n.01', 'population.n.01', 'construction.n.01', 'roman.n.01', 'located.n.01', 'had.n.01', 'amsterdam.n.01', 'old.n.01', 'part.n.01', 'early.n.01', 'festival.n.01', 'province.n.01', 'around.n.01', 'rijn.n.01', 'saint.n.01', 'churches.n.01', 'town.n.01', 'v.n.01', 'area.n.01']\n"
     ]
    }
   ],
   "source": [
    "ba = similar('Amsterdam','Utrecht')"
   ]
  },
  {
   "cell_type": "code",
   "execution_count": 31,
   "metadata": {},
   "outputs": [
    {
     "name": "stdout",
     "output_type": "stream",
     "text": [
      "Probability of topics being related is 91%\n",
      "Count is 343 and sum is 310.5193748953402\n",
      "\n",
      "\n",
      "['amsterdam.n.01', 'dutch.n.01', 'city.n.01', 'van.n.01', 'de.n.01', 'netherlands.n.01', 'were.n.01', 'century.n.01', 'museum.n.01', 'amsterdams.n.01', 'world.n.01', 'many.n.01', 'centre.n.01', 'population.n.01', 'area.n.01', 'large.n.01', 'buildings.n.01', 'largest.n.01', 'square.n.01', 'pdf.n.01', 'north.n.01', 'international.n.01', 'been.n.01', 'located.n.01', 'cities.n.01', 'europe.n.01', 'during.n.01', 'built.n.01', 'het.n.01', 'en.n.01', 'citys.n.01', 'jewish.n.01', 'holland.n.01', 'part.n.01', 'canals.n.01', 'history.n.01', 'university.n.01', 'municipality.n.01', 'second.n.01', 'war.n.01']\n",
      "\n",
      "\n",
      "['london.n.01', 'city.n.01', 'world.n.01', 'londons.n.01', 'royal.n.01', 'park.n.01', 'per.n.01', 'battle.n.01', 'greater.n.01', 'population.n.01', 'national.n.01', 'england.n.01', 'area.n.01', 'centre.n.01', 'cent.n.01', 'thames.n.01', 'british.n.01', 'university.n.01', 'westminster.n.01', 'transport.n.01', 'east.n.01', 'largest.n.01', 'pdf.n.01', 'uk.n.01', 'bbc.n.01', 'school.n.01', 'street.n.01', 'st.n.01', 'west.n.01', 'international.n.01', 'south.n.01', 'including.n.01', 'more.n.01', 'urban.n.01', 'around.n.01', 'were.n.01', 'college.n.01', 'airport.n.01', 'history.n.01', 'capital.n.01']\n"
     ]
    }
   ],
   "source": [
    "bb = similar('Amsterdam','London')"
   ]
  },
  {
   "cell_type": "code",
   "execution_count": 32,
   "metadata": {},
   "outputs": [
    {
     "name": "stdout",
     "output_type": "stream",
     "text": [
      "Probability of topics being related is 100%\n",
      "Count is 445 and sum is 443.0711859273165\n",
      "\n",
      "\n",
      "['amsterdam.n.01', 'dutch.n.01', 'city.n.01', 'van.n.01', 'de.n.01', 'netherlands.n.01', 'were.n.01', 'century.n.01', 'museum.n.01', 'amsterdams.n.01', 'world.n.01', 'many.n.01', 'centre.n.01', 'population.n.01', 'area.n.01', 'large.n.01', 'buildings.n.01', 'largest.n.01', 'square.n.01', 'pdf.n.01', 'north.n.01', 'international.n.01', 'been.n.01', 'located.n.01', 'cities.n.01', 'europe.n.01', 'during.n.01', 'built.n.01', 'het.n.01', 'en.n.01', 'citys.n.01', 'jewish.n.01', 'holland.n.01', 'part.n.01', 'canals.n.01', 'history.n.01', 'university.n.01', 'municipality.n.01', 'second.n.01', 'war.n.01']\n",
      "\n",
      "\n",
      "['sydney.n.01', 'city.n.01', 'south.n.01', 'australian.n.01', 'australia.n.01', 'wales.n.01', 'park.n.01', 'sydneys.n.01', 'were.n.01', 'world.n.01', 'national.n.01', 'suburbs.n.01', 'government.n.01', 'area.n.01', 'population.n.01', 'house.n.01', 'western.n.01', 'north.n.01', 'royal.n.01', 'theatre.n.01', 'university.n.01', 'harbour.n.01', 'heritage.n.01', 'dictionary.n.01', 'been.n.01', 'history.n.01', 'parramatta.n.01', 'bureau.n.01', 'local.n.01', 'centre.n.01', 'herald.n.01', 'morning.n.01', 'pdf.n.01', 'australias.n.01', 'macquarie.n.01', 'greater.n.01', 'state.n.01', 'street.n.01', 'west.n.01', 'more.n.01']\n"
     ]
    }
   ],
   "source": [
    "bc = similar('Amsterdam','Sydney')"
   ]
  },
  {
   "cell_type": "code",
   "execution_count": 33,
   "metadata": {},
   "outputs": [
    {
     "name": "stdout",
     "output_type": "stream",
     "text": [
      "Probability of topics being related is 50%\n",
      "Count is 463 and sum is 231.9925052685769\n",
      "\n",
      "\n",
      "['merkel.n.01', 'angela.n.01', 'german.n.01', 'germany.n.01', 'chancellor.n.01', '/.n.01', 'cdu.n.01', 'spd.n.01', 'merkels.n.01', 'election.n.01', 'party.n.01', 'der.n.01', 'leader.n.01', 'european.n.01', 'coalition.n.01', 'world.n.01', 'news.n.01', 'von.n.01', 'award.n.01', 'been.n.01', 'government.n.01', 'de.n.01', 'women.n.01', 'germanys.n.01', 'grand.n.01', 'berlin.n.01', 'university.n.01', 'die.n.01', 'e.n.01', 'federal.n.01', 'csu.n.01', 'crisis.n.01', 'union.n.01', 'east.n.01', 'social.n.01', 'christian.n.01', 'powerful.n.01', 'term.n.01', 'awarded.n.01', 'v.n.01']\n",
      "\n",
      "\n",
      "['berlin.n.01', 'city.n.01', 'german.n.01', 'germany.n.01', 'world.n.01', 'berlins.n.01', 'capital.n.01', 'largest.n.01', 'west.n.01', 'berliner.n.01', 'east.n.01', 'were.n.01', 'der.n.01', 'area.n.01', 'european.n.01', 'cities.n.01', 'more.n.01', 'many.n.01', 'brandenburg.n.01', 'museum.n.01', 'international.n.01', 'around.n.01', 'history.n.01', 'state.n.01', 'became.n.01', 'europe.n.01', 'western.n.01', 'population.n.01', 'million.n.01', 'several.n.01', 'church.n.01', 'part.n.01', 'urban.n.01', 'für.n.01', 'union.n.01', 'war.n.01', 'culture.n.01', 'home.n.01', 'art.n.01', 'die.n.01']\n"
     ]
    }
   ],
   "source": [
    "bd = similar('Angela Merkel','Berlin')"
   ]
  },
  {
   "cell_type": "code",
   "execution_count": 34,
   "metadata": {},
   "outputs": [
    {
     "name": "stdout",
     "output_type": "stream",
     "text": [
      "Probability of topics being related is 16%\n",
      "Count is 420 and sum is 65.19500366897499\n",
      "\n",
      "\n",
      "['merkel.n.01', 'angela.n.01', 'german.n.01', 'germany.n.01', 'chancellor.n.01', '/.n.01', 'cdu.n.01', 'spd.n.01', 'merkels.n.01', 'election.n.01', 'party.n.01', 'der.n.01', 'leader.n.01', 'european.n.01', 'coalition.n.01', 'world.n.01', 'news.n.01', 'von.n.01', 'award.n.01', 'been.n.01', 'government.n.01', 'de.n.01', 'women.n.01', 'germanys.n.01', 'grand.n.01', 'berlin.n.01', 'university.n.01', 'die.n.01', 'e.n.01', 'federal.n.01', 'csu.n.01', 'crisis.n.01', 'union.n.01', 'east.n.01', 'social.n.01', 'christian.n.01', 'powerful.n.01', 'term.n.01', 'awarded.n.01', 'v.n.01']\n",
      "\n",
      "\n",
      "['london.n.01', 'city.n.01', 'world.n.01', 'londons.n.01', 'royal.n.01', 'park.n.01', 'per.n.01', 'battle.n.01', 'greater.n.01', 'population.n.01', 'national.n.01', 'england.n.01', 'area.n.01', 'centre.n.01', 'cent.n.01', 'thames.n.01', 'british.n.01', 'university.n.01', 'westminster.n.01', 'transport.n.01', 'east.n.01', 'largest.n.01', 'pdf.n.01', 'uk.n.01', 'bbc.n.01', 'school.n.01', 'street.n.01', 'st.n.01', 'west.n.01', 'international.n.01', 'south.n.01', 'including.n.01', 'more.n.01', 'urban.n.01', 'around.n.01', 'were.n.01', 'college.n.01', 'airport.n.01', 'history.n.01', 'capital.n.01']\n"
     ]
    }
   ],
   "source": [
    "be = similar('Angela Merkel','London')"
   ]
  },
  {
   "cell_type": "code",
   "execution_count": 35,
   "metadata": {},
   "outputs": [
    {
     "name": "stdout",
     "output_type": "stream",
     "text": [
      "Probability of topics being related is 57%\n",
      "Count is 353 and sum is 201.70085241557248\n",
      "\n",
      "\n",
      "['hitler.n.01', 'pp.n.01', 'german.n.01', 'kershaw.n.01', 'war.n.01', 'hitlers.n.01', 'party.n.01', 'germany.n.01', 'national.n.01', 'nazi.n.01', 'were.n.01', 'von.n.01', 'world.n.01', '1999.n.01', '/.n.01', 'adolf.n.01', 'had.n.01', '1960.n.01', 'shirer.n.01', 'york.n.01', 'socialist.n.01', 'london.n.01', 'military.n.01', 'political.n.01', 'press.n.01', 'bullock.n.01', 'union.n.01', 'reich.n.01', 'army.n.01', 'against.n.01', 'university.n.01', 'holocaust.n.01', 'movement.n.01', 'ii.n.01', 'jews.n.01', 'history.n.01', 'government.n.01', 'nsdap.n.01', 'munich.n.01', 'fascist.n.01']\n",
      "\n",
      "\n",
      "['berlin.n.01', 'city.n.01', 'german.n.01', 'germany.n.01', 'world.n.01', 'berlins.n.01', 'capital.n.01', 'largest.n.01', 'west.n.01', 'berliner.n.01', 'east.n.01', 'were.n.01', 'der.n.01', 'area.n.01', 'european.n.01', 'cities.n.01', 'more.n.01', 'many.n.01', 'brandenburg.n.01', 'museum.n.01', 'international.n.01', 'around.n.01', 'history.n.01', 'state.n.01', 'became.n.01', 'europe.n.01', 'western.n.01', 'population.n.01', 'million.n.01', 'several.n.01', 'church.n.01', 'part.n.01', 'urban.n.01', 'für.n.01', 'union.n.01', 'war.n.01', 'culture.n.01', 'home.n.01', 'art.n.01', 'die.n.01']\n"
     ]
    }
   ],
   "source": [
    "bf = similar('Adolf Hitler','Berlin')"
   ]
  },
  {
   "cell_type": "code",
   "execution_count": 36,
   "metadata": {},
   "outputs": [
    {
     "name": "stdout",
     "output_type": "stream",
     "text": [
      "Probability of topics being related is 24%\n",
      "Count is 321 and sum is 77.70599333196488\n",
      "\n",
      "\n",
      "['hitler.n.01', 'pp.n.01', 'german.n.01', 'kershaw.n.01', 'war.n.01', 'hitlers.n.01', 'party.n.01', 'germany.n.01', 'national.n.01', 'nazi.n.01', 'were.n.01', 'von.n.01', 'world.n.01', '1999.n.01', '/.n.01', 'adolf.n.01', 'had.n.01', '1960.n.01', 'shirer.n.01', 'york.n.01', 'socialist.n.01', 'london.n.01', 'military.n.01', 'political.n.01', 'press.n.01', 'bullock.n.01', 'union.n.01', 'reich.n.01', 'army.n.01', 'against.n.01', 'university.n.01', 'holocaust.n.01', 'movement.n.01', 'ii.n.01', 'jews.n.01', 'history.n.01', 'government.n.01', 'nsdap.n.01', 'munich.n.01', 'fascist.n.01']\n",
      "\n",
      "\n",
      "['london.n.01', 'city.n.01', 'world.n.01', 'londons.n.01', 'royal.n.01', 'park.n.01', 'per.n.01', 'battle.n.01', 'greater.n.01', 'population.n.01', 'national.n.01', 'england.n.01', 'area.n.01', 'centre.n.01', 'cent.n.01', 'thames.n.01', 'british.n.01', 'university.n.01', 'westminster.n.01', 'transport.n.01', 'east.n.01', 'largest.n.01', 'pdf.n.01', 'uk.n.01', 'bbc.n.01', 'school.n.01', 'street.n.01', 'st.n.01', 'west.n.01', 'international.n.01', 'south.n.01', 'including.n.01', 'more.n.01', 'urban.n.01', 'around.n.01', 'were.n.01', 'college.n.01', 'airport.n.01', 'history.n.01', 'capital.n.01']\n"
     ]
    }
   ],
   "source": [
    "bg = similar('Adolf Hitler','London')"
   ]
  },
  {
   "cell_type": "code",
   "execution_count": 37,
   "metadata": {},
   "outputs": [
    {
     "name": "stdout",
     "output_type": "stream",
     "text": [
      "Probability of topics being related is 19%\n",
      "Count is 356 and sum is 67.36011575884572\n",
      "\n",
      "\n",
      "['hitler.n.01', 'pp.n.01', 'german.n.01', 'kershaw.n.01', 'war.n.01', 'hitlers.n.01', 'party.n.01', 'germany.n.01', 'national.n.01', 'nazi.n.01', 'were.n.01', 'von.n.01', 'world.n.01', '1999.n.01', '/.n.01', 'adolf.n.01', 'had.n.01', '1960.n.01', 'shirer.n.01', 'york.n.01', 'socialist.n.01', 'london.n.01', 'military.n.01', 'political.n.01', 'press.n.01', 'bullock.n.01', 'union.n.01', 'reich.n.01', 'army.n.01', 'against.n.01', 'university.n.01', 'holocaust.n.01', 'movement.n.01', 'ii.n.01', 'jews.n.01', 'history.n.01', 'government.n.01', 'nsdap.n.01', 'munich.n.01', 'fascist.n.01']\n",
      "\n",
      "\n",
      "['trump.n.01', 'donald.n.01', 'trumps.n.01', 'york.n.01', 'times.n.01', 'president.n.01', 'news.n.01', 'washington.n.01', 'post.n.01', 'had.n.01', 'campaign.n.01', 'presidential.n.01', 'states.n.01', 'cnn.n.01', 'michael.n.01', 'united.n.01', 'election.n.01', 'said.n.01', 'house.n.01', 'been.n.01', 'during.n.01', 'white.n.01', 'were.n.01', 'tax.n.01', 'against.n.01', 'david.n.01', 'investigation.n.01', 'business.n.01', 'american.n.01', 'republican.n.01', 'million.n.01', 'i.n.01', 'political.n.01', 'media.n.01', 'press.n.01', 'russia.n.01', 'general.n.01', 'federal.n.01', 'office.n.01', 'nbc.n.01']\n"
     ]
    }
   ],
   "source": [
    "bh = similar('Adolf Hitler','Donald Trump')"
   ]
  },
  {
   "cell_type": "code",
   "execution_count": 38,
   "metadata": {},
   "outputs": [
    {
     "name": "stdout",
     "output_type": "stream",
     "text": [
      "Probability of topics being related is 17%\n",
      "Count is 463 and sum is 77.63842287544257\n",
      "\n",
      "\n",
      "['merkel.n.01', 'angela.n.01', 'german.n.01', 'germany.n.01', 'chancellor.n.01', '/.n.01', 'cdu.n.01', 'spd.n.01', 'merkels.n.01', 'election.n.01', 'party.n.01', 'der.n.01', 'leader.n.01', 'european.n.01', 'coalition.n.01', 'world.n.01', 'news.n.01', 'von.n.01', 'award.n.01', 'been.n.01', 'government.n.01', 'de.n.01', 'women.n.01', 'germanys.n.01', 'grand.n.01', 'berlin.n.01', 'university.n.01', 'die.n.01', 'e.n.01', 'federal.n.01', 'csu.n.01', 'crisis.n.01', 'union.n.01', 'east.n.01', 'social.n.01', 'christian.n.01', 'powerful.n.01', 'term.n.01', 'awarded.n.01', 'v.n.01']\n",
      "\n",
      "\n",
      "['trump.n.01', 'donald.n.01', 'trumps.n.01', 'york.n.01', 'times.n.01', 'president.n.01', 'news.n.01', 'washington.n.01', 'post.n.01', 'had.n.01', 'campaign.n.01', 'presidential.n.01', 'states.n.01', 'cnn.n.01', 'michael.n.01', 'united.n.01', 'election.n.01', 'said.n.01', 'house.n.01', 'been.n.01', 'during.n.01', 'white.n.01', 'were.n.01', 'tax.n.01', 'against.n.01', 'david.n.01', 'investigation.n.01', 'business.n.01', 'american.n.01', 'republican.n.01', 'million.n.01', 'i.n.01', 'political.n.01', 'media.n.01', 'press.n.01', 'russia.n.01', 'general.n.01', 'federal.n.01', 'office.n.01', 'nbc.n.01']\n"
     ]
    }
   ],
   "source": [
    "bi = similar('Angela Merkel','Donald Trump')"
   ]
  },
  {
   "cell_type": "code",
   "execution_count": 39,
   "metadata": {},
   "outputs": [
    {
     "name": "stdout",
     "output_type": "stream",
     "text": [
      "Probability of topics being related is 25%\n",
      "Count is 391 and sum is 96.08856552256096\n",
      "\n",
      "\n",
      "['amsterdam.n.01', 'dutch.n.01', 'city.n.01', 'van.n.01', 'de.n.01', 'netherlands.n.01', 'were.n.01', 'century.n.01', 'museum.n.01', 'amsterdams.n.01', 'world.n.01', 'many.n.01', 'centre.n.01', 'population.n.01', 'area.n.01', 'large.n.01', 'buildings.n.01', 'largest.n.01', 'square.n.01', 'pdf.n.01', 'north.n.01', 'international.n.01', 'been.n.01', 'located.n.01', 'cities.n.01', 'europe.n.01', 'during.n.01', 'built.n.01', 'het.n.01', 'en.n.01', 'citys.n.01', 'jewish.n.01', 'holland.n.01', 'part.n.01', 'canals.n.01', 'history.n.01', 'university.n.01', 'municipality.n.01', 'second.n.01', 'war.n.01']\n",
      "\n",
      "\n",
      "['tiësto.n.01', 'album.n.01', 'released.n.01', 'dj.n.01', 'life.n.01', 'tour.n.01', 'music.n.01', 'search.n.01', 'sunrise.n.01', 'live.n.01', 'dutch.n.01', 'trance.n.01', 'world.n.01', 'van.n.01', 'tiesto.n.01', 'club.n.01', 'billboard.n.01', 'concert.n.01', 'elements.n.01', 'magazine.n.01', 'remixed.n.01', 'armin.n.01', 'buuren.n.01', 'gouryella.n.01', 'called.n.01', 'house.n.01', 'dance.n.01', 'compilation.n.01', 'series.n.01', 'top.n.01', 'djs.n.01', 'three.n.01', 'radio.n.01', 'amsterdam.n.01', 'years.n.01', 'black.n.01', 'hole.n.01', 'recordings.n.01', 'performed.n.01', 'chart.n.01']\n"
     ]
    }
   ],
   "source": [
    "bj = similar('Amsterdam','Tiesto')"
   ]
  },
  {
   "cell_type": "code",
   "execution_count": 40,
   "metadata": {},
   "outputs": [
    {
     "name": "stdout",
     "output_type": "stream",
     "text": [
      "Probability of topics being related is 14%\n",
      "Count is 324 and sum is 44.17749093973583\n",
      "\n",
      "\n",
      "['amsterdam.n.01', 'dutch.n.01', 'city.n.01', 'van.n.01', 'de.n.01', 'netherlands.n.01', 'were.n.01', 'century.n.01', 'museum.n.01', 'amsterdams.n.01', 'world.n.01', 'many.n.01', 'centre.n.01', 'population.n.01', 'area.n.01', 'large.n.01', 'buildings.n.01', 'largest.n.01', 'square.n.01', 'pdf.n.01', 'north.n.01', 'international.n.01', 'been.n.01', 'located.n.01', 'cities.n.01', 'europe.n.01', 'during.n.01', 'built.n.01', 'het.n.01', 'en.n.01', 'citys.n.01', 'jewish.n.01', 'holland.n.01', 'part.n.01', 'canals.n.01', 'history.n.01', 'university.n.01', 'municipality.n.01', 'second.n.01', 'war.n.01']\n",
      "\n",
      "\n",
      "['pikachu.n.01', 'pokémon.n.01', 'game.n.01', 'nintendo.n.01', 'episode.n.01', 'series.n.01', 'characters.n.01', 'anime.n.01', 'character.n.01', 'video.n.01', 'games.n.01', 'ash.n.01', 'season.n.01', 'ign.n.01', 'pokemon.n.01', 'called.n.01', 'pikachus.n.01', 'yellow.n.01', 'top.n.01', '1999.n.01', 'japanese.n.01', 'main.n.01', 'freak.n.01', 'detective.n.01', 'mascot.n.01', 'various.n.01', 'players.n.01', 'electric.n.01', 'were.n.01', 'inc.n.01', 'news.n.01', 'best.n.01', 'species.n.01', 'appeared.n.01', 'red.n.01', 'released.n.01', 'ketchum.n.01', 'super.n.01', 'smash.n.01', 'power.n.01']\n"
     ]
    }
   ],
   "source": [
    "bk = similar('Amsterdam','Pikachu')"
   ]
  },
  {
   "cell_type": "code",
   "execution_count": 41,
   "metadata": {},
   "outputs": [
    {
     "name": "stdout",
     "output_type": "stream",
     "text": [
      "Probability of topics being related is 32%\n",
      "Count is 273 and sum is 88.21005695687901\n",
      "\n",
      "\n",
      "['amsterdam.n.01', 'dutch.n.01', 'city.n.01', 'van.n.01', 'de.n.01', 'netherlands.n.01', 'were.n.01', 'century.n.01', 'museum.n.01', 'amsterdams.n.01', 'world.n.01', 'many.n.01', 'centre.n.01', 'population.n.01', 'area.n.01', 'large.n.01', 'buildings.n.01', 'largest.n.01', 'square.n.01', 'pdf.n.01', 'north.n.01', 'international.n.01', 'been.n.01', 'located.n.01', 'cities.n.01', 'europe.n.01', 'during.n.01', 'built.n.01', 'het.n.01', 'en.n.01', 'citys.n.01', 'jewish.n.01', 'holland.n.01', 'part.n.01', 'canals.n.01', 'history.n.01', 'university.n.01', 'municipality.n.01', 'second.n.01', 'war.n.01']\n",
      "\n",
      "\n",
      "['dota.n.01', 'game.n.01', 'games.n.01', 'valve.n.01', 'players.n.01', 'pc.n.01', 'gamer.n.01', 'heroes.n.01', 'video.n.01', 'international.n.01', 'hero.n.01', 'major.n.01', 'ign.n.01', 'best.n.01', 'team.n.01', 'steam.n.01', 'million.n.01', 'polygon.n.01', 'defense.n.01', 'known.n.01', 'ancients.n.01', 'being.n.01', 'announced.n.01', 'awards.n.01', 'esports.n.01', 'mode.n.01', 'source.n.01', 'system.n.01', 'had.n.01', 'chris.n.01', 'released.n.01', 'were.n.01', 'valves.n.01', 'update.n.01', 'teams.n.01', 'each.n.01', 'more.n.01', 'battle.n.01', 'player.n.01', 'world.n.01']\n"
     ]
    }
   ],
   "source": [
    "bl = similar('Amsterdam','Dota 2')"
   ]
  },
  {
   "cell_type": "code",
   "execution_count": 42,
   "metadata": {},
   "outputs": [
    {
     "name": "stdout",
     "output_type": "stream",
     "text": [
      "Probability of topics being related is 19%\n",
      "Count is 323 and sum is 62.931106054224486\n",
      "\n",
      "\n",
      "['amsterdam.n.01', 'dutch.n.01', 'city.n.01', 'van.n.01', 'de.n.01', 'netherlands.n.01', 'were.n.01', 'century.n.01', 'museum.n.01', 'amsterdams.n.01', 'world.n.01', 'many.n.01', 'centre.n.01', 'population.n.01', 'area.n.01', 'large.n.01', 'buildings.n.01', 'largest.n.01', 'square.n.01', 'pdf.n.01', 'north.n.01', 'international.n.01', 'been.n.01', 'located.n.01', 'cities.n.01', 'europe.n.01', 'during.n.01', 'built.n.01', 'het.n.01', 'en.n.01', 'citys.n.01', 'jewish.n.01', 'holland.n.01', 'part.n.01', 'canals.n.01', 'history.n.01', 'university.n.01', 'municipality.n.01', 'second.n.01', 'war.n.01']\n",
      "\n",
      "\n",
      "['underground.n.01', 'speed.n.01', 'need.n.01', 'player.n.01', 'game.n.01', 'races.n.01', 'race.n.01', 'games.n.01', 'car.n.01', 'cars.n.01', 'rivals.n.01', 'stage.n.01', 'version.n.01', 'racing.n.01', 'xbox.n.01', 'mode.n.01', 'city.n.01', 'players.n.01', 'pc.n.01', 'review.n.01', 'series.n.01', 'each.n.01', 'video.n.01', 'caleb.n.01', 'playstation.n.01', 'mobile.n.01', 'while.n.01', 'using.n.01', 'events.n.01', 'gamespy.n.01', 'run.n.01', '100.n.01', 'ps2.n.01', 'reviews.n.01', 'gamerankings.n.01', 'gamecube.n.01', 'ds.n.01', 'street.n.01', 'bayview.n.01', 'best.n.01']\n"
     ]
    }
   ],
   "source": [
    "bm = similar('Amsterdam','Need For Speed Underground 2')"
   ]
  },
  {
   "cell_type": "code",
   "execution_count": 43,
   "metadata": {},
   "outputs": [
    {
     "name": "stdout",
     "output_type": "stream",
     "text": [
      "Probability of topics being related is 23%\n",
      "Count is 391 and sum is 88.53733068217251\n",
      "\n",
      "\n",
      "['amsterdam.n.01', 'dutch.n.01', 'city.n.01', 'van.n.01', 'de.n.01', 'netherlands.n.01', 'were.n.01', 'century.n.01', 'museum.n.01', 'amsterdams.n.01', 'world.n.01', 'many.n.01', 'centre.n.01', 'population.n.01', 'area.n.01', 'large.n.01', 'buildings.n.01', 'largest.n.01', 'square.n.01', 'pdf.n.01', 'north.n.01', 'international.n.01', 'been.n.01', 'located.n.01', 'cities.n.01', 'europe.n.01', 'during.n.01', 'built.n.01', 'het.n.01', 'en.n.01', 'citys.n.01', 'jewish.n.01', 'holland.n.01', 'part.n.01', 'canals.n.01', 'history.n.01', 'university.n.01', 'municipality.n.01', 'second.n.01', 'war.n.01']\n",
      "\n",
      "\n",
      "['beyoncé.n.01', 'music.n.01', 'album.n.01', 'billboard.n.01', 'beyoncés.n.01', 'love.n.01', 'awards.n.01', 'jay-z.n.01', 'news.n.01', 'mtv.n.01', 'i.n.01', 'tour.n.01', 'single.n.01', 'video.n.01', 'million.n.01', 'american.n.01', 'best.n.01', 'destinys.n.01', 'song.n.01', 'child.n.01', 'world.n.01', 'artist.n.01', 'knowles.n.01', '100.n.01', 'chart.n.01', 'award.n.01', 'songwriters.n.01', 'released.n.01', 'top.n.01', 'women.n.01', 'list.n.01', 'york.n.01', 'songs.n.01', 'female.n.01', 'black.n.01', 'film.n.01', 'number.n.01', 'grammy.n.01', 'performance.n.01', 'lemonade.n.01']\n"
     ]
    }
   ],
   "source": [
    "bo = similar('Amsterdam','Beyonce')"
   ]
  },
  {
   "cell_type": "code",
   "execution_count": 44,
   "metadata": {},
   "outputs": [
    {
     "name": "stdout",
     "output_type": "stream",
     "text": [
      "Probability of topics being related is 19%\n",
      "Count is 357 and sum is 66.65616733990471\n",
      "\n",
      "\n",
      "['amsterdam.n.01', 'dutch.n.01', 'city.n.01', 'van.n.01', 'de.n.01', 'netherlands.n.01', 'were.n.01', 'century.n.01', 'museum.n.01', 'amsterdams.n.01', 'world.n.01', 'many.n.01', 'centre.n.01', 'population.n.01', 'area.n.01', 'large.n.01', 'buildings.n.01', 'largest.n.01', 'square.n.01', 'pdf.n.01', 'north.n.01', 'international.n.01', 'been.n.01', 'located.n.01', 'cities.n.01', 'europe.n.01', 'during.n.01', 'built.n.01', 'het.n.01', 'en.n.01', 'citys.n.01', 'jewish.n.01', 'holland.n.01', 'part.n.01', 'canals.n.01', 'history.n.01', 'university.n.01', 'municipality.n.01', 'second.n.01', 'war.n.01']\n",
      "\n",
      "\n",
      "['rihanna.n.01', 'music.n.01', 'rihannas.n.01', 'billboard.n.01', 'album.n.01', 'girl.n.01', 'mtv.n.01', 'single.n.01', 'released.n.01', 'love.n.01', '100.n.01', 'i.n.01', 'hot.n.01', 'fashion.n.01', 'tour.n.01', 'bad.n.01', 'top.n.01', 'brown.n.01', 'news.n.01', 'gone.n.01', 'million.n.01', 'charts.n.01', 'video.n.01', 'singles.n.01', 'chris.n.01', 'artist.n.01', 'song.n.01', 'studio.n.01', 'awards.n.01', 'chart.n.01', 'pop.n.01', 'songs.n.01', 'award.n.01', 'world.n.01', 'artists.n.01', 'uk.n.01', 'barbados.n.01', 'fenty.n.01', 'had.n.01', 'albums.n.01']\n"
     ]
    }
   ],
   "source": [
    "bp = similar('Amsterdam','Rihanna')"
   ]
  },
  {
   "cell_type": "code",
   "execution_count": 45,
   "metadata": {},
   "outputs": [
    {
     "name": "stdout",
     "output_type": "stream",
     "text": [
      "Probability of topics being related is 13%\n",
      "Count is 324 and sum is 43.0239600499993\n",
      "\n",
      "\n",
      "['amsterdam.n.01', 'dutch.n.01', 'city.n.01', 'van.n.01', 'de.n.01', 'netherlands.n.01', 'were.n.01', 'century.n.01', 'museum.n.01', 'amsterdams.n.01', 'world.n.01', 'many.n.01', 'centre.n.01', 'population.n.01', 'area.n.01', 'large.n.01', 'buildings.n.01', 'largest.n.01', 'square.n.01', 'pdf.n.01', 'north.n.01', 'international.n.01', 'been.n.01', 'located.n.01', 'cities.n.01', 'europe.n.01', 'during.n.01', 'built.n.01', 'het.n.01', 'en.n.01', 'citys.n.01', 'jewish.n.01', 'holland.n.01', 'part.n.01', 'canals.n.01', 'history.n.01', 'university.n.01', 'municipality.n.01', 'second.n.01', 'war.n.01']\n",
      "\n",
      "\n",
      "['cake.n.01', 'cupcakes.n.01', 'cupcake.n.01', 'cakes.n.01', 'cup.n.01', 'chocolate.n.01', 'small.n.01', 'paper.n.01', 'made.n.01', 'liners.n.01', 'food.n.01', 'cups.n.01', 'were.n.01', 'baking.n.01', 'baked.n.01', 'bake.n.01', 'more.n.01', 'using.n.01', 'icing.n.01', 'often.n.01', 'pastry.n.01', 'uses.n.01', 'ingredients.n.01', 'butter.n.01', 'used.n.01', 'cream.n.01', 'bakers.n.01', 'page.n.01', 'fairy.n.01', 'american.n.01', 'muffin.n.01', 'individual.n.01', 'size.n.01', 'pans.n.01', 'cases.n.01', 'shop.n.01', 'sprinkles.n.01', 'periodic.n.01', 'table.n.01', 'citation.n.01']\n"
     ]
    }
   ],
   "source": [
    "bq = similar('Amsterdam','Cupcakes')"
   ]
  },
  {
   "cell_type": "code",
   "execution_count": 46,
   "metadata": {},
   "outputs": [
    {
     "name": "stdout",
     "output_type": "stream",
     "text": [
      "Probability of topics being related is 75%\n",
      "Count is 360 and sum is 271.15625812587274\n",
      "\n",
      "\n",
      "['amsterdam.n.01', 'dutch.n.01', 'city.n.01', 'van.n.01', 'de.n.01', 'netherlands.n.01', 'were.n.01', 'century.n.01', 'museum.n.01', 'amsterdams.n.01', 'world.n.01', 'many.n.01', 'centre.n.01', 'population.n.01', 'area.n.01', 'large.n.01', 'buildings.n.01', 'largest.n.01', 'square.n.01', 'pdf.n.01', 'north.n.01', 'international.n.01', 'been.n.01', 'located.n.01', 'cities.n.01', 'europe.n.01', 'during.n.01', 'built.n.01', 'het.n.01', 'en.n.01', 'citys.n.01', 'jewish.n.01', 'holland.n.01', 'part.n.01', 'canals.n.01', 'history.n.01', 'university.n.01', 'municipality.n.01', 'second.n.01', 'war.n.01']\n",
      "\n",
      "\n",
      "['singapore.n.01', 'world.n.01', 'singapores.n.01', 'national.n.01', 'times.n.01', 'education.n.01', 'pdf.n.01', 'were.n.01', 'international.n.01', 'country.n.01', 'english.n.01', 'straits.n.01', 'asia.n.01', 'malaysia.n.01', 'british.n.01', 'language.n.01', 'ministry.n.01', 'government.n.01', 'island.n.01', 'countries.n.01', 'press.n.01', 'islands.n.01', 'chinese.n.01', 'water.n.01', 'worlds.n.01', 'malay.n.01', 'foreign.n.01', 'lee.n.01', 'been.n.01', 'public.n.01', 'population.n.01', 'development.n.01', 'economic.n.01', 'singaporean.n.01', 'statistics.n.01', 'city.n.01', 'united.n.01', 'global.n.01', 'singaporeans.n.01', 'nations.n.01']\n"
     ]
    }
   ],
   "source": [
    "br = similar('Amsterdam','Singapore')"
   ]
  },
  {
   "cell_type": "code",
   "execution_count": 47,
   "metadata": {},
   "outputs": [
    {
     "name": "stdout",
     "output_type": "stream",
     "text": [
      "Probability of topics being related is 19%\n",
      "Count is 377 and sum is 70.90553440762527\n",
      "\n",
      "\n",
      "['amsterdam.n.01', 'dutch.n.01', 'city.n.01', 'van.n.01', 'de.n.01', 'netherlands.n.01', 'were.n.01', 'century.n.01', 'museum.n.01', 'amsterdams.n.01', 'world.n.01', 'many.n.01', 'centre.n.01', 'population.n.01', 'area.n.01', 'large.n.01', 'buildings.n.01', 'largest.n.01', 'square.n.01', 'pdf.n.01', 'north.n.01', 'international.n.01', 'been.n.01', 'located.n.01', 'cities.n.01', 'europe.n.01', 'during.n.01', 'built.n.01', 'het.n.01', 'en.n.01', 'citys.n.01', 'jewish.n.01', 'holland.n.01', 'part.n.01', 'canals.n.01', 'history.n.01', 'university.n.01', 'municipality.n.01', 'second.n.01', 'war.n.01']\n",
      "\n",
      "\n",
      "['trump.n.01', 'donald.n.01', 'trumps.n.01', 'york.n.01', 'times.n.01', 'president.n.01', 'news.n.01', 'washington.n.01', 'post.n.01', 'had.n.01', 'campaign.n.01', 'presidential.n.01', 'states.n.01', 'cnn.n.01', 'michael.n.01', 'united.n.01', 'election.n.01', 'said.n.01', 'house.n.01', 'been.n.01', 'during.n.01', 'white.n.01', 'were.n.01', 'tax.n.01', 'against.n.01', 'david.n.01', 'investigation.n.01', 'business.n.01', 'american.n.01', 'republican.n.01', 'million.n.01', 'i.n.01', 'political.n.01', 'media.n.01', 'press.n.01', 'russia.n.01', 'general.n.01', 'federal.n.01', 'office.n.01', 'nbc.n.01']\n"
     ]
    }
   ],
   "source": [
    "bs = similar('Amsterdam','Donald Trump')"
   ]
  },
  {
   "cell_type": "code",
   "execution_count": 48,
   "metadata": {},
   "outputs": [
    {
     "name": "stdout",
     "output_type": "stream",
     "text": [
      "Probability of topics being related is 65%\n",
      "Count is 240 and sum is 156.71612788741325\n",
      "\n",
      "\n",
      "['amsterdam.n.01', 'dutch.n.01', 'city.n.01', 'van.n.01', 'de.n.01', 'netherlands.n.01', 'were.n.01', 'century.n.01', 'museum.n.01', 'amsterdams.n.01', 'world.n.01', 'many.n.01', 'centre.n.01', 'population.n.01', 'area.n.01', 'large.n.01', 'buildings.n.01', 'largest.n.01', 'square.n.01', 'pdf.n.01', 'north.n.01', 'international.n.01', 'been.n.01', 'located.n.01', 'cities.n.01', 'europe.n.01', 'during.n.01', 'built.n.01', 'het.n.01', 'en.n.01', 'citys.n.01', 'jewish.n.01', 'holland.n.01', 'part.n.01', 'canals.n.01', 'history.n.01', 'university.n.01', 'municipality.n.01', 'second.n.01', 'war.n.01']\n",
      "\n",
      "\n",
      "['van.n.01', 'gogh.n.01', 'vincent.n.01', 'museum.n.01', 'theo.n.01', 'art.n.01', 'goghs.n.01', '1888.n.01', '1990.n.01', 'arles.n.01', 'paintings.n.01', 'had.n.01', '1890.n.01', '1889.n.01', 'life.n.01', 'paris.n.01', 'letter.n.01', 'painted.n.01', 'gauguin.n.01', 'were.n.01', 'amsterdam.n.01', 'painting.n.01', 'de.n.01', 'works.n.01', 'wheat.n.01', 'naifeh.n.01', 'smith.n.01', 'pickvance.n.01', '1981.n.01', 'hulsker.n.01', 'still.n.01', 'dutch.n.01', 'portrait.n.01', 'paul.n.01', 'during.n.01', 'wrote.n.01', 'night.n.01', 'tralbaut.n.01', 'cypresses.n.01', '1986.n.01']\n"
     ]
    }
   ],
   "source": [
    "bt = similar('Amsterdam','Van Gogh')"
   ]
  },
  {
   "cell_type": "code",
   "execution_count": 49,
   "metadata": {},
   "outputs": [
    {
     "name": "stdout",
     "output_type": "stream",
     "text": [
      "Probability of topics being related is 26%\n",
      "Count is 540 and sum is 141.9459963844252\n",
      "\n",
      "\n",
      "['obama.n.01', 'barack.n.01', 'obamas.n.01', 'chicago.n.01', 'york.n.01', 'president.n.01', 'times.n.01', 'pp.n.01', 'campaign.n.01', 'united.n.01', '/.n.01', 'act.n.01', 'senate.n.01', 'law.n.01', 'states.n.01', 'washington.n.01', 'house.n.01', 'illinois.n.01', 'american.n.01', 'nominee.n.01', 'john.n.01', 'white.n.01', 'presidential.n.01', 'democratic.n.01', 'election.n.01', 'press.n.01', 'post.n.01', 'news.n.01', 'years.n.01', 'david.n.01', 'federal.n.01', 'i.n.01', 'state.n.01', 'health.n.01', 'cnn.n.01', 'care.n.01', 'iraq.n.01', 'policy.n.01', 'bill.n.01', 'office.n.01']\n",
      "\n",
      "\n",
      "['goldman.n.01', 'sachs.n.01', 'york.n.01', 'securities.n.01', 'investment.n.01', 'bank.n.01', 'billion.n.01', 'firm.n.01', 'times.n.01', 'million.n.01', 'street.n.01', 'were.n.01', 'financial.n.01', 'had.n.01', 'company.n.01', 'banks.n.01', 'wall.n.01', 'help.n.01', 'subscription.n.01', 'required.n.01', 'business.n.01', 'goldmans.n.01', 'crisis.n.01', 'fund.n.01', 'trading.n.01', 'former.n.01', 'employees.n.01', 'deal.n.01', 'investors.n.01', 'market.n.01', 'bloomberg.n.01', 'abacus.n.01', 'sec.n.01', 'against.n.01', 'mortgage.n.01', 'public.n.01', 'group.n.01', 'paulson.n.01', 'money.n.01', 'funds.n.01']\n"
     ]
    }
   ],
   "source": [
    "bu = similar('Obama','Goldman Sachs')"
   ]
  },
  {
   "cell_type": "code",
   "execution_count": 50,
   "metadata": {},
   "outputs": [
    {
     "name": "stdout",
     "output_type": "stream",
     "text": [
      "Probability of topics being related is 4%\n",
      "Count is 513 and sum is 23.030727990916372\n",
      "\n",
      "\n",
      "['obama.n.01', 'barack.n.01', 'obamas.n.01', 'chicago.n.01', 'york.n.01', 'president.n.01', 'times.n.01', 'pp.n.01', 'campaign.n.01', 'united.n.01', '/.n.01', 'act.n.01', 'senate.n.01', 'law.n.01', 'states.n.01', 'washington.n.01', 'house.n.01', 'illinois.n.01', 'american.n.01', 'nominee.n.01', 'john.n.01', 'white.n.01', 'presidential.n.01', 'democratic.n.01', 'election.n.01', 'press.n.01', 'post.n.01', 'news.n.01', 'years.n.01', 'david.n.01', 'federal.n.01', 'i.n.01', 'state.n.01', 'health.n.01', 'cnn.n.01', 'care.n.01', 'iraq.n.01', 'policy.n.01', 'bill.n.01', 'office.n.01']\n",
      "\n",
      "\n",
      "['nickelback.n.01', 'album.n.01', 'band.n.01', 'rock.n.01', 'released.n.01', 'kroeger.n.01', 'billboard.n.01', 'single.n.01', 'tour.n.01', 'number.n.01', 'music.n.01', 'chad.n.01', 'dark.n.01', 'top.n.01', 'horse.n.01', 'song.n.01', 'canadian.n.01', 'bands.n.01', 'albums.n.01', 'roadrunner.n.01', 'records.n.01', 'release.n.01', 'singles.n.01', 'here.n.01', 'award.n.01', 'socan.n.01', 'peaked.n.01', 'chart.n.01', 'ryan.n.01', 'announced.n.01', 'sold.n.01', 'million.n.01', 'live.n.01', 'juno.n.01', 'awards.n.01', 'vikedal.n.01', 'more.n.01', 'charts.n.01', 'hot.n.01', 'mainstream.n.01']\n"
     ]
    }
   ],
   "source": [
    "bv = similar('Obama','Nickelback')"
   ]
  },
  {
   "cell_type": "code",
   "execution_count": 51,
   "metadata": {},
   "outputs": [
    {
     "name": "stdout",
     "output_type": "stream",
     "text": [
      "Probability of topics being related is 78%\n",
      "Count is 285 and sum is 220.90146636553047\n",
      "\n",
      "\n",
      "['citation.n.01', 'page.n.01', 'band.n.01', '1em.n.01', 'center}mw-parser-output.n.01', 'rock.n.01', 'gorham.n.01', 'musical.n.01', 'hard.n.01', 'thin.n.01', 'lizzy.n.01', 'guitarist.n.01', 'johanson.n.01', 'la.n.01', 'verdi.n.01', 'a440.n.01', 'album.n.01', 'cs1-subscriptionmw-parser-output.n.01', 'musicbrainz.n.01', 'groups.n.01', 'talk.n.01', 'create.n.01', 'article.n.01', 'view.n.01', 'changes.n.01', 'contact.n.01', 'terms.n.01', 'privacy.n.01', 'policy.n.01', 'guns.n.01', 'melodic.n.01', 'formed.n.01', 'early.n.01', '1990s.n.01', 'scott.n.01', 'bass.n.01', 'leif.n.01', 'drummer.n.01', 'mike.n.01', 'sturgis.n.01']\n",
      "\n",
      "\n",
      "['nickelback.n.01', 'album.n.01', 'band.n.01', 'rock.n.01', 'released.n.01', 'kroeger.n.01', 'billboard.n.01', 'single.n.01', 'tour.n.01', 'number.n.01', 'music.n.01', 'chad.n.01', 'dark.n.01', 'top.n.01', 'horse.n.01', 'song.n.01', 'canadian.n.01', 'bands.n.01', 'albums.n.01', 'roadrunner.n.01', 'records.n.01', 'release.n.01', 'singles.n.01', 'here.n.01', 'award.n.01', 'socan.n.01', 'peaked.n.01', 'chart.n.01', 'ryan.n.01', 'announced.n.01', 'sold.n.01', 'million.n.01', 'live.n.01', 'juno.n.01', 'awards.n.01', 'vikedal.n.01', 'more.n.01', 'charts.n.01', 'hot.n.01', 'mainstream.n.01']\n"
     ]
    }
   ],
   "source": [
    "bw = similar('21 Guns (band)','Nickelback')"
   ]
  },
  {
   "cell_type": "code",
   "execution_count": 52,
   "metadata": {},
   "outputs": [
    {
     "name": "stdout",
     "output_type": "stream",
     "text": [
      "Probability of topics being related is 100%\n",
      "Count is 461 and sum is 507.32134446924795\n",
      "\n",
      "\n",
      "['twenty.n.01', 'pilots.n.01', 'tour.n.01', 'album.n.01', 'band.n.01', 'music.n.01', 'joseph.n.01', 'rock.n.01', 'billboard.n.01', 'alternative.n.01', 'youtube.n.01', 'released.n.01', 'blurryface.n.01', 'video.n.01', 'best.n.01', 'bands.n.01', 'songs.n.01', 'via.n.01', 'columbus.n.01', 'salih.n.01', 'regional.n.01', 'single.n.01', 'song.n.01', 'thomas.n.01', 'press.n.01', 'tyler.n.01', 'chris.n.01', 'live.n.01', 'interview.n.01', 'ohio.n.01', 'dun.n.01', 'awards.n.01', 'stressed.n.01', 'albums.n.01', 'release.n.01', 'radio.n.01', 'show.n.01', 'world.n.01', 'vessel.n.01', 'gold.n.01']\n",
      "\n",
      "\n",
      "['nickelback.n.01', 'album.n.01', 'band.n.01', 'rock.n.01', 'released.n.01', 'kroeger.n.01', 'billboard.n.01', 'single.n.01', 'tour.n.01', 'number.n.01', 'music.n.01', 'chad.n.01', 'dark.n.01', 'top.n.01', 'horse.n.01', 'song.n.01', 'canadian.n.01', 'bands.n.01', 'albums.n.01', 'roadrunner.n.01', 'records.n.01', 'release.n.01', 'singles.n.01', 'here.n.01', 'award.n.01', 'socan.n.01', 'peaked.n.01', 'chart.n.01', 'ryan.n.01', 'announced.n.01', 'sold.n.01', 'million.n.01', 'live.n.01', 'juno.n.01', 'awards.n.01', 'vikedal.n.01', 'more.n.01', 'charts.n.01', 'hot.n.01', 'mainstream.n.01']\n"
     ]
    }
   ],
   "source": [
    "bx = similar('21 Pilots','Nickelback')"
   ]
  },
  {
   "cell_type": "code",
   "execution_count": 53,
   "metadata": {},
   "outputs": [
    {
     "name": "stdout",
     "output_type": "stream",
     "text": [
      "Probability of topics being related is 97%\n",
      "Count is 386 and sum is 374.9458355408685\n",
      "\n",
      "\n",
      "['twenty.n.01', 'pilots.n.01', 'tour.n.01', 'album.n.01', 'band.n.01', 'music.n.01', 'joseph.n.01', 'rock.n.01', 'billboard.n.01', 'alternative.n.01', 'youtube.n.01', 'released.n.01', 'blurryface.n.01', 'video.n.01', 'best.n.01', 'bands.n.01', 'songs.n.01', 'via.n.01', 'columbus.n.01', 'salih.n.01', 'regional.n.01', 'single.n.01', 'song.n.01', 'thomas.n.01', 'press.n.01', 'tyler.n.01', 'chris.n.01', 'live.n.01', 'interview.n.01', 'ohio.n.01', 'dun.n.01', 'awards.n.01', 'stressed.n.01', 'albums.n.01', 'release.n.01', 'radio.n.01', 'show.n.01', 'world.n.01', 'vessel.n.01', 'gold.n.01']\n",
      "\n",
      "\n",
      "['cobra.n.01', 'starship.n.01', 'album.n.01', 'saporta.n.01', 'tour.n.01', 'released.n.01', 'mtv.n.01', 'band.n.01', 'while.n.01', 'hot.n.01', 'music.n.01', 'gabe.n.01', 'single.n.01', 'song.n.01', 'identifiers.n.01', 'city.n.01', 'ryland.n.01', 'vocals.n.01', 'mess.n.01', 'night.n.01', 'announced.n.01', 'video.n.01', 'bands.n.01', 'la.n.01', 'began.n.01', 'been.n.01', 'midtown.n.01', 'sleeps.n.01', 'rule.n.01', 'streets.n.01', 'alex.n.01', 'backing.n.01', 'group.n.01', 'snakes.n.01', '¡viva.n.01', 'page.n.01', 'blackinton.n.01', 'suarez.n.01', 'novarro.n.01', 'plane.n.01']\n"
     ]
    }
   ],
   "source": [
    "by = similar('21 Pilots','Cobra Starship')"
   ]
  },
  {
   "cell_type": "code",
   "execution_count": 54,
   "metadata": {},
   "outputs": [
    {
     "name": "stdout",
     "output_type": "stream",
     "text": [
      "Probability of topics being related is 100%\n",
      "Count is 363 and sum is 514.2151163177239\n",
      "\n",
      "\n",
      "['chemical.n.01', 'romance.n.01', 'band.n.01', 'album.n.01', 'black.n.01', 'parade.n.01', 'rock.n.01', 'tour.n.01', 'na.n.01', 'gerard.n.01', 'bands.n.01', 'released.n.01', 'i.n.01', 'alternative.n.01', 'brought.n.01', 'music.n.01', 'emo.n.01', 'iero.n.01', 'days.n.01', 'announced.n.01', 'press.n.01', 'punk.n.01', 'three.n.01', 'nme.n.01', 'danger.n.01', 'true.n.01', 'lives.n.01', 'song.n.01', 'were.n.01', 'website.n.01', 'frank.n.01', 'love.n.01', 'fabulous.n.01', 'killjoys.n.01', 'romances.n.01', 'cheers.n.01', 'release.n.01', 'bryar.n.01', 'albums.n.01', 'death.n.01']\n",
      "\n",
      "\n",
      "['linkin.n.01', 'park.n.01', 'album.n.01', 'band.n.01', 'rock.n.01', 'shinoda.n.01', 'music.n.01', 'billboard.n.01', 'tour.n.01', 'bennington.n.01', 'mike.n.01', 'chester.n.01', 'parks.n.01', 'albums.n.01', 'released.n.01', 'more.n.01', 'best.n.01', 'song.n.01', 'top.n.01', 'hybrid.n.01', 'artists.n.01', 'theory.n.01', 'thousand.n.01', 'suns.n.01', 'songs.n.01', 'bands.n.01', 'awards.n.01', 'live.n.01', 'alternative.n.01', 'chart.n.01', 'metal.n.01', 'single.n.01', 'light.n.01', 'video.n.01', 'world.n.01', 'party.n.01', 'i.n.01', 'meteora.n.01', 'midnight.n.01', 'hunting.n.01']\n"
     ]
    }
   ],
   "source": [
    "bz = similar('My Chemical Romance','Linkin Park')"
   ]
  },
  {
   "cell_type": "code",
   "execution_count": 55,
   "metadata": {},
   "outputs": [
    {
     "name": "stdout",
     "output_type": "stream",
     "text": [
      "Probability of topics being related is 100%\n",
      "Count is 362 and sum is 496.71649981555737\n",
      "\n",
      "\n",
      "['chemical.n.01', 'romance.n.01', 'band.n.01', 'album.n.01', 'black.n.01', 'parade.n.01', 'rock.n.01', 'tour.n.01', 'na.n.01', 'gerard.n.01', 'bands.n.01', 'released.n.01', 'i.n.01', 'alternative.n.01', 'brought.n.01', 'music.n.01', 'emo.n.01', 'iero.n.01', 'days.n.01', 'announced.n.01', 'press.n.01', 'punk.n.01', 'three.n.01', 'nme.n.01', 'danger.n.01', 'true.n.01', 'lives.n.01', 'song.n.01', 'were.n.01', 'website.n.01', 'frank.n.01', 'love.n.01', 'fabulous.n.01', 'killjoys.n.01', 'romances.n.01', 'cheers.n.01', 'release.n.01', 'bryar.n.01', 'albums.n.01', 'death.n.01']\n",
      "\n",
      "\n",
      "['imagine.n.01', 'dragons.n.01', 'band.n.01', 'billboard.n.01', 'album.n.01', 'released.n.01', 'rock.n.01', 'music.n.01', 'tour.n.01', 'song.n.01', 'top.n.01', 'vegas.n.01', 'single.n.01', 'night.n.01', 'twitter.n.01', 'awards.n.01', 'performed.n.01', 'live.n.01', 'las.n.01', 'evolve.n.01', 'show.n.01', 'reynolds.n.01', 'studio.n.01', 'visions.n.01', 'record.n.01', 'i.n.01', 'award.n.01', 'lead.n.01', 'radioactive.n.01', 'mtv.n.01', 'chart.n.01', 'concert.n.01', 'dan.n.01', 'singles.n.01', 'smoke.n.01', 'mirrors.n.01', 'world.n.01', 'believer.n.01', 'titled.n.01', 'announced.n.01']\n"
     ]
    }
   ],
   "source": [
    "ca = similar('My Chemical Romance','Imagine Dragons')"
   ]
  },
  {
   "cell_type": "code",
   "execution_count": 56,
   "metadata": {},
   "outputs": [
    {
     "name": "stdout",
     "output_type": "stream",
     "text": [
      "Probability of topics being related is 45%\n",
      "Count is 433 and sum is 193.28429726340127\n",
      "\n",
      "\n",
      "['chemical.n.01', 'romance.n.01', 'band.n.01', 'album.n.01', 'black.n.01', 'parade.n.01', 'rock.n.01', 'tour.n.01', 'na.n.01', 'gerard.n.01', 'bands.n.01', 'released.n.01', 'i.n.01', 'alternative.n.01', 'brought.n.01', 'music.n.01', 'emo.n.01', 'iero.n.01', 'days.n.01', 'announced.n.01', 'press.n.01', 'punk.n.01', 'three.n.01', 'nme.n.01', 'danger.n.01', 'true.n.01', 'lives.n.01', 'song.n.01', 'were.n.01', 'website.n.01', 'frank.n.01', 'love.n.01', 'fabulous.n.01', 'killjoys.n.01', 'romances.n.01', 'cheers.n.01', 'release.n.01', 'bryar.n.01', 'albums.n.01', 'death.n.01']\n",
      "\n",
      "\n",
      "['tsai.n.01', 'jolin.n.01', 'album.n.01', 'music.n.01', 'taiwan.n.01', 'chinese.n.01', 'fm.n.01', '2016-10-11.n.01', 'hit.n.01', 'more.n.01', 'love.n.01', 'number.n.01', '2016-12-17.n.01', 'taiwanese.n.01', 'top.n.01', 'released.n.01', '100.n.01', 'li.n.01', 'world.n.01', 'asia.n.01', 'singer.n.01', 'reached.n.01', 'female.n.01', 'china.n.01', 'mtv.n.01', 'million.n.01', 'chou.n.01', 'award.n.01', 'entsinacomcn.n.01', 'song.n.01', 'tour.n.01', 'awards.n.01', 'tsais.n.01', 'best.n.01', 'play.n.01', 'copies.n.01', 'jay.n.01', 'sold.n.01', '2018-06-03.n.01', 'dancing.n.01']\n"
     ]
    }
   ],
   "source": [
    "cb = similar('My Chemical Romance','Jolin Tsai')"
   ]
  },
  {
   "cell_type": "code",
   "execution_count": 57,
   "metadata": {},
   "outputs": [
    {
     "name": "stdout",
     "output_type": "stream",
     "text": [
      "Probability of topics being related is 99%\n",
      "Count is 506 and sum is 503.26869048196875\n",
      "\n",
      "\n",
      "['chou.n.01', 'jay.n.01', 'chinese.n.01', 'music.n.01', 'chous.n.01', 'album.n.01', 'li.n.01', 'awards.n.01', 'film.n.01', 'china.n.01', 'songs.n.01', 'pop.n.01', 'best.n.01', 'zhang.n.01', 'world.n.01', 'd.n.01', 'golden.n.01', 'style.n.01', 'taiwan.n.01', 'more.n.01', 'concert.n.01', 'released.n.01', 'song.n.01', 'taipei.n.01', 'been.n.01', 'tour.n.01', 'chan.n.01', 'chen.n.01', 'taiwanese.n.01', 'singer.n.01', 'fantasy.n.01', 'hong.n.01', 'asia.n.01', 'kong.n.01', 'zhao.n.01', 'bingbing.n.01', 'international.n.01', 'wang.n.01', 'lau.n.01', 'million.n.01']\n",
      "\n",
      "\n",
      "['tsai.n.01', 'jolin.n.01', 'album.n.01', 'music.n.01', 'taiwan.n.01', 'chinese.n.01', 'fm.n.01', '2016-10-11.n.01', 'hit.n.01', 'more.n.01', 'love.n.01', 'number.n.01', '2016-12-17.n.01', 'taiwanese.n.01', 'top.n.01', 'released.n.01', '100.n.01', 'li.n.01', 'world.n.01', 'asia.n.01', 'singer.n.01', 'reached.n.01', 'female.n.01', 'china.n.01', 'mtv.n.01', 'million.n.01', 'chou.n.01', 'award.n.01', 'entsinacomcn.n.01', 'song.n.01', 'tour.n.01', 'awards.n.01', 'tsais.n.01', 'best.n.01', 'play.n.01', 'copies.n.01', 'jay.n.01', 'sold.n.01', '2018-06-03.n.01', 'dancing.n.01']\n"
     ]
    }
   ],
   "source": [
    "cc = similar('Jay Chou','Jolin Tsai')"
   ]
  },
  {
   "cell_type": "code",
   "execution_count": 58,
   "metadata": {},
   "outputs": [
    {
     "name": "stdout",
     "output_type": "stream",
     "text": [
      "Probability of topics being related is 100%\n",
      "Count is 363 and sum is 502.33250633316965\n",
      "\n",
      "\n",
      "['paramore.n.01', 'band.n.01', 'williams.n.01', 'tour.n.01', 'album.n.01', 'hayley.n.01', 'farro.n.01', 'music.n.01', 'released.n.01', 'video.n.01', 'josh.n.01', 'song.n.01', 'were.n.01', 'rock.n.01', 'paramores.n.01', 'riot.n.01', 'bands.n.01', 'mtv.n.01', 'had.n.01', 'single.n.01', 'alternative.n.01', 'davis.n.01', 'interview.n.01', 'press.n.01', 'featured.n.01', 'news.n.01', 'guitar.n.01', 'summer.n.01', 'york.n.01', 'american.n.01', 'zac.n.01', 'songs.n.01', 'i.n.01', 'pop.n.01', 'jeremy.n.01', 'later.n.01', 'united.n.01', 'vocals.n.01', 'release.n.01', 'self-titled.n.01']\n",
      "\n",
      "\n",
      "['nickelback.n.01', 'album.n.01', 'band.n.01', 'rock.n.01', 'released.n.01', 'kroeger.n.01', 'billboard.n.01', 'single.n.01', 'tour.n.01', 'number.n.01', 'music.n.01', 'chad.n.01', 'dark.n.01', 'top.n.01', 'horse.n.01', 'song.n.01', 'canadian.n.01', 'bands.n.01', 'albums.n.01', 'roadrunner.n.01', 'records.n.01', 'release.n.01', 'singles.n.01', 'here.n.01', 'award.n.01', 'socan.n.01', 'peaked.n.01', 'chart.n.01', 'ryan.n.01', 'announced.n.01', 'sold.n.01', 'million.n.01', 'live.n.01', 'juno.n.01', 'awards.n.01', 'vikedal.n.01', 'more.n.01', 'charts.n.01', 'hot.n.01', 'mainstream.n.01']\n"
     ]
    }
   ],
   "source": [
    "cd = similar('Paramore','Nickelback')"
   ]
  },
  {
   "cell_type": "code",
   "execution_count": 59,
   "metadata": {},
   "outputs": [
    {
     "name": "stdout",
     "output_type": "stream",
     "text": [
      "Probability of topics being related is 100%\n",
      "Count is 420 and sum is 452.9255584247343\n",
      "\n",
      "\n",
      "['paramore.n.01', 'band.n.01', 'williams.n.01', 'tour.n.01', 'album.n.01', 'hayley.n.01', 'farro.n.01', 'music.n.01', 'released.n.01', 'video.n.01', 'josh.n.01', 'song.n.01', 'were.n.01', 'rock.n.01', 'paramores.n.01', 'riot.n.01', 'bands.n.01', 'mtv.n.01', 'had.n.01', 'single.n.01', 'alternative.n.01', 'davis.n.01', 'interview.n.01', 'press.n.01', 'featured.n.01', 'news.n.01', 'guitar.n.01', 'summer.n.01', 'york.n.01', 'american.n.01', 'zac.n.01', 'songs.n.01', 'i.n.01', 'pop.n.01', 'jeremy.n.01', 'later.n.01', 'united.n.01', 'vocals.n.01', 'release.n.01', 'self-titled.n.01']\n",
      "\n",
      "\n",
      "['clarkson.n.01', 'kelly.n.01', 'american.n.01', 'album.n.01', 'idol.n.01', 'music.n.01', 'i.n.01', 'billboard.n.01', 'pop.n.01', 'tour.n.01', 'clarksons.n.01', 'single.n.01', 'number.n.01', 'country.n.01', 'media.n.01', 'released.n.01', 'piece.n.01', 'awards.n.01', 'voice.n.01', 'season.n.01', 'chart.n.01', 'became.n.01', 'grammy.n.01', 'song.n.01', 'hot.n.01', '100.n.01', 'performed.n.01', 'christmas.n.01', 'more.n.01', 'stronger.n.01', 'songs.n.01', 'television.n.01', 'record.n.01', 'best.n.01', 'life.n.01', 'breakaway.n.01', 'charts.n.01', 'vocal.n.01', 'inc.n.01', 'records.n.01']\n"
     ]
    }
   ],
   "source": [
    "ce = similar('Paramore','Kelly Clarkson')"
   ]
  },
  {
   "cell_type": "code",
   "execution_count": 60,
   "metadata": {},
   "outputs": [
    {
     "name": "stdout",
     "output_type": "stream",
     "text": [
      "Probability of topics being related is 84%\n",
      "Count is 622 and sum is 521.6516217295865\n",
      "\n",
      "\n",
      "['python.n.01', 'software.n.01', 'language.n.01', 'programming.n.01', 'foundation.n.01', 'languages.n.01', 'c.n.01', 'code.n.01', 'pep.n.01', 'used.n.01', 'van.n.01', 'guido.n.01', 'rossum.n.01', 'pythons.n.01', 'many.n.01', 'type.n.01', 'expressions.n.01', 'java.n.01', 'statement.n.01', 'standard.n.01', 'division.n.01', 'operator.n.01', 'pythonorg.n.01', 'version.n.01', '==.n.01', 'documentation.n.01', 'enhancement.n.01', 'cpython.n.01', '=.n.01', 'object.n.01', 'string.n.01', 'web.n.01', 'proposals.n.01', 'including.n.01', 'library.n.01', 'reference.n.01', 'development.n.01', 'functions.n.01', 'list.n.01', 'design.n.01']\n",
      "\n",
      "\n",
      "['java.n.01', 'sun.n.01', 'oracle.n.01', 'language.n.01', 'programming.n.01', 'class.n.01', 'software.n.01', 'machine.n.01', 'se.n.01', 'code.n.01', 'implementation.n.01', 'android.n.01', 'platform.n.01', 'applications.n.01', 'web.n.01', 'public.n.01', 'classes.n.01', 'run.n.01', 'system.n.01', 'virtual.n.01', 'languages.n.01', 'libraries.n.01', 'free.n.01', 'memory.n.01', 'method.n.01', 'support.n.01', 'standard.n.01', 'bytecode.n.01', 'edition.n.01', 'object.n.01', 'pdf.n.01', 'c++.n.01', 'gosling.n.01', 'microsystems.n.01', 'community.n.01', 'process.n.01', 'license.n.01', 'name.n.01', 'enterprise.n.01', 'technology.n.01']\n"
     ]
    }
   ],
   "source": [
    "cf = similar('Python (programming language)','Java (programming language)')"
   ]
  },
  {
   "cell_type": "code",
   "execution_count": 61,
   "metadata": {},
   "outputs": [
    {
     "name": "stdout",
     "output_type": "stream",
     "text": [
      "Probability of topics being related is 100%\n",
      "Count is 245 and sum is 495.3650848280979\n",
      "\n",
      "\n",
      "['html.n.01', 'web.n.01', 'iso/iec.n.01', 'xhtml.n.01', 'iec.n.01', 'elements.n.01', 'css.n.01', 'element.n.01', 'document.n.01', 'deprecated.n.01', 'markup.n.01', 'instead.n.01', 'world.n.01', 'wide.n.01', 'attribute.n.01', 'language.n.01', 'tags.n.01', 'w3c.n.01', 'consortium.n.01', 'specification.n.01', 'documents.n.01', 'tag.n.01', 'html5.n.01', 'text.n.01', 'type.n.01', 'xml.n.01', 'hypertext.n.01', 'browsers.n.01', 'attributes.n.01', 'content.n.01', 'used.n.01', 'character.n.01', 'page.n.01', 'berners-lee.n.01', 'example.n.01', '-2.n.01', 'internet.n.01', 'semantic.n.01', 'version.n.01', 'tim.n.01']\n",
      "\n",
      "\n",
      "['css.n.01', 'web.n.01', 'style.n.01', 'sheets.n.01', 'html.n.01', 'w3c.n.01', 'level.n.01', 'cascading.n.01', 'elements.n.01', 'element.n.01', 'support.n.01', 'world.n.01', 'wide.n.01', 'more.n.01', 'properties.n.01', 'selectors.n.01', 'recommendation.n.01', 'browsers.n.01', 'document.n.01', 'specification.n.01', 'consortium.n.01', 'were.n.01', 'browser.n.01', 'sheet.n.01', 'values.n.01', 'bos.n.01', 'working.n.01', 'bert.n.01', 'markup.n.01', 'lie.n.01', 'javascript.n.01', 'content.n.01', 'different.n.01', 'internet.n.01', 'each.n.01', 'class.n.01', 'many.n.01', 'using.n.01', 'used.n.01', 'multiple.n.01']\n"
     ]
    }
   ],
   "source": [
    "cg = similar('HTML','CSS')"
   ]
  },
  {
   "cell_type": "code",
   "execution_count": 62,
   "metadata": {},
   "outputs": [
    {
     "name": "stdout",
     "output_type": "stream",
     "text": [
      "Probability of topics being related is 82%\n",
      "Count is 274 and sum is 225.69598933640245\n",
      "\n",
      "\n",
      "['microsoft.n.01', 'windows.n.01', 'company.n.01', 'companies.n.01', 'software.n.01', 'data.n.01', 'gates.n.01', 'microsofts.n.01', 'billion.n.01', 'operating.n.01', 'logo.n.01', 'computer.n.01', 'system.n.01', 'business.n.01', 'released.n.01', 'google.n.01', 'ibm.n.01', 'apple.n.01', 'bill.n.01', 'inc.n.01', 'united.n.01', 'market.n.01', 'mobile.n.01', 'v.n.01', 'media.n.01', 'services.n.01', 'office.n.01', 'allen.n.01', 'announced.n.01', 'linux.n.01', 'products.n.01', 'internet.n.01', 'xbox.n.01', 'states.n.01', 'azure.n.01', 'pc.n.01', 'stock.n.01', 'news.n.01', 'technology.n.01', 'systems.n.01']\n",
      "\n",
      "\n",
      "['apple.n.01', 'apples.n.01', 'iphone.n.01', 'inc.n.01', 'jobs.n.01', 'company.n.01', 'tv.n.01', 'store.n.01', 'ipad.n.01', 'mac.n.01', 'billion.n.01', 'steve.n.01', 'computer.n.01', 'had.n.01', 'products.n.01', 'itunes.n.01', 'companies.n.01', 'technology.n.01', 'app.n.01', 'million.n.01', 'announced.n.01', 'software.n.01', 'introduced.n.01', 'were.n.01', 'verge.n.01', 'product.n.01', 'media.n.01', 'report.n.01', 'times.n.01', 'pro.n.01', 'data.n.01', 'energy.n.01', 'market.n.01', 'release.n.01', 'ipod.n.01', 'ios.n.01', 'sales.n.01', 'design.n.01', 'york.n.01', 'macintosh.n.01']\n"
     ]
    }
   ],
   "source": [
    "ch = similar('Microsoft','Apple (company)')"
   ]
  },
  {
   "cell_type": "code",
   "execution_count": 63,
   "metadata": {},
   "outputs": [
    {
     "name": "stdout",
     "output_type": "stream",
     "text": [
      "Probability of topics being related is 58%\n",
      "Count is 342 and sum is 199.0493731567465\n",
      "\n",
      "\n",
      "['depp.n.01', 'johnny.n.01', 'film.n.01', 'heard.n.01', 'depps.n.01', 'had.n.01', 'actor.n.01', 'role.n.01', 'hollywood.n.01', 'amber.n.01', 'played.n.01', 'burton.n.01', 'jack.n.01', 'american.n.01', '1999.n.01', 'i.n.01', 'tom.n.01', 'john.n.01', 'pirates.n.01', 'e.n.01', '1997.n.01', 'variety.n.01', '1993.n.01', 'box.n.01', 'office.n.01', 'man.n.01', '1998.n.01', 'actors.n.01', 'alice.n.01', '1994.n.01', 'times.n.01', 'news.n.01', 'series.n.01', 'films.n.01', 'fantastic.n.01', 'beasts.n.01', 'starred.n.01', 'said.n.01', 'identifiers.n.01', 'street.n.01']\n",
      "\n",
      "\n",
      "['bay.n.01', 'michael.n.01', 'film.n.01', 'transformers.n.01', 'million.n.01', 'films.n.01', 'box.n.01', 'office.n.01', 'best.n.01', 'james.n.01', 'bays.n.01', 'bad.n.01', 'rotten.n.01', 'tomatoes.n.01', 'identifiers.n.01', 'directed.n.01', 'critics.n.01', 'boys.n.01', 'movie.n.01', 'john.n.01', 'peter.n.01', 't-meter.n.01', 'rating.n.01', 'rottentomatoescom.n.01', '2013-02-20.n.01', '1998.n.01', 'production.n.01', 'jerry.n.01', 'bruckheimer.n.01', 'academy.n.01', '2010-07-03.n.01', '2010-07-04.n.01', 'action.n.01', 'armageddon.n.01', 'making.n.01', '1996.n.01', 'revenge.n.01', 'fallen.n.01', 'american.n.01', 'pearl.n.01']\n"
     ]
    }
   ],
   "source": [
    "ci = similar('Johnny Depp','Michael Bay')"
   ]
  },
  {
   "cell_type": "code",
   "execution_count": 64,
   "metadata": {},
   "outputs": [
    {
     "name": "stdout",
     "output_type": "stream",
     "text": [
      "Probability of topics being related is 52%\n",
      "Count is 380 and sum is 197.83787242508262\n",
      "\n",
      "\n",
      "['depp.n.01', 'johnny.n.01', 'film.n.01', 'heard.n.01', 'depps.n.01', 'had.n.01', 'actor.n.01', 'role.n.01', 'hollywood.n.01', 'amber.n.01', 'played.n.01', 'burton.n.01', 'jack.n.01', 'american.n.01', '1999.n.01', 'i.n.01', 'tom.n.01', 'john.n.01', 'pirates.n.01', 'e.n.01', '1997.n.01', 'variety.n.01', '1993.n.01', 'box.n.01', 'office.n.01', 'man.n.01', '1998.n.01', 'actors.n.01', 'alice.n.01', '1994.n.01', 'times.n.01', 'news.n.01', 'series.n.01', 'films.n.01', 'fantastic.n.01', 'beasts.n.01', 'starred.n.01', 'said.n.01', 'identifiers.n.01', 'street.n.01']\n",
      "\n",
      "\n",
      "['lawrence.n.01', 'jennifer.n.01', 'film.n.01', 'actress.n.01', 'games.n.01', 'best.n.01', '/.n.01', 'hunger.n.01', 'list.n.01', 'award.n.01', 'role.n.01', 'winners.n.01', 'x-men.n.01', 'awards.n.01', 'mtv.n.01', 'e.n.01', 'hollywood.n.01', 'movie.n.01', 'vs.n.01', 'lawrences.n.01', 'v.n.01', 't.n.01', 'acting.n.01', '1996.n.01', '1997.n.01', '1998.n.01', '1999.n.01', 'million.n.01', 'meryl.n.01', 'streep.n.01', 'american.n.01', '100.n.01', 'york.n.01', 'series.n.01', 'performance.n.01', 'world.n.01', 'academy.n.01', 'part.n.01', 'review.n.01', 'cate.n.01']\n"
     ]
    }
   ],
   "source": [
    "cj = similar('Johnny Depp','Jennifer Lawrence')"
   ]
  },
  {
   "cell_type": "code",
   "execution_count": 65,
   "metadata": {},
   "outputs": [
    {
     "name": "stdout",
     "output_type": "stream",
     "text": [
      "Probability of topics being related is 79%\n",
      "Count is 404 and sum is 319.23669904962935\n",
      "\n",
      "\n",
      "['sas.n.01', 'data.n.01', 'software.n.01', 'analysis.n.01', 'jmp.n.01', 'programming.n.01', 'management.n.01', 'university.n.01', 'statistical.n.01', 'pdf.n.01', 'business.n.01', 'version.n.01', 'institute.n.01', 'analytics.n.01', 'introduced.n.01', 'research.n.01', 'system.n.01', 'language.n.01', 'were.n.01', 'c.n.01', 'intelligence.n.01', 'goodnight.n.01', 'added.n.01', 'enterprise.n.01', 'barr.n.01', 'project.n.01', 'james.n.01', 'john.n.01', 'released.n.01', 'd.n.01', 'interface.n.01', 'statements.n.01', 'using.n.01', 'ibm.n.01', 'text.n.01', 'north.n.01', 'carolina.n.01', 'step.n.01', 'used.n.01', 'products.n.01']\n",
      "\n",
      "\n",
      "['spss.n.01', 'ibm.n.01', 'data.n.01', 'software.n.01', 'statistics.n.01', 'statistical.n.01', 'analysis.n.01', 'command.n.01', 'syntax.n.01', 'using.n.01', 'version.n.01', 'file.n.01', 'laboratory.n.01', 'inc.n.01', 'r.n.01', 'center.n.01', 'text.n.01', 'analytics.n.01', 'used.n.01', 'python.n.01', 'package.n.01', 'programming.n.01', 'processing.n.01', 'chicago.n.01', 'watson.n.01', 'versions.n.01', 'social.n.01', 'including.n.01', 'output.n.01', 'structure.n.01', 'run.n.01', 'facility.n.01', 'available.n.01', 'files.n.01', 'view.n.01', 'read.n.01', 'tables.n.01', 'under.n.01', 'mac.n.01', 'system.n.01']\n"
     ]
    }
   ],
   "source": [
    "ck = similar('SAS (software)','SPSS')"
   ]
  },
  {
   "cell_type": "code",
   "execution_count": 66,
   "metadata": {},
   "outputs": [
    {
     "name": "stdout",
     "output_type": "stream",
     "text": [
      "Probability of topics being related is 96%\n",
      "Count is 460 and sum is 440.51575920638305\n",
      "\n",
      "\n",
      "['saudi.n.01', 'arabia.n.01', 'king.n.01', 'world.n.01', 'prince.n.01', 'women.n.01', 'kingdom.n.01', 'arab.n.01', 'religious.n.01', 'al.n.01', 'were.n.01', 'government.n.01', 'islamic.n.01', 'human.n.01', 'rights.n.01', 'arabian.n.01', 'oil.n.01', 'country.n.01', 'state.n.01', 'been.n.01', 'islam.n.01', 'crown.n.01', 'news.n.01', 'royal.n.01', 'bin.n.01', 'population.n.01', 'foreign.n.01', 'east.n.01', 'region.n.01', 'pp.n.01', 'years.n.01', 'saud.n.01', 'arabias.n.01', 'times.n.01', 'pdf.n.01', 'middle.n.01', 'family.n.01', 'education.n.01', 'arabic.n.01', 'arms.n.01']\n",
      "\n",
      "\n",
      "['israel.n.01', 'israeli.n.01', 'jewish.n.01', 'israels.n.01', 'jerusalem.n.01', 'world.n.01', 'gaza.n.01', 'state.n.01', 'arab.n.01', 'jews.n.01', 'palestine.n.01', 'population.n.01', 'international.n.01', 'relations.n.01', 'east.n.01', 'law.n.01', 'university.n.01', 'were.n.01', 'press.n.01', 'war.n.01', 'west.n.01', 'palestinian.n.01', 'history.n.01', 'united.n.01', 'pp.n.01', 'country.n.01', 'bank.n.01', 'between.n.01', 'states.n.01', 'foreign.n.01', 'pdf.n.01', 'military.n.01', 'hebrew.n.01', 'land.n.01', 'nations.n.01', 'national.n.01', 'territory.n.01', 'un.n.01', 'countries.n.01', 'peace.n.01']\n"
     ]
    }
   ],
   "source": [
    "cl = similar('saudi arabia','israel')"
   ]
  },
  {
   "cell_type": "code",
   "execution_count": 67,
   "metadata": {},
   "outputs": [
    {
     "name": "stdout",
     "output_type": "stream",
     "text": [
      "Probability of topics being related is 57%\n",
      "Count is 309 and sum is 177.20516198696708\n",
      "\n",
      "\n",
      "['migrants.n.01', 'asylum.n.01', 'eu.n.01', 'refugees.n.01', 'border.n.01', 'migrant.n.01', 'european.n.01', 'crisis.n.01', 'europe.n.01', 'were.n.01', 'refugee.n.01', 'countries.n.01', 'germany.n.01', 'seekers.n.01', 'italy.n.01', 'hungary.n.01', 'greece.n.01', 'offensive.n.01', 'migration.n.01', 'more.n.01', 'number.n.01', 'mediterranean.n.01', 'times.n.01', 'sea.n.01', 'news.n.01', 'turkey.n.01', 'had.n.01', 'battle.n.01', 'minister.n.01', 'syrian.n.01', 'austria.n.01', 'york.n.01', 'syria.n.01', 'states.n.01', 'bbc.n.01', 'million.n.01', 'international.n.01', 'german.n.01', 'unhcr.n.01', 'operation.n.01']\n",
      "\n",
      "\n",
      "['war.n.01', 'soviet.n.01', 'germany.n.01', 'pp.n.01', 'united.n.01', 'japan.n.01', 'german.n.01', 'forces.n.01', 'were.n.01', 'japanese.n.01', 'world.n.01', 'wars.n.01', 'union.n.01', 'involving.n.01', 'against.n.01', 'had.n.01', 'states.n.01', 'allies.n.01', 'ii.n.01', 'western.n.01', 'british.n.01', 'military.n.01', 'italy.n.01', 'china.n.01', 'army.n.01', 'allied.n.01', 'france.n.01', 'poland.n.01', 'axis.n.01', 'asia.n.01', 'kingdom.n.01', 'east.n.01', 'europe.n.01', 'during.n.01', '1941.n.01', 'chinese.n.01', 'european.n.01', 'american.n.01', 'troops.n.01', 'offensive.n.01']\n"
     ]
    }
   ],
   "source": [
    "cm = similar('European migrant crisis','World War II')"
   ]
  },
  {
   "cell_type": "code",
   "execution_count": 68,
   "metadata": {},
   "outputs": [
    {
     "name": "stdout",
     "output_type": "stream",
     "text": [
      "Probability of topics being related is 64%\n",
      "Count is 381 and sum is 244.5880166687525\n",
      "\n",
      "\n",
      "['britain.n.01', 'great.n.01', 'kingdom.n.01', 'island.n.01', 'england.n.01', 'ireland.n.01', 'scotland.n.01', 'british.n.01', 'united.n.01', 'wales.n.01', 'islands.n.01', 'species.n.01', 'english.n.01', 'northern.n.01', 'used.n.01', 'history.n.01', 'pdf.n.01', 'name.n.01', 'language.n.01', 'been.n.01', 'north.n.01', 'isles.n.01', 'uk.n.01', 'celtic.n.01', 'union.n.01', 'years.n.01', 'irish.n.01', 'known.n.01', 'sea.n.01', 'london.n.01', 'europe.n.01', 'area.n.01', 'century.n.01', 'welsh.n.01', 'university.n.01', 'had.n.01', 'million.n.01', 'term.n.01', 'were.n.01', 'introduced.n.01']\n",
      "\n",
      "\n",
      "['war.n.01', 'soviet.n.01', 'germany.n.01', 'pp.n.01', 'united.n.01', 'japan.n.01', 'german.n.01', 'forces.n.01', 'were.n.01', 'japanese.n.01', 'world.n.01', 'wars.n.01', 'union.n.01', 'involving.n.01', 'against.n.01', 'had.n.01', 'states.n.01', 'allies.n.01', 'ii.n.01', 'western.n.01', 'british.n.01', 'military.n.01', 'italy.n.01', 'china.n.01', 'army.n.01', 'allied.n.01', 'france.n.01', 'poland.n.01', 'axis.n.01', 'asia.n.01', 'kingdom.n.01', 'east.n.01', 'europe.n.01', 'during.n.01', '1941.n.01', 'chinese.n.01', 'european.n.01', 'american.n.01', 'troops.n.01', 'offensive.n.01']\n"
     ]
    }
   ],
   "source": [
    "cn = similar('Great Britain','World War II')"
   ]
  },
  {
   "cell_type": "code",
   "execution_count": 69,
   "metadata": {},
   "outputs": [
    {
     "name": "stdout",
     "output_type": "stream",
     "text": [
      "Probability of topics being related is 65%\n",
      "Count is 380 and sum is 247.87931039726817\n",
      "\n",
      "\n",
      "['singapore.n.01', 'world.n.01', 'singapores.n.01', 'national.n.01', 'times.n.01', 'education.n.01', 'pdf.n.01', 'were.n.01', 'international.n.01', 'country.n.01', 'english.n.01', 'straits.n.01', 'asia.n.01', 'malaysia.n.01', 'british.n.01', 'language.n.01', 'ministry.n.01', 'government.n.01', 'island.n.01', 'countries.n.01', 'press.n.01', 'islands.n.01', 'chinese.n.01', 'water.n.01', 'worlds.n.01', 'malay.n.01', 'foreign.n.01', 'lee.n.01', 'been.n.01', 'public.n.01', 'population.n.01', 'development.n.01', 'economic.n.01', 'singaporean.n.01', 'statistics.n.01', 'city.n.01', 'united.n.01', 'global.n.01', 'singaporeans.n.01', 'nations.n.01']\n",
      "\n",
      "\n",
      "['war.n.01', 'soviet.n.01', 'germany.n.01', 'pp.n.01', 'united.n.01', 'japan.n.01', 'german.n.01', 'forces.n.01', 'were.n.01', 'japanese.n.01', 'world.n.01', 'wars.n.01', 'union.n.01', 'involving.n.01', 'against.n.01', 'had.n.01', 'states.n.01', 'allies.n.01', 'ii.n.01', 'western.n.01', 'british.n.01', 'military.n.01', 'italy.n.01', 'china.n.01', 'army.n.01', 'allied.n.01', 'france.n.01', 'poland.n.01', 'axis.n.01', 'asia.n.01', 'kingdom.n.01', 'east.n.01', 'europe.n.01', 'during.n.01', '1941.n.01', 'chinese.n.01', 'european.n.01', 'american.n.01', 'troops.n.01', 'offensive.n.01']\n"
     ]
    }
   ],
   "source": [
    "co = similar('Singapore','World War II')"
   ]
  },
  {
   "cell_type": "code",
   "execution_count": 70,
   "metadata": {},
   "outputs": [
    {
     "name": "stdout",
     "output_type": "stream",
     "text": [
      "Probability of topics being related is 37%\n",
      "Count is 308 and sum is 113.49053807075724\n",
      "\n",
      "\n",
      "['iceland.n.01', 'icelandic.n.01', 'world.n.01', 'icelands.n.01', 'country.n.01', 'countries.n.01', 'population.n.01', 'energy.n.01', 'icelanders.n.01', 'nordic.n.01', 'island.n.01', 'government.n.01', 'expedition.n.01', 'hms.n.01', 'reykjavík.n.01', 'many.n.01', 'united.n.01', 'were.n.01', 'oecd.n.01', 'index.n.01', 'century.n.01', 'international.n.01', 'economic.n.01', 'national.n.01', 'e.n.01', 'j.n.01', 'pdf.n.01', 'north.n.01', 'mi.n.01', 'european.n.01', 'c.n.01', 'education.n.01', 'around.n.01', 'more.n.01', 'nations.n.01', 'europe.n.01', 'largest.n.01', 'per.n.01', 'been.n.01', 'km.n.01']\n",
      "\n",
      "\n",
      "['war.n.01', 'soviet.n.01', 'germany.n.01', 'pp.n.01', 'united.n.01', 'japan.n.01', 'german.n.01', 'forces.n.01', 'were.n.01', 'japanese.n.01', 'world.n.01', 'wars.n.01', 'union.n.01', 'involving.n.01', 'against.n.01', 'had.n.01', 'states.n.01', 'allies.n.01', 'ii.n.01', 'western.n.01', 'british.n.01', 'military.n.01', 'italy.n.01', 'china.n.01', 'army.n.01', 'allied.n.01', 'france.n.01', 'poland.n.01', 'axis.n.01', 'asia.n.01', 'kingdom.n.01', 'east.n.01', 'europe.n.01', 'during.n.01', '1941.n.01', 'chinese.n.01', 'european.n.01', 'american.n.01', 'troops.n.01', 'offensive.n.01']\n"
     ]
    }
   ],
   "source": [
    "cp = similar('Iceland','World War II')"
   ]
  },
  {
   "cell_type": "code",
   "execution_count": 71,
   "metadata": {},
   "outputs": [
    {
     "name": "stdout",
     "output_type": "stream",
     "text": [
      "Probability of topics being related is 43%\n",
      "Count is 363 and sum is 157.62644932311824\n",
      "\n",
      "\n",
      "['egypt.n.01', 'egyptian.n.01', 'egypts.n.01', 'world.n.01', 'arab.n.01', 'country.n.01', 'government.n.01', 'cairo.n.01', 'egyptians.n.01', 'president.n.01', 'military.n.01', 'were.n.01', 'war.n.01', 'university.n.01', 'muslim.n.01', 'united.n.01', 'been.n.01', 'national.n.01', 'state.n.01', 'middle.n.01', 'years.n.01', 'african.n.01', 'population.n.01', 'east.n.01', 'law.n.01', 'nile.n.01', 'international.n.01', 'rights.n.01', 'press.n.01', 'republic.n.01', 'countries.n.01', 'human.n.01', 'news.n.01', 'africa.n.01', 'foreign.n.01', 'british.n.01', 'suez.n.01', 'power.n.01', 'states.n.01', 'arabic.n.01']\n",
      "\n",
      "\n",
      "['war.n.01', 'soviet.n.01', 'germany.n.01', 'pp.n.01', 'united.n.01', 'japan.n.01', 'german.n.01', 'forces.n.01', 'were.n.01', 'japanese.n.01', 'world.n.01', 'wars.n.01', 'union.n.01', 'involving.n.01', 'against.n.01', 'had.n.01', 'states.n.01', 'allies.n.01', 'ii.n.01', 'western.n.01', 'british.n.01', 'military.n.01', 'italy.n.01', 'china.n.01', 'army.n.01', 'allied.n.01', 'france.n.01', 'poland.n.01', 'axis.n.01', 'asia.n.01', 'kingdom.n.01', 'east.n.01', 'europe.n.01', 'during.n.01', '1941.n.01', 'chinese.n.01', 'european.n.01', 'american.n.01', 'troops.n.01', 'offensive.n.01']\n"
     ]
    }
   ],
   "source": [
    "cq = similar('Egypt','World War II')"
   ]
  },
  {
   "cell_type": "code",
   "execution_count": 72,
   "metadata": {},
   "outputs": [
    {
     "name": "stdout",
     "output_type": "stream",
     "text": [
      "Probability of topics being related is 53%\n",
      "Count is 440 and sum is 234.13583366939642\n",
      "\n",
      "\n",
      "['trump.n.01', 'mueller.n.01', 'investigation.n.01', 'had.n.01', 'russia.n.01', 'times.n.01', 'campaign.n.01', 'russian.n.01', 'york.n.01', 'fbi.n.01', 'reported.n.01', 'special.n.01', 'counsel.n.01', 'attorney.n.01', 'muellers.n.01', 'trumps.n.01', 'cnn.n.01', 'michael.n.01', 'news.n.01', 'washington.n.01', 'justice.n.01', 'general.n.01', 'post.n.01', 'probe.n.01', 'report.n.01', 'comey.n.01', 'been.n.01', 'cohen.n.01', 'election.n.01', 'office.n.01', 'investigators.n.01', 'president.n.01', 'meeting.n.01', 'memo.n.01', 'intelligence.n.01', 'house.n.01', 'before.n.01', 'former.n.01', 'team.n.01', 'robert.n.01']\n",
      "\n",
      "\n",
      "['russian.n.01', 'russia.n.01', 'soviet.n.01', 'world.n.01', 'were.n.01', 'country.n.01', 'state.n.01', 'union.n.01', 'russias.n.01', 'largest.n.01', 'states.n.01', 'united.n.01', 'federal.n.01', 'europe.n.01', 'international.n.01', 'war.n.01', 'federation.n.01', 'moscow.n.01', 'sea.n.01', 'including.n.01', 'many.n.01', 'population.n.01', 'century.n.01', 'pdf.n.01', 'history.n.01', 'республики.n.01', 'republic.n.01', 'economic.n.01', 'ukraine.n.01', 'china.n.01', 'military.n.01', 'government.n.01', 'more.n.01', 'countries.n.01', 'rus.n.01', 'e.n.01', 'orthodox.n.01', 'while.n.01', 'v.n.01', 'east.n.01']\n"
     ]
    }
   ],
   "source": [
    "cr = similar('Mueller Report','Russia')"
   ]
  },
  {
   "cell_type": "code",
   "execution_count": 73,
   "metadata": {},
   "outputs": [
    {
     "name": "stdout",
     "output_type": "stream",
     "text": [
      "Probability of topics being related is 15%\n",
      "Count is 441 and sum is 65.12065420899206\n",
      "\n",
      "\n",
      "['trump.n.01', 'mueller.n.01', 'investigation.n.01', 'had.n.01', 'russia.n.01', 'times.n.01', 'campaign.n.01', 'russian.n.01', 'york.n.01', 'fbi.n.01', 'reported.n.01', 'special.n.01', 'counsel.n.01', 'attorney.n.01', 'muellers.n.01', 'trumps.n.01', 'cnn.n.01', 'michael.n.01', 'news.n.01', 'washington.n.01', 'justice.n.01', 'general.n.01', 'post.n.01', 'probe.n.01', 'report.n.01', 'comey.n.01', 'been.n.01', 'cohen.n.01', 'election.n.01', 'office.n.01', 'investigators.n.01', 'president.n.01', 'meeting.n.01', 'memo.n.01', 'intelligence.n.01', 'house.n.01', 'before.n.01', 'former.n.01', 'team.n.01', 'robert.n.01']\n",
      "\n",
      "\n",
      "['china.n.01', 'chinese.n.01', 'chinas.n.01', 'world.n.01', 'peoples.n.01', 'republic.n.01', 'worlds.n.01', 'population.n.01', 'million.n.01', 'economic.n.01', 'united.n.01', 'were.n.01', 'bbc.n.01', 'country.n.01', 'more.n.01', 'east.n.01', 'states.n.01', 'national.n.01', 'dynasty.n.01', 'global.n.01', 'times.n.01', 'government.n.01', 'pdf.n.01', 'relations.n.01', 'history.n.01', 'international.n.01', 'been.n.01', 'largest.n.01', 'total.n.01', 'state.n.01', 'economy.n.01', 'asia.n.01', 'south.n.01', 'countries.n.01', 'press.n.01', 'years.n.01', 'military.n.01', 'billion.n.01', 'between.n.01', 'market.n.01']\n"
     ]
    }
   ],
   "source": [
    "cs = similar('Mueller Report','China')"
   ]
  },
  {
   "cell_type": "code",
   "execution_count": 74,
   "metadata": {},
   "outputs": [
    {
     "name": "stdout",
     "output_type": "stream",
     "text": [
      "Probability of topics being related is 100%\n",
      "Count is 294 and sum is 477.51867781735984\n",
      "\n",
      "\n",
      "['facebook.n.01', 'users.n.01', 'social.n.01', 'data.n.01', 'media.n.01', 'news.n.01', 'facebooks.n.01', 'zuckerberg.n.01', 'million.n.01', 'billion.n.01', 'privacy.n.01', 'company.n.01', 'guardian.n.01', 'app.n.01', 'techcrunch.n.01', 'group.n.01', 'user.n.01', 'content.n.01', 'had.n.01', 'information.n.01', 'more.n.01', 'used.n.01', 'messenger.n.01', 'network.n.01', 'announced.n.01', 'aol.n.01', 'friends.n.01', 'mark.n.01', 'site.n.01', '31.n.01', 'verge.n.01', 'were.n.01', 'york.n.01', 'times.n.01', 'political.n.01', 'profile.n.01', 'pages.n.01', 'business.n.01', 'companies.n.01', 'google.n.01']\n",
      "\n",
      "\n",
      "['linkedin.n.01', 'users.n.01', 'members.n.01', 'million.n.01', 'network.n.01', 'microsoft.n.01', 'social.n.01', 'company.n.01', 'business.n.01', 'mobile.n.01', 'job.n.01', 'data.n.01', 'linkedins.n.01', 'professional.n.01', 'connections.n.01', 'had.n.01', 'were.n.01', 'services.n.01', 'site.n.01', 'email.n.01', 'online.n.01', 'contact.n.01', 'been.n.01', 'user.n.01', 'companies.n.01', 'groups.n.01', 'announced.n.01', 'pages.n.01', 'service.n.01', 'networking.n.01', 'allows.n.01', 'china.n.01', 'billion.n.01', 'profile.n.01', 'platform.n.01', 'feature.n.01', '2015-10-06.n.01', 'ceo.n.01', 'times.n.01', 'version.n.01']\n"
     ]
    }
   ],
   "source": [
    "ct = similar('Facebook','Linkedin')"
   ]
  },
  {
   "cell_type": "code",
   "execution_count": 75,
   "metadata": {},
   "outputs": [
    {
     "name": "stdout",
     "output_type": "stream",
     "text": [
      "Probability of topics being related is 100%\n",
      "Count is 343 and sum is 573.6656389626072\n",
      "\n",
      "\n",
      "['facebook.n.01', 'users.n.01', 'social.n.01', 'data.n.01', 'media.n.01', 'news.n.01', 'facebooks.n.01', 'zuckerberg.n.01', 'million.n.01', 'billion.n.01', 'privacy.n.01', 'company.n.01', 'guardian.n.01', 'app.n.01', 'techcrunch.n.01', 'group.n.01', 'user.n.01', 'content.n.01', 'had.n.01', 'information.n.01', 'more.n.01', 'used.n.01', 'messenger.n.01', 'network.n.01', 'announced.n.01', 'aol.n.01', 'friends.n.01', 'mark.n.01', 'site.n.01', '31.n.01', 'verge.n.01', 'were.n.01', 'york.n.01', 'times.n.01', 'political.n.01', 'profile.n.01', 'pages.n.01', 'business.n.01', 'companies.n.01', 'google.n.01']\n",
      "\n",
      "\n",
      "['google.n.01', 'googles.n.01', 'search.n.01', 'company.n.01', 'billion.n.01', 'inc.n.01', 'york.n.01', 'page.n.01', 'million.n.01', 'announced.n.01', 'media.n.01', 'android.n.01', 'data.n.01', 'engine.n.01', 'mobile.n.01', 'alphabet.n.01', 'project.n.01', 'energy.n.01', 'employees.n.01', 'times.n.01', 'had.n.01', 'internet.n.01', 'aol.n.01', 'verge.n.01', 'web.n.01', 'world.n.01', 'motorola.n.01', 'china.n.01', 'companies.n.01', 'news.n.01', 'were.n.01', 'code.n.01', '31.n.01', 'service.n.01', 'services.n.01', 'advertising.n.01', 'business.n.01', 'more.n.01', 'washington.n.01', 'techcrunch.n.01']\n"
     ]
    }
   ],
   "source": [
    "cu = similar('Facebook','Google')"
   ]
  },
  {
   "cell_type": "code",
   "execution_count": 76,
   "metadata": {},
   "outputs": [
    {
     "name": "stdout",
     "output_type": "stream",
     "text": [
      "Probability of topics being related is 48%\n",
      "Count is 599 and sum is 285.3751845663467\n",
      "\n",
      "\n",
      "['chemistry.n.01', 'chemical.n.01', 'substances.n.01', 'energy.n.01', 'atoms.n.01', 'reaction.n.01', 'substance.n.01', 'more.n.01', 'electrons.n.01', 'molecules.n.01', 'study.n.01', 'elements.n.01', 'science.n.01', 'matter.n.01', 'reactions.n.01', 'alchemy.n.01', 'number.n.01', 'structure.n.01', 'theory.n.01', 'history.n.01', 'between.n.01', 'greek.n.01', 'molecular.n.01', 'compounds.n.01', 'bonds.n.01', 'another.n.01', 'mass.n.01', 'organic.n.01', 'physical.n.01', 'different.n.01', 'atom.n.01', 'table.n.01', 'state.n.01', 'bond.n.01', 'composition.n.01', 'properties.n.01', 'modern.n.01', 'century.n.01', 'law.n.01', 'university.n.01']\n",
      "\n",
      "\n",
      "['physics.n.01', 'mechanics.n.01', 'theory.n.01', 'science.n.01', 'matter.n.01', 'research.n.01', 'quantum.n.01', 'physical.n.01', 'mathematics.n.01', 'classical.n.01', 'study.n.01', 'university.n.01', 'nature.n.01', 'astronomy.n.01', 'philosophy.n.01', 'theories.n.01', 'particle.n.01', 'particles.n.01', 'century.n.01', 'world.n.01', 'energy.n.01', 'universe.n.01', 'mathematical.n.01', 'many.n.01', 'modern.n.01', 'model.n.01', 'relativity.n.01', 'engineering.n.01', 'press.n.01', 'fundamental.n.01', 'scientific.n.01', 'nuclear.n.01', 'phenomena.n.01', 'light.n.01', 'condensed.n.01', 'motion.n.01', 'book.n.01', 'atomic.n.01', 'were.n.01', 'society.n.01']\n"
     ]
    }
   ],
   "source": [
    "cv = similar('Chemistry','Physics')"
   ]
  },
  {
   "cell_type": "code",
   "execution_count": 77,
   "metadata": {},
   "outputs": [
    {
     "name": "stdout",
     "output_type": "stream",
     "text": [
      "Probability of topics being related is 33%\n",
      "Count is 546 and sum is 181.64500087335725\n",
      "\n",
      "\n",
      "['biology.n.01', 'study.n.01', 'organisms.n.01', 'life.n.01', 'evolution.n.01', 'cell.n.01', 'biological.n.01', 'molecular.n.01', 'species.n.01', 'list.n.01', 'evolutionary.n.01', 'science.n.01', 'multiple.n.01', 'living.n.01', 'maint.n.01', 'history.n.01', 'physiology.n.01', 'names.n.01', 'genetics.n.01', 'dna.n.01', 'link.n.01', 'natural.n.01', 'cells.n.01', 'authors.n.01', 'energy.n.01', 'ed.n.01', 'systems.n.01', 'animals.n.01', 'organism.n.01', 'pmid.n.01', 'press.n.01', 'more.n.01', 'bacteria.n.01', 'origin.n.01', 'plants.n.01', 'ecology.n.01', 'university.n.01', 'processes.n.01', 'system.n.01', 'anatomy.n.01']\n",
      "\n",
      "\n",
      "['physics.n.01', 'mechanics.n.01', 'theory.n.01', 'science.n.01', 'matter.n.01', 'research.n.01', 'quantum.n.01', 'physical.n.01', 'mathematics.n.01', 'classical.n.01', 'study.n.01', 'university.n.01', 'nature.n.01', 'astronomy.n.01', 'philosophy.n.01', 'theories.n.01', 'particle.n.01', 'particles.n.01', 'century.n.01', 'world.n.01', 'energy.n.01', 'universe.n.01', 'mathematical.n.01', 'many.n.01', 'modern.n.01', 'model.n.01', 'relativity.n.01', 'engineering.n.01', 'press.n.01', 'fundamental.n.01', 'scientific.n.01', 'nuclear.n.01', 'phenomena.n.01', 'light.n.01', 'condensed.n.01', 'motion.n.01', 'book.n.01', 'atomic.n.01', 'were.n.01', 'society.n.01']\n"
     ]
    }
   ],
   "source": [
    "cw = similar('Biology','Physics')"
   ]
  },
  {
   "cell_type": "code",
   "execution_count": 78,
   "metadata": {},
   "outputs": [
    {
     "name": "stdout",
     "output_type": "stream",
     "text": [
      "Probability of topics being related is 47%\n",
      "Count is 484 and sum is 227.53069106715913\n",
      "\n",
      "\n",
      "['chemistry.n.01', 'chemical.n.01', 'substances.n.01', 'energy.n.01', 'atoms.n.01', 'reaction.n.01', 'substance.n.01', 'more.n.01', 'electrons.n.01', 'molecules.n.01', 'study.n.01', 'elements.n.01', 'science.n.01', 'matter.n.01', 'reactions.n.01', 'alchemy.n.01', 'number.n.01', 'structure.n.01', 'theory.n.01', 'history.n.01', 'between.n.01', 'greek.n.01', 'molecular.n.01', 'compounds.n.01', 'bonds.n.01', 'another.n.01', 'mass.n.01', 'organic.n.01', 'physical.n.01', 'different.n.01', 'atom.n.01', 'table.n.01', 'state.n.01', 'bond.n.01', 'composition.n.01', 'properties.n.01', 'modern.n.01', 'century.n.01', 'law.n.01', 'university.n.01']\n",
      "\n",
      "\n",
      "['biology.n.01', 'study.n.01', 'organisms.n.01', 'life.n.01', 'evolution.n.01', 'cell.n.01', 'biological.n.01', 'molecular.n.01', 'species.n.01', 'list.n.01', 'evolutionary.n.01', 'science.n.01', 'multiple.n.01', 'living.n.01', 'maint.n.01', 'history.n.01', 'physiology.n.01', 'names.n.01', 'genetics.n.01', 'dna.n.01', 'link.n.01', 'natural.n.01', 'cells.n.01', 'authors.n.01', 'energy.n.01', 'ed.n.01', 'systems.n.01', 'animals.n.01', 'organism.n.01', 'pmid.n.01', 'press.n.01', 'more.n.01', 'bacteria.n.01', 'origin.n.01', 'plants.n.01', 'ecology.n.01', 'university.n.01', 'processes.n.01', 'system.n.01', 'anatomy.n.01']\n"
     ]
    }
   ],
   "source": [
    "cx = similar('Chemistry','Biology')"
   ]
  },
  {
   "cell_type": "code",
   "execution_count": 79,
   "metadata": {},
   "outputs": [
    {
     "name": "stdout",
     "output_type": "stream",
     "text": [
      "Probability of topics being related is 62%\n",
      "Count is 439 and sum is 270.75757119834356\n",
      "\n",
      "\n",
      "['chemistry.n.01', 'chemical.n.01', 'substances.n.01', 'energy.n.01', 'atoms.n.01', 'reaction.n.01', 'substance.n.01', 'more.n.01', 'electrons.n.01', 'molecules.n.01', 'study.n.01', 'elements.n.01', 'science.n.01', 'matter.n.01', 'reactions.n.01', 'alchemy.n.01', 'number.n.01', 'structure.n.01', 'theory.n.01', 'history.n.01', 'between.n.01', 'greek.n.01', 'molecular.n.01', 'compounds.n.01', 'bonds.n.01', 'another.n.01', 'mass.n.01', 'organic.n.01', 'physical.n.01', 'different.n.01', 'atom.n.01', 'table.n.01', 'state.n.01', 'bond.n.01', 'composition.n.01', 'properties.n.01', 'modern.n.01', 'century.n.01', 'law.n.01', 'university.n.01']\n",
      "\n",
      "\n",
      "['elements.n.01', 'periodic.n.01', 'table.n.01', 'chemistry.n.01', 'group.n.01', 'chemical.n.01', 'atomic.n.01', 'electron.n.01', 'metals.n.01', 'element.n.01', 'properties.n.01', 'j.n.01', 'ed.n.01', 'r.n.01', 'd.n.01', 'pp.n.01', 'groups.n.01', 'transition.n.01', 'g.n.01', 'e.n.01', 'been.n.01', 'iupac.n.01', 'form.n.01', 'number.n.01', 'period.n.01', 'oxford.n.01', 'electrons.n.01', 'more.n.01', 'energy.n.01', 'w.n.01', 'noble.n.01', 'were.n.01', 'trends.n.01', 'electronegativity.n.01', 'scerri.n.01', 't.n.01', 'york.n.01', 'pdf.n.01', 'm.n.01', 'ionization.n.01']\n"
     ]
    }
   ],
   "source": [
    "cy = similar('Chemistry','Periodic Table')"
   ]
  },
  {
   "cell_type": "code",
   "execution_count": 80,
   "metadata": {},
   "outputs": [
    {
     "name": "stdout",
     "output_type": "stream",
     "text": [
      "Probability of topics being related is 18%\n",
      "Count is 496 and sum is 90.21197898809412\n",
      "\n",
      "\n",
      "['physics.n.01', 'mechanics.n.01', 'theory.n.01', 'science.n.01', 'matter.n.01', 'research.n.01', 'quantum.n.01', 'physical.n.01', 'mathematics.n.01', 'classical.n.01', 'study.n.01', 'university.n.01', 'nature.n.01', 'astronomy.n.01', 'philosophy.n.01', 'theories.n.01', 'particle.n.01', 'particles.n.01', 'century.n.01', 'world.n.01', 'energy.n.01', 'universe.n.01', 'mathematical.n.01', 'many.n.01', 'modern.n.01', 'model.n.01', 'relativity.n.01', 'engineering.n.01', 'press.n.01', 'fundamental.n.01', 'scientific.n.01', 'nuclear.n.01', 'phenomena.n.01', 'light.n.01', 'condensed.n.01', 'motion.n.01', 'book.n.01', 'atomic.n.01', 'were.n.01', 'society.n.01']\n",
      "\n",
      "\n",
      "['elements.n.01', 'periodic.n.01', 'table.n.01', 'chemistry.n.01', 'group.n.01', 'chemical.n.01', 'atomic.n.01', 'electron.n.01', 'metals.n.01', 'element.n.01', 'properties.n.01', 'j.n.01', 'ed.n.01', 'r.n.01', 'd.n.01', 'pp.n.01', 'groups.n.01', 'transition.n.01', 'g.n.01', 'e.n.01', 'been.n.01', 'iupac.n.01', 'form.n.01', 'number.n.01', 'period.n.01', 'oxford.n.01', 'electrons.n.01', 'more.n.01', 'energy.n.01', 'w.n.01', 'noble.n.01', 'were.n.01', 'trends.n.01', 'electronegativity.n.01', 'scerri.n.01', 't.n.01', 'york.n.01', 'pdf.n.01', 'm.n.01', 'ionization.n.01']\n"
     ]
    }
   ],
   "source": [
    "cz = similar('Physics','Periodic Table')"
   ]
  },
  {
   "cell_type": "code",
   "execution_count": 81,
   "metadata": {},
   "outputs": [
    {
     "name": "stdout",
     "output_type": "stream",
     "text": [
      "Probability of topics being related is 18%\n",
      "Count is 399 and sum is 69.91294983730293\n",
      "\n",
      "\n",
      "['biology.n.01', 'study.n.01', 'organisms.n.01', 'life.n.01', 'evolution.n.01', 'cell.n.01', 'biological.n.01', 'molecular.n.01', 'species.n.01', 'list.n.01', 'evolutionary.n.01', 'science.n.01', 'multiple.n.01', 'living.n.01', 'maint.n.01', 'history.n.01', 'physiology.n.01', 'names.n.01', 'genetics.n.01', 'dna.n.01', 'link.n.01', 'natural.n.01', 'cells.n.01', 'authors.n.01', 'energy.n.01', 'ed.n.01', 'systems.n.01', 'animals.n.01', 'organism.n.01', 'pmid.n.01', 'press.n.01', 'more.n.01', 'bacteria.n.01', 'origin.n.01', 'plants.n.01', 'ecology.n.01', 'university.n.01', 'processes.n.01', 'system.n.01', 'anatomy.n.01']\n",
      "\n",
      "\n",
      "['elements.n.01', 'periodic.n.01', 'table.n.01', 'chemistry.n.01', 'group.n.01', 'chemical.n.01', 'atomic.n.01', 'electron.n.01', 'metals.n.01', 'element.n.01', 'properties.n.01', 'j.n.01', 'ed.n.01', 'r.n.01', 'd.n.01', 'pp.n.01', 'groups.n.01', 'transition.n.01', 'g.n.01', 'e.n.01', 'been.n.01', 'iupac.n.01', 'form.n.01', 'number.n.01', 'period.n.01', 'oxford.n.01', 'electrons.n.01', 'more.n.01', 'energy.n.01', 'w.n.01', 'noble.n.01', 'were.n.01', 'trends.n.01', 'electronegativity.n.01', 'scerri.n.01', 't.n.01', 'york.n.01', 'pdf.n.01', 'm.n.01', 'ionization.n.01']\n"
     ]
    }
   ],
   "source": [
    "da = similar('Biology','Periodic Table')"
   ]
  },
  {
   "cell_type": "code",
   "execution_count": 82,
   "metadata": {},
   "outputs": [
    {
     "name": "stdout",
     "output_type": "stream",
     "text": [
      "Probability of topics being related is 60%\n",
      "Count is 380 and sum is 229.56532489495123\n",
      "\n",
      "\n",
      "['dna.n.01', 'pmid.n.01', 'rna.n.01', 'base.n.01', 'pmc.n.01', 'strands.n.01', 'sequence.n.01', 'molecular.n.01', 'called.n.01', 'bases.n.01', 'structure.n.01', 'genetic.n.01', 'j.n.01', 'biology.n.01', 'proteins.n.01', 'nature.n.01', 'nucleic.n.01', 'm.n.01', 'cell.n.01', 'strand.n.01', 'helix.n.01', 'chromosomes.n.01', 's.n.01', 'double.n.01', 'information.n.01', 'acid.n.01', 'sequences.n.01', 'genome.n.01', 'journal.n.01', 'human.n.01', 'form.n.01', 'transcription.n.01', 'between.n.01', 'been.n.01', 'protein.n.01', 'genes.n.01', 'used.n.01', 'acids.n.01', 't.n.01', 'gene.n.01']\n",
      "\n",
      "\n",
      "['biology.n.01', 'study.n.01', 'organisms.n.01', 'life.n.01', 'evolution.n.01', 'cell.n.01', 'biological.n.01', 'molecular.n.01', 'species.n.01', 'list.n.01', 'evolutionary.n.01', 'science.n.01', 'multiple.n.01', 'living.n.01', 'maint.n.01', 'history.n.01', 'physiology.n.01', 'names.n.01', 'genetics.n.01', 'dna.n.01', 'link.n.01', 'natural.n.01', 'cells.n.01', 'authors.n.01', 'energy.n.01', 'ed.n.01', 'systems.n.01', 'animals.n.01', 'organism.n.01', 'pmid.n.01', 'press.n.01', 'more.n.01', 'bacteria.n.01', 'origin.n.01', 'plants.n.01', 'ecology.n.01', 'university.n.01', 'processes.n.01', 'system.n.01', 'anatomy.n.01']\n"
     ]
    }
   ],
   "source": [
    "db = similar('DNA','Biology')"
   ]
  },
  {
   "cell_type": "code",
   "execution_count": 83,
   "metadata": {},
   "outputs": [
    {
     "name": "stdout",
     "output_type": "stream",
     "text": [
      "Probability of topics being related is 38%\n",
      "Count is 416 and sum is 157.80741291342707\n",
      "\n",
      "\n",
      "['dna.n.01', 'pmid.n.01', 'rna.n.01', 'base.n.01', 'pmc.n.01', 'strands.n.01', 'sequence.n.01', 'molecular.n.01', 'called.n.01', 'bases.n.01', 'structure.n.01', 'genetic.n.01', 'j.n.01', 'biology.n.01', 'proteins.n.01', 'nature.n.01', 'nucleic.n.01', 'm.n.01', 'cell.n.01', 'strand.n.01', 'helix.n.01', 'chromosomes.n.01', 's.n.01', 'double.n.01', 'information.n.01', 'acid.n.01', 'sequences.n.01', 'genome.n.01', 'journal.n.01', 'human.n.01', 'form.n.01', 'transcription.n.01', 'between.n.01', 'been.n.01', 'protein.n.01', 'genes.n.01', 'used.n.01', 'acids.n.01', 't.n.01', 'gene.n.01']\n",
      "\n",
      "\n",
      "['chemistry.n.01', 'chemical.n.01', 'substances.n.01', 'energy.n.01', 'atoms.n.01', 'reaction.n.01', 'substance.n.01', 'more.n.01', 'electrons.n.01', 'molecules.n.01', 'study.n.01', 'elements.n.01', 'science.n.01', 'matter.n.01', 'reactions.n.01', 'alchemy.n.01', 'number.n.01', 'structure.n.01', 'theory.n.01', 'history.n.01', 'between.n.01', 'greek.n.01', 'molecular.n.01', 'compounds.n.01', 'bonds.n.01', 'another.n.01', 'mass.n.01', 'organic.n.01', 'physical.n.01', 'different.n.01', 'atom.n.01', 'table.n.01', 'state.n.01', 'bond.n.01', 'composition.n.01', 'properties.n.01', 'modern.n.01', 'century.n.01', 'law.n.01', 'university.n.01']\n"
     ]
    }
   ],
   "source": [
    "dc = similar('DNA','Chemistry')"
   ]
  },
  {
   "cell_type": "code",
   "execution_count": 84,
   "metadata": {},
   "outputs": [
    {
     "name": "stdout",
     "output_type": "stream",
     "text": [
      "Probability of topics being related is 18%\n",
      "Count is 468 and sum is 84.83535272099695\n",
      "\n",
      "\n",
      "['dna.n.01', 'pmid.n.01', 'rna.n.01', 'base.n.01', 'pmc.n.01', 'strands.n.01', 'sequence.n.01', 'molecular.n.01', 'called.n.01', 'bases.n.01', 'structure.n.01', 'genetic.n.01', 'j.n.01', 'biology.n.01', 'proteins.n.01', 'nature.n.01', 'nucleic.n.01', 'm.n.01', 'cell.n.01', 'strand.n.01', 'helix.n.01', 'chromosomes.n.01', 's.n.01', 'double.n.01', 'information.n.01', 'acid.n.01', 'sequences.n.01', 'genome.n.01', 'journal.n.01', 'human.n.01', 'form.n.01', 'transcription.n.01', 'between.n.01', 'been.n.01', 'protein.n.01', 'genes.n.01', 'used.n.01', 'acids.n.01', 't.n.01', 'gene.n.01']\n",
      "\n",
      "\n",
      "['physics.n.01', 'mechanics.n.01', 'theory.n.01', 'science.n.01', 'matter.n.01', 'research.n.01', 'quantum.n.01', 'physical.n.01', 'mathematics.n.01', 'classical.n.01', 'study.n.01', 'university.n.01', 'nature.n.01', 'astronomy.n.01', 'philosophy.n.01', 'theories.n.01', 'particle.n.01', 'particles.n.01', 'century.n.01', 'world.n.01', 'energy.n.01', 'universe.n.01', 'mathematical.n.01', 'many.n.01', 'modern.n.01', 'model.n.01', 'relativity.n.01', 'engineering.n.01', 'press.n.01', 'fundamental.n.01', 'scientific.n.01', 'nuclear.n.01', 'phenomena.n.01', 'light.n.01', 'condensed.n.01', 'motion.n.01', 'book.n.01', 'atomic.n.01', 'were.n.01', 'society.n.01']\n"
     ]
    }
   ],
   "source": [
    "dd = similar('DNA','Physics')"
   ]
  },
  {
   "cell_type": "code",
   "execution_count": 85,
   "metadata": {},
   "outputs": [
    {
     "name": "stdout",
     "output_type": "stream",
     "text": [
      "Probability of topics being related is 48%\n",
      "Count is 311 and sum is 147.96581974793872\n",
      "\n",
      "\n",
      "['coffee.n.01', 'caffeine.n.01', 'c.n.01', 'consumption.n.01', 'more.n.01', 'beans.n.01', 'water.n.01', 'pmid.n.01', 'seeds.n.01', 'world.n.01', 'countries.n.01', 'tea.n.01', 'risk.n.01', 'trade.n.01', 'm.n.01', 'arabica.n.01', 'been.n.01', 'method.n.01', 'cup.n.01', 'pendergrast.n.01', 'roasted.n.01', 'many.n.01', 'meta-analysis.n.01', 'espresso.n.01', 'were.n.01', 'grounds.n.01', 'production.n.01', 'brewed.n.01', 'studies.n.01', 'roasting.n.01', 'american.n.01', 'association.n.01', 'press.n.01', 'hot.n.01', 'break.n.01', 'journal.n.01', 'berries.n.01', 'had.n.01', 'during.n.01', 'brewing.n.01']\n",
      "\n",
      "\n",
      "['tea.n.01', 'chinese.n.01', 'leaves.n.01', 'milk.n.01', 'china.n.01', 'india.n.01', 'teas.n.01', 'assam.n.01', 'drink.n.01', 'black.n.01', 'green.n.01', 'water.n.01', 'consumed.n.01', 'during.n.01', 'chai.n.01', 'world.n.01', 'plant.n.01', 'leaf.n.01', 'history.n.01', 'camellia.n.01', 'mair.n.01', 'hoh.n.01', 'different.n.01', 'dynasty.n.01', 'century.n.01', 'were.n.01', 'been.n.01', 'indian.n.01', 'sinensis.n.01', 'cha.n.01', 'type.n.01', 'beverage.n.01', 'hot.n.01', 'many.n.01', 'c.n.01', 'popular.n.01', 'british.n.01', 'production.n.01', 'however.n.01', 'plants.n.01']\n"
     ]
    }
   ],
   "source": [
    "de = similar('coffee','tea')"
   ]
  },
  {
   "cell_type": "code",
   "execution_count": 86,
   "metadata": {},
   "outputs": [
    {
     "name": "stdout",
     "output_type": "stream",
     "text": [
      "Probability of topics being related is 79%\n",
      "Count is 310 and sum is 244.9063929071977\n",
      "\n",
      "\n",
      "['coffee.n.01', 'caffeine.n.01', 'c.n.01', 'consumption.n.01', 'more.n.01', 'beans.n.01', 'water.n.01', 'pmid.n.01', 'seeds.n.01', 'world.n.01', 'countries.n.01', 'tea.n.01', 'risk.n.01', 'trade.n.01', 'm.n.01', 'arabica.n.01', 'been.n.01', 'method.n.01', 'cup.n.01', 'pendergrast.n.01', 'roasted.n.01', 'many.n.01', 'meta-analysis.n.01', 'espresso.n.01', 'were.n.01', 'grounds.n.01', 'production.n.01', 'brewed.n.01', 'studies.n.01', 'roasting.n.01', 'american.n.01', 'association.n.01', 'press.n.01', 'hot.n.01', 'break.n.01', 'journal.n.01', 'berries.n.01', 'had.n.01', 'during.n.01', 'brewing.n.01']\n",
      "\n",
      "\n",
      "['milk.n.01', 'dairy.n.01', 'lactose.n.01', 'food.n.01', 'products.n.01', 'calcium.n.01', 'cows.n.01', 'fat.n.01', 'pmid.n.01', 'production.n.01', 'been.n.01', 'per.n.01', 'consumption.n.01', 'more.n.01', 'health.n.01', 'd.n.01', 'used.n.01', 'protein.n.01', 'united.n.01', 'journal.n.01', 'human.n.01', 'american.n.01', 'c.n.01', 'cream.n.01', 'intolerance.n.01', 'many.n.01', 'states.n.01', 'were.n.01', 'nutrition.n.01', 'risk.n.01', 'agriculture.n.01', 'cow.n.01', 'globules.n.01', 'vitamin.n.01', 'animals.n.01', 'farmers.n.01', 'pdf.n.01', 'produced.n.01', 'contains.n.01', 'world.n.01']\n"
     ]
    }
   ],
   "source": [
    "df = similar('coffee','milk')"
   ]
  },
  {
   "cell_type": "code",
   "execution_count": 87,
   "metadata": {},
   "outputs": [
    {
     "name": "stdout",
     "output_type": "stream",
     "text": [
      "Probability of topics being related is 88%\n",
      "Count is 355 and sum is 312.5583018452112\n",
      "\n",
      "\n",
      "['apple.n.01', 'apples.n.01', 'malus.n.01', 'fruit.n.01', 'cultivars.n.01', 'tree.n.01', 'trees.n.01', 'golden.n.01', 'm.n.01', 'used.n.01', 'north.n.01', 'more.n.01', 'cider.n.01', 'fruits.n.01', 'been.n.01', 'rootstocks.n.01', 'genome.n.01', 'disease.n.01', 'delicious.n.01', 'plants.n.01', 'de.n.01', 'c.n.01', 'found.n.01', 'europe.n.01', 'many.n.01', 'production.n.01', 'red.n.01', 'university.n.01', 'world.n.01', 'pdf.n.01', 'juice.n.01', 'brown.n.01', 'plant.n.01', 'century.n.01', 'davidson.n.01', 'often.n.01', 'group.n.01', 'pumila.n.01', 'european.n.01', 'generally.n.01']\n",
      "\n",
      "\n",
      "['orange.n.01', 'citrus.n.01', 'oranges.n.01', 'grown.n.01', 'fruit.n.01', 'sweet.n.01', 'juice.n.01', 'florida.n.01', 'trees.n.01', 'california.n.01', 'navel.n.01', 'c.n.01', 'variety.n.01', 'fruits.n.01', 'united.n.01', 'lime.n.01', 'mandarin.n.01', 'tree.n.01', 'states.n.01', 'production.n.01', 'usda.n.01', 'were.n.01', 'brazil.n.01', 'color.n.01', 'spain.n.01', 'used.n.01', 'university.n.01', 'pomelo.n.01', 'known.n.01', 'south.n.01', 'valencia.n.01', 'e.n.01', 'pmid.n.01', 'called.n.01', 'between.n.01', 'peel.n.01', 'africa.n.01', 'lemon.n.01', 'agriculture.n.01', 'italy.n.01']\n"
     ]
    }
   ],
   "source": [
    "dg = similar('apple','orange (fruit)')"
   ]
  },
  {
   "cell_type": "code",
   "execution_count": 88,
   "metadata": {},
   "outputs": [
    {
     "name": "stdout",
     "output_type": "stream",
     "text": [
      "Probability of topics being related is 54%\n",
      "Count is 337 and sum is 182.36523240046586\n",
      "\n",
      "\n",
      "['apple.n.01', 'apples.n.01', 'malus.n.01', 'fruit.n.01', 'cultivars.n.01', 'tree.n.01', 'trees.n.01', 'golden.n.01', 'm.n.01', 'used.n.01', 'north.n.01', 'more.n.01', 'cider.n.01', 'fruits.n.01', 'been.n.01', 'rootstocks.n.01', 'genome.n.01', 'disease.n.01', 'delicious.n.01', 'plants.n.01', 'de.n.01', 'c.n.01', 'found.n.01', 'europe.n.01', 'many.n.01', 'production.n.01', 'red.n.01', 'university.n.01', 'world.n.01', 'pdf.n.01', 'juice.n.01', 'brown.n.01', 'plant.n.01', 'century.n.01', 'davidson.n.01', 'often.n.01', 'group.n.01', 'pumila.n.01', 'european.n.01', 'generally.n.01']\n",
      "\n",
      "\n",
      "['orange.n.01', 'colour.n.01', 'used.n.01', 'colours.n.01', 'color.n.01', 'red.n.01', 'yellow.n.01', 'flag.n.01', 'saffron.n.01', 'south.n.01', 'name.n.01', 'pigment.n.01', 'christian.n.01', 'blue.n.01', 'democratic.n.01', 'asia.n.01', 'party.n.01', 'europe.n.01', 'century.n.01', 'monks.n.01', 'made.n.01', 'became.n.01', 'dutch.n.01', 'colors.n.01', 'light.n.01', 'pigments.n.01', 'political.n.01', 'buddhist.n.01', 'united.n.01', 'de.n.01', 'la.n.01', 'house.n.01', 'dye.n.01', 'were.n.01', 'ancient.n.01', 'called.n.01', 'couleur.n.01', 'associated.n.01', 'national.n.01', 'both.n.01']\n"
     ]
    }
   ],
   "source": [
    "dh = similar('apple','orange (colour)')"
   ]
  },
  {
   "cell_type": "code",
   "execution_count": 89,
   "metadata": {},
   "outputs": [
    {
     "name": "stdout",
     "output_type": "stream",
     "text": [
      "Probability of topics being related is 63%\n",
      "Count is 553 and sum is 346.1652306398565\n",
      "\n",
      "\n",
      "['love.n.01', 'god.n.01', 'romantic.n.01', 'human.n.01', 'used.n.01', 'often.n.01', 'life.n.01', 'sexual.n.01', 'more.n.01', 'greek.n.01', 'eros.n.01', 'loving.n.01', 'term.n.01', 'desire.n.01', 'being.n.01', 'english.n.01', 'another.n.01', 'three.n.01', 'world.n.01', 'feeling.n.01', 'attraction.n.01', 'attachment.n.01', 'considered.n.01', 'agape.n.01', 'different.n.01', 'lust.n.01', 'between.n.01', 'both.n.01', 'book.n.01', 'interpersonal.n.01', 'been.n.01', 'nature.n.01', 'passion.n.01', 'psychology.n.01', 'commitment.n.01', 'social.n.01', 'others.n.01', 'text.n.01', 'i.n.01', 'e.n.01']\n",
      "\n",
      "\n",
      "['hate.n.01', 'hatred.n.01', 'speech.n.01', 'love.n.01', 'emotion.n.01', 'anger.n.01', 'religion.n.01', 'w.n.01', 'i.n.01', 'crime.n.01', 'cambridge.n.01', 'james.n.01', 'resentment.n.01', 'concepts.n.01', 'world.n.01', 'object.n.01', 'cultural.n.01', 'ed.n.01', 'citation.n.01', 'war.n.01', 'university.n.01', 'press.n.01', 'page.n.01', 'hostility.n.01', 'relationship.n.01', 'english.n.01', 'social.n.01', 'considered.n.01', 'forms.n.01', 'religious.n.01', 'desire.n.01', 'passion.n.01', 'psychology.n.01', 'london.n.01', '1em.n.01', 'center}mw-parser-output.n.01', 'underhill.n.01', 'ethnolinguistics.n.01', 'truth.n.01', 'emotions.n.01']\n"
     ]
    }
   ],
   "source": [
    "di = similar('love','hate')"
   ]
  },
  {
   "cell_type": "code",
   "execution_count": 90,
   "metadata": {},
   "outputs": [
    {
     "name": "stdout",
     "output_type": "stream",
     "text": [
      "Probability of topics being related is 100%\n",
      "Count is 484 and sum is 690.7808329088477\n",
      "\n",
      "\n",
      "['singapore.n.01', 'housing.n.01', 'development.n.01', 'authority.n.01', 'ministry.n.01', 'board.n.01', 'hdb.n.01', 'list.n.01', 'bukit.n.01', 'jurong.n.01', 'national.n.01', 'were.n.01', 'central.n.01', 'kampong.n.01', 'park.n.01', 'public.n.01', 'government.n.01', 'bahru.n.01', 'scheme.n.01', 'corporation.n.01', 'road.n.01', 'boon.n.01', 'east.n.01', 'quay.n.01', 'improvement.n.01', 'home.n.01', 'flats.n.01', 'sector.n.01', 'social.n.01', 'lorong.n.01', 'citation.n.01', 'resources.n.01', 'geylang.n.01', 'pasir.n.01', 'view.n.01', 'seletar.n.01', 'programme.n.01', 'page.n.01', '1960.n.01', 'trust.n.01']\n",
      "\n",
      "\n",
      "['singapore.n.01', 'authority.n.01', 'ministry.n.01', 'list.n.01', 'board.n.01', 'development.n.01', 'government.n.01', 'agency.n.01', 'national.n.01', 'office.n.01', 'technology.n.01', 'govtech.n.01', 'information.n.01', 'infocomm.n.01', 'media.n.01', 'citation.n.01', 'page.n.01', 'ida.n.01', 'public.n.01', 'create.n.01', '1em.n.01', 'center}mw-parser-output.n.01', 'corporation.n.01', 'statutory.n.01', 'under.n.01', 'prime.n.01', 'ministers.n.01', 'computer.n.01', 'communications.n.01', 'info-communications.n.01', 'channel.n.01', 'newsasia.n.01', 'using.n.01', 'health.n.01', 'transport.n.01', 'pmo.n.01', 'restructured.n.01', 'parliament.n.01', 'telecommunication.n.01', 'digital.n.01']\n"
     ]
    }
   ],
   "source": [
    "dj = similar('Housing and Development Board','Government Technology Agency')"
   ]
  },
  {
   "cell_type": "code",
   "execution_count": 91,
   "metadata": {},
   "outputs": [
    {
     "name": "stdout",
     "output_type": "stream",
     "text": [
      "Probability of topics being related is 34%\n",
      "Count is 441 and sum is 150.17058633316645\n",
      "\n",
      "\n",
      "['information.n.01', 'technology.n.01', 'data.n.01', 'computer.n.01', 'informatics.n.01', 'systems.n.01', 'computers.n.01', 'management.n.01', 'services.n.01', 'storage.n.01', 'stored.n.01', 'science.n.01', 'business.n.01', 'university.n.01', 'design.n.01', 'system.n.01', 'electronic.n.01', 'database.n.01', 'store.n.01', 'capacity.n.01', 'employment.n.01', 'years.n.01', 'worlds.n.01', 'digital.n.01', 'manchester.n.01', 'every.n.01', 'relational.n.01', 'been.n.01', 'developed.n.01', 'processing.n.01', 'application.n.01', 'development.n.01', 'early.n.01', 'xml.n.01', 'field.n.01', '2010-2020.n.01', 'ed.n.01', 'press.n.01', 'page.n.01', 'software.n.01']\n",
      "\n",
      "\n",
      "['singapore.n.01', 'authority.n.01', 'ministry.n.01', 'list.n.01', 'board.n.01', 'development.n.01', 'government.n.01', 'agency.n.01', 'national.n.01', 'office.n.01', 'technology.n.01', 'govtech.n.01', 'information.n.01', 'infocomm.n.01', 'media.n.01', 'citation.n.01', 'page.n.01', 'ida.n.01', 'public.n.01', 'create.n.01', '1em.n.01', 'center}mw-parser-output.n.01', 'corporation.n.01', 'statutory.n.01', 'under.n.01', 'prime.n.01', 'ministers.n.01', 'computer.n.01', 'communications.n.01', 'info-communications.n.01', 'channel.n.01', 'newsasia.n.01', 'using.n.01', 'health.n.01', 'transport.n.01', 'pmo.n.01', 'restructured.n.01', 'parliament.n.01', 'telecommunication.n.01', 'digital.n.01']\n"
     ]
    }
   ],
   "source": [
    "dk = similar('Information technology','Government Technology Agency')"
   ]
  },
  {
   "cell_type": "code",
   "execution_count": 92,
   "metadata": {},
   "outputs": [
    {
     "name": "stdout",
     "output_type": "stream",
     "text": [
      "Probability of topics being related is 100%\n",
      "Count is 228 and sum is 429.3293820542172\n",
      "\n",
      "\n",
      "['simcity.n.01', 'game.n.01', 'city.n.01', 'mode.n.01', 'buildings.n.01', 'building.n.01', 'games.n.01', 'released.n.01', '2008-06-18.n.01', 'players.n.01', 'expansion.n.01', 'deluxe.n.01', 'edition.n.01', 'available.n.01', 'maxis.n.01', 'rush.n.01', 'hour.n.01', 'sims.n.01', 'cities.n.01', 'more.n.01', 'facilities.n.01', 'official.n.01', 'version.n.01', 'pack.n.01', 'region.n.01', 'tool.n.01', 'bat.n.01', 'several.n.01', 'were.n.01', 'used.n.01', 'had.n.01', 'users.n.01', 'review.n.01', 'video.n.01', 'create.n.01', 'architect.n.01', 'however.n.01', 'previous.n.01', 'mayor.n.01', 'player.n.01']\n",
      "\n",
      "\n",
      "['sims.n.01', 'game.n.01', 'released.n.01', 'games.n.01', 'series.n.01', 'electronic.n.01', 'arts.n.01', 'packs.n.01', 'were.n.01', 'stories.n.01', 'life.n.01', 'maxis.n.01', 'video.n.01', 'pc.n.01', 'expansion.n.01', 'been.n.01', 'features.n.01', 'announced.n.01', 'online.n.01', 'nintendo.n.01', 'sim.n.01', 'content.n.01', 'generation.n.01', 'ea.n.01', 'social.n.01', 'world.n.01', 'wright.n.01', 'simcity.n.01', 'addition.n.01', 'playstation.n.01', 'ds.n.01', 'pets.n.01', 'ipod.n.01', 'goals.n.01', 'players.n.01', 'points.n.01', 'mode.n.01', 'xbox.n.01', 'page.n.01', 'developed.n.01']\n"
     ]
    }
   ],
   "source": [
    "dl = similar('Simcity 4','The Sims')"
   ]
  },
  {
   "cell_type": "code",
   "execution_count": 93,
   "metadata": {},
   "outputs": [
    {
     "name": "stdout",
     "output_type": "stream",
     "text": [
      "Probability of topics being related is 100%\n",
      "Count is 278 and sum is 541.8807940526261\n",
      "\n",
      "\n",
      "['simcity.n.01', 'game.n.01', 'city.n.01', 'mode.n.01', 'buildings.n.01', 'building.n.01', 'games.n.01', 'released.n.01', '2008-06-18.n.01', 'players.n.01', 'expansion.n.01', 'deluxe.n.01', 'edition.n.01', 'available.n.01', 'maxis.n.01', 'rush.n.01', 'hour.n.01', 'sims.n.01', 'cities.n.01', 'more.n.01', 'facilities.n.01', 'official.n.01', 'version.n.01', 'pack.n.01', 'region.n.01', 'tool.n.01', 'bat.n.01', 'several.n.01', 'were.n.01', 'used.n.01', 'had.n.01', 'users.n.01', 'review.n.01', 'video.n.01', 'create.n.01', 'architect.n.01', 'however.n.01', 'previous.n.01', 'mayor.n.01', 'player.n.01']\n",
      "\n",
      "\n",
      "['cities.n.01', 'skylines.n.01', 'game.n.01', 'city.n.01', 'simcity.n.01', 'games.n.01', 'paradox.n.01', 'colossal.n.01', 'order.n.01', 'player.n.01', 'had.n.01', 'pc.n.01', 'traffic.n.01', 'xbox.n.01', 'system.n.01', 'expansion.n.01', 'release.n.01', 'released.n.01', 'systems.n.01', 'million.n.01', 'gamer.n.01', 'road.n.01', 'transportation.n.01', 'playstation.n.01', 'copies.n.01', 'roads.n.01', 'interactive.n.01', 'players.n.01', 'dlc.n.01', 'sold.n.01', 'transit.n.01', 'area.n.01', 'motion.n.01', 'been.n.01', 'more.n.01', 'within.n.01', 'eurogamer.n.01', 'video.n.01', 'developed.n.01', 'simulation.n.01']\n"
     ]
    }
   ],
   "source": [
    "dm = similar('Simcity 4','Cities Skylines')"
   ]
  },
  {
   "cell_type": "code",
   "execution_count": 94,
   "metadata": {},
   "outputs": [
    {
     "name": "stdout",
     "output_type": "stream",
     "text": [
      "Probability of topics being related is 100%\n",
      "Count is 292 and sum is 296.2868379501078\n",
      "\n",
      "\n",
      "['pokémon.n.01', 'game.n.01', 'pokemon.n.01', 'series.n.01', 'games.n.01', 'nintendo.n.01', 'world.n.01', 'media.n.01', 'pikachu.n.01', 'card.n.01', 'franchise.n.01', 'released.n.01', 'video.n.01', 'league.n.01', 'trading.n.01', 'anime.n.01', 'japan.n.01', 'were.n.01', 'players.n.01', 'trainer.n.01', 'pocket.n.01', 'cards.n.01', 'viz.n.01', 'monsters.n.01', 'satoshi.n.01', 'trainers.n.01', '1999.n.01', 'each.n.01', 'manga.n.01', 'center.n.01', 'japanese.n.01', 'battle.n.01', 'release.n.01', 'been.n.01', 'movie.n.01', 'white.n.01', 'company.n.01', 'boy.n.01', 'based.n.01', 'while.n.01']\n",
      "\n",
      "\n",
      "['cities.n.01', 'skylines.n.01', 'game.n.01', 'city.n.01', 'simcity.n.01', 'games.n.01', 'paradox.n.01', 'colossal.n.01', 'order.n.01', 'player.n.01', 'had.n.01', 'pc.n.01', 'traffic.n.01', 'xbox.n.01', 'system.n.01', 'expansion.n.01', 'release.n.01', 'released.n.01', 'systems.n.01', 'million.n.01', 'gamer.n.01', 'road.n.01', 'transportation.n.01', 'playstation.n.01', 'copies.n.01', 'roads.n.01', 'interactive.n.01', 'players.n.01', 'dlc.n.01', 'sold.n.01', 'transit.n.01', 'area.n.01', 'motion.n.01', 'been.n.01', 'more.n.01', 'within.n.01', 'eurogamer.n.01', 'video.n.01', 'developed.n.01', 'simulation.n.01']\n"
     ]
    }
   ],
   "source": [
    "dn = similar('Pokemon','Cities Skylines')"
   ]
  },
  {
   "cell_type": "code",
   "execution_count": 95,
   "metadata": {},
   "outputs": [
    {
     "name": "stdout",
     "output_type": "stream",
     "text": [
      "Probability of topics being related is 72%\n",
      "Count is 292 and sum is 209.45426720276922\n",
      "\n",
      "\n",
      "['counter-strike.n.01', 'source.n.01', 'valve.n.01', 'game.n.01', 'released.n.01', 'corporation.n.01', 'steam.n.01', 'nexon.n.01', 'half-life.n.01', 'series.n.01', 'games.n.01', 'condition.n.01', 'zero.n.01', 'global.n.01', 'offensive.n.01', 'online.n.01', 'beta.n.01', 'engine.n.01', 'xbox.n.01', 'zombies.n.01', 'multiplayer.n.01', 'video.n.01', 'windows.n.01', 'developed.n.01', 'linux.n.01', 'citation.n.01', 'page.n.01', 'bomb.n.01', 'rock.n.01', 'os.n.01', 'x.n.01', 'entertainment.n.01', 'modes.n.01', 'received.n.01', 'version.n.01', '1em.n.01', 'center}mw-parser-output.n.01', 'episode.n.01', 'mods.n.01', 'first-person.n.01']\n",
      "\n",
      "\n",
      "['cities.n.01', 'skylines.n.01', 'game.n.01', 'city.n.01', 'simcity.n.01', 'games.n.01', 'paradox.n.01', 'colossal.n.01', 'order.n.01', 'player.n.01', 'had.n.01', 'pc.n.01', 'traffic.n.01', 'xbox.n.01', 'system.n.01', 'expansion.n.01', 'release.n.01', 'released.n.01', 'systems.n.01', 'million.n.01', 'gamer.n.01', 'road.n.01', 'transportation.n.01', 'playstation.n.01', 'copies.n.01', 'roads.n.01', 'interactive.n.01', 'players.n.01', 'dlc.n.01', 'sold.n.01', 'transit.n.01', 'area.n.01', 'motion.n.01', 'been.n.01', 'more.n.01', 'within.n.01', 'eurogamer.n.01', 'video.n.01', 'developed.n.01', 'simulation.n.01']\n"
     ]
    }
   ],
   "source": [
    "do = similar('Counter-Strike','Cities Skylines')"
   ]
  },
  {
   "cell_type": "code",
   "execution_count": 96,
   "metadata": {},
   "outputs": [
    {
     "name": "stdout",
     "output_type": "stream",
     "text": [
      "Probability of topics being related is 67%\n",
      "Count is 290 and sum is 193.91423350414166\n",
      "\n",
      "\n",
      "['counter-strike.n.01', 'source.n.01', 'valve.n.01', 'game.n.01', 'released.n.01', 'corporation.n.01', 'steam.n.01', 'nexon.n.01', 'half-life.n.01', 'series.n.01', 'games.n.01', 'condition.n.01', 'zero.n.01', 'global.n.01', 'offensive.n.01', 'online.n.01', 'beta.n.01', 'engine.n.01', 'xbox.n.01', 'zombies.n.01', 'multiplayer.n.01', 'video.n.01', 'windows.n.01', 'developed.n.01', 'linux.n.01', 'citation.n.01', 'page.n.01', 'bomb.n.01', 'rock.n.01', 'os.n.01', 'x.n.01', 'entertainment.n.01', 'modes.n.01', 'received.n.01', 'version.n.01', '1em.n.01', 'center}mw-parser-output.n.01', 'episode.n.01', 'mods.n.01', 'first-person.n.01']\n",
      "\n",
      "\n",
      "['fortnite.n.01', 'game.n.01', 'battle.n.01', 'royale.n.01', 'games.n.01', 'players.n.01', 'awards.n.01', 'epic.n.01', 'world.n.01', 'save.n.01', 'mode.n.01', 'war.n.01', 'best.n.01', 'ign.n.01', 'release.n.01', 'creative.n.01', 'access.n.01', 'million.n.01', 'winners.n.01', 'engine.n.01', 'switch.n.01', 'pc.n.01', 'gamer.n.01', 'polygon.n.01', 'modes.n.01', 'early.n.01', 'nintendo.n.01', 'unreal.n.01', 'staff.n.01', 'god.n.01', 'create.n.01', 'been.n.01', 'more.n.01', 'had.n.01', 'fortnites.n.01', 'tournament.n.01', 'gamespot.n.01', 'nominees.n.01', 'list.n.01', 'video.n.01']\n"
     ]
    }
   ],
   "source": [
    "dp = similar('Counter-Strike','Fortnite')"
   ]
  },
  {
   "cell_type": "code",
   "execution_count": 97,
   "metadata": {},
   "outputs": [
    {
     "name": "stdout",
     "output_type": "stream",
     "text": [
      "Probability of topics being related is 68%\n",
      "Count is 292 and sum is 197.9902250064131\n",
      "\n",
      "\n",
      "['counter-strike.n.01', 'source.n.01', 'valve.n.01', 'game.n.01', 'released.n.01', 'corporation.n.01', 'steam.n.01', 'nexon.n.01', 'half-life.n.01', 'series.n.01', 'games.n.01', 'condition.n.01', 'zero.n.01', 'global.n.01', 'offensive.n.01', 'online.n.01', 'beta.n.01', 'engine.n.01', 'xbox.n.01', 'zombies.n.01', 'multiplayer.n.01', 'video.n.01', 'windows.n.01', 'developed.n.01', 'linux.n.01', 'citation.n.01', 'page.n.01', 'bomb.n.01', 'rock.n.01', 'os.n.01', 'x.n.01', 'entertainment.n.01', 'modes.n.01', 'received.n.01', 'version.n.01', '1em.n.01', 'center}mw-parser-output.n.01', 'episode.n.01', 'mods.n.01', 'first-person.n.01']\n",
      "\n",
      "\n",
      "['overwatch.n.01', 'game.n.01', 'blizzard.n.01', 'games.n.01', 'awards.n.01', 'players.n.01', 'characters.n.01', 'overwatchs.n.01', 'best.n.01', 'video.n.01', 'heroes.n.01', 'league.n.01', 'team.n.01', 'shooter.n.01', 'pc.n.01', 'character.n.01', 'kotaku.n.01', '31.n.01', 'release.n.01', 'esports.n.01', 'gamespot.n.01', 'multiplayer.n.01', 'hero.n.01', 'beta.n.01', 'kaplan.n.01', 'polygon.n.01', 'competitive.n.01', 'loot.n.01', 'online.n.01', 'while.n.01', 'million.n.01', 'were.n.01', 'world.n.01', 'released.n.01', 'animated.n.01', 'had.n.01', 'gamer.n.01', 'review.n.01', 'blizzards.n.01', 'open.n.01']\n"
     ]
    }
   ],
   "source": [
    "dq = similar('Counter-Strike','Overwatch (video game)')"
   ]
  },
  {
   "cell_type": "code",
   "execution_count": 98,
   "metadata": {},
   "outputs": [
    {
     "name": "stdout",
     "output_type": "stream",
     "text": [
      "Probability of topics being related is 100%\n",
      "Count is 292 and sum is 466.8948458472515\n",
      "\n",
      "\n",
      "['game.n.01', 'overcooked.n.01', 'games.n.01', 'players.n.01', 'kitchen.n.01', 'chefs.n.01', 'switch.n.01', 'awards.n.01', 'cooperative.n.01', 'special.n.01', 'edition.n.01', 'review.n.01', 'xbox.n.01', 'nintendo.n.01', 'level.n.01', 'video.n.01', 'ghost.n.01', 'town.n.01', 'team17.n.01', 'kitchens.n.01', 'orders.n.01', 'windows.n.01', 'playstation.n.01', 'reviews.n.01', 'player.n.01', 'citation.n.01', 'using.n.01', 'page.n.01', 'cooking.n.01', 'experience.n.01', 'control.n.01', 'released.n.01', 'version.n.01', 'four.n.01', 'best.n.01', 'complete.n.01', 'different.n.01', 'requiring.n.01', 'based.n.01', 'another.n.01']\n",
      "\n",
      "\n",
      "['overwatch.n.01', 'game.n.01', 'blizzard.n.01', 'games.n.01', 'awards.n.01', 'players.n.01', 'characters.n.01', 'overwatchs.n.01', 'best.n.01', 'video.n.01', 'heroes.n.01', 'league.n.01', 'team.n.01', 'shooter.n.01', 'pc.n.01', 'character.n.01', 'kotaku.n.01', '31.n.01', 'release.n.01', 'esports.n.01', 'gamespot.n.01', 'multiplayer.n.01', 'hero.n.01', 'beta.n.01', 'kaplan.n.01', 'polygon.n.01', 'competitive.n.01', 'loot.n.01', 'online.n.01', 'while.n.01', 'million.n.01', 'were.n.01', 'world.n.01', 'released.n.01', 'animated.n.01', 'had.n.01', 'gamer.n.01', 'review.n.01', 'blizzards.n.01', 'open.n.01']\n"
     ]
    }
   ],
   "source": [
    "dr = similar('Overcooked','Overwatch (video game)')"
   ]
  },
  {
   "cell_type": "code",
   "execution_count": 99,
   "metadata": {},
   "outputs": [
    {
     "name": "stdout",
     "output_type": "stream",
     "text": [
      "Probability of topics being related is 100%\n",
      "Count is 399 and sum is 418.5876705754144\n",
      "\n",
      "\n",
      "['game.n.01', 'overcooked.n.01', 'games.n.01', 'players.n.01', 'kitchen.n.01', 'chefs.n.01', 'switch.n.01', 'awards.n.01', 'cooperative.n.01', 'special.n.01', 'edition.n.01', 'review.n.01', 'xbox.n.01', 'nintendo.n.01', 'level.n.01', 'video.n.01', 'ghost.n.01', 'town.n.01', 'team17.n.01', 'kitchens.n.01', 'orders.n.01', 'windows.n.01', 'playstation.n.01', 'reviews.n.01', 'player.n.01', 'citation.n.01', 'using.n.01', 'page.n.01', 'cooking.n.01', 'experience.n.01', 'control.n.01', 'released.n.01', 'version.n.01', 'four.n.01', 'best.n.01', 'complete.n.01', 'different.n.01', 'requiring.n.01', 'based.n.01', 'another.n.01']\n",
      "\n",
      "\n",
      "['league.n.01', 'game.n.01', 'legends.n.01', 'games.n.01', 'riot.n.01', 'champions.n.01', 'players.n.01', 'team.n.01', 'each.n.01', 'champion.n.01', 'teams.n.01', 'million.n.01', 'enemy.n.01', 'match.n.01', 'summoners.n.01', 'rift.n.01', 'level.n.01', 'awards.n.01', 'copy.n.01', 'pc.n.01', 'damage.n.01', 'video.n.01', 'turrets.n.01', 'map.n.01', 'wayback.n.01', 'mode.n.01', 'machine.n.01', 'player.n.01', 'best.n.01', 'nexus.n.01', 'modes.n.01', 'had.n.01', 'minions.n.01', 'own.n.01', 'title.n.01', 'through.n.01', 'abilities.n.01', 'base.n.01', 'played.n.01', 'europe.n.01']\n"
     ]
    }
   ],
   "source": [
    "ds = similar('Overcooked','League of Legends')"
   ]
  },
  {
   "cell_type": "code",
   "execution_count": 100,
   "metadata": {},
   "outputs": [
    {
     "name": "stdout",
     "output_type": "stream",
     "text": [
      "Probability of topics being related is 14%\n",
      "Count is 324 and sum is 44.24650023729437\n",
      "\n",
      "\n",
      "['simcity.n.01', 'game.n.01', 'city.n.01', 'mode.n.01', 'buildings.n.01', 'building.n.01', 'games.n.01', 'released.n.01', '2008-06-18.n.01', 'players.n.01', 'expansion.n.01', 'deluxe.n.01', 'edition.n.01', 'available.n.01', 'maxis.n.01', 'rush.n.01', 'hour.n.01', 'sims.n.01', 'cities.n.01', 'more.n.01', 'facilities.n.01', 'official.n.01', 'version.n.01', 'pack.n.01', 'region.n.01', 'tool.n.01', 'bat.n.01', 'several.n.01', 'were.n.01', 'used.n.01', 'had.n.01', 'users.n.01', 'review.n.01', 'video.n.01', 'create.n.01', 'architect.n.01', 'however.n.01', 'previous.n.01', 'mayor.n.01', 'player.n.01']\n",
      "\n",
      "\n",
      "['elements.n.01', 'periodic.n.01', 'table.n.01', 'chemistry.n.01', 'group.n.01', 'chemical.n.01', 'atomic.n.01', 'electron.n.01', 'metals.n.01', 'element.n.01', 'properties.n.01', 'j.n.01', 'ed.n.01', 'r.n.01', 'd.n.01', 'pp.n.01', 'groups.n.01', 'transition.n.01', 'g.n.01', 'e.n.01', 'been.n.01', 'iupac.n.01', 'form.n.01', 'number.n.01', 'period.n.01', 'oxford.n.01', 'electrons.n.01', 'more.n.01', 'energy.n.01', 'w.n.01', 'noble.n.01', 'were.n.01', 'trends.n.01', 'electronegativity.n.01', 'scerri.n.01', 't.n.01', 'york.n.01', 'pdf.n.01', 'm.n.01', 'ionization.n.01']\n"
     ]
    }
   ],
   "source": [
    "dt = similar('Simcity 4','Periodic Table')"
   ]
  },
  {
   "cell_type": "code",
   "execution_count": 101,
   "metadata": {},
   "outputs": [
    {
     "name": "stdout",
     "output_type": "stream",
     "text": [
      "Probability of topics being related is 100%\n",
      "Count is 381 and sum is 628.9751665442685\n",
      "\n",
      "\n",
      "['rihanna.n.01', 'girl.n.01', 'world.n.01', 'singles.n.01', 'billboard.n.01', 'chart.n.01', 'songs.n.01', 'song.n.01', 'top.n.01', 'number-one.n.01', 'usages.n.01', 'single.n.01', '100.n.01', 'singlechart.n.01', 'charts.n.01', 'number.n.01', 'music.n.01', 'rihannas.n.01', '—.n.01', 'list.n.01', 'hot.n.01', 'love.n.01', 'awards.n.01', 'official.n.01', 'video.n.01', 'dance.n.01', 'recording.n.01', 'digital.n.01', '40.n.01', 'loud.n.01', 'history.n.01', 'radio.n.01', 'end.n.01', 'certification.n.01', 'singer.n.01', 'before.n.01', 'week.n.01', 'industry.n.01', 'uk.n.01', 'united.n.01']\n",
      "\n",
      "\n",
      "['love.n.01', 'crazy.n.01', 'beyoncé.n.01', 'song.n.01', 'music.n.01', 'best.n.01', 'songs.n.01', 'singles.n.01', 'top.n.01', 'billboard.n.01', 'media.n.01', 'awards.n.01', 'video.n.01', 'i.n.01', 'inc.n.01', 'single.n.01', 'usages.n.01', 'mtv.n.01', '100.n.01', 'remix.n.01', 'list.n.01', 'performed.n.01', 'beyonce.n.01', 'singlechart.n.01', 'number.n.01', 'chart.n.01', 'united.n.01', 'jay-z.n.01', 'charts.n.01', 'itunes.n.01', 'beyoncés.n.01', 'dangerously.n.01', 'store.n.01', 'album.n.01', 'rolling.n.01', 'york.n.01', 'dance.n.01', 'recording.n.01', '50.n.01', 'hot.n.01']\n"
     ]
    }
   ],
   "source": [
    "du = similar('Only Girl (In the World)',\"Crazy in Love\")"
   ]
  },
  {
   "cell_type": "code",
   "execution_count": 102,
   "metadata": {},
   "outputs": [
    {
     "name": "stdout",
     "output_type": "stream",
     "text": [
      "Probability of topics being related is 100%\n",
      "Count is 427 and sum is 621.767030883119\n",
      "\n",
      "\n",
      "['rihanna.n.01', 'girl.n.01', 'album.n.01', 'music.n.01', 'albums.n.01', 'song.n.01', 'sturken.n.01', 'rogers.n.01', 'track.n.01', 'inc.n.01', 'billboard.n.01', 'chart.n.01', 'tracks.n.01', 'single.n.01', 'sos.n.01', 'number.n.01', 'store.n.01', 'unfaithful.n.01', 'itunes.n.01', 'apple.n.01', 'rihannas.n.01', 'charts.n.01', 'hung.n.01', 'medien.n.01', 'singles.n.01', 'recording.n.01', 'songs.n.01', 'certification.n.01', 'tour.n.01', 'media.n.01', 'top.n.01', 'sun.n.01', 'love.n.01', 'video.n.01', 'debut.n.01', 'mtv.n.01', 'table.n.01', 'entry.n.01', 'critics.n.01', 'hot.n.01']\n",
      "\n",
      "\n",
      "['love.n.01', 'beyoncé.n.01', 'dangerously.n.01', 'album.n.01', 'albums.n.01', 'knowles.n.01', 'billboard.n.01', 'track.n.01', 'music.n.01', 'beyonce.n.01', 'mtv.n.01', 'songs.n.01', 'media.n.01', 'recording.n.01', 'chart.n.01', 'destinys.n.01', 'top.n.01', 'charts.n.01', 'global.n.01', 'certification.n.01', 'i.n.01', 'prometheus.n.01', 'apple.n.01', 'discogs.n.01', 'solo.n.01', 'child.n.01', 'news.n.01', 'itunes.n.01', 'awards.n.01', 'single.n.01', 'hung.n.01', 'medien.n.01', 'table.n.01', 'entry.n.01', 'engineer.n.01', 'usages.n.01', 'producer.n.01', 'inc.n.01', 'tracks.n.01', 'industry.n.01']\n"
     ]
    }
   ],
   "source": [
    "dv = similar('A Girl like Me (Rihanna album)',\"Dangerously in Love\")"
   ]
  },
  {
   "cell_type": "code",
   "execution_count": 103,
   "metadata": {},
   "outputs": [
    {
     "name": "stdout",
     "output_type": "stream",
     "text": [
      "Probability of topics being related is 51%\n",
      "Count is 496 and sum is 251.37262904404614\n",
      "\n",
      "\n",
      "['church.n.01', 'christianity.n.01', 'christian.n.01', 'catholic.n.01', 'jesus.n.01', 'christians.n.01', 'god.n.01', 'churches.n.01', 'press.n.01', 'orthodox.n.01', 'history.n.01', 'pp.n.01', 'christ.n.01', 'holy.n.01', 'religion.n.01', 'university.n.01', 'eastern.n.01', 'oxford.n.01', 'world.n.01', 'religious.n.01', 'testament.n.01', 'western.n.01', 'early.n.01', 'protestant.n.01', 'century.n.01', 'great.n.01', 'state.n.01', 'baptism.n.01', 'spirit.n.01', 'theology.n.01', 'reformation.n.01', 'resurrection.n.01', 'bible.n.01', 'scripture.n.01', 'denominations.n.01', 'europe.n.01', 'father.n.01', 'faith.n.01', 'john.n.01', 'prayer.n.01']\n",
      "\n",
      "\n",
      "['buddhism.n.01', 'buddhist.n.01', 'pp.n.01', 'press.n.01', 'buddha.n.01', 'university.n.01', 'rebirth.n.01', 'texts.n.01', 'early.n.01', 'mahayana.n.01', 'four.n.01', 'harvey.n.01', 'tradition.n.01', 'meditation.n.01', 'india.n.01', 'theravada.n.01', 'routledge.n.01', 'path.n.01', 'been.n.01', 'indian.n.01', 'insight.n.01', 'bronkhorst.n.01', 'nirvana.n.01', 'state.n.01', 'practice.n.01', 'traditions.n.01', 'according.n.01', 'states.n.01', 'karma.n.01', 'c.n.01', 'gombrich.n.01', 'were.n.01', 'noble.n.01', 'doctrine.n.01', 'history.n.01', 'teachings.n.01', 'religion.n.01', 'williams.n.01', 'ed.n.01', 'practices.n.01']\n"
     ]
    }
   ],
   "source": [
    "dw = similar('Christianity',\"Buddhism\")"
   ]
  },
  {
   "cell_type": "code",
   "execution_count": 104,
   "metadata": {},
   "outputs": [
    {
     "name": "stdout",
     "output_type": "stream",
     "text": [
      "Probability of topics being related is 79%\n",
      "Count is 469 and sum is 372.3157027939905\n",
      "\n",
      "\n",
      "['church.n.01', 'christianity.n.01', 'christian.n.01', 'catholic.n.01', 'jesus.n.01', 'christians.n.01', 'god.n.01', 'churches.n.01', 'press.n.01', 'orthodox.n.01', 'history.n.01', 'pp.n.01', 'christ.n.01', 'holy.n.01', 'religion.n.01', 'university.n.01', 'eastern.n.01', 'oxford.n.01', 'world.n.01', 'religious.n.01', 'testament.n.01', 'western.n.01', 'early.n.01', 'protestant.n.01', 'century.n.01', 'great.n.01', 'state.n.01', 'baptism.n.01', 'spirit.n.01', 'theology.n.01', 'reformation.n.01', 'resurrection.n.01', 'bible.n.01', 'scripture.n.01', 'denominations.n.01', 'europe.n.01', 'father.n.01', 'faith.n.01', 'john.n.01', 'prayer.n.01']\n",
      "\n",
      "\n",
      "['islam.n.01', 'islamic.n.01', 'muslims.n.01', 'muslim.n.01', 'quran.n.01', 'muhammad.n.01', 'university.n.01', 'press.n.01', 'pp.n.01', 'god.n.01', 'ibn.n.01', 'religious.n.01', 'world.n.01', 'encyclopedia.n.01', 'oxford.n.01', 'ed.n.01', 'online.n.01', 'history.n.01', 'hadith.n.01', 'esposito.n.01', 'religion.n.01', 'arabic.n.01', 'law.n.01', 'called.n.01', 'century.n.01', 'shia.n.01', 'were.n.01', 'britannica.n.01', 'during.n.01', 'sunni.n.01', 'encyclopædia.n.01', 'movement.n.01', 'many.n.01', 'ali.n.01', 'medina.n.01', 'faith.n.01', 'encyclopaedia.n.01', 'asia.n.01', 'while.n.01', 'known.n.01']\n"
     ]
    }
   ],
   "source": [
    "dx = similar('Christianity',\"Islam\")"
   ]
  },
  {
   "cell_type": "code",
   "execution_count": 105,
   "metadata": {},
   "outputs": [
    {
     "name": "stdout",
     "output_type": "stream",
     "text": [
      "Probability of topics being related is 100%\n",
      "Count is 344 and sum is 381.6457086499901\n",
      "\n",
      "\n",
      "['buddhism.n.01', 'buddhist.n.01', 'pp.n.01', 'press.n.01', 'buddha.n.01', 'university.n.01', 'rebirth.n.01', 'texts.n.01', 'early.n.01', 'mahayana.n.01', 'four.n.01', 'harvey.n.01', 'tradition.n.01', 'meditation.n.01', 'india.n.01', 'theravada.n.01', 'routledge.n.01', 'path.n.01', 'been.n.01', 'indian.n.01', 'insight.n.01', 'bronkhorst.n.01', 'nirvana.n.01', 'state.n.01', 'practice.n.01', 'traditions.n.01', 'according.n.01', 'states.n.01', 'karma.n.01', 'c.n.01', 'gombrich.n.01', 'were.n.01', 'noble.n.01', 'doctrine.n.01', 'history.n.01', 'teachings.n.01', 'religion.n.01', 'williams.n.01', 'ed.n.01', 'practices.n.01']\n",
      "\n",
      "\n",
      "['islam.n.01', 'islamic.n.01', 'muslims.n.01', 'muslim.n.01', 'quran.n.01', 'muhammad.n.01', 'university.n.01', 'press.n.01', 'pp.n.01', 'god.n.01', 'ibn.n.01', 'religious.n.01', 'world.n.01', 'encyclopedia.n.01', 'oxford.n.01', 'ed.n.01', 'online.n.01', 'history.n.01', 'hadith.n.01', 'esposito.n.01', 'religion.n.01', 'arabic.n.01', 'law.n.01', 'called.n.01', 'century.n.01', 'shia.n.01', 'were.n.01', 'britannica.n.01', 'during.n.01', 'sunni.n.01', 'encyclopædia.n.01', 'movement.n.01', 'many.n.01', 'ali.n.01', 'medina.n.01', 'faith.n.01', 'encyclopaedia.n.01', 'asia.n.01', 'while.n.01', 'known.n.01']\n"
     ]
    }
   ],
   "source": [
    "dy = similar('Buddhism',\"Islam\")"
   ]
  },
  {
   "cell_type": "code",
   "execution_count": 106,
   "metadata": {},
   "outputs": [
    {
     "name": "stdout",
     "output_type": "stream",
     "text": [
      "Probability of topics being related is 96%\n",
      "Count is 339 and sum is 326.4494710221478\n",
      "\n",
      "\n",
      "['neural.n.01', 'networks.n.01', 'learning.n.01', '{\\\\displaystyle.n.01', 'network.n.01', 'deep.n.01', 'artificial.n.01', 'function.n.01', 'j.n.01', 'x.n.01', 'using.n.01', '\\\\textstyle.n.01', 'machine.n.01', 'recognition.n.01', 'model.n.01', 'memory.n.01', 'output.n.01', 'input.n.01', 'data.n.01', 'pdf.n.01', 'processing.n.01', 'd.n.01', 'algorithm.n.01', 'f.n.01', 'y.n.01', 'pp.n.01', 'w.n.01', 'models.n.01', 'international.n.01', 'h.n.01', 't.n.01', 'schmidhuber.n.01', 'cost.n.01', 'systems.n.01', 'gradient.n.01', 'pmid.n.01', 'layers.n.01', 'layer.n.01', 'used.n.01', 'weights.n.01']\n",
      "\n",
      "\n",
      "['regression.n.01', 'logistic.n.01', 'model.n.01', '{\\\\displaystyle.n.01', 'variable.n.01', 'linear.n.01', 'variables.n.01', '=.n.01', 'function.n.01', 'probability.n.01', '0.n.01', 'x.n.01', 'distribution.n.01', 'odds.n.01', 'value.n.01', 'logit.n.01', 'each.n.01', 'predictors.n.01', 'data.n.01', 'analysis.n.01', 'β.n.01', 'values.n.01', 'dependent.n.01', 'using.n.01', 'used.n.01', 'more.n.01', 'coefficients.n.01', 'i.n.01', 'outcome.n.01', 'predictor.n.01', 'where.n.01', 'models.n.01', 'likelihood.n.01', '−.n.01', 'case.n.01', 'explanatory.n.01', 'given.n.01', 'y.n.01', '+.n.01', 'binary.n.01']\n"
     ]
    }
   ],
   "source": [
    "dz = similar('Neural Network',\"Logistic regression\")"
   ]
  },
  {
   "cell_type": "code",
   "execution_count": 107,
   "metadata": {},
   "outputs": [
    {
     "name": "stdout",
     "output_type": "stream",
     "text": [
      "Probability of topics being related is 6%\n",
      "Count is 224 and sum is 14.127302372216716\n",
      "\n",
      "\n",
      "['reddit.n.01', 'users.n.01', 'reddits.n.01', 'subreddit.n.01', 'site.n.01', 'content.n.01', 'ceo.n.01', 'huffman.n.01', 'company.n.01', 'subreddits.n.01', 'community.n.01', 'internet.n.01', 'page.n.01', 'posts.n.01', 'news.n.01', 'post.n.01', 'user.n.01', 'were.n.01', 'steve.n.01', 'times.n.01', 'moderators.n.01', 'c.n.01', 'million.n.01', 'ohanian.n.01', 'communities.n.01', 'pao.n.01', 'daily.n.01', 'had.n.01', 'redditors.n.01', 'more.n.01', 'chat.n.01', 'banned.n.01', 'website.n.01', 'front.n.01', 'said.n.01', 'sites.n.01', '31.n.01', 'been.n.01', 'washington.n.01', 'social.n.01']\n",
      "\n",
      "\n",
      "['regression.n.01', 'logistic.n.01', 'model.n.01', '{\\\\displaystyle.n.01', 'variable.n.01', 'linear.n.01', 'variables.n.01', '=.n.01', 'function.n.01', 'probability.n.01', '0.n.01', 'x.n.01', 'distribution.n.01', 'odds.n.01', 'value.n.01', 'logit.n.01', 'each.n.01', 'predictors.n.01', 'data.n.01', 'analysis.n.01', 'β.n.01', 'values.n.01', 'dependent.n.01', 'using.n.01', 'used.n.01', 'more.n.01', 'coefficients.n.01', 'i.n.01', 'outcome.n.01', 'predictor.n.01', 'where.n.01', 'models.n.01', 'likelihood.n.01', '−.n.01', 'case.n.01', 'explanatory.n.01', 'given.n.01', 'y.n.01', '+.n.01', 'binary.n.01']\n"
     ]
    }
   ],
   "source": [
    "ea = similar('Reddit',\"Logistic regression\")"
   ]
  },
  {
   "cell_type": "code",
   "execution_count": 108,
   "metadata": {},
   "outputs": [
    {
     "name": "stdout",
     "output_type": "stream",
     "text": [
      "Probability of topics being related is 100%\n",
      "Count is 227 and sum is 256.4602813708876\n",
      "\n",
      "\n",
      "['reddit.n.01', 'users.n.01', 'reddits.n.01', 'subreddit.n.01', 'site.n.01', 'content.n.01', 'ceo.n.01', 'huffman.n.01', 'company.n.01', 'subreddits.n.01', 'community.n.01', 'internet.n.01', 'page.n.01', 'posts.n.01', 'news.n.01', 'post.n.01', 'user.n.01', 'were.n.01', 'steve.n.01', 'times.n.01', 'moderators.n.01', 'c.n.01', 'million.n.01', 'ohanian.n.01', 'communities.n.01', 'pao.n.01', 'daily.n.01', 'had.n.01', 'redditors.n.01', 'more.n.01', 'chat.n.01', 'banned.n.01', 'website.n.01', 'front.n.01', 'said.n.01', 'sites.n.01', '31.n.01', 'been.n.01', 'washington.n.01', 'social.n.01']\n",
      "\n",
      "\n",
      "['facebook.n.01', 'users.n.01', 'social.n.01', 'data.n.01', 'media.n.01', 'news.n.01', 'facebooks.n.01', 'zuckerberg.n.01', 'million.n.01', 'billion.n.01', 'privacy.n.01', 'company.n.01', 'guardian.n.01', 'app.n.01', 'techcrunch.n.01', 'group.n.01', 'user.n.01', 'content.n.01', 'had.n.01', 'information.n.01', 'more.n.01', 'used.n.01', 'messenger.n.01', 'network.n.01', 'announced.n.01', 'aol.n.01', 'friends.n.01', 'mark.n.01', 'site.n.01', '31.n.01', 'verge.n.01', 'were.n.01', 'york.n.01', 'times.n.01', 'political.n.01', 'profile.n.01', 'pages.n.01', 'business.n.01', 'companies.n.01', 'google.n.01']\n"
     ]
    }
   ],
   "source": [
    "eb = similar('Reddit',\"Facebook\")"
   ]
  },
  {
   "cell_type": "code",
   "execution_count": 109,
   "metadata": {},
   "outputs": [
    {
     "name": "stdout",
     "output_type": "stream",
     "text": [
      "Probability of topics being related is 100%\n",
      "Count is 229 and sum is 316.06674820430607\n",
      "\n",
      "\n",
      "['reddit.n.01', 'users.n.01', 'reddits.n.01', 'subreddit.n.01', 'site.n.01', 'content.n.01', 'ceo.n.01', 'huffman.n.01', 'company.n.01', 'subreddits.n.01', 'community.n.01', 'internet.n.01', 'page.n.01', 'posts.n.01', 'news.n.01', 'post.n.01', 'user.n.01', 'were.n.01', 'steve.n.01', 'times.n.01', 'moderators.n.01', 'c.n.01', 'million.n.01', 'ohanian.n.01', 'communities.n.01', 'pao.n.01', 'daily.n.01', 'had.n.01', 'redditors.n.01', 'more.n.01', 'chat.n.01', 'banned.n.01', 'website.n.01', 'front.n.01', 'said.n.01', 'sites.n.01', '31.n.01', 'been.n.01', 'washington.n.01', 'social.n.01']\n",
      "\n",
      "\n",
      "['twitter.n.01', 'users.n.01', 'tweets.n.01', 'million.n.01', 'social.n.01', 'twitters.n.01', 'times.n.01', 'company.n.01', 'accounts.n.01', 'news.n.01', 'service.n.01', 'media.n.01', 'announced.n.01', 'had.n.01', 'york.n.01', 'were.n.01', 'more.n.01', 'used.n.01', 'tweet.n.01', 'tv.n.01', 'been.n.01', 'blog.n.01', 'user.n.01', 'network.n.01', 'account.n.01', 'mobile.n.01', 'world.n.01', 'dorsey.n.01', 'per.n.01', 'record.n.01', 'facebook.n.01', 'web.n.01', 'business.n.01', 'followers.n.01', 'using.n.01', 'said.n.01', 'video.n.01', 'public.n.01', 'united.n.01', 'during.n.01']\n"
     ]
    }
   ],
   "source": [
    "ec = similar('Reddit',\"Twitter\")"
   ]
  },
  {
   "cell_type": "code",
   "execution_count": 110,
   "metadata": {},
   "outputs": [
    {
     "name": "stdout",
     "output_type": "stream",
     "text": [
      "Probability of topics being related is 100%\n",
      "Count is 240 and sum is 294.20392537143323\n",
      "\n",
      "\n",
      "['reddit.n.01', 'users.n.01', 'reddits.n.01', 'subreddit.n.01', 'site.n.01', 'content.n.01', 'ceo.n.01', 'huffman.n.01', 'company.n.01', 'subreddits.n.01', 'community.n.01', 'internet.n.01', 'page.n.01', 'posts.n.01', 'news.n.01', 'post.n.01', 'user.n.01', 'were.n.01', 'steve.n.01', 'times.n.01', 'moderators.n.01', 'c.n.01', 'million.n.01', 'ohanian.n.01', 'communities.n.01', 'pao.n.01', 'daily.n.01', 'had.n.01', 'redditors.n.01', 'more.n.01', 'chat.n.01', 'banned.n.01', 'website.n.01', 'front.n.01', 'said.n.01', 'sites.n.01', '31.n.01', 'been.n.01', 'washington.n.01', 'social.n.01']\n",
      "\n",
      "\n",
      "['quora.n.01', 'users.n.01', 'questions.n.01', 'site.n.01', 'question.n.01', 'answers.n.01', 'million.n.01', 'user.n.01', 'answer.n.01', 'website.n.01', 'had.n.01', 'c.n.01', 'techcrunch.n.01', 'writers.n.01', 'q&ampa.n.01', 'why.n.01', 'content.n.01', 'beta.n.01', 'global.n.01', 'details.n.01', 'techcrunchcom.n.01', 'company.n.01', 'quoras.n.01', 'search.n.01', 'did.n.01', 'launching.n.01', 'community.n.01', 'feature.n.01', 'tiger.n.01', 'constine.n.01', 'josh.n.01', 'made.n.01', 'public.n.01', 'cheever.n.01', 'launched.n.01', 'blogging.n.01', 'reported.n.01', 'valuation.n.01', 'y.n.01', 'combinator.n.01']\n"
     ]
    }
   ],
   "source": [
    "ed = similar('Reddit',\"Quora\")"
   ]
  },
  {
   "cell_type": "code",
   "execution_count": 111,
   "metadata": {},
   "outputs": [
    {
     "name": "stdout",
     "output_type": "stream",
     "text": [
      "Probability of topics being related is 74%\n",
      "Count is 359 and sum is 265.5927838755889\n",
      "\n",
      "\n",
      "['google.n.01', 'googles.n.01', 'search.n.01', 'company.n.01', 'billion.n.01', 'inc.n.01', 'york.n.01', 'page.n.01', 'million.n.01', 'announced.n.01', 'media.n.01', 'android.n.01', 'data.n.01', 'engine.n.01', 'mobile.n.01', 'alphabet.n.01', 'project.n.01', 'energy.n.01', 'employees.n.01', 'times.n.01', 'had.n.01', 'internet.n.01', 'aol.n.01', 'verge.n.01', 'web.n.01', 'world.n.01', 'motorola.n.01', 'china.n.01', 'companies.n.01', 'news.n.01', 'were.n.01', 'code.n.01', '31.n.01', 'service.n.01', 'services.n.01', 'advertising.n.01', 'business.n.01', 'more.n.01', 'washington.n.01', 'techcrunch.n.01']\n",
      "\n",
      "\n",
      "['quora.n.01', 'users.n.01', 'questions.n.01', 'site.n.01', 'question.n.01', 'answers.n.01', 'million.n.01', 'user.n.01', 'answer.n.01', 'website.n.01', 'had.n.01', 'c.n.01', 'techcrunch.n.01', 'writers.n.01', 'q&ampa.n.01', 'why.n.01', 'content.n.01', 'beta.n.01', 'global.n.01', 'details.n.01', 'techcrunchcom.n.01', 'company.n.01', 'quoras.n.01', 'search.n.01', 'did.n.01', 'launching.n.01', 'community.n.01', 'feature.n.01', 'tiger.n.01', 'constine.n.01', 'josh.n.01', 'made.n.01', 'public.n.01', 'cheever.n.01', 'launched.n.01', 'blogging.n.01', 'reported.n.01', 'valuation.n.01', 'y.n.01', 'combinator.n.01']\n"
     ]
    }
   ],
   "source": [
    "ee = similar('Google',\"Quora\")"
   ]
  }
 ],
 "metadata": {
  "kernelspec": {
   "display_name": "Python 3",
   "language": "python",
   "name": "python3"
  },
  "language_info": {
   "codemirror_mode": {
    "name": "ipython",
    "version": 3
   },
   "file_extension": ".py",
   "mimetype": "text/x-python",
   "name": "python",
   "nbconvert_exporter": "python",
   "pygments_lexer": "ipython3",
   "version": "3.6.5"
  }
 },
 "nbformat": 4,
 "nbformat_minor": 2
}
