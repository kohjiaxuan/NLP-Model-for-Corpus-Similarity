{
 "cells": [
  {
   "cell_type": "code",
   "execution_count": 26,
   "metadata": {},
   "outputs": [],
   "source": [
    "import comparewiki"
   ]
  },
  {
   "cell_type": "code",
   "execution_count": 27,
   "metadata": {},
   "outputs": [
    {
     "name": "stdout",
     "output_type": "stream",
     "text": [
      "Time taken to get Wiki text is 8.08 seconds.\n",
      "Probability of topics being related is 100%\n",
      "Count is 449 and sum is 450.2652063132894\n",
      "\n",
      "\n",
      "Time taken is 9.86 seconds.\n",
      "Time taken to get percentage is 1.77 seconds.\n"
     ]
    }
   ],
   "source": [
    "a = comparewiki.similar('Joe Biden','Donald Trump')"
   ]
  },
  {
   "cell_type": "code",
   "execution_count": 28,
   "metadata": {},
   "outputs": [
    {
     "name": "stdout",
     "output_type": "stream",
     "text": [
      "Time taken to get Wiki text is 10.39 seconds.\n",
      "Probability of topics being related is 100%\n",
      "Count is 322 and sum is 324.29617333661173\n",
      "\n",
      "\n",
      "Time taken is 11.46 seconds.\n",
      "Time taken to get percentage is 1.08 seconds.\n"
     ]
    }
   ],
   "source": [
    "b = comparewiki.similar('John F Kennedy','Donald Trump')"
   ]
  },
  {
   "cell_type": "code",
   "execution_count": 29,
   "metadata": {},
   "outputs": [
    {
     "name": "stdout",
     "output_type": "stream",
     "text": [
      "Time taken to get Wiki text is 6.68 seconds.\n",
      "Probability of topics being related is 50%\n",
      "Count is 467 and sum is 234.13061560549357\n",
      "\n",
      "\n",
      "Time taken is 8.11 seconds.\n",
      "Time taken to get percentage is 1.43 seconds.\n"
     ]
    }
   ],
   "source": [
    "b = comparewiki.similar('Tony Blair','Donald Trump')"
   ]
  },
  {
   "cell_type": "code",
   "execution_count": 30,
   "metadata": {},
   "outputs": [
    {
     "name": "stdout",
     "output_type": "stream",
     "text": [
      "\n",
      "The title \"HP\" you specified is ambiguous. As a result, you are linked to a clarification page.\n",
      "\n",
      "\n",
      "Here are some suggestions to use: \n",
      "\n",
      "None\n",
      "None\n",
      "None\n",
      "wiktionary:HP\n",
      "wiktionary:hp\n",
      "HP Inc.\n",
      "Horsepower\n",
      "None\n",
      "None\n",
      "None\n",
      "None\n",
      "None\n",
      "None\n",
      "None\n",
      "None\n",
      "Harry Pearson (audio critic)\n",
      "Harry Potter\n",
      "Hello! Project\n",
      "Hit points\n",
      "Horse-Power: Ballet Symphony\n",
      "H. P. Lovecraft\n",
      "HP Inc.\n",
      "Hewlett-Packard\n",
      "Hewlett Packard Enterprise\n",
      "HPBooks\n",
      "HP Foods\n",
      "HP Sauce\n",
      "Handley Page\n",
      "Hensel Phelps\n",
      "Hindustan Petroleum\n",
      "America West Airlines\n",
      "Houses of Parliament\n",
      "Heart Peaks\n",
      "Himachal Pradesh\n",
      "Hunters Point (San Francisco)\n",
      "HP postcode area\n",
      "Haptoglobin\n",
      "Health professional\n",
      "Helicobacter pylori\n",
      "Higher Power\n",
      "Hypersensitivity pneumonitis\n",
      "Hyperprolactinaemia\n",
      "Horsepower\n",
      "High pressure\n",
      "Ilford HP\n",
      "High precipitation supercell\n",
      "Hollow point\n",
      "Horizontal pitch\n",
      "Half-pay\n",
      "Haltepunkt\n",
      "Hire purchase\n",
      "Howiesons Poort\n",
      "Hybrid perpetual\n",
      "HP Garage\n",
      "Harry Potter (disambiguation)\n",
      "Health (gaming)\n",
      "None\n",
      "Time taken to get Wiki text is 2.76 seconds.\n",
      "Probability of topics being related is 15%\n",
      "Count is 529 and sum is 81.20637367454016\n",
      "\n",
      "\n",
      "Time taken is 4.69 seconds.\n",
      "Time taken to get percentage is 1.93 seconds.\n"
     ]
    }
   ],
   "source": [
    "x = comparewiki.similar('Tony Blair','HP')"
   ]
  },
  {
   "cell_type": "code",
   "execution_count": 31,
   "metadata": {},
   "outputs": [
    {
     "name": "stdout",
     "output_type": "stream",
     "text": [
      "\n",
      "The title \"NP\" you specified is ambiguous. As a result, you are linked to a clarification page.\n",
      "\n",
      "\n",
      "Here are some suggestions to use: \n",
      "\n",
      "None\n",
      "None\n",
      "None\n",
      "None\n",
      "None\n",
      "None\n",
      "None\n",
      "None\n",
      "None\n",
      "None\n",
      "None\n",
      "None\n",
      "None\n",
      "NP (novel)\n",
      "Banana Yoshimoto\n",
      "National Party (disambiguation)\n",
      "Ngee Ann Polytechnic\n",
      "Nigeria Police Force\n",
      "Northern Pacific Railway\n",
      "November Project\n",
      "NP postcode area\n",
      "Nepal\n",
      ".np\n",
      "Nucleoside phosphorylase\n",
      "Nurse practitioner\n",
      "Kallikrein 8\n",
      "Neptunium\n",
      "NP (complexity)\n",
      "NP-complete\n",
      "NP-hard\n",
      "Co-NP\n",
      "Numpy\n",
      "Named Pipe\n",
      "P-n junction\n",
      "Neper\n",
      "Neptunium\n",
      "Power number\n",
      "International Organization for Standardization\n",
      "Not populated\n",
      "Not placed\n",
      "Noun phrase\n",
      "Notary public\n",
      "No problem\n",
      "No parking\n",
      "Enpi (disambiguation)\n",
      "None\n",
      "\n",
      "The title \"HP\" you specified is ambiguous. As a result, you are linked to a clarification page.\n",
      "\n",
      "\n",
      "Here are some suggestions to use: \n",
      "\n",
      "None\n",
      "None\n",
      "None\n",
      "wiktionary:HP\n",
      "wiktionary:hp\n",
      "HP Inc.\n",
      "Horsepower\n",
      "None\n",
      "None\n",
      "None\n",
      "None\n",
      "None\n",
      "None\n",
      "None\n",
      "None\n",
      "Harry Pearson (audio critic)\n",
      "Harry Potter\n",
      "Hello! Project\n",
      "Hit points\n",
      "Horse-Power: Ballet Symphony\n",
      "H. P. Lovecraft\n",
      "HP Inc.\n",
      "Hewlett-Packard\n",
      "Hewlett Packard Enterprise\n",
      "HPBooks\n",
      "HP Foods\n",
      "HP Sauce\n",
      "Handley Page\n",
      "Hensel Phelps\n",
      "Hindustan Petroleum\n",
      "America West Airlines\n",
      "Houses of Parliament\n",
      "Heart Peaks\n",
      "Himachal Pradesh\n",
      "Hunters Point (San Francisco)\n",
      "HP postcode area\n",
      "Haptoglobin\n",
      "Health professional\n",
      "Helicobacter pylori\n",
      "Higher Power\n",
      "Hypersensitivity pneumonitis\n",
      "Hyperprolactinaemia\n",
      "Horsepower\n",
      "High pressure\n",
      "Ilford HP\n",
      "High precipitation supercell\n",
      "Hollow point\n",
      "Horizontal pitch\n",
      "Half-pay\n",
      "Haltepunkt\n",
      "Hire purchase\n",
      "Howiesons Poort\n",
      "Hybrid perpetual\n",
      "HP Garage\n",
      "Harry Potter (disambiguation)\n",
      "Health (gaming)\n",
      "None\n",
      "Time taken to get Wiki text is 0.54 seconds.\n",
      "Probability of topics being related is 57%\n",
      "Count is 505 and sum is 289.7280640309317\n",
      "\n",
      "\n",
      "Time taken is 2.48 seconds.\n",
      "Time taken to get percentage is 1.93 seconds.\n"
     ]
    }
   ],
   "source": [
    "z = comparewiki.similar('NP','HP')"
   ]
  },
  {
   "cell_type": "code",
   "execution_count": 32,
   "metadata": {},
   "outputs": [
    {
     "name": "stdout",
     "output_type": "stream",
     "text": [
      "Time taken to get Wiki text is 1.73 seconds.\n",
      "Probability of topics being related is 71%\n",
      "Count is 557 and sum is 396.3226420175519\n",
      "\n",
      "\n",
      "Time taken is 3.35 seconds.\n",
      "Time taken to get percentage is 1.62 seconds.\n"
     ]
    }
   ],
   "source": [
    "trance = comparewiki.similar('Armin van Buuren','Tiesto')"
   ]
  },
  {
   "cell_type": "code",
   "execution_count": 33,
   "metadata": {},
   "outputs": [
    {
     "name": "stdout",
     "output_type": "stream",
     "text": [
      "Time taken to get Wiki text is 5.42 seconds.\n",
      "Probability of topics being related is 100%\n",
      "Count is 406 and sum is 539.7817530978936\n",
      "\n",
      "\n",
      "Time taken is 6.67 seconds.\n",
      "Time taken to get percentage is 1.25 seconds.\n"
     ]
    }
   ],
   "source": [
    "country = comparewiki.similar('Singapore','Japan')"
   ]
  },
  {
   "cell_type": "code",
   "execution_count": 34,
   "metadata": {},
   "outputs": [],
   "source": [
    "import wikiscrape"
   ]
  },
  {
   "cell_type": "code",
   "execution_count": 35,
   "metadata": {},
   "outputs": [
    {
     "name": "stdout",
     "output_type": "stream",
     "text": [
      "Page is loading...\n",
      "\n",
      "Search text formatted to title/proper case by default. Set second argument as 'No' to disable formatting\n",
      "Wikipedia page loaded successfully!! Type variablename.HELP() for documentation of functions.\n",
      "\n",
      "\n",
      "Donald John Trump (born June 14, 1946) is the 45th and current president of the United States. Before entering politics, he was a businessman and television personality.\n",
      " \n",
      "\n",
      "Trump was born and raised in the New York City borough of Queens and received an economics degree from the Wharton School. He took charge of his family's real estate business in 1971, renamed it The Trump Organization and expanded it from Queens and Brooklyn into Manhattan. The company built or renovated skyscrapers, hotels, casinos, and golf courses. Trump later started various side ventures mostly by licensing his name. He managed the company until his 2017 inauguration. He co-authored several books including The Art of the Deal. He owned the Miss Universe and Miss USA beauty pageants from 1996 to 2015, and he produced and hosted The Apprentice a reality television show, from 2003 to 2015. Forbes estimates his net worth to be $3.1 billion.\n",
      "\n"
     ]
    }
   ],
   "source": [
    "djt = wikiscrape.wiki('Donald Trump')"
   ]
  },
  {
   "cell_type": "code",
   "execution_count": 36,
   "metadata": {
    "scrolled": true
   },
   "outputs": [
    {
     "name": "stdout",
     "output_type": "stream",
     "text": [
      "['trump', '2018', '2017', '2016', 'donald', 'trumps', '2019', 'york', 'times', 'president', '2015', 'news', 'washington', 'post', 'had', 'presidential', 'campaign', '3', 'tax', 'states', '20', 'cnn', '22', 'michael', '14', '12', 'said', '16', '18', 'united', 'election', '21', 'been', 'were', 'during', '15', 'house', '6', '9', '7', 'white', '2', 'david', '11', 'business', 'against', '19', '13', '10', '8', '5', '4', 'american', 'million', 'republican', 'court', 'i', '29', '25', 'political', 'press', '28', '17', '23', 'media', '&amp', 'says', '2011', '1', 'federal', 'investigation', 'nbc', 'office', '24', '27', 'general', 'russia', 'national', '30', 'mueller', 'government', 'made', '26', 'city', 'deal', 'statements', 'tariffs', 'wall', 'foundation', '31', 'while', 'world', 'history', 'politico', 'john', 'university', 'policy', 'america', 'report', 'days', 'ban', 'attorney', 'did', 'organization', 'billion', 'clinton', 'state', 'cohen', 'years', 'percent', 'original', 'later', 'usa', 'trade', 'judge', 'more', 'according', 'returns', 'health', 'hotel', 'summit', 'comey', 'real', 'many', 'iran', 'war', 'between', 'tower', 'speech', 'bbc', 'false', 'family', 'list', 'financial', 'party', 'miss', 'travel', 'china', 'north', 'order', 'committee', 'associated', 'estate', 'company', 'presidency', 'racist', 'both', 'never', 'e', 'saying', 'stated', 'atlantic', '2009', 'chicago', 'executive', 'immigration', 'congress', 'online', 'endorsements', 'pdf', 'kranish', 'including', 'primaries', 'called', 'claims', 'fox', 'administration', 'russian', 'flynn', 'before', 'golf', 'forbes', 'three', 'robert', 'women', 'secretary', 'paul', 'manafort', 'fisher', 'supreme', 'jr', 'eric', 'james', 'casino', 'obama', 'today', 'j', 'candidates', 'border', 'npr', 'haberman', 'maggie', 'd', 'cnbc', 'reuters', 'show', 'positions', 'military', 'protests', 'jerusalem', 'following', '2005', 'second', 'personal', 'run', 'justice', 'international', 'poll', 'republicans', 'candidate', 'bill', 'daniels', 'guardian', 'hill', 'until', 'art', 'countries', 'legal', 'agreement', 'nuclear', 'reported', '1988', 'announced', 'down', '2013', 'polls', 'kim', 'fbi', 'special', 'why', 'isbn', 'took', 'apprentice', 'worth', 'vote', 'foreign', 'former', 'end', 'mark', 'release', 'putin', 'jim', 'debate', 'nato', 'withdrawal', 't', 'debates', 'unprecedented', 'korea', 'church', 'whether', 'himself', 'under', 'building', 'money', 'george', 'convention', 'syria', 'several', 'person', 'security', 'businesses', 'possible', 'five', 'months', 'jonathan', 'denied', 'plaza', 'street', 'despite', 'congressional', 'attorneys', 'hollywood', 'long', 'presidents', 'meeting', 'economic', 'repeatedly', '2000', 'democrats', 'lies', 'signed', 'counsel', 'peter', 'ny', 'manhattan', 'net', 'democratic', 'nominee', 'popular', 'became', 'actions', 'climate', 'four', 'father', 'fred', 'letter', '2014', 'department', 'chairman', 'off', 'relationship', 'v', 'twitter', 'guilty', 'social', 'taxes', 'again', 'steve', 'obamacare', 'cuts', 'scott', 'officials', 'william', 'allegations', 'records', 'von', 'erich', 'negotiations', 'paris', 'change', 'case', 'where', 'place', 'filed', 'empire', 'm', 'bank', '—', 'mike', 'cbs', 'official', 'fake', 'win', 'public', '100', 'attack', 'reform', 'wealth', 'w', 'sexual', 'relations', 'via', 'intelligence', 'dan', 'barr', 'stormy', 'timeline', 'separation', 'c', 'jason', 's', 'heres', 'fahrenthold', 'chris', 'jeremy', 'portal', 'containing', 'name', 'universe', 'race', 'described', 'although', 'without', 'israel', 'son', 'draft', 'children', 'beach', 'asked', 'country', 'very', '1990', 'politicians', 'disclosure', 'being', 'income', 'pay', 'least', 'property', 'lawsuit', 'weeks', 'won', 'criticized', 'top', 'request', 'accused', 'evidence', 'publicly', 'record', 'rallies', 'senate', 'potentially', 'bloomberg', 'abc', 'matt', 'blair', 'insider', 'philadelphia', 'kevin', 'glenn', 'truth', 'gop', 'fl', 'received', 'courses', 'started', 'side', 'misleading', 'comments', 'charged', 'ordered', 'gorsuch', 'college', 'named', 'alleged', 'ivana', 'gave', 'management', 'dc', 'told', 'statement', 'often', 'does', '1995', 'making', 'own', 'began', 'negative', 'central', 'primary', 'mar-a-lago', 'taj', 'major', 'bankruptcy', 'running', 'six', 'must', 'lawsuits', 'paid', 'groups', 'emoluments', 'held', 'mr', 'global', 'gallup', 'mexico', 'words', 'bush', 'support', '2012', 'great', 'tape', 'calls', 'alt-right', 'access', 'repeal', 'full', 'daca', 'allies', 'saudi', 'hanoi', 'tom', 'lying', 'journal', 'lie', 'vox', 'kessler', 'hes', '/', 'dated', 'born', 'politics', 'queens', 'school', 'victory', 'hillary', 'ever', 'parents', 'age', 'private', 'number', 'however', 'fortune', 'married', 'death', 'birth', 'florida', 'part', 'right', 'dont', 'book', 'early', 'elections', 'racial', 'suit', 'attacks', 'park', 'home', 'mahal']\n"
     ]
    }
   ],
   "source": [
    "trumpword = []\n",
    "\n",
    "for word in djt.commonwords(500):\n",
    "    trumpword.append(word)\n",
    "    \n",
    "print(trumpword)"
   ]
  },
  {
   "cell_type": "code",
   "execution_count": 37,
   "metadata": {
    "scrolled": true
   },
   "outputs": [
    {
     "name": "stdout",
     "output_type": "stream",
     "text": [
      "['trump', '2018', '2017', '2016', 'donald', 'trumps', '2019', 'york', 'times', 'president', '2015', 'news', 'washington', 'post', 'had', 'presidential', 'campaign', '3', 'tax', 'states', '20', 'cnn', '22', 'michael', '14', '12', 'said', '16', '18', 'united', 'election', '21', 'been', 'were', 'during', '15', 'house', '6', '9', '7', 'white', '2', 'david', '11', 'business', 'against', '19', '13', '10', '8', '5', '4', 'american', 'million', 'republican', 'court', 'i', '29', '25', 'political', 'press', '28', '17', '23', 'media', '&amp', 'says', '2011', '1', 'federal', 'investigation', 'nbc', 'office', '24', '27', 'general', 'russia', 'national', '30', 'mueller', 'government', 'made', '26', 'city', 'deal', 'statements', 'tariffs', 'wall', 'foundation', '31', 'while', 'world', 'history', 'politico', 'john', 'university', 'policy', 'america', 'report', 'days']\n"
     ]
    }
   ],
   "source": [
    "print([word for word in djt.commonwords()])\n",
    "\n"
   ]
  },
  {
   "cell_type": "code",
   "execution_count": 38,
   "metadata": {},
   "outputs": [
    {
     "name": "stdout",
     "output_type": "stream",
     "text": [
      "The wiki() class accepts 4 arguments. The first one is a compulsory title of the Wikipedia page. Second is to preserve the search casing (Yes/No).\n",
      "\n",
      "Third is for language settings (e.g. English, de, francais, etc.). Fourth is for implementing NLTK stoplist in provided languages (Yes/No).\n",
      "\n",
      "commonwords accepts 1 optional argument (default: 100) for the number of most common words in the site to show\n",
      "\n",
      "commonwordspct accepts 1 optional argument (default: 10) on the percentage threshold of word count to determine the most common words\n",
      "\n",
      "plotwords accepts 1 optional argument (default: 20) for the number of most common words to show as a GRAPH\n",
      "\n",
      "totalwords accepts 0 arguments and shows the total word count and unique word count\n",
      "\n",
      "summary accepts 1 optional argument for the number of paragraphs (default: 2) and gives a summary of the Wikipedia page\n",
      "\n",
      "gettext accepts 0 arguments and retrieves the full text of the Wikipedia title\n",
      "\n"
     ]
    }
   ],
   "source": [
    "djt.HELP()"
   ]
  },
  {
   "cell_type": "code",
   "execution_count": 39,
   "metadata": {},
   "outputs": [
    {
     "data": {
      "image/png": "[encoded data removed]",
      "text/plain": [
       "<Figure size 1760x960 with 1 Axes>"
      ]
     },
     "metadata": {},
     "output_type": "display_data"
    },
    {
     "data": {
      "text/plain": [
       "'Graph is saved as wordcount.png in directory: C:\\\\Users\\\\jx\\\\Desktop\\\\Python Tutorial\\\\TUTORIALS BASICS OF PYTHON'"
      ]
     },
     "execution_count": 39,
     "metadata": {},
     "output_type": "execute_result"
    }
   ],
   "source": [
    "djt.plotwords(30)"
   ]
  },
  {
   "cell_type": "code",
   "execution_count": null,
   "metadata": {},
   "outputs": [],
   "source": []
  }
 ],
 "metadata": {
  "kernelspec": {
   "display_name": "Python 3",
   "language": "python",
   "name": "python3"
  },
  "language_info": {
   "codemirror_mode": {
    "name": "ipython",
    "version": 3
   },
   "file_extension": ".py",
   "mimetype": "text/x-python",
   "name": "python",
   "nbconvert_exporter": "python",
   "pygments_lexer": "ipython3",
   "version": "3.6.5"
  }
 },
 "nbformat": 4,
 "nbformat_minor": 2
}
